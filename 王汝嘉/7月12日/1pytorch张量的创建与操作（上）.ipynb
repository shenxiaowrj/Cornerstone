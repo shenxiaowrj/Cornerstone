{
 "cells": [
  {
   "cell_type": "markdown",
   "id": "59cfca77",
   "metadata": {},
   "source": [
    "1 Pytorch的介绍与张量的创建"
   ]
  },
  {
   "cell_type": "markdown",
   "id": "628d8066",
   "metadata": {},
   "source": [
    "王汝嘉 2022-07-12"
   ]
  },
  {
   "cell_type": "markdown",
   "id": "7715d035",
   "metadata": {},
   "source": [
    "张量是一个多维数组，和numpy中的array数组 是十分类似的。\n",
    "同时pytorch和tensorflow中的api设计也和numpy中的很想，但是区别在于numpy中的数组是不能做微分的，但是pytorch和tensorflow是可以的。\n",
    "微分是神经网络训练时候的必要操作，我们在反向传播的时候需要根据微分来计算梯度，传回梯度来更新参数的数值。"
   ]
  },
  {
   "cell_type": "code",
   "execution_count": 1,
   "id": "8c6fb9b6",
   "metadata": {},
   "outputs": [],
   "source": [
    "#导入pytorch和numpy\n",
    "import torch\n",
    "import numpy as np"
   ]
  },
  {
   "cell_type": "markdown",
   "id": "225a51dc",
   "metadata": {},
   "source": [
    "创建张量tensor\n",
    "\n",
    "将python中的列表list转化成tensor"
   ]
  },
  {
   "cell_type": "code",
   "execution_count": 2,
   "id": "833a140a",
   "metadata": {},
   "outputs": [],
   "source": [
    "a=[1,2,3.]\n",
    "\n",
    "# 注意，3的后面加了个点 也就是将list中数字的数据类型从int 变成了 float 不加.就为float"
   ]
  },
  {
   "cell_type": "code",
   "execution_count": 4,
   "id": "edc09d57",
   "metadata": {},
   "outputs": [
    {
     "data": {
      "text/plain": [
       "list"
      ]
     },
     "execution_count": 4,
     "metadata": {},
     "output_type": "execute_result"
    }
   ],
   "source": [
    "type(a)"
   ]
  },
  {
   "cell_type": "code",
   "execution_count": 7,
   "id": "b219e76e",
   "metadata": {},
   "outputs": [
    {
     "data": {
      "text/plain": [
       "tensor([1., 2., 3.])"
      ]
     },
     "execution_count": 7,
     "metadata": {},
     "output_type": "execute_result"
    }
   ],
   "source": [
    "b = torch.tensor(a)\n",
    "b"
   ]
  },
  {
   "cell_type": "code",
   "execution_count": 8,
   "id": "01989ddb",
   "metadata": {},
   "outputs": [
    {
     "data": {
      "text/plain": [
       "torch.Tensor"
      ]
     },
     "execution_count": 8,
     "metadata": {},
     "output_type": "execute_result"
    }
   ],
   "source": [
    "type(b)"
   ]
  },
  {
   "cell_type": "code",
   "execution_count": 9,
   "id": "4e341e27",
   "metadata": {},
   "outputs": [],
   "source": [
    "# .dtype 是ptorch中特有的 用来查看一个变量的数据类型的方法"
   ]
  },
  {
   "cell_type": "code",
   "execution_count": 10,
   "id": "07ac3bc6",
   "metadata": {},
   "outputs": [
    {
     "data": {
      "text/plain": [
       "torch.float32"
      ]
     },
     "execution_count": 10,
     "metadata": {},
     "output_type": "execute_result"
    }
   ],
   "source": [
    "b.dtype"
   ]
  },
  {
   "cell_type": "markdown",
   "id": "aa0485f9",
   "metadata": {},
   "source": [
    "创建numpy数组 将numpy数组转化为tensor"
   ]
  },
  {
   "cell_type": "code",
   "execution_count": 15,
   "id": "e3bcab0f",
   "metadata": {},
   "outputs": [
    {
     "data": {
      "text/plain": [
       "3.4830505405269583"
      ]
     },
     "execution_count": 15,
     "metadata": {},
     "output_type": "execute_result"
    }
   ],
   "source": [
    "np.random.normal(2)"
   ]
  },
  {
   "cell_type": "code",
   "execution_count": 16,
   "id": "e7bdfa65",
   "metadata": {},
   "outputs": [
    {
     "data": {
      "text/plain": [
       "array([2.63093775, 2.7393316 ])"
      ]
     },
     "execution_count": 16,
     "metadata": {},
     "output_type": "execute_result"
    }
   ],
   "source": [
    "np.random.normal((2,3))"
   ]
  },
  {
   "cell_type": "code",
   "execution_count": 17,
   "id": "fa7c59ab",
   "metadata": {},
   "outputs": [],
   "source": [
    "### 问题这个（2，3）具体指的是什么含义呢？？？"
   ]
  },
  {
   "cell_type": "code",
   "execution_count": 18,
   "id": "3743c684",
   "metadata": {
    "scrolled": true
   },
   "outputs": [
    {
     "data": {
      "text/plain": [
       "array([1.59830635, 2.60125494])"
      ]
     },
     "execution_count": 18,
     "metadata": {},
     "output_type": "execute_result"
    }
   ],
   "source": [
    "c=np.random.normal((2,3))\n",
    "c"
   ]
  },
  {
   "cell_type": "code",
   "execution_count": 19,
   "id": "655e5d44",
   "metadata": {},
   "outputs": [],
   "source": [
    "### 问题 numpy之中如何查看数据类型？？？"
   ]
  },
  {
   "cell_type": "code",
   "execution_count": 20,
   "id": "8a9a5be1",
   "metadata": {},
   "outputs": [
    {
     "data": {
      "text/plain": [
       "tensor([1.5983, 2.6013], dtype=torch.float64)"
      ]
     },
     "execution_count": 20,
     "metadata": {},
     "output_type": "execute_result"
    }
   ],
   "source": [
    "d=torch.tensor(c)\n",
    "d"
   ]
  },
  {
   "cell_type": "code",
   "execution_count": 21,
   "id": "3f2f1ad7",
   "metadata": {},
   "outputs": [
    {
     "data": {
      "text/plain": [
       "torch.float64"
      ]
     },
     "execution_count": 21,
     "metadata": {},
     "output_type": "execute_result"
    }
   ],
   "source": [
    "d.dtype"
   ]
  },
  {
   "cell_type": "markdown",
   "id": "92c2ccb3",
   "metadata": {},
   "source": [
    "使用pytorch自带的api去创建张量"
   ]
  },
  {
   "cell_type": "code",
   "execution_count": 30,
   "id": "6d50a1b1",
   "metadata": {},
   "outputs": [
    {
     "ename": "SyntaxError",
     "evalue": "invalid character in identifier (<ipython-input-30-b90cd4711318>, line 2)",
     "output_type": "error",
     "traceback": [
      "\u001b[1;36m  File \u001b[1;32m\"<ipython-input-30-b90cd4711318>\"\u001b[1;36m, line \u001b[1;32m2\u001b[0m\n\u001b[1;33m    e = torch.ones_like((2，2))\u001b[0m\n\u001b[1;37m                           ^\u001b[0m\n\u001b[1;31mSyntaxError\u001b[0m\u001b[1;31m:\u001b[0m invalid character in identifier\n"
     ]
    }
   ],
   "source": [
    "#全一张量\n",
    "e = torch.ones_like((2，2))\n",
    "e"
   ]
  },
  {
   "cell_type": "code",
   "execution_count": 23,
   "id": "742d405b",
   "metadata": {},
   "outputs": [],
   "source": [
    "#注意上面的写法是错误 使用torch的api来创建张量 必须传入一个张量"
   ]
  },
  {
   "cell_type": "code",
   "execution_count": 24,
   "id": "e7e6ca5a",
   "metadata": {},
   "outputs": [
    {
     "data": {
      "text/plain": [
       "tensor([1., 1.], dtype=torch.float64)"
      ]
     },
     "execution_count": 24,
     "metadata": {},
     "output_type": "execute_result"
    }
   ],
   "source": [
    "e = torch.ones_like(d)\n",
    "e"
   ]
  },
  {
   "cell_type": "code",
   "execution_count": 25,
   "id": "158c682d",
   "metadata": {},
   "outputs": [
    {
     "data": {
      "text/plain": [
       "tensor([0., 0.], dtype=torch.float64)"
      ]
     },
     "execution_count": 25,
     "metadata": {},
     "output_type": "execute_result"
    }
   ],
   "source": [
    "#全零张量\n",
    "f = torch.zeros_like(d)\n",
    "f"
   ]
  },
  {
   "cell_type": "code",
   "execution_count": 26,
   "id": "f764ea61",
   "metadata": {},
   "outputs": [
    {
     "data": {
      "text/plain": [
       "tensor([0.4942, 0.2603], dtype=torch.float64)"
      ]
     },
     "execution_count": 26,
     "metadata": {},
     "output_type": "execute_result"
    }
   ],
   "source": [
    "# 随机数张量\n",
    "g = torch.rand_like(d)\n",
    "g"
   ]
  },
  {
   "cell_type": "markdown",
   "id": "0d9701f5",
   "metadata": {},
   "source": [
    "根据形状来创建张量"
   ]
  },
  {
   "cell_type": "markdown",
   "id": "d1ce8f22",
   "metadata": {},
   "source": [
    "形状是shape 也就是对于一个张量来说 它是几行几列的"
   ]
  },
  {
   "cell_type": "code",
   "execution_count": 259,
   "id": "b2a8680c",
   "metadata": {},
   "outputs": [],
   "source": [
    "### 小实验，请你根据代码来验证，（2，2） 一个二维的形状， 第一个指代什么含义？第二个指代什么含义？ （是行，还是列）"
   ]
  },
  {
   "cell_type": "code",
   "execution_count": 260,
   "id": "658b9d34",
   "metadata": {},
   "outputs": [],
   "source": [
    "#torch.rand() api"
   ]
  },
  {
   "cell_type": "code",
   "execution_count": 261,
   "id": "9fe2c023",
   "metadata": {},
   "outputs": [
    {
     "data": {
      "text/plain": [
       "tensor([[0.5031, 0.9854],\n",
       "        [0.5554, 0.0460]])"
      ]
     },
     "execution_count": 261,
     "metadata": {},
     "output_type": "execute_result"
    }
   ],
   "source": [
    "h = torch.rand((2,2))  #传入一个tuple 元组来表示形状\n",
    "h"
   ]
  },
  {
   "cell_type": "code",
   "execution_count": 262,
   "id": "7a4c1175",
   "metadata": {},
   "outputs": [
    {
     "data": {
      "text/plain": [
       "tensor([[0.5627, 0.3234],\n",
       "        [0.4329, 0.1213]])"
      ]
     },
     "execution_count": 262,
     "metadata": {},
     "output_type": "execute_result"
    }
   ],
   "source": [
    "i = torch.rand([2,2]) # 传入一个list 列表来表示形状\n",
    "i"
   ]
  },
  {
   "cell_type": "code",
   "execution_count": 263,
   "id": "1a4cc567",
   "metadata": {},
   "outputs": [],
   "source": [
    "### 小实验，验证用{}  集合来表示形状是可以的吗？"
   ]
  },
  {
   "cell_type": "code",
   "execution_count": 264,
   "id": "a6e73109",
   "metadata": {},
   "outputs": [
    {
     "data": {
      "text/plain": [
       "tensor([[0.9741, 0.5980, 0.6600],\n",
       "        [0.3820, 0.9015, 0.0918]])"
      ]
     },
     "execution_count": 264,
     "metadata": {},
     "output_type": "execute_result"
    }
   ],
   "source": [
    "k = torch.rand((2,3,))\n",
    "k"
   ]
  },
  {
   "cell_type": "code",
   "execution_count": 265,
   "id": "01971be3",
   "metadata": {},
   "outputs": [],
   "source": [
    "#上面要积累一个小技巧，在3之后加一个，也是可以的 并不会影响张量的创建"
   ]
  },
  {
   "cell_type": "code",
   "execution_count": 266,
   "id": "a06dbf99",
   "metadata": {},
   "outputs": [],
   "source": [
    "# torch.ones()  api"
   ]
  },
  {
   "cell_type": "code",
   "execution_count": 267,
   "id": "5e7e8a3f",
   "metadata": {},
   "outputs": [
    {
     "data": {
      "text/plain": [
       "tensor([[1., 1., 1.],\n",
       "        [1., 1., 1.]])"
      ]
     },
     "execution_count": 267,
     "metadata": {},
     "output_type": "execute_result"
    }
   ],
   "source": [
    "l = torch.ones((2,3))\n",
    "l"
   ]
  },
  {
   "cell_type": "code",
   "execution_count": 268,
   "id": "2ba1a066",
   "metadata": {},
   "outputs": [],
   "source": [
    "# torch.zeros() api"
   ]
  },
  {
   "cell_type": "code",
   "execution_count": 269,
   "id": "ea1cf016",
   "metadata": {},
   "outputs": [
    {
     "data": {
      "text/plain": [
       "tensor([[0., 0., 0.],\n",
       "        [0., 0., 0.]])"
      ]
     },
     "execution_count": 269,
     "metadata": {},
     "output_type": "execute_result"
    }
   ],
   "source": [
    "m = torch.zeros([2,3])\n",
    "m"
   ]
  },
  {
   "cell_type": "code",
   "execution_count": 270,
   "id": "9ba92533",
   "metadata": {},
   "outputs": [],
   "source": [
    "#注意！使用形状来创建张量的时候，并不会给出dtype    那么该如何查看你创建的变量的数据类型呢？"
   ]
  },
  {
   "cell_type": "code",
   "execution_count": 271,
   "id": "eabc047c",
   "metadata": {},
   "outputs": [],
   "source": [
    "#同样使用pytorch中特有的dtype工具"
   ]
  },
  {
   "cell_type": "code",
   "execution_count": 272,
   "id": "2bc205e6",
   "metadata": {},
   "outputs": [
    {
     "data": {
      "text/plain": [
       "torch.float32"
      ]
     },
     "execution_count": 272,
     "metadata": {},
     "output_type": "execute_result"
    }
   ],
   "source": [
    "m.dtype"
   ]
  },
  {
   "cell_type": "markdown",
   "id": "6ed1d706",
   "metadata": {},
   "source": [
    "张量的属性\n",
    "    \n",
    "    我们创建了一个张量 这个张量具有哪些属性呢？"
   ]
  },
  {
   "cell_type": "code",
   "execution_count": 273,
   "id": "0fcca75b",
   "metadata": {},
   "outputs": [
    {
     "data": {
      "text/plain": [
       "tensor([[0.2158, 0.8105, 0.1524],\n",
       "        [0.1915, 0.4596, 0.2673]])"
      ]
     },
     "execution_count": 273,
     "metadata": {},
     "output_type": "execute_result"
    }
   ],
   "source": [
    "a = torch.rand((2,3))\n",
    "a"
   ]
  },
  {
   "cell_type": "code",
   "execution_count": 274,
   "id": "c9bcd0d4",
   "metadata": {},
   "outputs": [
    {
     "data": {
      "text/plain": [
       "torch.float32"
      ]
     },
     "execution_count": 274,
     "metadata": {},
     "output_type": "execute_result"
    }
   ],
   "source": [
    "# 数据类型\n",
    "a.dtype"
   ]
  },
  {
   "cell_type": "code",
   "execution_count": 275,
   "id": "82c700e0",
   "metadata": {},
   "outputs": [
    {
     "data": {
      "text/plain": [
       "torch.Size([2, 3])"
      ]
     },
     "execution_count": 275,
     "metadata": {},
     "output_type": "execute_result"
    }
   ],
   "source": [
    "# shape 形状\n",
    "a.shape"
   ]
  },
  {
   "cell_type": "code",
   "execution_count": 276,
   "id": "ddf7452c",
   "metadata": {},
   "outputs": [
    {
     "data": {
      "text/plain": [
       "device(type='cpu')"
      ]
     },
     "execution_count": 276,
     "metadata": {},
     "output_type": "execute_result"
    }
   ],
   "source": [
    "# device 设备 \n",
    "    # 创建的这个张量储存在什么设备上 是cpu 还是 gpu\n",
    "a.device"
   ]
  },
  {
   "cell_type": "code",
   "execution_count": 277,
   "id": "ae66eb75",
   "metadata": {},
   "outputs": [
    {
     "data": {
      "text/plain": [
       "device(type='cuda', index=0)"
      ]
     },
     "execution_count": 277,
     "metadata": {},
     "output_type": "execute_result"
    }
   ],
   "source": [
    "#如何将张量移动到gpu上？\n",
    "a = a.to('cuda')\n",
    "a.device"
   ]
  },
  {
   "cell_type": "markdown",
   "id": "a4f51abc",
   "metadata": {},
   "source": [
    "积累一个代码之中将将数据移动到gpu上的常用语句"
   ]
  },
  {
   "cell_type": "code",
   "execution_count": 278,
   "id": "8c634cbe",
   "metadata": {},
   "outputs": [],
   "source": [
    "if torch.cuda.is_available():\n",
    "    a = a.to('cuda')\n",
    "# 若是一机多卡 那么就cuda0 cuda1 依次往下 也可以直接cuda 让它来自己默认存放"
   ]
  },
  {
   "cell_type": "markdown",
   "id": "b5f09cba",
   "metadata": {},
   "source": [
    "常用的tensor相关的操作："
   ]
  },
  {
   "cell_type": "markdown",
   "id": "f50ecba0",
   "metadata": {},
   "source": [
    "判断操作"
   ]
  },
  {
   "cell_type": "code",
   "execution_count": 279,
   "id": "3017875a",
   "metadata": {},
   "outputs": [
    {
     "data": {
      "text/plain": [
       "True"
      ]
     },
     "execution_count": 279,
     "metadata": {},
     "output_type": "execute_result"
    }
   ],
   "source": [
    "# is_tensor(obj)\n",
    "torch.is_tensor(a)"
   ]
  },
  {
   "cell_type": "code",
   "execution_count": 280,
   "id": "c1abbaa5",
   "metadata": {},
   "outputs": [
    {
     "data": {
      "text/plain": [
       "False"
      ]
     },
     "execution_count": 280,
     "metadata": {},
     "output_type": "execute_result"
    }
   ],
   "source": [
    "# is_complex(obj) 判断是否是复数 complex32 complex64\n",
    "torch.is_complex(a)"
   ]
  },
  {
   "cell_type": "code",
   "execution_count": 281,
   "id": "a34fe1d3",
   "metadata": {},
   "outputs": [
    {
     "data": {
      "text/plain": [
       "True"
      ]
     },
     "execution_count": 281,
     "metadata": {},
     "output_type": "execute_result"
    }
   ],
   "source": [
    "# is_floating_point(obj) 判断是否是浮点型数据\n",
    "torch.is_floating_point(a)"
   ]
  },
  {
   "cell_type": "code",
   "execution_count": 282,
   "id": "2006c584",
   "metadata": {},
   "outputs": [
    {
     "ename": "RuntimeError",
     "evalue": "Boolean value of Tensor with more than one value is ambiguous",
     "output_type": "error",
     "traceback": [
      "\u001b[1;31m---------------------------------------------------------------------------\u001b[0m",
      "\u001b[1;31mRuntimeError\u001b[0m                              Traceback (most recent call last)",
      "\u001b[1;32m<ipython-input-282-5584dff80339>\u001b[0m in \u001b[0;36m<module>\u001b[1;34m\u001b[0m\n\u001b[0;32m      1\u001b[0m \u001b[1;31m# is_nonzero(obj) 判断是空数据\u001b[0m\u001b[1;33m\u001b[0m\u001b[1;33m\u001b[0m\u001b[1;33m\u001b[0m\u001b[0m\n\u001b[1;32m----> 2\u001b[1;33m \u001b[0mtorch\u001b[0m\u001b[1;33m.\u001b[0m\u001b[0mis_nonzero\u001b[0m\u001b[1;33m(\u001b[0m\u001b[0ma\u001b[0m\u001b[1;33m)\u001b[0m\u001b[1;33m\u001b[0m\u001b[1;33m\u001b[0m\u001b[0m\n\u001b[0m",
      "\u001b[1;31mRuntimeError\u001b[0m: Boolean value of Tensor with more than one value is ambiguous"
     ]
    }
   ],
   "source": [
    "# is_nonzero(obj) 判断是空数据\n",
    "torch.is_nonzero(a)"
   ]
  },
  {
   "cell_type": "code",
   "execution_count": 283,
   "id": "f774fdf2",
   "metadata": {},
   "outputs": [],
   "source": [
    "#注意 is_nozero() \n",
    "#Returns True if the input is a single element tensor which is not equal to zero after type conversions.\n",
    "#i.e. not equal to torch.tensor([0.]) or torch.tensor([0]) or torch.tensor([False]).\n",
    "#Throws a RuntimeError if torch.numel() != 1 (even in case of sparse tensors)."
   ]
  },
  {
   "cell_type": "code",
   "execution_count": 284,
   "id": "a1477df9",
   "metadata": {},
   "outputs": [
    {
     "data": {
      "text/plain": [
       "tensor(1)"
      ]
     },
     "execution_count": 284,
     "metadata": {},
     "output_type": "execute_result"
    }
   ],
   "source": [
    "b = torch.tensor(1)\n",
    "b"
   ]
  },
  {
   "cell_type": "code",
   "execution_count": 285,
   "id": "75904a66",
   "metadata": {},
   "outputs": [
    {
     "data": {
      "text/plain": [
       "(True, False, False, False)"
      ]
     },
     "execution_count": 285,
     "metadata": {},
     "output_type": "execute_result"
    }
   ],
   "source": [
    "c=torch.is_nonzero(b)\n",
    "d=torch.is_nonzero(torch.tensor([0.]))\n",
    "e=torch.is_nonzero(torch.tensor([0]))\n",
    "f=torch.is_nonzero(torch.tensor([False]))\n",
    "c,d,e,f"
   ]
  },
  {
   "cell_type": "code",
   "execution_count": 286,
   "id": "5130e14e",
   "metadata": {},
   "outputs": [
    {
     "data": {
      "text/plain": [
       "tensor([[0.0665, 0.0171, 0.6766],\n",
       "        [0.9688, 0.1387, 0.6380]])"
      ]
     },
     "execution_count": 286,
     "metadata": {},
     "output_type": "execute_result"
    }
   ],
   "source": [
    "# numel()  一个重要的操作 number of someobj 计算一个张量之中所含元素的个数\n",
    "a = torch.rand((2,3))\n",
    "a"
   ]
  },
  {
   "cell_type": "code",
   "execution_count": 287,
   "id": "77f3d910",
   "metadata": {},
   "outputs": [
    {
     "data": {
      "text/plain": [
       "6"
      ]
     },
     "execution_count": 287,
     "metadata": {},
     "output_type": "execute_result"
    }
   ],
   "source": [
    "a.numel()"
   ]
  },
  {
   "cell_type": "code",
   "execution_count": 288,
   "id": "0425fefd",
   "metadata": {},
   "outputs": [
    {
     "data": {
      "text/plain": [
       "torch.Size([2, 3])"
      ]
     },
     "execution_count": 288,
     "metadata": {},
     "output_type": "execute_result"
    }
   ],
   "source": [
    "a.shape"
   ]
  },
  {
   "cell_type": "code",
   "execution_count": 289,
   "id": "479a780f",
   "metadata": {},
   "outputs": [],
   "source": [
    "# 可以发现 2*3 = 6"
   ]
  },
  {
   "cell_type": "markdown",
   "id": "45440009",
   "metadata": {},
   "source": [
    "主要的操作"
   ]
  },
  {
   "cell_type": "code",
   "execution_count": 290,
   "id": "ec0eb821",
   "metadata": {},
   "outputs": [
    {
     "data": {
      "text/plain": [
       "tensor([[0., 0., 0.],\n",
       "        [0., 0., 0.]])"
      ]
     },
     "execution_count": 290,
     "metadata": {},
     "output_type": "execute_result"
    }
   ],
   "source": [
    "#torch.zeros()\n",
    "#torch.zeros(*size, *, out=None, dtype=None, layout=torch.strided, device=None, requires_grad=False)\n",
    "a = torch.zeros(2,3)\n",
    "a"
   ]
  },
  {
   "cell_type": "code",
   "execution_count": 291,
   "id": "e9ee00de",
   "metadata": {},
   "outputs": [
    {
     "data": {
      "text/plain": [
       "torch.float32"
      ]
     },
     "execution_count": 291,
     "metadata": {},
     "output_type": "execute_result"
    }
   ],
   "source": [
    "a.dtype   #默认的数据类型"
   ]
  },
  {
   "cell_type": "code",
   "execution_count": 292,
   "id": "ab57cb3a",
   "metadata": {},
   "outputs": [
    {
     "data": {
      "text/plain": [
       "tensor([[0, 0, 0],\n",
       "        [0, 0, 0]], dtype=torch.int32)"
      ]
     },
     "execution_count": 292,
     "metadata": {},
     "output_type": "execute_result"
    }
   ],
   "source": [
    "b = torch.zeros((2,3),dtype=torch.int32)\n",
    "b"
   ]
  },
  {
   "cell_type": "code",
   "execution_count": 293,
   "id": "a7a9cff2",
   "metadata": {},
   "outputs": [
    {
     "data": {
      "text/plain": [
       "tensor([[0., 0., 0.],\n",
       "        [0., 0., 0.]], dtype=torch.float64)"
      ]
     },
     "execution_count": 293,
     "metadata": {},
     "output_type": "execute_result"
    }
   ],
   "source": [
    "c = torch.zeros((2,3),dtype=torch.float64)\n",
    "c"
   ]
  },
  {
   "cell_type": "code",
   "execution_count": 294,
   "id": "5c09cdd1",
   "metadata": {},
   "outputs": [
    {
     "data": {
      "text/plain": [
       "tensor([[0.8075, 0.7379, 0.2089],\n",
       "        [0.1153, 0.7251, 0.7343]])"
      ]
     },
     "execution_count": 294,
     "metadata": {},
     "output_type": "execute_result"
    }
   ],
   "source": [
    "#torch.zeros_like(obj)\n",
    "d = torch.rand((2,3))\n",
    "d"
   ]
  },
  {
   "cell_type": "code",
   "execution_count": 295,
   "id": "de6ca585",
   "metadata": {},
   "outputs": [
    {
     "data": {
      "text/plain": [
       "tensor([[0., 0., 0.],\n",
       "        [0., 0., 0.]])"
      ]
     },
     "execution_count": 295,
     "metadata": {},
     "output_type": "execute_result"
    }
   ],
   "source": [
    "e = torch.zeros_like(d)\n",
    "e"
   ]
  },
  {
   "cell_type": "code",
   "execution_count": 296,
   "id": "a063d584",
   "metadata": {},
   "outputs": [],
   "source": [
    "### 请你在下方补充完整 下面两个api的示例 随便创建张量的形状"
   ]
  },
  {
   "cell_type": "code",
   "execution_count": 297,
   "id": "4ec3b0c1",
   "metadata": {},
   "outputs": [],
   "source": [
    "# torch.ones()"
   ]
  },
  {
   "cell_type": "code",
   "execution_count": 298,
   "id": "3f2e7228",
   "metadata": {},
   "outputs": [],
   "source": [
    "# torch.ones_like()"
   ]
  },
  {
   "cell_type": "code",
   "execution_count": 299,
   "id": "03db34a8",
   "metadata": {},
   "outputs": [],
   "source": [
    "# torch.arange()    一个在设置训练轮数时的重要函数 默认会返回一个从0开始的有序的序列\n",
    "# torch.arange(start=0, end, step=1, *, out=None, dtype=None, layout=torch.strided, device=None, requires_grad=False)"
   ]
  },
  {
   "cell_type": "code",
   "execution_count": 300,
   "id": "63a482c5",
   "metadata": {},
   "outputs": [
    {
     "data": {
      "text/plain": [
       "tensor([0, 1, 2, 3, 4])"
      ]
     },
     "execution_count": 300,
     "metadata": {},
     "output_type": "execute_result"
    }
   ],
   "source": [
    "a = torch.arange(5)\n",
    "a"
   ]
  },
  {
   "cell_type": "code",
   "execution_count": 301,
   "id": "a64311ce",
   "metadata": {},
   "outputs": [],
   "source": [
    "#所以默认从0开始。    当然你也可以自己指定"
   ]
  },
  {
   "cell_type": "code",
   "execution_count": 302,
   "id": "b3259c5b",
   "metadata": {},
   "outputs": [
    {
     "data": {
      "text/plain": [
       "tensor([2, 3, 4])"
      ]
     },
     "execution_count": 302,
     "metadata": {},
     "output_type": "execute_result"
    }
   ],
   "source": [
    "b = torch.arange(start=2,end=5)\n",
    "b"
   ]
  },
  {
   "cell_type": "code",
   "execution_count": 303,
   "id": "333cfdbe",
   "metadata": {},
   "outputs": [
    {
     "data": {
      "text/plain": [
       "tensor([0, 2, 4])"
      ]
     },
     "execution_count": 303,
     "metadata": {},
     "output_type": "execute_result"
    }
   ],
   "source": [
    "#指定步长\n",
    "c = torch.arange(0,5,step=2)\n",
    "c"
   ]
  },
  {
   "cell_type": "code",
   "execution_count": 304,
   "id": "a9fa5e56",
   "metadata": {},
   "outputs": [],
   "source": [
    "#值得注意的是 这里使用了简写 简写的语义对应是根据顺序来的"
   ]
  },
  {
   "cell_type": "code",
   "execution_count": 305,
   "id": "6a557c36",
   "metadata": {},
   "outputs": [
    {
     "data": {
      "text/plain": [
       "torch.int64"
      ]
     },
     "execution_count": 305,
     "metadata": {},
     "output_type": "execute_result"
    }
   ],
   "source": [
    "d = torch.arange(0,5,1,).dtype\n",
    "d"
   ]
  },
  {
   "cell_type": "code",
   "execution_count": 306,
   "id": "1dbadefe",
   "metadata": {},
   "outputs": [],
   "source": [
    "# 也就是说默认为int64类型"
   ]
  },
  {
   "cell_type": "code",
   "execution_count": 307,
   "id": "b437726a",
   "metadata": {},
   "outputs": [
    {
     "data": {
      "text/plain": [
       "tensor([0., 1., 2., 3., 4.])"
      ]
     },
     "execution_count": 307,
     "metadata": {},
     "output_type": "execute_result"
    }
   ],
   "source": [
    "e = torch.arange(0,5,1,dtype=torch.float32)\n",
    "e"
   ]
  },
  {
   "cell_type": "code",
   "execution_count": 308,
   "id": "98c3098d",
   "metadata": {},
   "outputs": [],
   "source": [
    "# requires_grad    是不是需要梯度  \n",
    "# 在训练网络网络的时候 数据是一定要有梯度的 因为有了梯度 在反向传播的时候传播梯度 才能进行参数的更新 训练才会有效果\n",
    "# 但是在推理网络的时候  数据是不需要梯度的"
   ]
  },
  {
   "cell_type": "code",
   "execution_count": 309,
   "id": "adedb176",
   "metadata": {},
   "outputs": [
    {
     "ename": "RuntimeError",
     "evalue": "Only Tensors of floating point and complex dtype can require gradients",
     "output_type": "error",
     "traceback": [
      "\u001b[1;31m---------------------------------------------------------------------------\u001b[0m",
      "\u001b[1;31mRuntimeError\u001b[0m                              Traceback (most recent call last)",
      "\u001b[1;32m<ipython-input-309-9360c5ad7fdb>\u001b[0m in \u001b[0;36m<module>\u001b[1;34m\u001b[0m\n\u001b[1;32m----> 1\u001b[1;33m \u001b[0mf\u001b[0m \u001b[1;33m=\u001b[0m \u001b[0mtorch\u001b[0m\u001b[1;33m.\u001b[0m\u001b[0marange\u001b[0m\u001b[1;33m(\u001b[0m\u001b[1;36m0\u001b[0m\u001b[1;33m,\u001b[0m\u001b[1;36m5\u001b[0m\u001b[1;33m,\u001b[0m\u001b[1;36m1\u001b[0m\u001b[1;33m,\u001b[0m\u001b[0mrequires_grad\u001b[0m\u001b[1;33m=\u001b[0m\u001b[1;32mTrue\u001b[0m\u001b[1;33m)\u001b[0m\u001b[1;33m\u001b[0m\u001b[1;33m\u001b[0m\u001b[0m\n\u001b[0m",
      "\u001b[1;31mRuntimeError\u001b[0m: Only Tensors of floating point and complex dtype can require gradients"
     ]
    }
   ],
   "source": [
    "f = torch.arange(0,5,1,requires_grad=True)"
   ]
  },
  {
   "cell_type": "code",
   "execution_count": 310,
   "id": "66124518",
   "metadata": {},
   "outputs": [],
   "source": [
    "#经由上面的报错信息可知  只有浮点类型和负数类型才能具有梯度"
   ]
  },
  {
   "cell_type": "code",
   "execution_count": 311,
   "id": "08495901",
   "metadata": {},
   "outputs": [
    {
     "data": {
      "text/plain": [
       "tensor([0., 1., 2., 3., 4.], requires_grad=True)"
      ]
     },
     "execution_count": 311,
     "metadata": {},
     "output_type": "execute_result"
    }
   ],
   "source": [
    "f = torch.arange(0,5,1,dtype=torch.float32,requires_grad=True)\n",
    "f"
   ]
  },
  {
   "cell_type": "code",
   "execution_count": 312,
   "id": "6dba4f38",
   "metadata": {},
   "outputs": [],
   "source": [
    "# torch.range()   arange()的一个变体\n",
    "# torch.range(start=0, end, step=1, *, out=None, dtype=None, layout=torch.strided, device=None, requires_grad=False)"
   ]
  },
  {
   "cell_type": "code",
   "execution_count": 313,
   "id": "f3436d1d",
   "metadata": {},
   "outputs": [
    {
     "name": "stderr",
     "output_type": "stream",
     "text": [
      "<ipython-input-313-5e210a0f0d25>:1: UserWarning: torch.range is deprecated and will be removed in a future release because its behavior is inconsistent with Python's range builtin. Instead, use torch.arange, which produces values in [start, end).\n",
      "  a = torch.range(start=0,end=5)\n"
     ]
    },
    {
     "data": {
      "text/plain": [
       "tensor([0., 1., 2., 3., 4., 5.])"
      ]
     },
     "execution_count": 313,
     "metadata": {},
     "output_type": "execute_result"
    }
   ],
   "source": [
    "a = torch.range(start=0,end=5)\n",
    "a"
   ]
  },
  {
   "cell_type": "code",
   "execution_count": 314,
   "id": "9f3b2479",
   "metadata": {},
   "outputs": [],
   "source": [
    "# 哦！根据信息可知，以后torch.range()方法要被删掉了"
   ]
  },
  {
   "cell_type": "code",
   "execution_count": 315,
   "id": "1346cce8",
   "metadata": {},
   "outputs": [],
   "source": [
    "### 那请你仔细看上一个代码片段或者查阅官网使用手册，写出arange 和 range最大的区别是什么？"
   ]
  },
  {
   "cell_type": "markdown",
   "id": "5d844da3",
   "metadata": {},
   "source": [
    "积累一个在训练代码过程中经常使用的一个代码语句"
   ]
  },
  {
   "cell_type": "code",
   "execution_count": 316,
   "id": "e7c5aca4",
   "metadata": {},
   "outputs": [
    {
     "name": "stdout",
     "output_type": "stream",
     "text": [
      "epoch: tensor(0)\n",
      "epoch: tensor(1)\n",
      "epoch: tensor(2)\n",
      "epoch: tensor(3)\n",
      "epoch: tensor(4)\n",
      "epoch: tensor(5)\n",
      "epoch: tensor(6)\n",
      "epoch: tensor(7)\n",
      "epoch: tensor(8)\n",
      "epoch: tensor(9)\n"
     ]
    }
   ],
   "source": [
    "for i in torch.arange(10):\n",
    "    print(\"epoch:\",i)"
   ]
  },
  {
   "cell_type": "code",
   "execution_count": 317,
   "id": "f3de6f23",
   "metadata": {},
   "outputs": [],
   "source": [
    "### 请你查阅官网自己学习下面两个api,并将示例写在下方"
   ]
  },
  {
   "cell_type": "code",
   "execution_count": 318,
   "id": "b89ce192",
   "metadata": {},
   "outputs": [],
   "source": [
    "# torch.linspace()"
   ]
  },
  {
   "cell_type": "code",
   "execution_count": 319,
   "id": "3f1b57ce",
   "metadata": {},
   "outputs": [],
   "source": [
    "# torch.logspace()"
   ]
  },
  {
   "cell_type": "code",
   "execution_count": 320,
   "id": "e534485b",
   "metadata": {},
   "outputs": [],
   "source": [
    "#  torch.eye()      对角线为一 其余为零 的特殊矩阵\n",
    "# torch.eye(n, m=None, *, out=None, dtype=None, layout=torch.strided, device=None, requires_grad=False)"
   ]
  },
  {
   "cell_type": "code",
   "execution_count": 35,
   "id": "ff5c71ef",
   "metadata": {},
   "outputs": [
    {
     "data": {
      "text/plain": [
       "tensor([[1., 0., 0., 0., 0.],\n",
       "        [0., 1., 0., 0., 0.],\n",
       "        [0., 0., 1., 0., 0.],\n",
       "        [0., 0., 0., 1., 0.],\n",
       "        [0., 0., 0., 0., 1.]])"
      ]
     },
     "execution_count": 35,
     "metadata": {},
     "output_type": "execute_result"
    }
   ],
   "source": [
    "a = torch.eye(5)\n",
    "a"
   ]
  },
  {
   "cell_type": "code",
   "execution_count": 322,
   "id": "a24e1db2",
   "metadata": {},
   "outputs": [],
   "source": [
    "# 默认创建为一个方阵 但是也是可以进行改变的形状的"
   ]
  },
  {
   "cell_type": "code",
   "execution_count": 323,
   "id": "c9fc7f57",
   "metadata": {},
   "outputs": [
    {
     "data": {
      "text/plain": [
       "tensor([[1., 0., 0., 0., 0., 0.],\n",
       "        [0., 1., 0., 0., 0., 0.],\n",
       "        [0., 0., 1., 0., 0., 0.],\n",
       "        [0., 0., 0., 1., 0., 0.],\n",
       "        [0., 0., 0., 0., 1., 0.]])"
      ]
     },
     "execution_count": 323,
     "metadata": {},
     "output_type": "execute_result"
    }
   ],
   "source": [
    "b = torch.eye(5,6)\n",
    "b"
   ]
  },
  {
   "cell_type": "code",
   "execution_count": 324,
   "id": "9fc2d9a9",
   "metadata": {},
   "outputs": [],
   "source": [
    "# 也就是还是保持对角线设置为0  其余设置为1的原则"
   ]
  },
  {
   "cell_type": "code",
   "execution_count": 325,
   "id": "e06e1bc4",
   "metadata": {},
   "outputs": [],
   "source": [
    "# torch.full()   给形状并且赋值的方法\n",
    "# torch.full(size, fill_value, *, out=None, dtype=None, layout=torch.strided, device=None, requires_grad=False)"
   ]
  },
  {
   "cell_type": "code",
   "execution_count": 326,
   "id": "8e309d3f",
   "metadata": {},
   "outputs": [
    {
     "data": {
      "text/plain": [
       "tensor([[3, 3, 3, 3, 3, 3],\n",
       "        [3, 3, 3, 3, 3, 3],\n",
       "        [3, 3, 3, 3, 3, 3],\n",
       "        [3, 3, 3, 3, 3, 3],\n",
       "        [3, 3, 3, 3, 3, 3]])"
      ]
     },
     "execution_count": 326,
     "metadata": {},
     "output_type": "execute_result"
    }
   ],
   "source": [
    "a = torch.full((5,6),fill_value=3)\n",
    "a"
   ]
  },
  {
   "cell_type": "code",
   "execution_count": 327,
   "id": "54a6031b",
   "metadata": {},
   "outputs": [],
   "source": [
    "### 请你思考 如何使用torch.ones api来实现上边的效果呢？"
   ]
  },
  {
   "cell_type": "code",
   "execution_count": 328,
   "id": "b27c1593",
   "metadata": {},
   "outputs": [
    {
     "data": {
      "text/plain": [
       "tensor([[1.1111, 1.1111, 1.1111, 1.1111, 1.1111, 1.1111],\n",
       "        [1.1111, 1.1111, 1.1111, 1.1111, 1.1111, 1.1111],\n",
       "        [1.1111, 1.1111, 1.1111, 1.1111, 1.1111, 1.1111],\n",
       "        [1.1111, 1.1111, 1.1111, 1.1111, 1.1111, 1.1111],\n",
       "        [1.1111, 1.1111, 1.1111, 1.1111, 1.1111, 1.1111]])"
      ]
     },
     "execution_count": 328,
     "metadata": {},
     "output_type": "execute_result"
    }
   ],
   "source": [
    "b = torch.full((5,6),1.111111)\n",
    "b"
   ]
  },
  {
   "cell_type": "code",
   "execution_count": 329,
   "id": "2e652627",
   "metadata": {},
   "outputs": [],
   "source": [
    "# torch.full_like()"
   ]
  },
  {
   "cell_type": "code",
   "execution_count": 330,
   "id": "aabf1380",
   "metadata": {},
   "outputs": [
    {
     "data": {
      "text/plain": [
       "tensor([[2.2222, 2.2222, 2.2222, 2.2222, 2.2222, 2.2222],\n",
       "        [2.2222, 2.2222, 2.2222, 2.2222, 2.2222, 2.2222],\n",
       "        [2.2222, 2.2222, 2.2222, 2.2222, 2.2222, 2.2222],\n",
       "        [2.2222, 2.2222, 2.2222, 2.2222, 2.2222, 2.2222],\n",
       "        [2.2222, 2.2222, 2.2222, 2.2222, 2.2222, 2.2222]])"
      ]
     },
     "execution_count": 330,
     "metadata": {},
     "output_type": "execute_result"
    }
   ],
   "source": [
    "a = torch.full_like(b,2.222222)\n",
    "a"
   ]
  },
  {
   "cell_type": "markdown",
   "id": "8b5edf12",
   "metadata": {},
   "source": [
    "indexing slicing joining multating ops\n",
    "\n",
    "索引 切片 聚合 旋转"
   ]
  },
  {
   "cell_type": "code",
   "execution_count": 331,
   "id": "236c438a",
   "metadata": {},
   "outputs": [],
   "source": [
    "# torch.cat()   concat函数 一个有些难度的函数\n",
    "# torch.cat(tensors, dim=0, *, out=None) \n",
    "# Concatenates the given sequence of seq tensors in the given dimension. \n",
    "# All tensors must either have the same shape (except in the concatenating dimension) or be empty."
   ]
  },
  {
   "cell_type": "code",
   "execution_count": 332,
   "id": "b4321baf",
   "metadata": {},
   "outputs": [],
   "source": [
    "# torch.cat()方法 要求相cat的两个张量 除了被相加的那个维度的形状可以不同之外 其余维度的形状必须相同"
   ]
  },
  {
   "cell_type": "code",
   "execution_count": 333,
   "id": "cf7c30b4",
   "metadata": {},
   "outputs": [
    {
     "data": {
      "text/plain": [
       "tensor([[2, 2],\n",
       "        [2, 2]])"
      ]
     },
     "execution_count": 333,
     "metadata": {},
     "output_type": "execute_result"
    }
   ],
   "source": [
    "# 仅能在第0维进行concat()  最后的效果是 行数不变 列数增加\n",
    "a = torch.full((2,2),2)\n",
    "a"
   ]
  },
  {
   "cell_type": "code",
   "execution_count": 334,
   "id": "b7d96062",
   "metadata": {},
   "outputs": [
    {
     "data": {
      "text/plain": [
       "tensor([[3, 3],\n",
       "        [3, 3],\n",
       "        [3, 3]])"
      ]
     },
     "execution_count": 334,
     "metadata": {},
     "output_type": "execute_result"
    }
   ],
   "source": [
    "b = torch.full((3,2),3)\n",
    "b"
   ]
  },
  {
   "cell_type": "code",
   "execution_count": 335,
   "id": "47c1c53a",
   "metadata": {},
   "outputs": [],
   "source": [
    "# 因为a的第0维为2 b的第0维为3 a的第1维为2 b的第一维为2\n",
    "# a，b的第0维是不同的 a,b的第1维是相同的 所以仅能在第0维进行concat 以此来满足除了被concat的维度形状可以不同之外 其它的维度必须相同的原则"
   ]
  },
  {
   "cell_type": "code",
   "execution_count": 336,
   "id": "38f19ce6",
   "metadata": {},
   "outputs": [
    {
     "data": {
      "text/plain": [
       "tensor([[2, 2],\n",
       "        [2, 2],\n",
       "        [3, 3],\n",
       "        [3, 3],\n",
       "        [3, 3]])"
      ]
     },
     "execution_count": 336,
     "metadata": {},
     "output_type": "execute_result"
    }
   ],
   "source": [
    "torch.cat((a,b),dim=0)"
   ]
  },
  {
   "cell_type": "code",
   "execution_count": 337,
   "id": "9adbb4c1",
   "metadata": {},
   "outputs": [],
   "source": [
    "# 仅能在第1维进行concat()    最后的效果是 行数不变 列数增加"
   ]
  },
  {
   "cell_type": "code",
   "execution_count": 338,
   "id": "2d897713",
   "metadata": {},
   "outputs": [
    {
     "data": {
      "text/plain": [
       "tensor([[2, 2],\n",
       "        [2, 2]])"
      ]
     },
     "execution_count": 338,
     "metadata": {},
     "output_type": "execute_result"
    }
   ],
   "source": [
    "c = torch.full((2,2),2)\n",
    "c"
   ]
  },
  {
   "cell_type": "code",
   "execution_count": 339,
   "id": "ac103b60",
   "metadata": {},
   "outputs": [
    {
     "data": {
      "text/plain": [
       "tensor([[3, 3, 3],\n",
       "        [3, 3, 3]])"
      ]
     },
     "execution_count": 339,
     "metadata": {},
     "output_type": "execute_result"
    }
   ],
   "source": [
    "d = torch.full((2,3),3)\n",
    "d"
   ]
  },
  {
   "cell_type": "code",
   "execution_count": 340,
   "id": "bbba7fa2",
   "metadata": {},
   "outputs": [
    {
     "data": {
      "text/plain": [
       "tensor([[2, 2, 3, 3, 3],\n",
       "        [2, 2, 3, 3, 3]])"
      ]
     },
     "execution_count": 340,
     "metadata": {},
     "output_type": "execute_result"
    }
   ],
   "source": [
    "torch.cat([c,d],dim=1)"
   ]
  },
  {
   "cell_type": "code",
   "execution_count": 341,
   "id": "16293773",
   "metadata": {},
   "outputs": [],
   "source": [
    "### 请判断利用torch.cat() api 将下面三个tensor concat起来"
   ]
  },
  {
   "cell_type": "code",
   "execution_count": 342,
   "id": "c011c497",
   "metadata": {},
   "outputs": [
    {
     "data": {
      "text/plain": [
       "tensor([[[1, 1],\n",
       "         [1, 1]],\n",
       "\n",
       "        [[1, 1],\n",
       "         [1, 1]]])"
      ]
     },
     "execution_count": 342,
     "metadata": {},
     "output_type": "execute_result"
    }
   ],
   "source": [
    "a = torch.full((2,2,2),1)\n",
    "a"
   ]
  },
  {
   "cell_type": "code",
   "execution_count": 343,
   "id": "01d7a224",
   "metadata": {},
   "outputs": [
    {
     "data": {
      "text/plain": [
       "tensor([[[2, 2, 2],\n",
       "         [2, 2, 2]],\n",
       "\n",
       "        [[2, 2, 2],\n",
       "         [2, 2, 2]]])"
      ]
     },
     "execution_count": 343,
     "metadata": {},
     "output_type": "execute_result"
    }
   ],
   "source": [
    "b = torch.full((2,2,3),2)\n",
    "b"
   ]
  },
  {
   "cell_type": "code",
   "execution_count": 344,
   "id": "4daec757",
   "metadata": {},
   "outputs": [
    {
     "data": {
      "text/plain": [
       "tensor([[[3, 3, 3, 3],\n",
       "         [3, 3, 3, 3]],\n",
       "\n",
       "        [[3, 3, 3, 3],\n",
       "         [3, 3, 3, 3]]])"
      ]
     },
     "execution_count": 344,
     "metadata": {},
     "output_type": "execute_result"
    }
   ],
   "source": [
    "c = torch.full((2,2,4),3)\n",
    "c"
   ]
  },
  {
   "cell_type": "code",
   "execution_count": null,
   "id": "622f676a",
   "metadata": {},
   "outputs": [],
   "source": []
  }
 ],
 "metadata": {
  "kernelspec": {
   "display_name": "Python 3",
   "language": "python",
   "name": "python3"
  },
  "language_info": {
   "codemirror_mode": {
    "name": "ipython",
    "version": 3
   },
   "file_extension": ".py",
   "mimetype": "text/x-python",
   "name": "python",
   "nbconvert_exporter": "python",
   "pygments_lexer": "ipython3",
   "version": "3.8.8"
  }
 },
 "nbformat": 4,
 "nbformat_minor": 5
}
