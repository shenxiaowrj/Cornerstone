{
 "cells": [
  {
   "cell_type": "markdown",
   "id": "323fedcd",
   "metadata": {},
   "source": [
    "1、numpy的导入"
   ]
  },
  {
   "cell_type": "code",
   "execution_count": 2,
   "id": "d359d0e6",
   "metadata": {},
   "outputs": [],
   "source": [
    "#导入library\n",
    "import numpy as np"
   ]
  },
  {
   "cell_type": "markdown",
   "id": "bcc5330f",
   "metadata": {},
   "source": [
    "2、创建和生成"
   ]
  },
  {
   "cell_type": "markdown",
   "id": "c9d44549",
   "metadata": {},
   "source": [
    "从Python列表或元组创建"
   ]
  },
  {
   "cell_type": "code",
   "execution_count": 2,
   "id": "d78e72b1",
   "metadata": {},
   "outputs": [
    {
     "data": {
      "text/plain": [
       "array([1, 2, 3])"
      ]
     },
     "execution_count": 2,
     "metadata": {},
     "output_type": "execute_result"
    }
   ],
   "source": [
    "#一个list\n",
    "np.array([1,2,3])"
   ]
  },
  {
   "cell_type": "code",
   "execution_count": 3,
   "id": "eec3ac1e",
   "metadata": {},
   "outputs": [
    {
     "data": {
      "text/plain": [
       "array([[1., 2., 3.],\n",
       "       [4., 5., 6.]])"
      ]
     },
     "execution_count": 3,
     "metadata": {},
     "output_type": "execute_result"
    }
   ],
   "source": [
    "#二维（多维类似）\n",
    "#注意，有个小数\n",
    "np.array([[1,2.,3],[4,5,6]])"
   ]
  },
  {
   "cell_type": "code",
   "execution_count": 4,
   "id": "dce00015",
   "metadata": {},
   "outputs": [
    {
     "data": {
      "text/plain": [
       "array([1., 2., 3.], dtype=float16)"
      ]
     },
     "execution_count": 4,
     "metadata": {},
     "output_type": "execute_result"
    }
   ],
   "source": [
    "#也可指定数据类型\n",
    "np.array([1,2,3],dtype=np.float16)"
   ]
  },
  {
   "cell_type": "code",
   "execution_count": 5,
   "id": "9a1be1eb",
   "metadata": {},
   "outputs": [
    {
     "data": {
      "text/plain": [
       "array([1.1, 2.2])"
      ]
     },
     "execution_count": 5,
     "metadata": {},
     "output_type": "execute_result"
    }
   ],
   "source": [
    "#一个tuple\n",
    "np.array((1.1,2.2))"
   ]
  },
  {
   "cell_type": "code",
   "execution_count": 6,
   "id": "fab79ffe",
   "metadata": {},
   "outputs": [
    {
     "data": {
      "text/plain": [
       "array([1, 2, 3])"
      ]
     },
     "execution_count": 6,
     "metadata": {},
     "output_type": "execute_result"
    }
   ],
   "source": [
    "#转换\n",
    "np.asarray((1,2,3))"
   ]
  },
  {
   "cell_type": "code",
   "execution_count": 9,
   "id": "511a5bb7",
   "metadata": {},
   "outputs": [
    {
     "data": {
      "text/plain": [
       "array([[1., 2., 3.],\n",
       "       [4., 5., 6.]])"
      ]
     },
     "execution_count": 9,
     "metadata": {},
     "output_type": "execute_result"
    }
   ],
   "source": [
    "np.asarray(([1.,2.,3.],(4.,5.,6.)))"
   ]
  },
  {
   "cell_type": "markdown",
   "id": "4f12d5c8",
   "metadata": {},
   "source": [
    "使用arange生成一维向量"
   ]
  },
  {
   "cell_type": "code",
   "execution_count": 10,
   "id": "5367e11b",
   "metadata": {},
   "outputs": [
    {
     "data": {
      "text/plain": [
       "array([0, 2, 4, 6, 8])"
      ]
     },
     "execution_count": 10,
     "metadata": {},
     "output_type": "execute_result"
    }
   ],
   "source": [
    " np.arange(0,10,2)"
   ]
  },
  {
   "cell_type": "code",
   "execution_count": 11,
   "id": "25d7e979",
   "metadata": {},
   "outputs": [
    {
     "data": {
      "text/plain": [
       "array([[ 0,  1,  2,  3],\n",
       "       [ 4,  5,  6,  7],\n",
       "       [ 8,  9, 10, 11]])"
      ]
     },
     "execution_count": 11,
     "metadata": {},
     "output_type": "execute_result"
    }
   ],
   "source": [
    "#目标的shape需要的元素数量一定要和原始的元素数量相等，小数也可\n",
    "np.arange(12).reshape(3,4) "
   ]
  },
  {
   "cell_type": "code",
   "execution_count": 12,
   "id": "414755eb",
   "metadata": {},
   "outputs": [
    {
     "data": {
      "text/plain": [
       "array([[[100, 102],\n",
       "        [104, 106]],\n",
       "\n",
       "       [[108, 110],\n",
       "        [112, 114]],\n",
       "\n",
       "       [[116, 118],\n",
       "        [120, 122]]])"
      ]
     },
     "execution_count": 12,
     "metadata": {},
     "output_type": "execute_result"
    }
   ],
   "source": [
    "np.arange(100,124,2).reshape(3,2,2)"
   ]
  },
  {
   "cell_type": "markdown",
   "id": "556b5517",
   "metadata": {},
   "source": [
    "*使用linspace/logspace生成\n",
    "前者需要传入3个参数：开头、结尾、数量；后者需要额外传入一个base，默认是10"
   ]
  },
  {
   "cell_type": "code",
   "execution_count": 13,
   "id": "e7c3f5d1",
   "metadata": {},
   "outputs": [
    {
     "data": {
      "text/plain": [
       "array([[0., 1., 2., 3., 4.],\n",
       "       [5., 6., 7., 8., 9.]])"
      ]
     },
     "execution_count": 13,
     "metadata": {},
     "output_type": "execute_result"
    }
   ],
   "source": [
    "#线性\n",
    "np.linspace(0,9,10).reshape(2,5)"
   ]
  },
  {
   "cell_type": "code",
   "execution_count": 14,
   "id": "999ae107",
   "metadata": {},
   "outputs": [
    {
     "data": {
      "text/plain": [
       "array([[1.00000000e+00, 6.04964746e+00, 3.65982344e+01],\n",
       "       [2.21406416e+02, 1.33943076e+03, 8.10308393e+03]])"
      ]
     },
     "execution_count": 14,
     "metadata": {},
     "output_type": "execute_result"
    }
   ],
   "source": [
    "#指数base默认为 10 ,对数\n",
    "np.logspace(0,9,6,base=np.e).reshape(2,3)"
   ]
  },
  {
   "cell_type": "code",
   "execution_count": 15,
   "id": "28fd8f76",
   "metadata": {},
   "outputs": [
    {
     "data": {
      "text/plain": [
       "array([[0. , 1.8, 3.6],\n",
       "       [5.4, 7.2, 9. ]])"
      ]
     },
     "execution_count": 15,
     "metadata": {},
     "output_type": "execute_result"
    }
   ],
   "source": [
    "# _ 表示上（最近）一个输出\n",
    "# logspace 结果 log 后就是上面linspace的结果\n",
    "np.log(_)"
   ]
  },
  {
   "cell_type": "markdown",
   "id": "cdc9e279",
   "metadata": {},
   "source": [
    "使用ones/zeros创建，创建出来的array默认是float类型"
   ]
  },
  {
   "cell_type": "code",
   "execution_count": 16,
   "id": "5504979b",
   "metadata": {},
   "outputs": [
    {
     "data": {
      "text/plain": [
       "array([1., 1., 1.])"
      ]
     },
     "execution_count": 16,
     "metadata": {},
     "output_type": "execute_result"
    }
   ],
   "source": [
    "np.ones(3)"
   ]
  },
  {
   "cell_type": "code",
   "execution_count": 17,
   "id": "34e5898c",
   "metadata": {},
   "outputs": [
    {
     "data": {
      "text/plain": [
       "array([[1., 1., 1.],\n",
       "       [1., 1., 1.]])"
      ]
     },
     "execution_count": 17,
     "metadata": {},
     "output_type": "execute_result"
    }
   ],
   "source": [
    "np.ones((2,3))"
   ]
  },
  {
   "cell_type": "code",
   "execution_count": 18,
   "id": "8a23ddcf",
   "metadata": {},
   "outputs": [
    {
     "data": {
      "text/plain": [
       "array([[[0., 0., 0., 0.],\n",
       "        [0., 0., 0., 0.],\n",
       "        [0., 0., 0., 0.]],\n",
       "\n",
       "       [[0., 0., 0., 0.],\n",
       "        [0., 0., 0., 0.],\n",
       "        [0., 0., 0., 0.]]])"
      ]
     },
     "execution_count": 18,
     "metadata": {},
     "output_type": "execute_result"
    }
   ],
   "source": [
    "np.zeros((2,3,4))"
   ]
  },
  {
   "cell_type": "code",
   "execution_count": 19,
   "id": "d823dde3",
   "metadata": {},
   "outputs": [
    {
     "data": {
      "text/plain": [
       "array([[[0., 0., 0.],\n",
       "        [0., 0., 0.],\n",
       "        [0., 0., 0.]],\n",
       "\n",
       "       [[0., 0., 0.],\n",
       "        [0., 0., 0.],\n",
       "        [0., 0., 0.]]])"
      ]
     },
     "execution_count": 19,
     "metadata": {},
     "output_type": "execute_result"
    }
   ],
   "source": [
    "#像给定向量那样的 0 向量（ones_like 是 1 向量）\n",
    "np.zeros_like(np.ones((2,3,3)))"
   ]
  },
  {
   "cell_type": "markdown",
   "id": "6225dd47",
   "metadata": {},
   "source": [
    "*使用random生成（最重要）"
   ]
  },
  {
   "cell_type": "code",
   "execution_count": 29,
   "id": "9fbfa18d",
   "metadata": {},
   "outputs": [
    {
     "data": {
      "text/plain": [
       "array([[0.75237094, 0.74189089, 0.88757106],\n",
       "       [0.901947  , 0.99931482, 0.9897973 ]])"
      ]
     },
     "execution_count": 29,
     "metadata": {},
     "output_type": "execute_result"
    }
   ],
   "source": [
    "# 0-1均匀分布\n",
    "np.random.rand(2,3)"
   ]
  },
  {
   "cell_type": "code",
   "execution_count": 30,
   "id": "b3d14d11",
   "metadata": {},
   "outputs": [
    {
     "data": {
      "text/plain": [
       "0.2632329218059608"
      ]
     },
     "execution_count": 30,
     "metadata": {},
     "output_type": "execute_result"
    }
   ],
   "source": [
    "#单个数\n",
    "np.random.rand()"
   ]
  },
  {
   "cell_type": "code",
   "execution_count": 31,
   "id": "4e1cab81",
   "metadata": {},
   "outputs": [
    {
     "data": {
      "text/plain": [
       "array([[0.26162016, 0.93085979],\n",
       "       [0.61167769, 0.20683909],\n",
       "       [0.99681783, 0.69638689]])"
      ]
     },
     "execution_count": 31,
     "metadata": {},
     "output_type": "execute_result"
    }
   ],
   "source": [
    "# 0-1均匀分布\n",
    "np.random.random((3,2))"
   ]
  },
  {
   "cell_type": "code",
   "execution_count": 32,
   "id": "37cda029",
   "metadata": {},
   "outputs": [
    {
     "data": {
      "text/plain": [
       "array([[-0.39273242, -0.22053619,  0.09082178],\n",
       "       [-0.93512736,  0.41803348, -0.64152707]])"
      ]
     },
     "execution_count": 32,
     "metadata": {},
     "output_type": "execute_result"
    }
   ],
   "source": [
    "#指定上下界的均匀分布\n",
    "np.random.uniform(-1,1,(2,3))"
   ]
  },
  {
   "cell_type": "code",
   "execution_count": 33,
   "id": "9821c5f1",
   "metadata": {},
   "outputs": [
    {
     "data": {
      "text/plain": [
       "Generator(PCG64) at 0x2098EB30048"
      ]
     },
     "execution_count": 33,
     "metadata": {},
     "output_type": "execute_result"
    }
   ],
   "source": [
    "# 新\n",
    "# rng是个Generator，可用于生成各种分布\n",
    "rng = np.random.default_rng(42)\n",
    "rng"
   ]
  },
  {
   "cell_type": "code",
   "execution_count": 34,
   "id": "74710006",
   "metadata": {},
   "outputs": [
    {
     "data": {
      "text/plain": [
       "array([[0.77395605, 0.43887844, 0.85859792],\n",
       "       [0.69736803, 0.09417735, 0.97562235]])"
      ]
     },
     "execution_count": 34,
     "metadata": {},
     "output_type": "execute_result"
    }
   ],
   "source": [
    "#推荐的均匀分布用法\n",
    "rng.random((2,3))"
   ]
  },
  {
   "cell_type": "code",
   "execution_count": 35,
   "id": "3321776c",
   "metadata": {},
   "outputs": [
    {
     "data": {
      "text/plain": [
       "array([[0.7611397 , 0.78606431, 0.12811363],\n",
       "       [0.45038594, 0.37079802, 0.92676499]])"
      ]
     },
     "execution_count": 35,
     "metadata": {},
     "output_type": "execute_result"
    }
   ],
   "source": [
    "#可以指定上下界，所以更推荐这种用法\n",
    "rng.uniform(0,1,(2,3))"
   ]
  },
  {
   "cell_type": "code",
   "execution_count": 36,
   "id": "ce4b94c6",
   "metadata": {},
   "outputs": [
    {
     "data": {
      "text/plain": [
       "array([5, 3])"
      ]
     },
     "execution_count": 36,
     "metadata": {},
     "output_type": "execute_result"
    }
   ],
   "source": [
    "#随机整数，不超过给定的值10\n",
    "np.random.randint(10,size=2)"
   ]
  },
  {
   "cell_type": "code",
   "execution_count": 37,
   "id": "c3d89fed",
   "metadata": {},
   "outputs": [
    {
     "data": {
      "text/plain": [
       "array([[9, 9, 9],\n",
       "       [6, 5, 6]])"
      ]
     },
     "execution_count": 37,
     "metadata": {},
     "output_type": "execute_result"
    }
   ],
   "source": [
    "#随机整数，指定上下界和shape\n",
    "np.random.randint(0,10,(2,3))"
   ]
  },
  {
   "cell_type": "code",
   "execution_count": 38,
   "id": "6d5d0da5",
   "metadata": {},
   "outputs": [
    {
     "data": {
      "text/plain": [
       "array([7, 6], dtype=int64)"
      ]
     },
     "execution_count": 38,
     "metadata": {},
     "output_type": "execute_result"
    }
   ],
   "source": [
    "#推荐方法，指定大小和上界\n",
    "rng.integers(10,size=2)"
   ]
  },
  {
   "cell_type": "code",
   "execution_count": 39,
   "id": "70d22fa7",
   "metadata": {},
   "outputs": [
    {
     "data": {
      "text/plain": [
       "array([[4, 8, 5],\n",
       "       [4, 4, 2]], dtype=int64)"
      ]
     },
     "execution_count": 39,
     "metadata": {},
     "output_type": "execute_result"
    }
   ],
   "source": [
    "#推荐方法，指定上下界\n",
    "rng.integers(0,10,(2,3))"
   ]
  },
  {
   "cell_type": "code",
   "execution_count": 40,
   "id": "c762bdb5",
   "metadata": {},
   "outputs": [
    {
     "data": {
      "text/plain": [
       "array([[-0.39342967, -1.16432078, -0.91656341,  0.1619699 ],\n",
       "       [ 1.30592957,  1.32507251, -0.1106328 ,  0.86694117]])"
      ]
     },
     "execution_count": 40,
     "metadata": {},
     "output_type": "execute_result"
    }
   ],
   "source": [
    "#标准正态分布\n",
    "np.random.randn(2,4)"
   ]
  },
  {
   "cell_type": "code",
   "execution_count": 41,
   "id": "d48da613",
   "metadata": {},
   "outputs": [
    {
     "data": {
      "text/plain": [
       "array([[ 0.36875078, -0.9588826 ,  0.8784503 , -0.04992591],\n",
       "       [-0.18486236, -0.68092954,  1.22254134, -0.15452948]])"
      ]
     },
     "execution_count": 41,
     "metadata": {},
     "output_type": "execute_result"
    }
   ],
   "source": [
    "#推荐标准正态分布用法\n",
    "rng.standard_normal((2,4))"
   ]
  },
  {
   "cell_type": "code",
   "execution_count": 42,
   "id": "cd8fb1fc",
   "metadata": {},
   "outputs": [
    {
     "data": {
      "text/plain": [
       "array([[ 0.50825403,  0.32106575,  2.14665693,  0.73614023, -0.41452973],\n",
       "       [-0.52550988,  0.90074033, -0.41526796,  1.72000392, -1.6530288 ],\n",
       "       [ 0.61115251,  0.98569095, -0.06593525, -0.23583292,  1.24069733]])"
      ]
     },
     "execution_count": 42,
     "metadata": {},
     "output_type": "execute_result"
    }
   ],
   "source": [
    "#高斯分布\n",
    "np.random.normal(0,1,(3,5))"
   ]
  },
  {
   "cell_type": "code",
   "execution_count": 43,
   "id": "fc055d01",
   "metadata": {},
   "outputs": [
    {
     "data": {
      "text/plain": [
       "array([[-0.42832782, -0.35213355,  0.53230919,  0.36544406,  0.41273261],\n",
       "       [ 0.430821  ,  2.1416476 , -0.40641502, -0.51224273, -0.81377273],\n",
       "       [ 0.61597942,  1.12897229, -0.11394746, -0.84015648, -0.82448122]])"
      ]
     },
     "execution_count": 43,
     "metadata": {},
     "output_type": "execute_result"
    }
   ],
   "source": [
    "#推荐的高斯分布用法\n",
    "rng.normal(0,1,(3,5))"
   ]
  },
  {
   "cell_type": "markdown",
   "id": "40b33825",
   "metadata": {},
   "source": [
    "从文件读取"
   ]
  },
  {
   "cell_type": "code",
   "execution_count": 45,
   "id": "ef95d7ff",
   "metadata": {},
   "outputs": [],
   "source": [
    "#直接将给定矩阵存为 a.npy\n",
    "np.save('./data/a',np.array([[1,2,3],[4,5,6]]))"
   ]
  },
  {
   "cell_type": "code",
   "execution_count": null,
   "id": "ed55f7fb",
   "metadata": {},
   "outputs": [],
   "source": [
    "#加载单个 array\n",
    "np.load(\"data/a.npy\")"
   ]
  },
  {
   "cell_type": "code",
   "execution_count": null,
   "id": "4b26317c",
   "metadata": {},
   "outputs": [],
   "source": [
    "#可以将多个矩阵存在一起，名为 b.npz\n",
    "np.savez(\"./data/b\",a=np.arange(12).reshape(3,4),b=np.arange(12.).reshape(4,3))"
   ]
  },
  {
   "cell_type": "code",
   "execution_count": null,
   "id": "b9d99c09",
   "metadata": {},
   "outputs": [],
   "source": [
    "#加载多个，可以像字典那样取出对应的 array\n",
    "arr=np.load(\"data/b.npz\")"
   ]
  },
  {
   "cell_type": "markdown",
   "id": "fbf80ff8",
   "metadata": {},
   "source": [
    "3、统计和属性"
   ]
  },
  {
   "cell_type": "markdown",
   "id": "da59af2a",
   "metadata": {},
   "source": [
    "两个重要特性：按维度（指定axis）求结果、计算后保持维度（keepdims=True)"
   ]
  },
  {
   "cell_type": "code",
   "execution_count": 46,
   "id": "837bf167",
   "metadata": {},
   "outputs": [
    {
     "data": {
      "text/plain": [
       "array([[0.77395605, 0.43887844, 0.85859792, 0.69736803],\n",
       "       [0.09417735, 0.97562235, 0.7611397 , 0.78606431],\n",
       "       [0.12811363, 0.45038594, 0.37079802, 0.92676499]])"
      ]
     },
     "execution_count": 46,
     "metadata": {},
     "output_type": "execute_result"
    }
   ],
   "source": [
    "# 先创建一个Generator\n",
    "rng = np.random.default_rng(seed=42) #指定seed，保证在同等条件下调参\n",
    "#再生成一个均匀分布\n",
    "arr = rng.random((3,4))\n",
    "arr"
   ]
  },
  {
   "cell_type": "markdown",
   "id": "45021fd5",
   "metadata": {},
   "source": [
    "尺寸相关：包括维度、形状和数据量，其中形状shape用的最多"
   ]
  },
  {
   "cell_type": "code",
   "execution_count": 47,
   "id": "90a09b99",
   "metadata": {},
   "outputs": [
    {
     "data": {
      "text/plain": [
       "2"
      ]
     },
     "execution_count": 47,
     "metadata": {},
     "output_type": "execute_result"
    }
   ],
   "source": [
    "#维度，array是二维的（两个维度）\n",
    "arr.ndim"
   ]
  },
  {
   "cell_type": "code",
   "execution_count": 48,
   "id": "31c85c10",
   "metadata": {},
   "outputs": [
    {
     "data": {
      "text/plain": [
       "(3, 4)"
      ]
     },
     "execution_count": 48,
     "metadata": {},
     "output_type": "execute_result"
    }
   ],
   "source": [
    "#形状，返回一个Tuple\n",
    "arr.shape"
   ]
  },
  {
   "cell_type": "code",
   "execution_count": 49,
   "id": "dbc2e1d2",
   "metadata": {},
   "outputs": [
    {
     "data": {
      "text/plain": [
       "12"
      ]
     },
     "execution_count": 49,
     "metadata": {},
     "output_type": "execute_result"
    }
   ],
   "source": [
    "#数据量\n",
    "arr.size"
   ]
  },
  {
   "cell_type": "markdown",
   "id": "e2a7483f",
   "metadata": {},
   "source": [
    "最值分位：包括最大值、最小值、中位数、其他分位数，其中最大值最小值用的最多"
   ]
  },
  {
   "cell_type": "code",
   "execution_count": 50,
   "id": "ddb80e73",
   "metadata": {},
   "outputs": [
    {
     "data": {
      "text/plain": [
       "array([[0.77395605, 0.43887844, 0.85859792, 0.69736803],\n",
       "       [0.09417735, 0.97562235, 0.7611397 , 0.78606431],\n",
       "       [0.12811363, 0.45038594, 0.37079802, 0.92676499]])"
      ]
     },
     "execution_count": 50,
     "metadata": {},
     "output_type": "execute_result"
    }
   ],
   "source": [
    "arr"
   ]
  },
  {
   "cell_type": "code",
   "execution_count": 51,
   "id": "abc50160",
   "metadata": {},
   "outputs": [
    {
     "data": {
      "text/plain": [
       "0.9756223516367559"
      ]
     },
     "execution_count": 51,
     "metadata": {},
     "output_type": "execute_result"
    }
   ],
   "source": [
    "#所有元素中最大的\n",
    "arr.max()"
   ]
  },
  {
   "cell_type": "code",
   "execution_count": 54,
   "id": "a8f31ddf",
   "metadata": {},
   "outputs": [
    {
     "data": {
      "text/plain": [
       "array([0.77395605, 0.97562235, 0.85859792, 0.92676499])"
      ]
     },
     "execution_count": 54,
     "metadata": {},
     "output_type": "execute_result"
    }
   ],
   "source": [
    "#按维度（列）最大值\n",
    "arr.max(axis=0)\n",
    "#行\n",
    "#arr.max(axis=1)"
   ]
  },
  {
   "cell_type": "code",
   "execution_count": 55,
   "id": "5b0fd0a7",
   "metadata": {},
   "outputs": [
    {
     "data": {
      "text/plain": [
       "array([[0.43887844],\n",
       "       [0.09417735],\n",
       "       [0.12811363]])"
      ]
     },
     "execution_count": 55,
     "metadata": {},
     "output_type": "execute_result"
    }
   ],
   "source": [
    "#是否保持原来的维度\n",
    "#这个需要特别注意下，很多深度学习模型中都需要保持原有的维度进行后续计算\n",
    "#shape是（3，1），array的shape是（3，4），按行，同时保持了行的维度\n",
    "arr.min(axis=1,keepdims=True)"
   ]
  },
  {
   "cell_type": "code",
   "execution_count": 56,
   "id": "c9488afa",
   "metadata": {},
   "outputs": [
    {
     "data": {
      "text/plain": [
       "array([0.43887844, 0.09417735, 0.12811363])"
      ]
     },
     "execution_count": 56,
     "metadata": {},
     "output_type": "execute_result"
    }
   ],
   "source": [
    "# 同amax\n",
    "np.amin(arr,axis=1)"
   ]
  },
  {
   "cell_type": "code",
   "execution_count": 57,
   "id": "92035e6c",
   "metadata": {},
   "outputs": [
    {
     "data": {
      "text/plain": [
       "0.7292538655248584"
      ]
     },
     "execution_count": 57,
     "metadata": {},
     "output_type": "execute_result"
    }
   ],
   "source": [
    "#中位数\n",
    "#其他用法和max，min是一样的\n",
    "np.median(arr)"
   ]
  },
  {
   "cell_type": "code",
   "execution_count": 58,
   "id": "862540a3",
   "metadata": {},
   "outputs": [
    {
     "data": {
      "text/plain": [
       "array([0.11114549, 0.44463219, 0.56596886, 0.74171617])"
      ]
     },
     "execution_count": 58,
     "metadata": {},
     "output_type": "execute_result"
    }
   ],
   "source": [
    "#分位数，按列取1/4数\n",
    "np.quantile(arr,q=0.25,axis=0)"
   ]
  },
  {
   "cell_type": "code",
   "execution_count": 59,
   "id": "e245b8a7",
   "metadata": {},
   "outputs": [
    {
     "data": {
      "text/plain": [
       "array([[0.79511652],\n",
       "       [0.83345382],\n",
       "       [0.5694807 ]])"
      ]
     },
     "execution_count": 59,
     "metadata": {},
     "output_type": "execute_result"
    }
   ],
   "source": [
    "#分位数，按行取3/4，同时保持维度\n",
    "np.quantile(arr, q=0.75, axis=1, keepdims=True)"
   ]
  },
  {
   "cell_type": "code",
   "execution_count": 60,
   "id": "d9a4b85d",
   "metadata": {},
   "outputs": [
    {
     "data": {
      "text/plain": [
       "array([0.73566204, 0.773602  , 0.41059198])"
      ]
     },
     "execution_count": 60,
     "metadata": {},
     "output_type": "execute_result"
    }
   ],
   "source": [
    "#分位数，注意，分位数可以是0-1之间的任意数字（分位）\n",
    "#如果是1/2分位，那正好是中位数\n",
    "np.quantile(arr, q=1/2, axis=1)"
   ]
  },
  {
   "cell_type": "markdown",
   "id": "e164f6c0",
   "metadata": {},
   "source": [
    "平均求和标准差：包括平均值、累计求和、方差、标准差等进一步的统计指标，其中平均值使用最多"
   ]
  },
  {
   "cell_type": "code",
   "execution_count": 61,
   "id": "d0cba522",
   "metadata": {},
   "outputs": [
    {
     "data": {
      "text/plain": [
       "array([[0.77395605, 0.43887844, 0.85859792, 0.69736803],\n",
       "       [0.09417735, 0.97562235, 0.7611397 , 0.78606431],\n",
       "       [0.12811363, 0.45038594, 0.37079802, 0.92676499]])"
      ]
     },
     "execution_count": 61,
     "metadata": {},
     "output_type": "execute_result"
    }
   ],
   "source": [
    "arr"
   ]
  },
  {
   "cell_type": "code",
   "execution_count": 62,
   "id": "f5a6f4f2",
   "metadata": {},
   "outputs": [
    {
     "data": {
      "text/plain": [
       "0.6051555606435642"
      ]
     },
     "execution_count": 62,
     "metadata": {},
     "output_type": "execute_result"
    }
   ],
   "source": [
    "#平均值\n",
    "np.average(arr)"
   ]
  },
  {
   "cell_type": "code",
   "execution_count": 63,
   "id": "ddc34b7e",
   "metadata": {},
   "outputs": [
    {
     "data": {
      "text/plain": [
       "array([0.33208234, 0.62162891, 0.66351188, 0.80339911])"
      ]
     },
     "execution_count": 63,
     "metadata": {},
     "output_type": "execute_result"
    }
   ],
   "source": [
    "#按维度平均（列）\n",
    "np.average(arr,axis=0)"
   ]
  },
  {
   "cell_type": "code",
   "execution_count": 64,
   "id": "520b2c91",
   "metadata": {},
   "outputs": [
    {
     "data": {
      "text/plain": [
       "array([0.33208234, 0.62162891, 0.66351188, 0.80339911])"
      ]
     },
     "execution_count": 64,
     "metadata": {},
     "output_type": "execute_result"
    }
   ],
   "source": [
    "#另一个计算平均值的API\n",
    "#它与average的主要区别是，np.average可以指定权重，即可以用于计算加权平均\n",
    "#一般建议使用average\n",
    "np.mean(arr,axis=0)"
   ]
  },
  {
   "cell_type": "code",
   "execution_count": 65,
   "id": "a9e0bf65",
   "metadata": {},
   "outputs": [
    {
     "data": {
      "text/plain": [
       "array([2.76880044, 2.61700371, 1.87606258])"
      ]
     },
     "execution_count": 65,
     "metadata": {},
     "output_type": "execute_result"
    }
   ],
   "source": [
    "#求和\n",
    "np.sum(arr,axis=1)"
   ]
  },
  {
   "cell_type": "code",
   "execution_count": 66,
   "id": "7a4f5c90",
   "metadata": {},
   "outputs": [
    {
     "data": {
      "text/plain": [
       "array([[0.77395605, 0.43887844, 0.85859792, 0.69736803],\n",
       "       [0.8681334 , 1.41450079, 1.61973762, 1.48343233],\n",
       "       [0.99624703, 1.86488673, 1.99053565, 2.41019732]])"
      ]
     },
     "execution_count": 66,
     "metadata": {},
     "output_type": "execute_result"
    }
   ],
   "source": [
    "#按列累计求和\n",
    "np.cumsum(arr, axis=0)"
   ]
  },
  {
   "cell_type": "code",
   "execution_count": 67,
   "id": "68b69e80",
   "metadata": {},
   "outputs": [
    {
     "data": {
      "text/plain": [
       "array([[0.77395605, 1.21283449, 2.07143241, 2.76880044],\n",
       "       [0.09417735, 1.0697997 , 1.8309394 , 2.61700371],\n",
       "       [0.12811363, 0.57849957, 0.94929759, 1.87606258]])"
      ]
     },
     "execution_count": 67,
     "metadata": {},
     "output_type": "execute_result"
    }
   ],
   "source": [
    "#按行累计求和\n",
    "np.cumsum(arr, axis=1)"
   ]
  },
  {
   "cell_type": "code",
   "execution_count": 68,
   "id": "a65465a9",
   "metadata": {},
   "outputs": [
    {
     "data": {
      "text/plain": [
       "0.28783096517727075"
      ]
     },
     "execution_count": 68,
     "metadata": {},
     "output_type": "execute_result"
    }
   ],
   "source": [
    "#标准差\n",
    "np.std(arr)"
   ]
  },
  {
   "cell_type": "code",
   "execution_count": 69,
   "id": "f28b0a9a",
   "metadata": {},
   "outputs": [
    {
     "data": {
      "text/plain": [
       "array([0.3127589 , 0.25035525, 0.21076935, 0.09444968])"
      ]
     },
     "execution_count": 69,
     "metadata": {},
     "output_type": "execute_result"
    }
   ],
   "source": [
    "#按列求标准差\n",
    "np.std(arr,axis=0)"
   ]
  },
  {
   "cell_type": "code",
   "execution_count": 70,
   "id": "84d78185",
   "metadata": {},
   "outputs": [
    {
     "data": {
      "text/plain": [
       "array([0.02464271, 0.1114405 , 0.0839356 ])"
      ]
     },
     "execution_count": 70,
     "metadata": {},
     "output_type": "execute_result"
    }
   ],
   "source": [
    "#方差\n",
    "np.var(arr,axis=1)"
   ]
  },
  {
   "cell_type": "markdown",
   "id": "558d5721",
   "metadata": {},
   "source": [
    "4、形状与转换"
   ]
  },
  {
   "cell_type": "markdown",
   "id": "8aba9e88",
   "metadata": {},
   "source": [
    " *改变形状，扩展1维度的expand_dims和去除1维度的squeeze高频使用，shape都为1"
   ]
  },
  {
   "cell_type": "code",
   "execution_count": 3,
   "id": "fc281552",
   "metadata": {},
   "outputs": [
    {
     "data": {
      "text/plain": [
       "array([[ 9, 77, 65, 44],\n",
       "       [43, 86,  9, 70],\n",
       "       [20, 10, 53, 97]], dtype=int64)"
      ]
     },
     "execution_count": 3,
     "metadata": {},
     "output_type": "execute_result"
    }
   ],
   "source": [
    "#换个整数的随机array\n",
    "rng=np.random.default_rng(seed=42)\n",
    "arr=rng.integers(1,100,(3,4))\n",
    "arr"
   ]
  },
  {
   "cell_type": "code",
   "execution_count": 4,
   "id": "bd46dcb1",
   "metadata": {},
   "outputs": [
    {
     "data": {
      "text/plain": [
       "array([[[ 9, 77, 65],\n",
       "        [44, 43, 86]],\n",
       "\n",
       "       [[ 9, 70, 20],\n",
       "        [10, 53, 97]]], dtype=int64)"
      ]
     },
     "execution_count": 4,
     "metadata": {},
     "output_type": "execute_result"
    }
   ],
   "source": [
    "#reshape成另一个形状\n",
    "#也可以直接变成一维向量\n",
    "arr.reshape(2,2,3)"
   ]
  },
  {
   "cell_type": "code",
   "execution_count": 5,
   "id": "031cf6d9",
   "metadata": {},
   "outputs": [
    {
     "data": {
      "text/plain": [
       "array([[ 9, 77, 65],\n",
       "       [44, 43, 86],\n",
       "       [ 9, 70, 20],\n",
       "       [10, 53, 97]], dtype=int64)"
      ]
     },
     "execution_count": 5,
     "metadata": {},
     "output_type": "execute_result"
    }
   ],
   "source": [
    "#可偷懒，使用 -1 表示其他维度（此处-1为3），注意，reshape参数可以是tuple或连续整数\n",
    "arr.reshape((4,-1))"
   ]
  },
  {
   "cell_type": "code",
   "execution_count": 6,
   "id": "8d72de31",
   "metadata": {},
   "outputs": [
    {
     "data": {
      "text/plain": [
       "array([[ 9, 77, 65],\n",
       "       [44, 43, 86],\n",
       "       [ 9, 70, 20],\n",
       "       [10, 53, 97]], dtype=int64)"
      ]
     },
     "execution_count": 6,
     "metadata": {},
     "output_type": "execute_result"
    }
   ],
   "source": [
    "#另一种变换形状的方式——原地变换\n",
    "#不过不能用-1\n",
    "arr.resize((4,3))\n",
    "#注意，上面的reshape会生成一个新的array，但resize不会，所以我们需要用原变量名将他展示出来\n",
    "arr"
   ]
  },
  {
   "cell_type": "code",
   "execution_count": 7,
   "id": "51e5a831",
   "metadata": {},
   "outputs": [
    {
     "data": {
      "text/plain": [
       "array([ 9, 77, 65, 44, 43, 86,  9, 70, 20, 10, 53, 97], dtype=int64)"
      ]
     },
     "execution_count": 7,
     "metadata": {},
     "output_type": "execute_result"
    }
   ],
   "source": [
    "#有时候可能需要将多维array打平\n",
    "arr.ravel()"
   ]
  },
  {
   "cell_type": "code",
   "execution_count": 9,
   "id": "7b709f10",
   "metadata": {},
   "outputs": [
    {
     "data": {
      "text/plain": [
       "(4, 1, 3)"
      ]
     },
     "execution_count": 9,
     "metadata": {},
     "output_type": "execute_result"
    }
   ],
   "source": [
    "#扩展一个维度，需要（必须）指定维度\n",
    "np.expand_dims(arr, 1).shape"
   ]
  },
  {
   "cell_type": "code",
   "execution_count": 10,
   "id": "7b3f8d07",
   "metadata": {},
   "outputs": [
    {
     "data": {
      "text/plain": [
       "(4, 1, 3, 1)"
      ]
     },
     "execution_count": 10,
     "metadata": {},
     "output_type": "execute_result"
    }
   ],
   "source": [
    "expanded=np.expand_dims(arr, axis=(1,3))\n",
    "expanded.shape"
   ]
  },
  {
   "cell_type": "code",
   "execution_count": 11,
   "id": "4a8aa928",
   "metadata": {},
   "outputs": [
    {
     "data": {
      "text/plain": [
       "(4, 3)"
      ]
     },
     "execution_count": 11,
     "metadata": {},
     "output_type": "execute_result"
    }
   ],
   "source": [
    "#去除维度为1的\n",
    "#如果指定了维度，那就只会去除该维度，指定的维度必须为1\n",
    "np.squeeze(expanded).shape"
   ]
  },
  {
   "cell_type": "markdown",
   "id": "32e45d32",
   "metadata": {},
   "source": [
    "反序"
   ]
  },
  {
   "cell_type": "code",
   "execution_count": 13,
   "id": "eee8c220",
   "metadata": {},
   "outputs": [
    {
     "data": {
      "text/plain": [
       "'loveu'"
      ]
     },
     "execution_count": 13,
     "metadata": {},
     "output_type": "execute_result"
    }
   ],
   "source": [
    "#字符串\n",
    "s=\"uevol\"\n",
    "s[::-1]"
   ]
  },
  {
   "cell_type": "code",
   "execution_count": 14,
   "id": "4a8936bb",
   "metadata": {},
   "outputs": [
    {
     "data": {
      "text/plain": [
       "[5.2, '1', 1]"
      ]
     },
     "execution_count": 14,
     "metadata": {},
     "output_type": "execute_result"
    }
   ],
   "source": [
    "#数组\n",
    "lst=[1,\"1\",5.2]\n",
    "lst[::-1]"
   ]
  },
  {
   "cell_type": "code",
   "execution_count": 113,
   "id": "9be0fd59",
   "metadata": {},
   "outputs": [
    {
     "data": {
      "text/plain": [
       "array([[ 2, 15, 13,  9],\n",
       "       [ 9, 17,  2, 14],\n",
       "       [ 4,  2, 11, 19]], dtype=int64)"
      ]
     },
     "execution_count": 113,
     "metadata": {},
     "output_type": "execute_result"
    }
   ],
   "source": [
    "arr"
   ]
  },
  {
   "cell_type": "code",
   "execution_count": 114,
   "id": "243ffea8",
   "metadata": {},
   "outputs": [
    {
     "data": {
      "text/plain": [
       "array([[ 4,  2, 11, 19],\n",
       "       [ 9, 17,  2, 14],\n",
       "       [ 2, 15, 13,  9]], dtype=int64)"
      ]
     },
     "execution_count": 114,
     "metadata": {},
     "output_type": "execute_result"
    }
   ],
   "source": [
    "#默认列反序\n",
    "arr[::-1]"
   ]
  },
  {
   "cell_type": "code",
   "execution_count": 115,
   "id": "97a014b9",
   "metadata": {},
   "outputs": [
    {
     "data": {
      "text/plain": [
       "array([[ 4,  2, 11, 19],\n",
       "       [ 9, 17,  2, 14],\n",
       "       [ 2, 15, 13,  9]], dtype=int64)"
      ]
     },
     "execution_count": 115,
     "metadata": {},
     "output_type": "execute_result"
    }
   ],
   "source": [
    "#arr\n",
    "#行反序,列不变         \n",
    "arr[::-1,:]"
   ]
  },
  {
   "cell_type": "code",
   "execution_count": 116,
   "id": "b78f4886",
   "metadata": {},
   "outputs": [
    {
     "data": {
      "text/plain": [
       "array([[19, 11,  2,  4],\n",
       "       [14,  2, 17,  9],\n",
       "       [ 9, 13, 15,  2]], dtype=int64)"
      ]
     },
     "execution_count": 116,
     "metadata": {},
     "output_type": "execute_result"
    }
   ],
   "source": [
    "#行变列也变\n",
    "arr[::-1,::-1]"
   ]
  },
  {
   "cell_type": "markdown",
   "id": "15e9299e",
   "metadata": {},
   "source": [
    "转置"
   ]
  },
  {
   "cell_type": "code",
   "execution_count": 25,
   "id": "ceb791d1",
   "metadata": {},
   "outputs": [
    {
     "data": {
      "text/plain": [
       "(2,)"
      ]
     },
     "execution_count": 25,
     "metadata": {},
     "output_type": "execute_result"
    }
   ],
   "source": [
    "#一维\n",
    "np.array([1,2]).T.shape"
   ]
  },
  {
   "cell_type": "code",
   "execution_count": 26,
   "id": "c8135aa4",
   "metadata": {},
   "outputs": [
    {
     "data": {
      "text/plain": [
       "array([[ 9, 77, 65],\n",
       "       [44, 43, 86],\n",
       "       [ 9, 70, 20],\n",
       "       [10, 53, 97]], dtype=int64)"
      ]
     },
     "execution_count": 26,
     "metadata": {},
     "output_type": "execute_result"
    }
   ],
   "source": [
    "arr"
   ]
  },
  {
   "cell_type": "code",
   "execution_count": 27,
   "id": "22269f9d",
   "metadata": {},
   "outputs": [
    {
     "data": {
      "text/plain": [
       "array([[ 9, 44,  9, 10],\n",
       "       [77, 43, 70, 53],\n",
       "       [65, 86, 20, 97]], dtype=int64)"
      ]
     },
     "execution_count": 27,
     "metadata": {},
     "output_type": "execute_result"
    }
   ],
   "source": [
    "#简单用法，把所有维度都给倒过来\n",
    "arr.T"
   ]
  },
  {
   "cell_type": "code",
   "execution_count": 28,
   "id": "f69b09dc",
   "metadata": {},
   "outputs": [
    {
     "data": {
      "text/plain": [
       "(4, 3, 1, 1)"
      ]
     },
     "execution_count": 28,
     "metadata": {},
     "output_type": "execute_result"
    }
   ],
   "source": [
    "#将shape=(1,1,3,4)的转置后得到shape=(4,3,1,1)\n",
    "arr.reshape(1,1,3,4).T.shape"
   ]
  },
  {
   "cell_type": "code",
   "execution_count": 29,
   "id": "98606427",
   "metadata": {},
   "outputs": [
    {
     "data": {
      "text/plain": [
       "array([[ 9, 44,  9, 10],\n",
       "       [77, 43, 70, 53],\n",
       "       [65, 86, 20, 97]], dtype=int64)"
      ]
     },
     "execution_count": 29,
     "metadata": {},
     "output_type": "execute_result"
    }
   ],
   "source": [
    "#这种转置方式可以指定axes\n",
    "#不指定axes时和.T时一样的\n",
    "np.transpose(arr)"
   ]
  },
  {
   "cell_type": "code",
   "execution_count": 30,
   "id": "fa0b2a18",
   "metadata": {},
   "outputs": [
    {
     "data": {
      "text/plain": [
       "(1, 3, 1, 4)"
      ]
     },
     "execution_count": 30,
     "metadata": {},
     "output_type": "execute_result"
    }
   ],
   "source": [
    "#指定axes，不过axes数量必须包含所有维度的序列\n",
    "#比如两个维度就是（0，1），四个就是（0，1，2，3）\n",
    "#当然，顺序可以改变，比如下面就是只转置第2个和第3个维度\n",
    "#注意，只有超过2维时，这样才有意义\n",
    "np.transpose(arr.reshape(1,1,3,4), axes=(0,2,1,3)).shape"
   ]
  },
  {
   "cell_type": "markdown",
   "id": "9d198028",
   "metadata": {},
   "source": [
    "*5、分解和组合（最重要）"
   ]
  },
  {
   "cell_type": "markdown",
   "id": "a8257eb2",
   "metadata": {},
   "source": [
    "**切片和索引，核心动作概括为：按维度根据start:stop:step操作array（从后往前索引）"
   ]
  },
  {
   "cell_type": "code",
   "execution_count": 31,
   "id": "2a5b769d",
   "metadata": {},
   "outputs": [
    {
     "data": {
      "text/plain": [
       "array([[0.77395605, 0.43887844, 0.85859792, 0.69736803],\n",
       "       [0.09417735, 0.97562235, 0.7611397 , 0.78606431],\n",
       "       [0.12811363, 0.45038594, 0.37079802, 0.92676499],\n",
       "       [0.64386512, 0.82276161, 0.4434142 , 0.22723872],\n",
       "       [0.55458479, 0.06381726, 0.82763117, 0.6316644 ]])"
      ]
     },
     "execution_count": 31,
     "metadata": {},
     "output_type": "execute_result"
    }
   ],
   "source": [
    "rng=np.random.default_rng(42)\n",
    "arr=rng.random((5,4))\n",
    "arr"
   ]
  },
  {
   "cell_type": "code",
   "execution_count": 32,
   "id": "9c03b21f",
   "metadata": {},
   "outputs": [
    {
     "data": {
      "text/plain": [
       "array([0.77395605, 0.43887844, 0.85859792, 0.69736803])"
      ]
     },
     "execution_count": 32,
     "metadata": {},
     "output_type": "execute_result"
    }
   ],
   "source": [
    "#最简单的索引，取第0行\n",
    "arr[0]"
   ]
  },
  {
   "cell_type": "code",
   "execution_count": 33,
   "id": "e0c45fe8",
   "metadata": {},
   "outputs": [
    {
     "data": {
      "text/plain": [
       "0.4388784397520523"
      ]
     },
     "execution_count": 33,
     "metadata": {},
     "output_type": "execute_result"
    }
   ],
   "source": [
    "#最简单的切片，取第0行第1个元素\n",
    "arr[0,1]"
   ]
  },
  {
   "cell_type": "code",
   "execution_count": 34,
   "id": "1b22e15b",
   "metadata": {},
   "outputs": [
    {
     "data": {
      "text/plain": [
       "array([[0.09417735, 0.97562235, 0.7611397 , 0.78606431],\n",
       "       [0.12811363, 0.45038594, 0.37079802, 0.92676499]])"
      ]
     },
     "execution_count": 34,
     "metadata": {},
     "output_type": "execute_result"
    }
   ],
   "source": [
    "#然后带点范围 第1-2行\n",
    "arr[1:3]"
   ]
  },
  {
   "cell_type": "code",
   "execution_count": 35,
   "id": "a75ebb20",
   "metadata": {},
   "outputs": [
    {
     "data": {
      "text/plain": [
       "array([[0.09417735, 0.97562235, 0.7611397 , 0.78606431],\n",
       "       [0.64386512, 0.82276161, 0.4434142 , 0.22723872]])"
      ]
     },
     "execution_count": 35,
     "metadata": {},
     "output_type": "execute_result"
    }
   ],
   "source": [
    "#离散也可以：第1，3行\n",
    "arr[[1,3]]"
   ]
  },
  {
   "cell_type": "code",
   "execution_count": 36,
   "id": "157f712f",
   "metadata": {},
   "outputs": [
    {
     "data": {
      "text/plain": [
       "array([0.97562235, 0.45038594])"
      ]
     },
     "execution_count": 36,
     "metadata": {},
     "output_type": "execute_result"
    }
   ],
   "source": [
    "#再来加点维度：第1-2行，第1列\n",
    "arr[1:3,1]"
   ]
  },
  {
   "cell_type": "code",
   "execution_count": 39,
   "id": "23e67fbd",
   "metadata": {},
   "outputs": [
    {
     "data": {
      "text/plain": [
       "array([0.09417735, 0.64386512])"
      ]
     },
     "execution_count": 39,
     "metadata": {},
     "output_type": "execute_result"
    }
   ],
   "source": [
    "#离散也是一样：第1，3行，第0列\n",
    "arr[[1,3],[0]]"
   ]
  },
  {
   "cell_type": "code",
   "execution_count": 40,
   "id": "834f7d72",
   "metadata": {},
   "outputs": [
    {
     "data": {
      "text/plain": [
       "array([[0.64386512, 0.82276161, 0.4434142 , 0.22723872],\n",
       "       [0.55458479, 0.06381726, 0.82763117, 0.6316644 ]])"
      ]
     },
     "execution_count": 40,
     "metadata": {},
     "output_type": "execute_result"
    }
   ],
   "source": [
    "#还可以有简写：到最后或到开始。如第3行到最后一行\n",
    "arr[3:]"
   ]
  },
  {
   "cell_type": "code",
   "execution_count": 41,
   "id": "3be70345",
   "metadata": {},
   "outputs": [
    {
     "data": {
      "text/plain": [
       "array([[0.43887844, 0.85859792],\n",
       "       [0.97562235, 0.7611397 ],\n",
       "       [0.45038594, 0.37079802]])"
      ]
     },
     "execution_count": 41,
     "metadata": {},
     "output_type": "execute_result"
    }
   ],
   "source": [
    "#开始到第3行，第1-3列\n",
    "arr[:3,1:3]"
   ]
  },
  {
   "cell_type": "code",
   "execution_count": 42,
   "id": "7f6552e2",
   "metadata": {},
   "outputs": [
    {
     "data": {
      "text/plain": [
       "array([[0.09417735, 0.97562235, 0.7611397 , 0.78606431],\n",
       "       [0.64386512, 0.82276161, 0.4434142 , 0.22723872]])"
      ]
     },
     "execution_count": 42,
     "metadata": {},
     "output_type": "execute_result"
    }
   ],
   "source": [
    "#还可以跳跃，步长：start:stop:step，第1行到第4行，间隔为2，即1、3行\n",
    "arr[1:4:2]"
   ]
  },
  {
   "cell_type": "code",
   "execution_count": 43,
   "id": "46ed5b43",
   "metadata": {},
   "outputs": [
    {
     "data": {
      "text/plain": [
       "array([[0.09417735, 0.7611397 ],\n",
       "       [0.64386512, 0.4434142 ]])"
      ]
     },
     "execution_count": 43,
     "metadata": {},
     "output_type": "execute_result"
    }
   ],
   "source": [
    "#也可加上列，第1、3行，第0、2列\n",
    "arr[1:4:2, 0:3:2]"
   ]
  },
  {
   "cell_type": "code",
   "execution_count": 44,
   "id": "040b7ead",
   "metadata": {},
   "outputs": [
    {
     "data": {
      "text/plain": [
       "array([0.43887844, 0.97562235, 0.45038594, 0.82276161, 0.06381726])"
      ]
     },
     "execution_count": 44,
     "metadata": {},
     "output_type": "execute_result"
    }
   ],
   "source": [
    "#第一列的值，其实是所有其他维度第1维的值\n",
    "arr[...,1]"
   ]
  },
  {
   "cell_type": "code",
   "execution_count": 45,
   "id": "10cd84a4",
   "metadata": {},
   "outputs": [
    {
     "data": {
      "text/plain": [
       "array([0.43887844, 0.97562235, 0.45038594, 0.82276161, 0.06381726])"
      ]
     },
     "execution_count": 45,
     "metadata": {},
     "output_type": "execute_result"
    }
   ],
   "source": [
    "#与上面类似，但用的更多\n",
    "arr[:,1]"
   ]
  },
  {
   "cell_type": "code",
   "execution_count": null,
   "id": "fb547242",
   "metadata": {},
   "outputs": [],
   "source": [
    "拼接：np.concatenate和np.stack，前者是拼接，后者是堆叠（会增加一个维度），都可以指定维度。"
   ]
  },
  {
   "cell_type": "code",
   "execution_count": 46,
   "id": "34944cfe",
   "metadata": {},
   "outputs": [
    {
     "data": {
      "text/plain": [
       "(array([[0.77395605, 0.43887844, 0.85859792],\n",
       "        [0.69736803, 0.09417735, 0.97562235]]),\n",
       " array([[0.7611397 , 0.78606431, 0.12811363],\n",
       "        [0.45038594, 0.37079802, 0.92676499]]))"
      ]
     },
     "execution_count": 46,
     "metadata": {},
     "output_type": "execute_result"
    }
   ],
   "source": [
    "rng=np.random.default_rng(42)\n",
    "arr1=rng.random((2,3))\n",
    "arr2=rng.random((2,3))\n",
    "arr1,arr2"
   ]
  },
  {
   "cell_type": "code",
   "execution_count": 48,
   "id": "455e1159",
   "metadata": {},
   "outputs": [
    {
     "data": {
      "text/plain": [
       "array([[0.77395605, 0.43887844, 0.85859792],\n",
       "       [0.69736803, 0.09417735, 0.97562235],\n",
       "       [0.7611397 , 0.78606431, 0.12811363],\n",
       "       [0.45038594, 0.37079802, 0.92676499]])"
      ]
     },
     "execution_count": 48,
     "metadata": {},
     "output_type": "execute_result"
    }
   ],
   "source": [
    "#默认沿axis=0（列）连接\n",
    "np.concatenate((arr1,arr2))"
   ]
  },
  {
   "cell_type": "code",
   "execution_count": 49,
   "id": "73aadeb5",
   "metadata": {},
   "outputs": [
    {
     "data": {
      "text/plain": [
       "array([[0.77395605, 0.43887844, 0.85859792],\n",
       "       [0.69736803, 0.09417735, 0.97562235],\n",
       "       [0.7611397 , 0.78606431, 0.12811363],\n",
       "       [0.45038594, 0.37079802, 0.92676499]])"
      ]
     },
     "execution_count": 49,
     "metadata": {},
     "output_type": "execute_result"
    }
   ],
   "source": [
    "#竖直按行顺序拼接\n",
    "#注意：vstack虽然看起来是stack，但其实它是concatenate\n",
    "np.vstack((arr1,arr2))"
   ]
  },
  {
   "cell_type": "code",
   "execution_count": 50,
   "id": "f539b1d3",
   "metadata": {},
   "outputs": [
    {
     "data": {
      "text/plain": [
       "array([[0.77395605, 0.43887844, 0.85859792, 0.7611397 , 0.78606431,\n",
       "        0.12811363],\n",
       "       [0.69736803, 0.09417735, 0.97562235, 0.45038594, 0.37079802,\n",
       "        0.92676499]])"
      ]
     },
     "execution_count": 50,
     "metadata": {},
     "output_type": "execute_result"
    }
   ],
   "source": [
    "#沿axis=1（行）拼接   (hstack)\n",
    "np.concatenate((arr1,arr2),axis=1)"
   ]
  },
  {
   "cell_type": "code",
   "execution_count": 51,
   "id": "3223295a",
   "metadata": {},
   "outputs": [
    {
     "data": {
      "text/plain": [
       "(2, 2, 3)"
      ]
     },
     "execution_count": 51,
     "metadata": {},
     "output_type": "execute_result"
    }
   ],
   "source": [
    "#堆叠，默认根据axis=0进行   (dstack)\n",
    "np.stack((arr1,arr2)).shape"
   ]
  },
  {
   "cell_type": "code",
   "execution_count": 55,
   "id": "f889b326",
   "metadata": {},
   "outputs": [
    {
     "data": {
      "text/plain": [
       "array([[[0.77395605, 0.7611397 ],\n",
       "        [0.43887844, 0.78606431],\n",
       "        [0.85859792, 0.12811363]],\n",
       "\n",
       "       [[0.69736803, 0.45038594],\n",
       "        [0.09417735, 0.37079802],\n",
       "        [0.97562235, 0.92676499]]])"
      ]
     },
     "execution_count": 55,
     "metadata": {},
     "output_type": "execute_result"
    }
   ],
   "source": [
    "#堆叠，根据axis=2\n",
    "np.stack((arr1,arr2),axis=2)"
   ]
  },
  {
   "cell_type": "code",
   "execution_count": 56,
   "id": "3df84e37",
   "metadata": {},
   "outputs": [
    {
     "data": {
      "text/plain": [
       "(2, 3, 2)"
      ]
     },
     "execution_count": 56,
     "metadata": {},
     "output_type": "execute_result"
    }
   ],
   "source": [
    "# _ 表示上一个Cell的输出结果\n",
    "_.shape"
   ]
  },
  {
   "cell_type": "markdown",
   "id": "9ae418e6",
   "metadata": {},
   "source": [
    "重复：是一个维度一个维度依次重复，而不是整个array重复"
   ]
  },
  {
   "cell_type": "code",
   "execution_count": 57,
   "id": "aa67241d",
   "metadata": {},
   "outputs": [
    {
     "data": {
      "text/plain": [
       "array([[0, 7, 6, 4],\n",
       "       [4, 8, 0, 6],\n",
       "       [2, 0, 5, 9]], dtype=int64)"
      ]
     },
     "execution_count": 57,
     "metadata": {},
     "output_type": "execute_result"
    }
   ],
   "source": [
    "rng=np.random.default_rng(42)\n",
    "arr=rng.integers(0,10,(3,4))\n",
    "arr"
   ]
  },
  {
   "cell_type": "code",
   "execution_count": 58,
   "id": "338ebab2",
   "metadata": {},
   "outputs": [
    {
     "data": {
      "text/plain": [
       "array([[0, 7, 6, 4],\n",
       "       [0, 7, 6, 4],\n",
       "       [4, 8, 0, 6],\n",
       "       [4, 8, 0, 6],\n",
       "       [2, 0, 5, 9],\n",
       "       [2, 0, 5, 9]], dtype=int64)"
      ]
     },
     "execution_count": 58,
     "metadata": {},
     "output_type": "execute_result"
    }
   ],
   "source": [
    "#在axis=0（按列）上重复2次\n",
    "np.repeat(arr,2,axis=0)"
   ]
  },
  {
   "cell_type": "code",
   "execution_count": 59,
   "id": "4c0216c3",
   "metadata": {},
   "outputs": [
    {
     "data": {
      "text/plain": [
       "array([[0, 0, 0, 7, 7, 7, 6, 6, 6, 4, 4, 4],\n",
       "       [4, 4, 4, 8, 8, 8, 0, 0, 0, 6, 6, 6],\n",
       "       [2, 2, 2, 0, 0, 0, 5, 5, 5, 9, 9, 9]], dtype=int64)"
      ]
     },
     "execution_count": 59,
     "metadata": {},
     "output_type": "execute_result"
    }
   ],
   "source": [
    "#在axis=1（按行）上重复3次\n",
    "np.repeat(arr,3,axis=1)"
   ]
  },
  {
   "cell_type": "markdown",
   "id": "7b01f81a",
   "metadata": {},
   "source": [
    "分拆：分拆的axis是对该维度进行拆分"
   ]
  },
  {
   "cell_type": "code",
   "execution_count": 60,
   "id": "62f9c805",
   "metadata": {},
   "outputs": [
    {
     "data": {
      "text/plain": [
       "array([[ 9, 77, 65, 44],\n",
       "       [43, 86,  9, 70],\n",
       "       [20, 10, 53, 97],\n",
       "       [73, 76, 72, 78],\n",
       "       [51, 13, 84, 45],\n",
       "       [50, 37, 19, 92]], dtype=int64)"
      ]
     },
     "execution_count": 60,
     "metadata": {},
     "output_type": "execute_result"
    }
   ],
   "source": [
    "rng=np.random.default_rng(42)\n",
    "arr=rng.integers(1,100,(6,4))\n",
    "arr"
   ]
  },
  {
   "cell_type": "code",
   "execution_count": 61,
   "id": "8e4122b2",
   "metadata": {},
   "outputs": [
    {
     "data": {
      "text/plain": [
       "[array([[ 9, 77, 65, 44],\n",
       "        [43, 86,  9, 70]], dtype=int64),\n",
       " array([[20, 10, 53, 97],\n",
       "        [73, 76, 72, 78]], dtype=int64),\n",
       " array([[51, 13, 84, 45],\n",
       "        [50, 37, 19, 92]], dtype=int64)]"
      ]
     },
     "execution_count": 61,
     "metadata": {},
     "output_type": "execute_result"
    }
   ],
   "source": [
    "#默认切分列（axis=0），切成3份\n",
    "np.split(arr,3)"
   ]
  },
  {
   "cell_type": "code",
   "execution_count": 63,
   "id": "8d9da9fd",
   "metadata": {},
   "outputs": [
    {
     "data": {
      "text/plain": [
       "[array([[ 9, 77],\n",
       "        [43, 86],\n",
       "        [20, 10],\n",
       "        [73, 76],\n",
       "        [51, 13],\n",
       "        [50, 37]], dtype=int64),\n",
       " array([[65, 44],\n",
       "        [ 9, 70],\n",
       "        [53, 97],\n",
       "        [72, 78],\n",
       "        [84, 45],\n",
       "        [19, 92]], dtype=int64)]"
      ]
     },
     "execution_count": 63,
     "metadata": {},
     "output_type": "execute_result"
    }
   ],
   "source": [
    "#（axis=1）切分行\n",
    "np.split(arr,2,axis=1)"
   ]
  },
  {
   "cell_type": "markdown",
   "id": "e4df377e",
   "metadata": {},
   "source": [
    "*6、筛选和过滤"
   ]
  },
  {
   "cell_type": "code",
   "execution_count": 64,
   "id": "6c1157c5",
   "metadata": {},
   "outputs": [
    {
     "data": {
      "text/plain": [
       "array([[ 9, 77, 65, 44],\n",
       "       [43, 86,  9, 70],\n",
       "       [20, 10, 53, 97]], dtype=int64)"
      ]
     },
     "execution_count": 64,
     "metadata": {},
     "output_type": "execute_result"
    }
   ],
   "source": [
    "rng=np.random.default_rng(42)\n",
    "arr=rng.integers(1,100,(3,4))\n",
    "arr"
   ]
  },
  {
   "cell_type": "markdown",
   "id": "c615e480",
   "metadata": {},
   "source": [
    "条件筛选：where分别返回各维度的index，赋值的是不满足条件的"
   ]
  },
  {
   "cell_type": "code",
   "execution_count": 65,
   "id": "89023b9e",
   "metadata": {},
   "outputs": [
    {
     "data": {
      "text/plain": [
       "array([[False,  True,  True, False],\n",
       "       [False,  True, False,  True],\n",
       "       [False, False,  True,  True]])"
      ]
     },
     "execution_count": 65,
     "metadata": {},
     "output_type": "execute_result"
    }
   ],
   "source": [
    "#条件筛选，可以直接在整个array上使用条件\n",
    "arr>50"
   ]
  },
  {
   "cell_type": "code",
   "execution_count": 66,
   "id": "c82fd1a2",
   "metadata": {},
   "outputs": [
    {
     "data": {
      "text/plain": [
       "(array([0, 0, 1, 1, 2, 2], dtype=int64),\n",
       " array([1, 2, 1, 3, 2, 3], dtype=int64))"
      ]
     },
     "execution_count": 66,
     "metadata": {},
     "output_type": "execute_result"
    }
   ],
   "source": [
    "#返回满足条件的索引，因为是两个维度，所以会返回两组结果   (上下对)\n",
    "np.where(arr>50)"
   ]
  },
  {
   "cell_type": "code",
   "execution_count": 67,
   "id": "29a5ca31",
   "metadata": {},
   "outputs": [
    {
     "data": {
      "text/plain": [
       "array([[-1, 77, 65, -1],\n",
       "       [-1, 86, -1, 70],\n",
       "       [-1, -1, 53, 97]], dtype=int64)"
      ]
     },
     "execution_count": 67,
     "metadata": {},
     "output_type": "execute_result"
    }
   ],
   "source": [
    "#不满足条件的赋值，将<=50的替换为-1\n",
    "np.where(arr>50, arr, -1)"
   ]
  },
  {
   "cell_type": "markdown",
   "id": "3ee8f25c",
   "metadata": {},
   "source": [
    "提取（按条件）：返回一维向量"
   ]
  },
  {
   "cell_type": "code",
   "execution_count": 68,
   "id": "af7cecd0",
   "metadata": {},
   "outputs": [
    {
     "data": {
      "text/plain": [
       "array([77, 65, 86, 70, 53, 97], dtype=int64)"
      ]
     },
     "execution_count": 68,
     "metadata": {},
     "output_type": "execute_result"
    }
   ],
   "source": [
    "#提取指定条件的值\n",
    "np.extract(arr>50, arr)"
   ]
  },
  {
   "cell_type": "code",
   "execution_count": 69,
   "id": "90c0e980",
   "metadata": {},
   "outputs": [
    {
     "data": {
      "text/plain": [
       "array([ 9, 10, 20, 43, 44, 53, 65, 70, 77, 86, 97], dtype=int64)"
      ]
     },
     "execution_count": 69,
     "metadata": {},
     "output_type": "execute_result"
    }
   ],
   "source": [
    "#唯一值，是另一种形式的提取\n",
    "np.unique(arr)"
   ]
  },
  {
   "cell_type": "markdown",
   "id": "eb5c0f15",
   "metadata": {},
   "source": [
    "抽样（按分布）：集合要求为一维向量（一般是数据的index）"
   ]
  },
  {
   "cell_type": "code",
   "execution_count": 70,
   "id": "a8fc848a",
   "metadata": {},
   "outputs": [
    {
     "data": {
      "text/plain": [
       "array([3, 2], dtype=int64)"
      ]
     },
     "execution_count": 70,
     "metadata": {},
     "output_type": "execute_result"
    }
   ],
   "source": [
    "rng=np.random.default_rng(42)\n",
    "rng.choice(4, 2, replace=False, p=[0.1,0.2,0.3,0.4])\n",
    "#第一个参数是要抽样的集合，如果是一个整数，则表示从0到该值\n",
    "#第二个参数是样本大小\n",
    "#第三个参数表示结果是否可以重复\n",
    "#第四个参数表示出现的概率，长度和第一个参数一样\n",
    "\n",
    "#由于（0 1 2 3）中2和3的概率比较高，自然就选择了2和3"
   ]
  },
  {
   "cell_type": "code",
   "execution_count": 71,
   "id": "921bcead",
   "metadata": {},
   "outputs": [
    {
     "data": {
      "text/plain": [
       "array([9561,  586, 5396, 1311, 6939, 7667, 6801, 7293, 5478, 3934, 5656,\n",
       "       5447, 7093, 1618, 6433, 3128,  974, 5088, 2731, 4954, 4715, 2003,\n",
       "       9298, 4471, 1310,  590, 8941, 6688, 3514, 6904, 8142, 5968, 4432,\n",
       "       3277, 7227, 3427, 4818, 1945, 1607, 5877, 8807,   51, 6821, 6715,\n",
       "       1331, 4250, 7288,  846, 2577,  435])"
      ]
     },
     "execution_count": 71,
     "metadata": {},
     "output_type": "execute_result"
    }
   ],
   "source": [
    "#旧的API\n",
    "#如果是抽样语料的index，更多的方法是这样：   （抽样语料？）\n",
    "data_size=10000\n",
    "np.random.choice(data_size, 50, replace=False)"
   ]
  },
  {
   "cell_type": "markdown",
   "id": "ff066554",
   "metadata": {},
   "source": [
    "最值index（特殊值）"
   ]
  },
  {
   "cell_type": "code",
   "execution_count": 72,
   "id": "2ee93de4",
   "metadata": {},
   "outputs": [
    {
     "data": {
      "text/plain": [
       "array([[77.62164881, 44.44896554, 86.00119407, 70.03943488],\n",
       "       [10.32355744, 97.58661281, 76.3528305 , 78.82036622],\n",
       "       [13.68324963, 45.58820785, 37.7090044 , 92.7497339 ]])"
      ]
     },
     "execution_count": 72,
     "metadata": {},
     "output_type": "execute_result"
    }
   ],
   "source": [
    "rng=np.random.default_rng(42)\n",
    "arr=rng.uniform(1,100,(3,4))\n",
    "arr"
   ]
  },
  {
   "cell_type": "code",
   "execution_count": 73,
   "id": "cdc5cac9",
   "metadata": {},
   "outputs": [
    {
     "data": {
      "text/plain": [
       "5"
      ]
     },
     "execution_count": 73,
     "metadata": {},
     "output_type": "execute_result"
    }
   ],
   "source": [
    "#所有值中最大的index\n",
    "np.argmax(arr)"
   ]
  },
  {
   "cell_type": "code",
   "execution_count": 74,
   "id": "122d5bad",
   "metadata": {},
   "outputs": [
    {
     "data": {
      "text/plain": [
       "array([0, 1, 0, 2], dtype=int64)"
      ]
     },
     "execution_count": 74,
     "metadata": {},
     "output_type": "execute_result"
    }
   ],
   "source": [
    "#按列（axis=0）最大值的index\n",
    "np.argmax(arr,axis=0)"
   ]
  },
  {
   "cell_type": "code",
   "execution_count": 75,
   "id": "cdee49d9",
   "metadata": {},
   "outputs": [
    {
     "data": {
      "text/plain": [
       "array([1, 0, 0], dtype=int64)"
      ]
     },
     "execution_count": 75,
     "metadata": {},
     "output_type": "execute_result"
    }
   ],
   "source": [
    "#按行（axis=1）最小值的index\n",
    "np.argmin(arr,axis=1)"
   ]
  },
  {
   "cell_type": "code",
   "execution_count": 76,
   "id": "ddb88a77",
   "metadata": {},
   "outputs": [
    {
     "data": {
      "text/plain": [
       "array([[1, 3, 0, 2],\n",
       "       [0, 2, 3, 1],\n",
       "       [0, 2, 1, 3]], dtype=int64)"
      ]
     },
     "execution_count": 76,
     "metadata": {},
     "output_type": "execute_result"
    }
   ],
   "source": [
    "#默认按行（axis=1）排序的索引\n",
    "np.argsort(arr)"
   ]
  },
  {
   "cell_type": "code",
   "execution_count": 78,
   "id": "4e21356d",
   "metadata": {},
   "outputs": [
    {
     "data": {
      "text/plain": [
       "array([[1, 0, 2, 0],\n",
       "       [2, 2, 1, 1],\n",
       "       [0, 1, 0, 2]], dtype=int64)"
      ]
     },
     "execution_count": 78,
     "metadata": {},
     "output_type": "execute_result"
    }
   ],
   "source": [
    "#默认按列（axis=0）排序的索引\n",
    "np.argsort(arr,axis=0)"
   ]
  },
  {
   "cell_type": "markdown",
   "id": "436b7bd1",
   "metadata": {},
   "source": [
    "7、矩阵和运算"
   ]
  },
  {
   "cell_type": "markdown",
   "id": "a429e2aa",
   "metadata": {},
   "source": [
    "算数  "
   ]
  },
  {
   "cell_type": "code",
   "execution_count": 79,
   "id": "d7908e21",
   "metadata": {},
   "outputs": [
    {
     "data": {
      "text/plain": [
       "array([[ 2, 15, 13,  9],\n",
       "       [ 9, 17,  2, 14],\n",
       "       [ 4,  2, 11, 19]], dtype=int64)"
      ]
     },
     "execution_count": 79,
     "metadata": {},
     "output_type": "execute_result"
    }
   ],
   "source": [
    "rng=np.random.default_rng(42)\n",
    "arr=rng.integers(1,20,(3,4))\n",
    "arr"
   ]
  },
  {
   "cell_type": "code",
   "execution_count": 80,
   "id": "ac3aac18",
   "metadata": {},
   "outputs": [
    {
     "data": {
      "text/plain": [
       "array([[ 4, 30, 26, 18],\n",
       "       [18, 34,  4, 28],\n",
       "       [ 8,  4, 22, 38]], dtype=int64)"
      ]
     },
     "execution_count": 80,
     "metadata": {},
     "output_type": "execute_result"
    }
   ],
   "source": [
    "#+-*/四则运算，就跟两个数字计算一样\n",
    "arr * 2"
   ]
  },
  {
   "cell_type": "code",
   "execution_count": 81,
   "id": "a4cd5c06",
   "metadata": {},
   "outputs": [
    {
     "data": {
      "text/plain": [
       "array([[  4, 225, 169,  81],\n",
       "       [ 81, 289,   4, 196],\n",
       "       [ 16,   4, 121, 361]], dtype=int64)"
      ]
     },
     "execution_count": 81,
     "metadata": {},
     "output_type": "execute_result"
    }
   ],
   "source": [
    "#平方\n",
    "arr ** 2"
   ]
  },
  {
   "cell_type": "code",
   "execution_count": 82,
   "id": "9361a28b",
   "metadata": {},
   "outputs": [
    {
     "data": {
      "text/plain": [
       "array([[1.41421356, 3.87298335, 3.60555128, 3.        ],\n",
       "       [3.        , 4.12310563, 1.41421356, 3.74165739],\n",
       "       [2.        , 1.41421356, 3.31662479, 4.35889894]])"
      ]
     },
     "execution_count": 82,
     "metadata": {},
     "output_type": "execute_result"
    }
   ],
   "source": [
    "#开方\n",
    "np.sqrt(arr)"
   ]
  },
  {
   "cell_type": "code",
   "execution_count": 84,
   "id": "8aacf050",
   "metadata": {},
   "outputs": [
    {
     "data": {
      "text/plain": [
       "array([[1.41, 3.87, 3.61, 3.  ],\n",
       "       [3.  , 4.12, 1.41, 3.74],\n",
       "       [2.  , 1.41, 3.32, 4.36]])"
      ]
     },
     "execution_count": 84,
     "metadata": {},
     "output_type": "execute_result"
    }
   ],
   "source": [
    "#四舍五入 \n",
    "np.round(np.sqrt(arr),2)"
   ]
  },
  {
   "cell_type": "code",
   "execution_count": 85,
   "id": "00adb793",
   "metadata": {},
   "outputs": [
    {
     "data": {
      "text/plain": [
       "array([[1., 3., 3., 3.],\n",
       "       [3., 4., 1., 3.],\n",
       "       [2., 1., 3., 4.]])"
      ]
     },
     "execution_count": 85,
     "metadata": {},
     "output_type": "execute_result"
    }
   ],
   "source": [
    "#floor “地板”舍掉小数位\n",
    "np.floor(np.sqrt(arr))"
   ]
  },
  {
   "cell_type": "code",
   "execution_count": 88,
   "id": "2f55b66f",
   "metadata": {},
   "outputs": [
    {
     "data": {
      "text/plain": [
       "array([[2., 4., 4., 3.],\n",
       "       [3., 5., 2., 4.],\n",
       "       [2., 2., 4., 5.]])"
      ]
     },
     "execution_count": 88,
     "metadata": {},
     "output_type": "execute_result"
    }
   ],
   "source": [
    "#ceil “天花板”有小数位的+1 \n",
    "np.ceil(np.sqrt(arr))"
   ]
  },
  {
   "cell_type": "code",
   "execution_count": 86,
   "id": "cc5befa8",
   "metadata": {},
   "outputs": [
    {
     "data": {
      "text/plain": [
       "array([[ 2, 15, 13,  9],\n",
       "       [ 9, 17,  2, 14],\n",
       "       [ 4,  2, 11, 19]], dtype=int64)"
      ]
     },
     "execution_count": 86,
     "metadata": {},
     "output_type": "execute_result"
    }
   ],
   "source": [
    "arr"
   ]
  },
  {
   "cell_type": "code",
   "execution_count": 87,
   "id": "9b51e7e8",
   "metadata": {},
   "outputs": [
    {
     "data": {
      "text/plain": [
       "array([[2, 0, 1, 0],\n",
       "       [0, 2, 2, 2],\n",
       "       [1, 2, 2, 1]], dtype=int64)"
      ]
     },
     "execution_count": 87,
     "metadata": {},
     "output_type": "execute_result"
    }
   ],
   "source": [
    "# mod <=> x % 3   \n",
    "np.mod(arr, 3)"
   ]
  },
  {
   "cell_type": "code",
   "execution_count": 89,
   "id": "b19f0c32",
   "metadata": {},
   "outputs": [
    {
     "data": {
      "text/plain": [
       "array([[-1,  5,  5,  1],\n",
       "       [ 1,  5, -1,  5],\n",
       "       [ 0, -1,  5,  5]], dtype=int64)"
      ]
     },
     "execution_count": 89,
     "metadata": {},
     "output_type": "execute_result"
    }
   ],
   "source": [
    "#mod运算可以指定多个被除数   对应除\n",
    "np.mod(arr, arr-5)"
   ]
  },
  {
   "cell_type": "markdown",
   "id": "78677cd6",
   "metadata": {},
   "source": [
    "广播：较小的数组会在较大的数组上进行广播，以便适配对方的形状（一维对应，一维为1）"
   ]
  },
  {
   "cell_type": "code",
   "execution_count": 90,
   "id": "cdb017c0",
   "metadata": {},
   "outputs": [
    {
     "data": {
      "text/plain": [
       "array([[ 9, 77, 65, 44],\n",
       "       [43, 86,  9, 70],\n",
       "       [20, 10, 53, 97]], dtype=int64)"
      ]
     },
     "execution_count": 90,
     "metadata": {},
     "output_type": "execute_result"
    }
   ],
   "source": [
    "rng=np.random.default_rng(42)\n",
    "a=rng.integers(1,100,(3,4))\n",
    "a"
   ]
  },
  {
   "cell_type": "code",
   "execution_count": 91,
   "id": "c94e38c1",
   "metadata": {},
   "outputs": [
    {
     "data": {
      "text/plain": [
       "array([[ 10,  79,  68,  48],\n",
       "       [ 44,  88,  12,  74],\n",
       "       [ 21,  12,  56, 101]], dtype=int64)"
      ]
     },
     "execution_count": 91,
     "metadata": {},
     "output_type": "execute_result"
    }
   ],
   "source": [
    "#广播，后面的被当作 1 行 4 列\n",
    "a + [1,2,3,4]"
   ]
  },
  {
   "cell_type": "code",
   "execution_count": 92,
   "id": "b95c290d",
   "metadata": {},
   "outputs": [
    {
     "data": {
      "text/plain": [
       "array([[ 10,  78,  66,  45],\n",
       "       [ 45,  88,  11,  72],\n",
       "       [ 23,  13,  56, 100]], dtype=int64)"
      ]
     },
     "execution_count": 92,
     "metadata": {},
     "output_type": "execute_result"
    }
   ],
   "source": [
    "#或者这样广播，后面的被当作 3 行 1 列\n",
    "a + [[1],[2],[3]]"
   ]
  },
  {
   "cell_type": "code",
   "execution_count": 94,
   "id": "17c165e4",
   "metadata": {},
   "outputs": [
    {
     "data": {
      "text/plain": [
       "array([[0, 1, 2, 0],\n",
       "       [0, 0, 0, 2],\n",
       "       [0, 0, 2, 1]], dtype=int64)"
      ]
     },
     "execution_count": 94,
     "metadata": {},
     "output_type": "execute_result"
    }
   ],
   "source": [
    "#之前的取余也是可以的\n",
    "np.mod(a,[1,2,3,4])"
   ]
  },
  {
   "cell_type": "markdown",
   "id": "40cae013",
   "metadata": {},
   "source": [
    "矩阵"
   ]
  },
  {
   "cell_type": "code",
   "execution_count": 96,
   "id": "6534ecc9",
   "metadata": {},
   "outputs": [
    {
     "data": {
      "text/plain": [
       "(array([[1, 7],\n",
       "        [6, 4],\n",
       "        [4, 8]], dtype=int64),\n",
       " array([[1, 7, 2, 1],\n",
       "        [5, 9, 7, 7]], dtype=int64),\n",
       " array([[7, 8, 5],\n",
       "        [2, 8, 5],\n",
       "        [5, 4, 2]], dtype=int64))"
      ]
     },
     "execution_count": 96,
     "metadata": {},
     "output_type": "execute_result"
    }
   ],
   "source": [
    "rng=np.random.default_rng(42)\n",
    "a=rng.integers(1,10,(3,2))\n",
    "b=rng.integers(1,10,(2,4))\n",
    "c=rng.integers(1,10,(3,3))\n",
    "a,b,c"
   ]
  },
  {
   "cell_type": "code",
   "execution_count": 97,
   "id": "0626397f",
   "metadata": {},
   "outputs": [
    {
     "data": {
      "text/plain": [
       "array([[ 36,  70,  51,  50],\n",
       "       [ 26,  78,  40,  34],\n",
       "       [ 44, 100,  64,  60]], dtype=int64)"
      ]
     },
     "execution_count": 97,
     "metadata": {},
     "output_type": "execute_result"
    }
   ],
   "source": [
    "# array 乘法\n",
    "np.dot(a,b) #同a.dot(b)"
   ]
  },
  {
   "cell_type": "code",
   "execution_count": 98,
   "id": "50c41705",
   "metadata": {},
   "outputs": [
    {
     "data": {
      "text/plain": [
       "array([[ 36,  70,  51,  50],\n",
       "       [ 26,  78,  40,  34],\n",
       "       [ 44, 100,  64,  60]], dtype=int64)"
      ]
     },
     "execution_count": 98,
     "metadata": {},
     "output_type": "execute_result"
    }
   ],
   "source": [
    "#矩阵乘法\n",
    "#与 dot 的主要区别是：如果维度 >2，dot 只考虑最后的维度，而 matmul则考虑所有维度\n",
    "np.matmul(a,b)   #同a @ b"
   ]
  },
  {
   "cell_type": "code",
   "execution_count": 99,
   "id": "bd05bd39",
   "metadata": {},
   "outputs": [
    {
     "data": {
      "text/plain": [
       "(5, 2, 4, 6)"
      ]
     },
     "execution_count": 99,
     "metadata": {},
     "output_type": "execute_result"
    }
   ],
   "source": [
    "#高纬度下dot和matmul的区别\n",
    "#ijk,lkm -> ijlm\n",
    "np.dot(np.ones((5,2,3)),np.ones((4,3,6))).shape"
   ]
  },
  {
   "cell_type": "code",
   "execution_count": 100,
   "id": "1392f60e",
   "metadata": {},
   "outputs": [
    {
     "ename": "ValueError",
     "evalue": "operands could not be broadcast together with remapped shapes [original->remapped]: (5,2,3)->(5,newaxis,newaxis) (4,3,6)->(4,newaxis,newaxis) and requested shape (2,6)",
     "output_type": "error",
     "traceback": [
      "\u001b[1;31m---------------------------------------------------------------------------\u001b[0m",
      "\u001b[1;31mValueError\u001b[0m                                Traceback (most recent call last)",
      "\u001b[1;32m<ipython-input-100-ba2c8d948b0d>\u001b[0m in \u001b[0;36m<module>\u001b[1;34m\u001b[0m\n\u001b[0;32m      1\u001b[0m \u001b[1;31m# ijk，ikl -> ijl\u001b[0m\u001b[1;33m\u001b[0m\u001b[1;33m\u001b[0m\u001b[1;33m\u001b[0m\u001b[0m\n\u001b[1;32m----> 2\u001b[1;33m \u001b[0mnp\u001b[0m\u001b[1;33m.\u001b[0m\u001b[0mmatmul\u001b[0m\u001b[1;33m(\u001b[0m\u001b[0mnp\u001b[0m\u001b[1;33m.\u001b[0m\u001b[0mones\u001b[0m\u001b[1;33m(\u001b[0m\u001b[1;33m(\u001b[0m\u001b[1;36m5\u001b[0m\u001b[1;33m,\u001b[0m\u001b[1;36m2\u001b[0m\u001b[1;33m,\u001b[0m\u001b[1;36m3\u001b[0m\u001b[1;33m)\u001b[0m\u001b[1;33m)\u001b[0m\u001b[1;33m,\u001b[0m\u001b[0mnp\u001b[0m\u001b[1;33m.\u001b[0m\u001b[0mones\u001b[0m\u001b[1;33m(\u001b[0m\u001b[1;33m(\u001b[0m\u001b[1;36m4\u001b[0m\u001b[1;33m,\u001b[0m\u001b[1;36m3\u001b[0m\u001b[1;33m,\u001b[0m\u001b[1;36m6\u001b[0m\u001b[1;33m)\u001b[0m\u001b[1;33m)\u001b[0m\u001b[1;33m)\u001b[0m\u001b[1;33m.\u001b[0m\u001b[0mshape\u001b[0m\u001b[1;33m\u001b[0m\u001b[1;33m\u001b[0m\u001b[0m\n\u001b[0m",
      "\u001b[1;31mValueError\u001b[0m: operands could not be broadcast together with remapped shapes [original->remapped]: (5,2,3)->(5,newaxis,newaxis) (4,3,6)->(4,newaxis,newaxis) and requested shape (2,6)"
     ]
    }
   ],
   "source": [
    "# ijk，ikl -> ijl\n",
    "np.matmul(np.ones((5,2,3)),np.ones((4,3,6))).shape"
   ]
  },
  {
   "cell_type": "code",
   "execution_count": 101,
   "id": "6d676391",
   "metadata": {},
   "outputs": [
    {
     "data": {
      "text/plain": [
       "(4, 2, 6)"
      ]
     },
     "execution_count": 101,
     "metadata": {},
     "output_type": "execute_result"
    }
   ],
   "source": [
    "# ijk，ikl -> ijl\n",
    "np.matmul(np.ones((4,2,3)),np.ones((4,3,6))).shape"
   ]
  },
  {
   "cell_type": "code",
   "execution_count": 102,
   "id": "4e09261e",
   "metadata": {},
   "outputs": [
    {
     "data": {
      "text/plain": [
       "182"
      ]
     },
     "execution_count": 102,
     "metadata": {},
     "output_type": "execute_result"
    }
   ],
   "source": [
    "#点积\n",
    "np.vdot(a,a)"
   ]
  },
  {
   "cell_type": "code",
   "execution_count": 103,
   "id": "8854d8ee",
   "metadata": {},
   "outputs": [
    {
     "data": {
      "text/plain": [
       "182"
      ]
     },
     "execution_count": 103,
     "metadata": {},
     "output_type": "execute_result"
    }
   ],
   "source": [
    "#就是点积\n",
    "np.sum(a*a)"
   ]
  },
  {
   "cell_type": "code",
   "execution_count": 104,
   "id": "f6d81341",
   "metadata": {},
   "outputs": [
    {
     "data": {
      "text/plain": [
       "array([[50, 34, 60],\n",
       "       [34, 52, 56],\n",
       "       [60, 56, 80]], dtype=int64)"
      ]
     },
     "execution_count": 104,
     "metadata": {},
     "output_type": "execute_result"
    }
   ],
   "source": [
    "#内积\n",
    "np.inner(a,a)"
   ]
  },
  {
   "cell_type": "code",
   "execution_count": 106,
   "id": "3e016f74",
   "metadata": {},
   "outputs": [],
   "source": [
    "#就是内积\n",
    "#a.dot(a,T)"
   ]
  },
  {
   "cell_type": "code",
   "execution_count": 107,
   "id": "e790cc0b",
   "metadata": {},
   "outputs": [
    {
     "data": {
      "text/plain": [
       "-20.000000000000007"
      ]
     },
     "execution_count": 107,
     "metadata": {},
     "output_type": "execute_result"
    }
   ],
   "source": [
    "#行列式\n",
    "np.linalg.det(c)"
   ]
  },
  {
   "cell_type": "code",
   "execution_count": 109,
   "id": "a5ecca2d",
   "metadata": {},
   "outputs": [
    {
     "data": {
      "text/plain": [
       "array([[ 2.00000000e-01, -2.00000000e-01,  2.53765263e-16],\n",
       "       [-1.05000000e+00,  5.50000000e-01,  1.25000000e+00],\n",
       "       [ 1.60000000e+00, -6.00000000e-01, -2.00000000e+00]])"
      ]
     },
     "execution_count": 109,
     "metadata": {},
     "output_type": "execute_result"
    }
   ],
   "source": [
    "#逆矩阵（方阵）\n",
    "np.linalg.inv(c)"
   ]
  },
  {
   "cell_type": "code",
   "execution_count": 110,
   "id": "0815b366",
   "metadata": {},
   "outputs": [],
   "source": [
    "#查看用法\n",
    "np.argmax?"
   ]
  },
  {
   "cell_type": "markdown",
   "id": "af5149e6",
   "metadata": {},
   "source": [
    "——>总结"
   ]
  },
  {
   "cell_type": "markdown",
   "id": "718b2001",
   "metadata": {},
   "source": [
    "——>练习"
   ]
  }
 ],
 "metadata": {
  "kernelspec": {
   "display_name": "Python 3",
   "language": "python",
   "name": "python3"
  },
  "language_info": {
   "codemirror_mode": {
    "name": "ipython",
    "version": 3
   },
   "file_extension": ".py",
   "mimetype": "text/x-python",
   "name": "python",
   "nbconvert_exporter": "python",
   "pygments_lexer": "ipython3",
   "version": "3.6.13"
  }
 },
 "nbformat": 4,
 "nbformat_minor": 5
}
