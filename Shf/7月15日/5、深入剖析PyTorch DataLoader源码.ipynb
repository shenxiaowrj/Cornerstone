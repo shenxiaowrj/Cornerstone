{
 "cells": [
  {
   "cell_type": "markdown",
   "id": "b6d75b23",
   "metadata": {},
   "source": [
    "DataLoader：单个样本组织成一个批次，再用于神经网络的训练"
   ]
  },
  {
   "cell_type": "markdown",
   "id": "bd89b0a9",
   "metadata": {},
   "source": [
    "1、_init_函数：构建Sampler；构建BatchSampler；构建Collate"
   ]
  },
  {
   "cell_type": "markdown",
   "id": "30b079f9",
   "metadata": {},
   "source": [
    "sampler与shuffle是互斥的，不能同时设置"
   ]
  },
  {
   "cell_type": "markdown",
   "id": "3167aea8",
   "metadata": {},
   "source": [
    "sample以某一种顺序从Dataset中取元素(shuffle？RandomSampler打乱取：SequentialSample有序取)"
   ]
  },
  {
   "cell_type": "markdown",
   "id": "d76cea20",
   "metadata": {},
   "source": [
    "BatchSampler把从Dataset中以sampler方式取出来的元素拼起来，拼成一个batch返回，返回index"
   ]
  },
  {
   "cell_type": "markdown",
   "id": "b7a987d4",
   "metadata": {},
   "source": [
    "not drop last：最后一个不扔掉"
   ]
  },
  {
   "cell_type": "markdown",
   "id": "efff760a",
   "metadata": {},
   "source": [
    "collate_fn：对取得的样本进行后处理，以batch作为输入，以batch作为输出（default_collate函数做数据类型的转换）"
   ]
  },
  {
   "cell_type": "markdown",
   "id": "19ce4c01",
   "metadata": {},
   "source": [
    "2、__iter__函数"
   ]
  },
  {
   "cell_type": "markdown",
   "id": "323abff0",
   "metadata": {},
   "source": [
    "_get_iterator：得到DataLoaderIter类的一个对象"
   ]
  }
 ],
 "metadata": {
  "kernelspec": {
   "display_name": "Python 3",
   "language": "python",
   "name": "python3"
  },
  "language_info": {
   "codemirror_mode": {
    "name": "ipython",
    "version": 3
   },
   "file_extension": ".py",
   "mimetype": "text/x-python",
   "name": "python",
   "nbconvert_exporter": "python",
   "pygments_lexer": "ipython3",
   "version": "3.6.13"
  }
 },
 "nbformat": 4,
 "nbformat_minor": 5
}
