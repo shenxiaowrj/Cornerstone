{
 "cells": [
  {
   "cell_type": "markdown",
   "id": "7f420321",
   "metadata": {},
   "source": [
    "*这节没太看懂，过后再看看视频"
   ]
  },
  {
   "cell_type": "markdown",
   "id": "2c9810ca",
   "metadata": {},
   "source": [
    "1、chunk（dim默认0横1竖）"
   ]
  },
  {
   "cell_type": "markdown",
   "id": "052c3511",
   "metadata": {},
   "source": [
    "2、gather"
   ]
  },
  {
   "cell_type": "markdown",
   "id": "25e525da",
   "metadata": {},
   "source": [
    "3、reshape"
   ]
  },
  {
   "cell_type": "markdown",
   "id": "7add4c49",
   "metadata": {},
   "source": [
    "4、scatter"
   ]
  },
  {
   "cell_type": "markdown",
   "id": "adc80e42",
   "metadata": {},
   "source": [
    "5、split"
   ]
  },
  {
   "cell_type": "markdown",
   "id": "6dd8c45f",
   "metadata": {},
   "source": [
    "6、squeeze 把大小为1的维度移除"
   ]
  },
  {
   "cell_type": "markdown",
   "id": "ef2c2c26",
   "metadata": {},
   "source": [
    "7、stack"
   ]
  }
 ],
 "metadata": {
  "kernelspec": {
   "display_name": "Python 3",
   "language": "python",
   "name": "python3"
  },
  "language_info": {
   "codemirror_mode": {
    "name": "ipython",
    "version": 3
   },
   "file_extension": ".py",
   "mimetype": "text/x-python",
   "name": "python",
   "nbconvert_exporter": "python",
   "pygments_lexer": "ipython3",
   "version": "3.6.13"
  }
 },
 "nbformat": 4,
 "nbformat_minor": 5
}
