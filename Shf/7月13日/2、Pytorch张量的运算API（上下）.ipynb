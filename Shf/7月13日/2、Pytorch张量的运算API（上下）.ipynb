{
 "cells": [
  {
   "cell_type": "markdown",
   "id": "bfa16c2c",
   "metadata": {},
   "source": [
    "上：（部分API不太清晰，多看下视频笔记和例子）"
   ]
  },
  {
   "cell_type": "markdown",
   "id": "2e8d117e",
   "metadata": {},
   "source": [
    "1、chunk（dim默认0横1竖）"
   ]
  },
  {
   "cell_type": "markdown",
   "id": "30af26d2",
   "metadata": {},
   "source": [
    "2、gather、reshape、scatter、split、squeeze 把大小为1的维度移除、stack"
   ]
  },
  {
   "cell_type": "markdown",
   "id": "729eff26",
   "metadata": {},
   "source": [
    "下："
   ]
  },
  {
   "cell_type": "markdown",
   "id": "3bfc7109",
   "metadata": {},
   "source": [
    "1、Pytorch的数据类型"
   ]
  },
  {
   "cell_type": "markdown",
   "id": "04dc3ff2",
   "metadata": {},
   "source": [
    "2、take，把任意张量设置成一维张量后取值"
   ]
  },
  {
   "cell_type": "markdown",
   "id": "d5d0c825",
   "metadata": {},
   "source": [
    "3、tile，复制"
   ]
  },
  {
   "cell_type": "code",
   "execution_count": 2,
   "id": "91598616",
   "metadata": {},
   "outputs": [
    {
     "data": {
      "text/plain": [
       "tensor([[9.4096e-01, 9.4374e-02, 7.7455e-01],\n",
       "        [1.1728e-01, 7.8546e-01, 8.6875e-01],\n",
       "        [3.3717e-01, 9.9629e-01, 3.9315e-04],\n",
       "        [9.9619e-01, 4.4177e-01, 9.7885e-01],\n",
       "        [9.4096e-01, 9.4374e-02, 7.7455e-01],\n",
       "        [1.1728e-01, 7.8546e-01, 8.6875e-01],\n",
       "        [3.3717e-01, 9.9629e-01, 3.9315e-04],\n",
       "        [9.9619e-01, 4.4177e-01, 9.7885e-01]])"
      ]
     },
     "execution_count": 2,
     "metadata": {},
     "output_type": "execute_result"
    }
   ],
   "source": [
    "import torch\n",
    "a=torch.rand((4,3))\n",
    "a_tile=torch.tile(a,[2,1])#对行进行复制\n",
    "a_tile"
   ]
  },
  {
   "cell_type": "code",
   "execution_count": 3,
   "id": "819a2ed7",
   "metadata": {},
   "outputs": [
    {
     "data": {
      "text/plain": [
       "tensor([[0.6243, 0.0889, 0.5484, 0.6243, 0.0889, 0.5484, 0.6243, 0.0889, 0.5484],\n",
       "        [0.2460, 0.8037, 0.9424, 0.2460, 0.8037, 0.9424, 0.2460, 0.8037, 0.9424],\n",
       "        [0.1976, 0.5052, 0.4654, 0.1976, 0.5052, 0.4654, 0.1976, 0.5052, 0.4654],\n",
       "        [0.0278, 0.5154, 0.0727, 0.0278, 0.5154, 0.0727, 0.0278, 0.5154, 0.0727]])"
      ]
     },
     "execution_count": 3,
     "metadata": {},
     "output_type": "execute_result"
    }
   ],
   "source": [
    "import torch\n",
    "a=torch.rand((4,3))\n",
    "a_tile=torch.tile(a,[1,3])#对列进行复制\n",
    "a_tile"
   ]
  },
  {
   "cell_type": "markdown",
   "id": "5229b1ed",
   "metadata": {},
   "source": [
    "4、transpose，转置"
   ]
  },
  {
   "cell_type": "code",
   "execution_count": 6,
   "id": "f20e587d",
   "metadata": {},
   "outputs": [
    {
     "data": {
      "text/plain": [
       "tensor([[-0.3589, -0.1570,  0.6128],\n",
       "        [ 0.3115, -0.7713, -0.3530]])"
      ]
     },
     "execution_count": 6,
     "metadata": {},
     "output_type": "execute_result"
    }
   ],
   "source": [
    "x = torch.randn(2, 3)\n",
    "x"
   ]
  },
  {
   "cell_type": "code",
   "execution_count": 7,
   "id": "e5ea56be",
   "metadata": {},
   "outputs": [
    {
     "data": {
      "text/plain": [
       "tensor([[-0.3589,  0.3115],\n",
       "        [-0.1570, -0.7713],\n",
       "        [ 0.6128, -0.3530]])"
      ]
     },
     "execution_count": 7,
     "metadata": {},
     "output_type": "execute_result"
    }
   ],
   "source": [
    "torch.transpose(x, 0, 1)"
   ]
  },
  {
   "cell_type": "markdown",
   "id": "2cf7e385",
   "metadata": {},
   "source": [
    "5、unbind，移除张量维度"
   ]
  },
  {
   "cell_type": "code",
   "execution_count": 12,
   "id": "6d6ab1c4",
   "metadata": {},
   "outputs": [
    {
     "data": {
      "text/plain": [
       "(tensor([1, 4, 7]), tensor([2, 5, 8]), tensor([3, 6, 9]))"
      ]
     },
     "execution_count": 12,
     "metadata": {},
     "output_type": "execute_result"
    }
   ],
   "source": [
    "torch.unbind(torch.tensor([[1, 2, 3],\n",
    "                           [4, 5, 6],\n",
    "                           [7, 8, 9]]),dim=1)"
   ]
  },
  {
   "cell_type": "markdown",
   "id": "ab26dab5",
   "metadata": {},
   "source": [
    "6、unsqueeze，在指定的维度上扩充一维"
   ]
  },
  {
   "cell_type": "code",
   "execution_count": 13,
   "id": "62e3a6fb",
   "metadata": {},
   "outputs": [
    {
     "data": {
      "text/plain": [
       "torch.Size([4, 3])"
      ]
     },
     "execution_count": 13,
     "metadata": {},
     "output_type": "execute_result"
    }
   ],
   "source": [
    "a=torch.rand((4,3))\n",
    "a.shape"
   ]
  },
  {
   "cell_type": "code",
   "execution_count": 14,
   "id": "fe604f05",
   "metadata": {},
   "outputs": [
    {
     "data": {
      "text/plain": [
       "torch.Size([1, 4, 3])"
      ]
     },
     "execution_count": 14,
     "metadata": {},
     "output_type": "execute_result"
    }
   ],
   "source": [
    "torch.unsqueeze(a,dim=0).shape"
   ]
  },
  {
   "cell_type": "code",
   "execution_count": 15,
   "id": "a9d94b9f",
   "metadata": {},
   "outputs": [
    {
     "data": {
      "text/plain": [
       "torch.Size([4, 1, 3])"
      ]
     },
     "execution_count": 15,
     "metadata": {},
     "output_type": "execute_result"
    }
   ],
   "source": [
    "torch.unsqueeze(a,dim=1).shape"
   ]
  },
  {
   "cell_type": "markdown",
   "id": "ccb8e97e",
   "metadata": {},
   "source": [
    "7、where，判断语句"
   ]
  },
  {
   "cell_type": "code",
   "execution_count": 16,
   "id": "a2f06b83",
   "metadata": {},
   "outputs": [
    {
     "data": {
      "text/plain": [
       "tensor([[1.6773, 0.0831],\n",
       "        [0.9279, 0.5246],\n",
       "        [1.0000, 2.8272]])"
      ]
     },
     "execution_count": 16,
     "metadata": {},
     "output_type": "execute_result"
    }
   ],
   "source": [
    "x = torch.randn(3, 2)\n",
    "y = torch.ones(3, 2)\n",
    "torch.where(x > 0, x, y)"
   ]
  },
  {
   "cell_type": "markdown",
   "id": "4f828a39",
   "metadata": {},
   "source": [
    "8、torch.manual_seed(seed)，为生成随机数设置一个种子"
   ]
  },
  {
   "cell_type": "markdown",
   "id": "be12a500",
   "metadata": {},
   "source": [
    "9、随机函数\n",
    "  bernoulli，伯努利采样"
   ]
  },
  {
   "cell_type": "code",
   "execution_count": 17,
   "id": "a3bb6cd2",
   "metadata": {},
   "outputs": [
    {
     "data": {
      "text/plain": [
       "tensor([[0.3204, 0.4158, 0.5688],\n",
       "        [0.4006, 0.1958, 0.7799],\n",
       "        [0.2802, 0.0779, 0.7856]])"
      ]
     },
     "execution_count": 17,
     "metadata": {},
     "output_type": "execute_result"
    }
   ],
   "source": [
    "a = torch.empty(3, 3).uniform_(0, 1)  # generate a uniform random matrix with range [0, 1]\n",
    "a"
   ]
  },
  {
   "cell_type": "code",
   "execution_count": 18,
   "id": "3f4ac237",
   "metadata": {},
   "outputs": [
    {
     "data": {
      "text/plain": [
       "tensor([[0., 1., 1.],\n",
       "        [0., 0., 1.],\n",
       "        [0., 0., 1.]])"
      ]
     },
     "execution_count": 18,
     "metadata": {},
     "output_type": "execute_result"
    }
   ],
   "source": [
    "torch.bernoulli(a) #表概率，只返回0和1"
   ]
  },
  {
   "cell_type": "markdown",
   "id": "d05adc9d",
   "metadata": {},
   "source": [
    "10、normal，高斯分布"
   ]
  },
  {
   "cell_type": "markdown",
   "id": "6f56b704",
   "metadata": {},
   "source": [
    "11、rand，在[0,1)中采样；"
   ]
  },
  {
   "cell_type": "markdown",
   "id": "30b8b748",
   "metadata": {},
   "source": [
    "  randint，随机生成整数，需传入上界和下界以及size；"
   ]
  },
  {
   "cell_type": "markdown",
   "id": "51d3559d",
   "metadata": {},
   "source": [
    "  randn，基于均值为0，标准差为1的正态分布中得到随机数；"
   ]
  },
  {
   "cell_type": "markdown",
   "id": "b1aca61f",
   "metadata": {},
   "source": [
    "  randperm，得到一个随机组合。"
   ]
  },
  {
   "cell_type": "code",
   "execution_count": 20,
   "id": "b4080fa3",
   "metadata": {},
   "outputs": [
    {
     "data": {
      "text/plain": [
       "tensor([3, 0, 2, 1])"
      ]
     },
     "execution_count": 20,
     "metadata": {},
     "output_type": "execute_result"
    }
   ],
   "source": [
    "torch.randperm(4) #对0、1、2、3进行随机组合，可用于构建数据集"
   ]
  }
 ],
 "metadata": {
  "kernelspec": {
   "display_name": "Python 3",
   "language": "python",
   "name": "python3"
  },
  "language_info": {
   "codemirror_mode": {
    "name": "ipython",
    "version": 3
   },
   "file_extension": ".py",
   "mimetype": "text/x-python",
   "name": "python",
   "nbconvert_exporter": "python",
   "pygments_lexer": "ipython3",
   "version": "3.6.13"
  }
 },
 "nbformat": 4,
 "nbformat_minor": 5
}
