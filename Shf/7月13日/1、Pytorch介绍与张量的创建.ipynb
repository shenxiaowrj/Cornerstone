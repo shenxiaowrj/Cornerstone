{
 "cells": [
  {
   "cell_type": "markdown",
   "id": "bc9d4df1",
   "metadata": {},
   "source": [
    "1、tensor：张量，多维数组"
   ]
  },
  {
   "cell_type": "code",
   "execution_count": 17,
   "id": "8c6f4d8e",
   "metadata": {},
   "outputs": [
    {
     "data": {
      "text/plain": [
       "tensor([[1, 2],\n",
       "        [3, 4]])"
      ]
     },
     "execution_count": 17,
     "metadata": {},
     "output_type": "execute_result"
    }
   ],
   "source": [
    "import torch\n",
    "data=[[1,2],[3,4]]\n",
    "x_data=torch.tensor(data)\n",
    "x_data"
   ]
  },
  {
   "cell_type": "code",
   "execution_count": 18,
   "id": "8cdbe0d0",
   "metadata": {},
   "outputs": [
    {
     "data": {
      "text/plain": [
       "tensor([[1, 2],\n",
       "        [3, 4]], dtype=torch.int32)"
      ]
     },
     "execution_count": 18,
     "metadata": {},
     "output_type": "execute_result"
    }
   ],
   "source": [
    "import numpy as np\n",
    "data=[[1,2],[3,4]]\n",
    "np_array=np.array(data)\n",
    "x_np=torch.from_numpy(np_array)\n",
    "x_np"
   ]
  },
  {
   "cell_type": "markdown",
   "id": "2e010706",
   "metadata": {},
   "source": [
    "2、100种张量的操作，\n",
    "  网站：pytorch.org/docs/stable/torch.html\n",
    "  \n",
    " （is_tensor判断是否为张量、is_complex判断当前数据是否为复数类型、numel返回张量中所有元素的数目...arange遍历,range遍历+1、eye、full、\n",
    "  cat......）"
   ]
  }
 ],
 "metadata": {
  "kernelspec": {
   "display_name": "Python 3",
   "language": "python",
   "name": "python3"
  },
  "language_info": {
   "codemirror_mode": {
    "name": "ipython",
    "version": 3
   },
   "file_extension": ".py",
   "mimetype": "text/x-python",
   "name": "python",
   "nbconvert_exporter": "python",
   "pygments_lexer": "ipython3",
   "version": "3.6.13"
  }
 },
 "nbformat": 4,
 "nbformat_minor": 5
}
