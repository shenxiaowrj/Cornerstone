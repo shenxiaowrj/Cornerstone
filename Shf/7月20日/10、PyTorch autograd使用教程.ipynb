{
 "cells": [
  {
   "cell_type": "markdown",
   "id": "3ae470ae",
   "metadata": {},
   "source": [
    "1、torch.autograd，自动微分，支持对任意计算图的自动计算"
   ]
  },
  {
   "cell_type": "markdown",
   "id": "e265aa63",
   "metadata": {},
   "source": [
    "后向传播，基于loss函数对每个参数的梯度进行更新"
   ]
  },
  {
   "cell_type": "code",
   "execution_count": 1,
   "id": "b4fe97ef",
   "metadata": {},
   "outputs": [],
   "source": [
    "#定义一个简单的一层神经网络\n",
    "import torch\n",
    "\n",
    "x=torch.ones(5) # input tensor\n",
    "y=torch.zeros(3) # expected output 期望输出\n",
    "w=torch.randn(5,3,requires_grad=True)\n",
    "b=torch.randn(3,requires_grad=True)\n",
    "z=torch.matmul(x,w)+b \n",
    "loss=torch.nn.functional.binary_cross_entropy_with_logits(z,y)"
   ]
  },
  {
   "cell_type": "markdown",
   "id": "526c0af4",
   "metadata": {},
   "source": [
    "不断调节参数，使得预测值和真实值越接近越好"
   ]
  },
  {
   "cell_type": "markdown",
   "id": "dc210f54",
   "metadata": {},
   "source": [
    "调节参数一般用梯度后向传播算法"
   ]
  },
  {
   "cell_type": "code",
   "execution_count": 2,
   "id": "eded5b48",
   "metadata": {},
   "outputs": [
    {
     "name": "stdout",
     "output_type": "stream",
     "text": [
      "Gradient function for z=<AddBackward0 object at 0x00000272E2F297F0>\n",
      "Gradient function for loss=<BinaryCrossEntropyWithLogitsBackward0 object at 0x00000272E2F290B8>\n"
     ]
    }
   ],
   "source": [
    "print(f\"Gradient function for z={z.grad_fn}\")\n",
    "print(f\"Gradient function for loss={loss.grad_fn}\") #二分类交叉熵"
   ]
  },
  {
   "cell_type": "markdown",
   "id": "0c93ae34",
   "metadata": {},
   "source": [
    "2、算出每个参数的梯度"
   ]
  },
  {
   "cell_type": "code",
   "execution_count": 3,
   "id": "53e86d98",
   "metadata": {},
   "outputs": [
    {
     "name": "stdout",
     "output_type": "stream",
     "text": [
      "tensor([[0.1151, 0.3126, 0.0219],\n",
      "        [0.1151, 0.3126, 0.0219],\n",
      "        [0.1151, 0.3126, 0.0219],\n",
      "        [0.1151, 0.3126, 0.0219],\n",
      "        [0.1151, 0.3126, 0.0219]])\n",
      "tensor([0.1151, 0.3126, 0.0219])\n"
     ]
    }
   ],
   "source": [
    "# 根节点loss对所有的父节点和祖辈节点进行梯度的运算\n",
    "# loss必须是标量才可以这样调用\n",
    "loss.backward() #加入retain_graph=True可以保留图\n",
    "print(w.grad)   #loss关于w的梯度\n",
    "print(b.grad)   #loss关于b的梯度"
   ]
  },
  {
   "cell_type": "markdown",
   "id": "f2bc5161",
   "metadata": {},
   "source": [
    "3、微调、推理或做测试，只需要做前向运算，而不需要做梯度的运算时，"
   ]
  },
  {
   "cell_type": "code",
   "execution_count": 4,
   "id": "3af4b525",
   "metadata": {},
   "outputs": [
    {
     "name": "stdout",
     "output_type": "stream",
     "text": [
      "True\n",
      "False\n"
     ]
    }
   ],
   "source": [
    "#可用torch.no_grad()上下文控制\n",
    "z=torch.matmul(x,w)+b\n",
    "print(z.requires_grad)\n",
    "\n",
    "with torch.no_grad():\n",
    "    z=torch.matmul(x,w)+b\n",
    "print(z.requires_grad)"
   ]
  },
  {
   "cell_type": "code",
   "execution_count": 5,
   "id": "135bafac",
   "metadata": {},
   "outputs": [
    {
     "name": "stdout",
     "output_type": "stream",
     "text": [
      "False\n"
     ]
    }
   ],
   "source": [
    "#可用detach分离\n",
    "z=torch.matmul(x,w)+b\n",
    "z_det=z.detach()\n",
    "print(z_det.requires_grad)"
   ]
  },
  {
   "cell_type": "markdown",
   "id": "516dcf16",
   "metadata": {},
   "source": [
    "4、PyTorch默认情况下梯度可累积，调用zero_grad清零"
   ]
  },
  {
   "cell_type": "markdown",
   "id": "e9663b07",
   "metadata": {},
   "source": [
    "5、雅可比，对长度大于1的张量求梯度"
   ]
  },
  {
   "cell_type": "code",
   "execution_count": 6,
   "id": "8cc8d964",
   "metadata": {},
   "outputs": [
    {
     "name": "stdout",
     "output_type": "stream",
     "text": [
      "First call\n",
      "tensor([[4., 2., 2., 2., 2.],\n",
      "        [2., 4., 2., 2., 2.],\n",
      "        [2., 2., 4., 2., 2.],\n",
      "        [2., 2., 2., 4., 2.],\n",
      "        [2., 2., 2., 2., 4.]])\n",
      "\n",
      "Second call\n",
      "tensor([[8., 4., 4., 4., 4.],\n",
      "        [4., 8., 4., 4., 4.],\n",
      "        [4., 4., 8., 4., 4.],\n",
      "        [4., 4., 4., 8., 4.],\n",
      "        [4., 4., 4., 4., 8.]])\n",
      "\n",
      "Call after zeroing gradients\n",
      "tensor([[4., 2., 2., 2., 2.],\n",
      "        [2., 4., 2., 2., 2.],\n",
      "        [2., 2., 4., 2., 2.],\n",
      "        [2., 2., 2., 4., 2.],\n",
      "        [2., 2., 2., 2., 4.]])\n"
     ]
    }
   ],
   "source": [
    "inp=torch.eye(5,requires_grad=True)\n",
    "out=(inp+1).pow(2)\n",
    "out.backward(torch.ones_like(inp),retain_graph=True)\n",
    "print(f\"First call\\n{inp.grad}\")\n",
    "out.backward(torch.ones_like(inp),retain_graph=True)\n",
    "print(f\"\\nSecond call\\n{inp.grad}\")\n",
    "inp.grad.zero_()\n",
    "out.backward(torch.ones_like(inp),retain_graph=True)\n",
    "print(f\"\\nCall after zeroing gradients\\n{inp.grad}\")"
   ]
  }
 ],
 "metadata": {
  "kernelspec": {
   "display_name": "Python 3",
   "language": "python",
   "name": "python3"
  },
  "language_info": {
   "codemirror_mode": {
    "name": "ipython",
    "version": 3
   },
   "file_extension": ".py",
   "mimetype": "text/x-python",
   "name": "python",
   "nbconvert_exporter": "python",
   "pygments_lexer": "ipython3",
   "version": "3.6.13"
  }
 },
 "nbformat": 4,
 "nbformat_minor": 5
}
