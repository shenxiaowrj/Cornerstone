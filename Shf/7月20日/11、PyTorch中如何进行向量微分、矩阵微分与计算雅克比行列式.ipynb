{
 "cells": [
  {
   "cell_type": "markdown",
   "id": "7c36c6af",
   "metadata": {},
   "source": [
    "1、torch.autograd.functional.jacobian(func,inputs,...)，算给定一个函数的雅可比"
   ]
  },
  {
   "cell_type": "code",
   "execution_count": 11,
   "id": "30ad0e65",
   "metadata": {},
   "outputs": [
    {
     "data": {
      "text/plain": [
       "tensor([[[2.1630, 1.1608],\n",
       "         [0.0000, 0.0000]],\n",
       "\n",
       "        [[0.0000, 0.0000],\n",
       "         [2.0105, 1.4772]]])"
      ]
     },
     "execution_count": 11,
     "metadata": {},
     "output_type": "execute_result"
    }
   ],
   "source": [
    "import torch\n",
    "from torch.autograd.functional import jacobian\n",
    "def exp_reducer(x):\n",
    "    return x.exp().sum(dim=1)\n",
    "inputs=torch.rand(2,2)\n",
    "jacobian(exp_reducer,inputs)"
   ]
  },
  {
   "cell_type": "code",
   "execution_count": 9,
   "id": "893e99f5",
   "metadata": {},
   "outputs": [
    {
     "data": {
      "text/plain": [
       "tensor([[[1.0200, 2.3459],\n",
       "         [0.0000, 0.0000]],\n",
       "\n",
       "        [[0.0000, 0.0000],\n",
       "         [2.5761, 2.2953]]], grad_fn=<ViewBackward0>)"
      ]
     },
     "execution_count": 9,
     "metadata": {},
     "output_type": "execute_result"
    }
   ],
   "source": [
    "jacobian(exp_reducer,inputs,create_graph=True)"
   ]
  },
  {
   "cell_type": "code",
   "execution_count": 14,
   "id": "82a2860d",
   "metadata": {},
   "outputs": [
    {
     "data": {
      "text/plain": [
       "tensor([1.3250, 0.2230, 0.2210])"
      ]
     },
     "execution_count": 14,
     "metadata": {},
     "output_type": "execute_result"
    }
   ],
   "source": [
    "a=torch.randn(3)\n",
    "a"
   ]
  },
  {
   "cell_type": "code",
   "execution_count": 15,
   "id": "cd70a0b7",
   "metadata": {},
   "outputs": [
    {
     "data": {
      "text/plain": [
       "tensor([-0.4069, -0.5715, -0.7206])"
      ]
     },
     "execution_count": 15,
     "metadata": {},
     "output_type": "execute_result"
    }
   ],
   "source": [
    "def func(x):\n",
    "    return a+x\n",
    "x=torch.randn(3)\n",
    "x"
   ]
  },
  {
   "cell_type": "code",
   "execution_count": 16,
   "id": "5de5f51d",
   "metadata": {},
   "outputs": [
    {
     "data": {
      "text/plain": [
       "tensor([[1., 0., 0.],\n",
       "        [0., 1., 0.],\n",
       "        [0., 0., 1.]])"
      ]
     },
     "execution_count": 16,
     "metadata": {},
     "output_type": "execute_result"
    }
   ],
   "source": [
    "jacobian(func,x)"
   ]
  },
  {
   "cell_type": "markdown",
   "id": "10e5ab74",
   "metadata": {},
   "source": [
    "2、在PyTorch中如何去算对向量的导数"
   ]
  },
  {
   "cell_type": "code",
   "execution_count": 17,
   "id": "f32c5840",
   "metadata": {},
   "outputs": [
    {
     "data": {
      "text/plain": [
       "tensor([1.3250, 0.2230, 0.2210])"
      ]
     },
     "execution_count": 17,
     "metadata": {},
     "output_type": "execute_result"
    }
   ],
   "source": [
    "# 1、用backward算\n",
    "a"
   ]
  },
  {
   "cell_type": "code",
   "execution_count": 18,
   "id": "20e00cf9",
   "metadata": {},
   "outputs": [],
   "source": [
    "x=torch.randn(3,requires_grad=True)"
   ]
  },
  {
   "cell_type": "code",
   "execution_count": 20,
   "id": "9203e74e",
   "metadata": {},
   "outputs": [
    {
     "data": {
      "text/plain": [
       "tensor([ 1.4357, -1.7285,  0.4050], grad_fn=<AddBackward0>)"
      ]
     },
     "execution_count": 20,
     "metadata": {},
     "output_type": "execute_result"
    }
   ],
   "source": [
    "y=func(x)\n",
    "y"
   ]
  },
  {
   "cell_type": "code",
   "execution_count": 21,
   "id": "f2822649",
   "metadata": {},
   "outputs": [],
   "source": [
    "y.backward(torch.ones_like(y)) # 算出x点处的梯度"
   ]
  },
  {
   "cell_type": "code",
   "execution_count": 22,
   "id": "0ff711db",
   "metadata": {},
   "outputs": [
    {
     "data": {
      "text/plain": [
       "tensor([1., 1., 1.])"
      ]
     },
     "execution_count": 22,
     "metadata": {},
     "output_type": "execute_result"
    }
   ],
   "source": [
    "x.grad"
   ]
  },
  {
   "cell_type": "code",
   "execution_count": 23,
   "id": "a0183987",
   "metadata": {},
   "outputs": [
    {
     "data": {
      "text/plain": [
       "tensor([[1., 0., 0.],\n",
       "        [0., 1., 0.],\n",
       "        [0., 0., 1.]])"
      ]
     },
     "execution_count": 23,
     "metadata": {},
     "output_type": "execute_result"
    }
   ],
   "source": [
    "# 2、用雅可比算\n",
    "jacobian(func,x)"
   ]
  },
  {
   "cell_type": "code",
   "execution_count": 24,
   "id": "67d239b4",
   "metadata": {},
   "outputs": [
    {
     "data": {
      "text/plain": [
       "tensor([1., 1., 1.])"
      ]
     },
     "execution_count": 24,
     "metadata": {},
     "output_type": "execute_result"
    }
   ],
   "source": [
    "torch.ones_like(y) @ jacobian(func,x) #@表示矩阵相乘"
   ]
  },
  {
   "cell_type": "markdown",
   "id": "b3ad9b00",
   "metadata": {},
   "source": [
    "3、如何去算对矩阵的导数（梯度运算）"
   ]
  },
  {
   "cell_type": "code",
   "execution_count": 26,
   "id": "bc9edbe5",
   "metadata": {},
   "outputs": [],
   "source": [
    "# 1、用backward算\n",
    "a=torch.randn(2,3,requires_grad=True)\n",
    "b=torch.randn(3,2,requires_grad=True)"
   ]
  },
  {
   "cell_type": "code",
   "execution_count": 27,
   "id": "39a2b212",
   "metadata": {},
   "outputs": [
    {
     "data": {
      "text/plain": [
       "tensor([[ 0.5412,  0.8503, -1.2114],\n",
       "        [ 0.2175,  0.2749,  1.3860]], requires_grad=True)"
      ]
     },
     "execution_count": 27,
     "metadata": {},
     "output_type": "execute_result"
    }
   ],
   "source": [
    "a"
   ]
  },
  {
   "cell_type": "code",
   "execution_count": 28,
   "id": "5c635ded",
   "metadata": {},
   "outputs": [
    {
     "data": {
      "text/plain": [
       "tensor([[-1.1325, -0.2740],\n",
       "        [-1.1552,  0.0024],\n",
       "        [-1.2445, -0.0039]], requires_grad=True)"
      ]
     },
     "execution_count": 28,
     "metadata": {},
     "output_type": "execute_result"
    }
   ],
   "source": [
    "b"
   ]
  },
  {
   "cell_type": "code",
   "execution_count": 29,
   "id": "fb3d02c8",
   "metadata": {},
   "outputs": [
    {
     "data": {
      "text/plain": [
       "tensor([[-0.0877, -0.1415],\n",
       "        [-2.2887, -0.0643]], grad_fn=<MmBackward0>)"
      ]
     },
     "execution_count": 29,
     "metadata": {},
     "output_type": "execute_result"
    }
   ],
   "source": [
    "a @ b"
   ]
  },
  {
   "cell_type": "code",
   "execution_count": 30,
   "id": "747e114e",
   "metadata": {},
   "outputs": [],
   "source": [
    "y = a @ b\n",
    "y.backward(torch.ones_like(y))"
   ]
  },
  {
   "cell_type": "code",
   "execution_count": 31,
   "id": "adc13acf",
   "metadata": {},
   "outputs": [
    {
     "data": {
      "text/plain": [
       "tensor([[-1.4065, -1.1528, -1.2484],\n",
       "        [-1.4065, -1.1528, -1.2484]])"
      ]
     },
     "execution_count": 31,
     "metadata": {},
     "output_type": "execute_result"
    }
   ],
   "source": [
    "a.grad"
   ]
  },
  {
   "cell_type": "code",
   "execution_count": 32,
   "id": "dc5c30fc",
   "metadata": {},
   "outputs": [
    {
     "data": {
      "text/plain": [
       "tensor([[0.7588, 0.7588],\n",
       "        [1.1252, 1.1252],\n",
       "        [0.1745, 0.1745]])"
      ]
     },
     "execution_count": 32,
     "metadata": {},
     "output_type": "execute_result"
    }
   ],
   "source": [
    "b.grad"
   ]
  },
  {
   "cell_type": "code",
   "execution_count": 33,
   "id": "85d74e2f",
   "metadata": {},
   "outputs": [
    {
     "data": {
      "text/plain": [
       "tensor([[ 0.5412,  0.8503, -1.2114],\n",
       "        [ 0.2175,  0.2749,  1.3860]], requires_grad=True)"
      ]
     },
     "execution_count": 33,
     "metadata": {},
     "output_type": "execute_result"
    }
   ],
   "source": [
    "# 2、用雅可比算\n",
    "def func(a):\n",
    "    return a@b\n",
    "a"
   ]
  },
  {
   "cell_type": "code",
   "execution_count": 34,
   "id": "740080d0",
   "metadata": {},
   "outputs": [
    {
     "data": {
      "text/plain": [
       "tensor([[-0.0877, -0.1415],\n",
       "        [-2.2887, -0.0643]], grad_fn=<MmBackward0>)"
      ]
     },
     "execution_count": 34,
     "metadata": {},
     "output_type": "execute_result"
    }
   ],
   "source": [
    "func(a)"
   ]
  },
  {
   "cell_type": "code",
   "execution_count": 35,
   "id": "fcac0955",
   "metadata": {},
   "outputs": [
    {
     "data": {
      "text/plain": [
       "tensor([-0.0877, -0.1415], grad_fn=<SqueezeBackward3>)"
      ]
     },
     "execution_count": 35,
     "metadata": {},
     "output_type": "execute_result"
    }
   ],
   "source": [
    "func(a[0])"
   ]
  },
  {
   "cell_type": "code",
   "execution_count": 38,
   "id": "b0b3a835",
   "metadata": {},
   "outputs": [
    {
     "data": {
      "text/plain": [
       "tensor([-1.4065, -1.1528, -1.2484])"
      ]
     },
     "execution_count": 38,
     "metadata": {},
     "output_type": "execute_result"
    }
   ],
   "source": [
    "# a的第一行的梯度\n",
    "torch.ones_like(func(a[0])) @ jacobian(func,a[0])"
   ]
  },
  {
   "cell_type": "code",
   "execution_count": 39,
   "id": "1468656d",
   "metadata": {},
   "outputs": [
    {
     "data": {
      "text/plain": [
       "tensor([[-1.4065, -1.1528, -1.2484],\n",
       "        [-1.4065, -1.1528, -1.2484]])"
      ]
     },
     "execution_count": 39,
     "metadata": {},
     "output_type": "execute_result"
    }
   ],
   "source": [
    "a.grad"
   ]
  },
  {
   "cell_type": "code",
   "execution_count": 40,
   "id": "e9c5d168",
   "metadata": {},
   "outputs": [
    {
     "data": {
      "text/plain": [
       "tensor([-1.4065, -1.1528, -1.2484])"
      ]
     },
     "execution_count": 40,
     "metadata": {},
     "output_type": "execute_result"
    }
   ],
   "source": [
    "# a的第二行的梯度\n",
    "torch.ones_like(func(a[1])) @ jacobian(func,a[1])"
   ]
  },
  {
   "cell_type": "code",
   "execution_count": 41,
   "id": "1232a4cd",
   "metadata": {},
   "outputs": [
    {
     "data": {
      "text/plain": [
       "tensor([[ 0.5412,  0.8503, -1.2114],\n",
       "        [ 0.2175,  0.2749,  1.3860]], requires_grad=True)"
      ]
     },
     "execution_count": 41,
     "metadata": {},
     "output_type": "execute_result"
    }
   ],
   "source": [
    "a"
   ]
  },
  {
   "cell_type": "code",
   "execution_count": 42,
   "id": "e36d8ffd",
   "metadata": {},
   "outputs": [
    {
     "data": {
      "text/plain": [
       "tensor([[-1.1325, -0.2740],\n",
       "        [-1.1552,  0.0024],\n",
       "        [-1.2445, -0.0039]], requires_grad=True)"
      ]
     },
     "execution_count": 42,
     "metadata": {},
     "output_type": "execute_result"
    }
   ],
   "source": [
    "b"
   ]
  },
  {
   "cell_type": "code",
   "execution_count": 43,
   "id": "baa6c50f",
   "metadata": {},
   "outputs": [
    {
     "data": {
      "text/plain": [
       "tensor([[-0.0877, -0.1415],\n",
       "        [-2.2887, -0.0643]], grad_fn=<MmBackward0>)"
      ]
     },
     "execution_count": 43,
     "metadata": {},
     "output_type": "execute_result"
    }
   ],
   "source": [
    "a@b"
   ]
  },
  {
   "cell_type": "code",
   "execution_count": 44,
   "id": "1611a09b",
   "metadata": {},
   "outputs": [],
   "source": [
    "def func(b):\n",
    "    return a@b"
   ]
  },
  {
   "cell_type": "code",
   "execution_count": 45,
   "id": "940d2006",
   "metadata": {},
   "outputs": [
    {
     "data": {
      "text/plain": [
       "tensor([0.7588, 1.1252, 0.1745])"
      ]
     },
     "execution_count": 45,
     "metadata": {},
     "output_type": "execute_result"
    }
   ],
   "source": [
    "# b的第一列的梯度\n",
    "torch.ones_like(func(b[:,0])) @ jacobian(func,b[:,0])"
   ]
  },
  {
   "cell_type": "code",
   "execution_count": 47,
   "id": "75c75ce3",
   "metadata": {},
   "outputs": [
    {
     "data": {
      "text/plain": [
       "tensor([[0.7588, 0.7588],\n",
       "        [1.1252, 1.1252],\n",
       "        [0.1745, 0.1745]])"
      ]
     },
     "execution_count": 47,
     "metadata": {},
     "output_type": "execute_result"
    }
   ],
   "source": [
    "b.grad"
   ]
  },
  {
   "cell_type": "code",
   "execution_count": 48,
   "id": "d44c8671",
   "metadata": {},
   "outputs": [
    {
     "data": {
      "text/plain": [
       "tensor([0.7588, 1.1252, 0.1745])"
      ]
     },
     "execution_count": 48,
     "metadata": {},
     "output_type": "execute_result"
    }
   ],
   "source": [
    "# b的第二列的梯度\n",
    "torch.ones_like(func(b[:,1])) @ jacobian(func,b[:,1])"
   ]
  },
  {
   "cell_type": "markdown",
   "id": "b5ba6e1b",
   "metadata": {},
   "source": [
    "以上为把矩阵的梯度变为对向量的梯度去算"
   ]
  }
 ],
 "metadata": {
  "kernelspec": {
   "display_name": "Python 3",
   "language": "python",
   "name": "python3"
  },
  "language_info": {
   "codemirror_mode": {
    "name": "ipython",
    "version": 3
   },
   "file_extension": ".py",
   "mimetype": "text/x-python",
   "name": "python",
   "nbconvert_exporter": "python",
   "pygments_lexer": "ipython3",
   "version": "3.6.13"
  }
 },
 "nbformat": 4,
 "nbformat_minor": 5
}
