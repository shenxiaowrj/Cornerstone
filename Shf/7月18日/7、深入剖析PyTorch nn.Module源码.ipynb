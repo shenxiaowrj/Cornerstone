{
 "cells": [
  {
   "cell_type": "markdown",
   "id": "f88bb89e",
   "metadata": {},
   "source": [
    "1、module"
   ]
  },
  {
   "cell_type": "markdown",
   "id": "ac0f3f0d",
   "metadata": {},
   "source": [
    "所有神经网络模块的基础类，我们编写的模型也要继承该类，可嵌套"
   ]
  },
  {
   "cell_type": "code",
   "execution_count": 1,
   "id": "cb2052fd",
   "metadata": {},
   "outputs": [],
   "source": [
    "import torch.nn as nn\n",
    "import torch.nn.functional as F\n",
    "\n",
    "class Model(nn.Module):\n",
    "    def __init__(self):\n",
    "        super(Model,self).__init__()\n",
    "        self.conv1=nn.Conv2d(1,20,5)\n",
    "        self.conv2=nn.Conv2d(20,20,5)\n",
    "        \n",
    "    def forward(self,x):\n",
    "        x=F.relu(self.conv1(x))\n",
    "        return F.relu(self.conv2(x))"
   ]
  },
  {
   "cell_type": "markdown",
   "id": "cd0814ae",
   "metadata": {},
   "source": [
    "方法"
   ]
  },
  {
   "cell_type": "markdown",
   "id": "d9571ade",
   "metadata": {},
   "source": [
    "1、add_module(name, module) 往当前的模块中添加子模块"
   ]
  },
  {
   "cell_type": "markdown",
   "id": "c0f05297",
   "metadata": {},
   "source": [
    "2、apply(fn) 初始化一个模型的参数"
   ]
  },
  {
   "cell_type": "code",
   "execution_count": 3,
   "id": "feb26b10",
   "metadata": {},
   "outputs": [
    {
     "name": "stdout",
     "output_type": "stream",
     "text": [
      "Linear(in_features=2, out_features=2, bias=True)\n",
      "Parameter containing:\n",
      "tensor([[1., 1.],\n",
      "        [1., 1.]], requires_grad=True)\n",
      "Linear(in_features=2, out_features=2, bias=True)\n",
      "Parameter containing:\n",
      "tensor([[1., 1.],\n",
      "        [1., 1.]], requires_grad=True)\n",
      "Sequential(\n",
      "  (0): Linear(in_features=2, out_features=2, bias=True)\n",
      "  (1): Linear(in_features=2, out_features=2, bias=True)\n",
      ")\n"
     ]
    },
    {
     "data": {
      "text/plain": [
       "Sequential(\n",
       "  (0): Linear(in_features=2, out_features=2, bias=True)\n",
       "  (1): Linear(in_features=2, out_features=2, bias=True)\n",
       ")"
      ]
     },
     "execution_count": 3,
     "metadata": {},
     "output_type": "execute_result"
    }
   ],
   "source": [
    "import torch\n",
    "@torch.no_grad()\n",
    "def init_weights(m):\n",
    "    print(m)\n",
    "    if type(m) == nn.Linear:\n",
    "        m.weight.fill_(1.0)\n",
    "        print(m.weight)\n",
    "net=nn.Sequential(nn.Linear(2,2), nn.Linear(2,2))\n",
    "net.apply(init_weights)"
   ]
  },
  {
   "cell_type": "markdown",
   "id": "f46c996e",
   "metadata": {},
   "source": [
    "3、bfloat16() 对模块中所有浮点类型的参数或buff都转换成bfloat16类型"
   ]
  },
  {
   "cell_type": "markdown",
   "id": "5d1d49bf",
   "metadata": {},
   "source": [
    "4、buffers(recurse=True) 返回模块所包含的buffers的迭代器"
   ]
  },
  {
   "cell_type": "code",
   "execution_count": 7,
   "id": "b6ae73c8",
   "metadata": {},
   "outputs": [],
   "source": [
    "for buf in model.buffers():\n",
    "    print(type(buf),buf.size())"
   ]
  },
  {
   "cell_type": "markdown",
   "id": "ec771ab3",
   "metadata": {},
   "source": [
    "5、childern() 返回所有子模块"
   ]
  },
  {
   "cell_type": "markdown",
   "id": "3551668e",
   "metadata": {},
   "source": [
    "6、cpu()、cuda() 将当前所有的参数和buffers搬到不同的设备上"
   ]
  },
  {
   "cell_type": "markdown",
   "id": "e858bb86",
   "metadata": {},
   "source": [
    "7、get_parameter(target)、get_submodule(target) 根据字符串得到一个参数/子模块"
   ]
  },
  {
   "cell_type": "markdown",
   "id": "a5ab6e96",
   "metadata": {},
   "source": [
    "8、load_state_dict(state_dict, strict=True) 从一个状态字典中把当前模型的参数和buffers导入进来"
   ]
  },
  {
   "cell_type": "markdown",
   "id": "90cc5b0b",
   "metadata": {},
   "source": [
    "9、name_parameters(prefix='', recurse=True) 返回模型的所有参数，包括参数的值和名称"
   ]
  },
  {
   "cell_type": "code",
   "execution_count": null,
   "id": "37417629",
   "metadata": {},
   "outputs": [],
   "source": [
    "for param in model.parameters():\n",
    "    print(type(param),param.size())"
   ]
  },
  {
   "cell_type": "markdown",
   "id": "cede01a1",
   "metadata": {},
   "source": [
    "10、requires_grad_(requires_grad=True) 对模型是否进行梯度更新、参数更新进行设置"
   ]
  },
  {
   "cell_type": "markdown",
   "id": "402f669d",
   "metadata": {},
   "source": [
    "11、state_dict(destination=None, prefix='', keep_vars=False) 保存模型"
   ]
  }
 ],
 "metadata": {
  "kernelspec": {
   "display_name": "Python 3",
   "language": "python",
   "name": "python3"
  },
  "language_info": {
   "codemirror_mode": {
    "name": "ipython",
    "version": 3
   },
   "file_extension": ".py",
   "mimetype": "text/x-python",
   "name": "python",
   "nbconvert_exporter": "python",
   "pygments_lexer": "ipython3",
   "version": "3.6.13"
  }
 },
 "nbformat": 4,
 "nbformat_minor": 5
}
