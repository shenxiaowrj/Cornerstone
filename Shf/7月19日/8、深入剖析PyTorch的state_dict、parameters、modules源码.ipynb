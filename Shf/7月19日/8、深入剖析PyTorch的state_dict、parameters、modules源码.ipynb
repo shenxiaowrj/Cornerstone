{
 "cells": [
  {
   "cell_type": "markdown",
   "id": "39e74e2d",
   "metadata": {},
   "source": [
    "1、SAVE AND LOAD THE MODEL"
   ]
  },
  {
   "cell_type": "code",
   "execution_count": 2,
   "id": "72670473",
   "metadata": {},
   "outputs": [],
   "source": [
    "import torch\n",
    "import torchvision.models as models\n",
    "\n",
    "model = models.vgg16(pretrained=True)\n",
    "torch.save(model.state_dict(), 'model_weights.pth') #只保存模型的权重\n",
    "\n",
    "model = models.vgg16() # we do not specify pretrained=True, i.e. do not load default weights\n",
    "model.load_state_dict(torch.load('model_weights.pth')) #加载模型权重---加载状态字典（包含模型中所有的参数和buffer变量）\n",
    "model.eval() #模型进入推理模式"
   ]
  },
  {
   "cell_type": "markdown",
   "id": "1d19ebcb",
   "metadata": {},
   "source": [
    "2、Saving and Loading Models with Shapes"
   ]
  },
  {
   "cell_type": "code",
   "execution_count": null,
   "id": "7b52d6a9",
   "metadata": {},
   "outputs": [],
   "source": [
    "torch.save(model, 'model.pth')  #保存\n",
    "model = torch.load('model.pth') #加载"
   ]
  },
  {
   "cell_type": "markdown",
   "id": "baa8f92c",
   "metadata": {},
   "source": [
    "3、标准保存做法"
   ]
  },
  {
   "cell_type": "code",
   "execution_count": null,
   "id": "a13dbeab",
   "metadata": {},
   "outputs": [],
   "source": [
    "EPOCH=5\n",
    "PATH=\"model.pt\"\n",
    "LOSS=0.4\n",
    "\n",
    "torch.save({\n",
    "    'epoch':EPOCH,\n",
    "    'model_state_dict':net.state_dict(), #如上\n",
    "    'optimizer_state_dict':optimizer.state_dict(),\n",
    "    'loss':LOSS,\n",
    "}),PATH)"
   ]
  },
  {
   "cell_type": "markdown",
   "id": "c1a7fccf",
   "metadata": {},
   "source": [
    "4、标准加载做法"
   ]
  },
  {
   "cell_type": "code",
   "execution_count": null,
   "id": "1b17fcd4",
   "metadata": {},
   "outputs": [],
   "source": [
    "model=Net()\n",
    "optimizer=optim.SGD(net.parameters(),lx=0.001,momentum=0.9)\n",
    "\n",
    "checkpoint=torch.load(PATH)\n",
    "model.load_state_dict(checkpoint['model_state_dict'])\n",
    "optimizer.load_state_dict(checkpoint['optimizer_state_dict'])\n",
    "epoch=checkpoint['epoch'] #周期\n",
    "loss=checkpoint['loss']\n",
    "\n",
    "model.eval()\n",
    "# -or-\n",
    "model.train()"
   ]
  },
  {
   "cell_type": "markdown",
   "id": "3119f1ec",
   "metadata": {},
   "source": [
    "5、源码讲解"
   ]
  },
  {
   "cell_type": "markdown",
   "id": "6e1bac09",
   "metadata": {},
   "source": [
    "module.py"
   ]
  },
  {
   "cell_type": "code",
   "execution_count": 3,
   "id": "aae46a14",
   "metadata": {},
   "outputs": [
    {
     "data": {
      "text/plain": [
       "OrderedDict([('linear1', Linear(in_features=2, out_features=3, bias=True)),\n",
       "             ('linear2', Linear(in_features=3, out_features=4, bias=True)),\n",
       "             ('batch_norm',\n",
       "              BatchNorm2d(4, eps=1e-05, momentum=0.1, affine=True, track_running_stats=True))])"
      ]
     },
     "execution_count": 3,
     "metadata": {},
     "output_type": "execute_result"
    }
   ],
   "source": [
    "#测试类\n",
    "class Test(torch.nn.Module):\n",
    "    def __init__(self):\n",
    "        super(Test,self).__init__()\n",
    "        self.linear1=torch.nn.Linear(2,3)\n",
    "        self.linear2=torch.nn.Linear(3,4)\n",
    "        self.batch_norm=torch.nn.BatchNorm2d(4)\n",
    "#实例化        \n",
    "test_module=Test() \n",
    "#调用modules\n",
    "test_module._modules"
   ]
  },
  {
   "cell_type": "code",
   "execution_count": 4,
   "id": "62cfd18f",
   "metadata": {},
   "outputs": [
    {
     "data": {
      "text/plain": [
       "Linear(in_features=2, out_features=3, bias=True)"
      ]
     },
     "execution_count": 4,
     "metadata": {},
     "output_type": "execute_result"
    }
   ],
   "source": [
    "#访问Linear1\n",
    "test_module._modules['linear1']"
   ]
  },
  {
   "cell_type": "code",
   "execution_count": 5,
   "id": "6380bd6d",
   "metadata": {},
   "outputs": [
    {
     "data": {
      "text/plain": [
       "Parameter containing:\n",
       "tensor([[-0.6162,  0.1601],\n",
       "        [-0.4765, -0.4863],\n",
       "        [ 0.7029,  0.0386]], requires_grad=True)"
      ]
     },
     "execution_count": 5,
     "metadata": {},
     "output_type": "execute_result"
    }
   ],
   "source": [
    "#得到权重张量\n",
    "test_module._modules['linear1'].weight"
   ]
  },
  {
   "cell_type": "code",
   "execution_count": 6,
   "id": "365428ac",
   "metadata": {},
   "outputs": [
    {
     "data": {
      "text/plain": [
       "torch.float32"
      ]
     },
     "execution_count": 6,
     "metadata": {},
     "output_type": "execute_result"
    }
   ],
   "source": [
    "test_module._modules['linear1'].weight.dtype"
   ]
  },
  {
   "cell_type": "code",
   "execution_count": 8,
   "id": "18cb54a6",
   "metadata": {},
   "outputs": [
    {
     "data": {
      "text/plain": [
       "torch.float64"
      ]
     },
     "execution_count": 8,
     "metadata": {},
     "output_type": "execute_result"
    }
   ],
   "source": [
    "#将float类型变为double类型\n",
    "test_module.to(torch.double)  #调用to函数使所有浮点类型变为float64\n",
    "test_module._modules['linear1'].weight.dtype"
   ]
  },
  {
   "cell_type": "code",
   "execution_count": 9,
   "id": "d2b5812f",
   "metadata": {},
   "outputs": [
    {
     "data": {
      "text/plain": [
       "OrderedDict([('linear1', Linear(in_features=2, out_features=3, bias=True)),\n",
       "             ('linear2', Linear(in_features=3, out_features=4, bias=True)),\n",
       "             ('batch_norm',\n",
       "              BatchNorm2d(4, eps=1e-05, momentum=0.1, affine=True, track_running_stats=True))])"
      ]
     },
     "execution_count": 9,
     "metadata": {},
     "output_type": "execute_result"
    }
   ],
   "source": [
    "#返回3个子模块的有序字典\n",
    "test_module._modules"
   ]
  },
  {
   "cell_type": "code",
   "execution_count": 10,
   "id": "4bcfd2c9",
   "metadata": {},
   "outputs": [
    {
     "data": {
      "text/plain": [
       "OrderedDict()"
      ]
     },
     "execution_count": 10,
     "metadata": {},
     "output_type": "execute_result"
    }
   ],
   "source": [
    "#不遍历子模型，有参数但不调用，所以返回空\n",
    "test_module._parameters"
   ]
  },
  {
   "cell_type": "code",
   "execution_count": 11,
   "id": "f1624c82",
   "metadata": {},
   "outputs": [
    {
     "data": {
      "text/plain": [
       "OrderedDict()"
      ]
     },
     "execution_count": 11,
     "metadata": {},
     "output_type": "execute_result"
    }
   ],
   "source": [
    "test_module._buffers"
   ]
  },
  {
   "cell_type": "markdown",
   "id": "bbdb15f7",
   "metadata": {},
   "source": [
    "_save_to_state_dict(self, destination, prefix, keep_vars)，把当前模型所有的参数和buffer遍历，放到字典中，这个字典就为destination，在state_dict中被调用"
   ]
  },
  {
   "cell_type": "markdown",
   "id": "473774b3",
   "metadata": {},
   "source": [
    "**state_dict(self, destination=None, prefix='', keep_vars=False)"
   ]
  },
  {
   "cell_type": "markdown",
   "id": "ecbd9dee",
   "metadata": {},
   "source": [
    "test_module.state_dict()"
   ]
  },
  {
   "cell_type": "markdown",
   "id": "5406bce1",
   "metadata": {},
   "source": [
    "_load_from_state_dict( ) 从一个state_dict中得到参数和buffer的值，赋予给当前module"
   ]
  },
  {
   "cell_type": "markdown",
   "id": "91b69e4b",
   "metadata": {},
   "source": [
    "load_state_dict( ) 导入当前模块的参数和buffer，进行遍历操作，用法如state_dict()"
   ]
  },
  {
   "cell_type": "markdown",
   "id": "43b345ec",
   "metadata": {},
   "source": [
    "_name_members() 查找函数，返回一个迭代器"
   ]
  },
  {
   "cell_type": "code",
   "execution_count": 13,
   "id": "605beb33",
   "metadata": {},
   "outputs": [
    {
     "data": {
      "text/plain": [
       "OrderedDict()"
      ]
     },
     "execution_count": 13,
     "metadata": {},
     "output_type": "execute_result"
    }
   ],
   "source": [
    "test_module._parameters"
   ]
  },
  {
   "cell_type": "code",
   "execution_count": 16,
   "id": "e3388151",
   "metadata": {},
   "outputs": [
    {
     "name": "stdout",
     "output_type": "stream",
     "text": [
      "Parameter containing:\n",
      "tensor([[-0.6162,  0.1601],\n",
      "        [-0.4765, -0.4863],\n",
      "        [ 0.7029,  0.0386]], dtype=torch.float64, requires_grad=True)\n",
      "Parameter containing:\n",
      "tensor([-0.4142,  0.0175, -0.0078], dtype=torch.float64, requires_grad=True)\n",
      "Parameter containing:\n",
      "tensor([[-0.4881, -0.5177, -0.5248],\n",
      "        [-0.1947,  0.1741, -0.3537],\n",
      "        [-0.1273,  0.5249, -0.3507],\n",
      "        [ 0.3154, -0.2953,  0.3269]], dtype=torch.float64, requires_grad=True)\n",
      "Parameter containing:\n",
      "tensor([-0.2239, -0.1472, -0.1624,  0.3849], dtype=torch.float64,\n",
      "       requires_grad=True)\n",
      "Parameter containing:\n",
      "tensor([1., 1., 1., 1.], dtype=torch.float64, requires_grad=True)\n",
      "Parameter containing:\n",
      "tensor([0., 0., 0., 0.], dtype=torch.float64, requires_grad=True)\n"
     ]
    }
   ],
   "source": [
    "for p in test_module.parameters():\n",
    "    print(p)"
   ]
  },
  {
   "cell_type": "code",
   "execution_count": 18,
   "id": "f631591b",
   "metadata": {},
   "outputs": [
    {
     "name": "stdout",
     "output_type": "stream",
     "text": [
      "('linear1.weight', Parameter containing:\n",
      "tensor([[-0.6162,  0.1601],\n",
      "        [-0.4765, -0.4863],\n",
      "        [ 0.7029,  0.0386]], dtype=torch.float64, requires_grad=True))\n",
      "('linear1.bias', Parameter containing:\n",
      "tensor([-0.4142,  0.0175, -0.0078], dtype=torch.float64, requires_grad=True))\n",
      "('linear2.weight', Parameter containing:\n",
      "tensor([[-0.4881, -0.5177, -0.5248],\n",
      "        [-0.1947,  0.1741, -0.3537],\n",
      "        [-0.1273,  0.5249, -0.3507],\n",
      "        [ 0.3154, -0.2953,  0.3269]], dtype=torch.float64, requires_grad=True))\n",
      "('linear2.bias', Parameter containing:\n",
      "tensor([-0.2239, -0.1472, -0.1624,  0.3849], dtype=torch.float64,\n",
      "       requires_grad=True))\n",
      "('batch_norm.weight', Parameter containing:\n",
      "tensor([1., 1., 1., 1.], dtype=torch.float64, requires_grad=True))\n",
      "('batch_norm.bias', Parameter containing:\n",
      "tensor([0., 0., 0., 0.], dtype=torch.float64, requires_grad=True))\n"
     ]
    }
   ],
   "source": [
    "for p in test_module.named_parameters():\n",
    "    print(p)"
   ]
  },
  {
   "cell_type": "markdown",
   "id": "9b8c898d",
   "metadata": {},
   "source": [
    "children()--named_children()，返回一个迭代器，对所有的子模块进行调用，返回每个子模块的名称和本身"
   ]
  },
  {
   "cell_type": "code",
   "execution_count": 19,
   "id": "6f20be9c",
   "metadata": {},
   "outputs": [
    {
     "name": "stdout",
     "output_type": "stream",
     "text": [
      "('linear1', Linear(in_features=2, out_features=3, bias=True))\n",
      "('linear2', Linear(in_features=3, out_features=4, bias=True))\n",
      "('batch_norm', BatchNorm2d(4, eps=1e-05, momentum=0.1, affine=True, track_running_stats=True))\n"
     ]
    }
   ],
   "source": [
    "for p in test_module.named_children():\n",
    "    print(p)"
   ]
  },
  {
   "cell_type": "markdown",
   "id": "5b34782d",
   "metadata": {},
   "source": [
    "modules()--named_modules()，也会返回自身"
   ]
  },
  {
   "cell_type": "code",
   "execution_count": 20,
   "id": "960ffeb0",
   "metadata": {},
   "outputs": [
    {
     "name": "stdout",
     "output_type": "stream",
     "text": [
      "('', Test(\n",
      "  (linear1): Linear(in_features=2, out_features=3, bias=True)\n",
      "  (linear2): Linear(in_features=3, out_features=4, bias=True)\n",
      "  (batch_norm): BatchNorm2d(4, eps=1e-05, momentum=0.1, affine=True, track_running_stats=True)\n",
      "))\n",
      "('linear1', Linear(in_features=2, out_features=3, bias=True))\n",
      "('linear2', Linear(in_features=3, out_features=4, bias=True))\n",
      "('batch_norm', BatchNorm2d(4, eps=1e-05, momentum=0.1, affine=True, track_running_stats=True))\n"
     ]
    }
   ],
   "source": [
    "for p in test_module.named_modules():\n",
    "    print(p)"
   ]
  }
 ],
 "metadata": {
  "kernelspec": {
   "display_name": "Python 3",
   "language": "python",
   "name": "python3"
  },
  "language_info": {
   "codemirror_mode": {
    "name": "ipython",
    "version": 3
   },
   "file_extension": ".py",
   "mimetype": "text/x-python",
   "name": "python",
   "nbconvert_exporter": "python",
   "pygments_lexer": "ipython3",
   "version": "3.6.13"
  }
 },
 "nbformat": 4,
 "nbformat_minor": 5
}
