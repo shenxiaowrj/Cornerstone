{
 "cells": [
  {
   "cell_type": "markdown",
   "id": "1730aa7b",
   "metadata": {},
   "source": [
    "Pandas代码："
   ]
  },
  {
   "cell_type": "code",
   "execution_count": 1,
   "id": "f594ade0",
   "metadata": {},
   "outputs": [],
   "source": [
    "import numpy as np\n",
    "import pandas as pd"
   ]
  },
  {
   "cell_type": "code",
   "execution_count": 2,
   "id": "98ec4ae0",
   "metadata": {},
   "outputs": [
    {
     "data": {
      "text/plain": [
       "'1.1.5'"
      ]
     },
     "execution_count": 2,
     "metadata": {},
     "output_type": "execute_result"
    }
   ],
   "source": [
    "pd.__version__"
   ]
  },
  {
   "cell_type": "markdown",
   "id": "f65d3344",
   "metadata": {},
   "source": [
    "1、文件的读取和写入"
   ]
  },
  {
   "cell_type": "code",
   "execution_count": null,
   "id": "4a524d2d",
   "metadata": {},
   "outputs": [],
   "source": [
    "df_csv=pd.read_csv('../data/my_csv.csv')\n",
    "df_csv"
   ]
  },
  {
   "cell_type": "code",
   "execution_count": 6,
   "id": "41f580bb",
   "metadata": {},
   "outputs": [],
   "source": [
    "df_txt=pd.read_table('../data/my_table.txt')\n",
    "df_txt"
   ]
  },
  {
   "cell_type": "code",
   "execution_count": 8,
   "id": "f6765273",
   "metadata": {},
   "outputs": [],
   "source": [
    "df_excel=pd.read_excel('../data/my_excel.xlsx')\n",
    "df_excel"
   ]
  },
  {
   "cell_type": "code",
   "execution_count": null,
   "id": "b9b60fcd",
   "metadata": {},
   "outputs": [],
   "source": [
    "pd.read_table('../data/my_table.txt',header=None)"
   ]
  },
  {
   "cell_type": "code",
   "execution_count": null,
   "id": "08a46c1f",
   "metadata": {},
   "outputs": [],
   "source": [
    "pd.read_csv('../data/my_csv',index_col=['col1','col2'])"
   ]
  },
  {
   "cell_type": "code",
   "execution_count": null,
   "id": "3835527c",
   "metadata": {},
   "outputs": [],
   "source": [
    "pd.read_table('../data/my_table.txt',usecols=['col1','col2'])"
   ]
  },
  {
   "cell_type": "code",
   "execution_count": null,
   "id": "7e0c759c",
   "metadata": {},
   "outputs": [],
   "source": [
    "df_csv.to_csv('../data/my_csv_saved.csv',index=False)\n",
    "df_excel.to_excel('../data/my_excel_saved.xlsx',index=False)\n",
    "df_txt.to_csv('../data/mytxt_saved.txt',sep='\\t',index=False)"
   ]
  },
  {
   "cell_type": "code",
   "execution_count": null,
   "id": "3c56689e",
   "metadata": {},
   "outputs": [],
   "source": [
    "print(df_csv.to_markdown())\n",
    "print(df_csv.to_latex())"
   ]
  },
  {
   "cell_type": "markdown",
   "id": "d83729f2",
   "metadata": {},
   "source": [
    "2、基本数据结构"
   ]
  },
  {
   "cell_type": "code",
   "execution_count": 10,
   "id": "6e176c83",
   "metadata": {},
   "outputs": [
    {
     "data": {
      "text/plain": [
       "my_idx\n",
       "id1              100\n",
       "20                 a\n",
       "third    {'dic1': 5}\n",
       "Name: my_name, dtype: object"
      ]
     },
     "execution_count": 10,
     "metadata": {},
     "output_type": "execute_result"
    }
   ],
   "source": [
    "s=pd.Series(data=[100,'a',{'dic1':5}],\n",
    "            index=pd.Index(['id1',20,'third'], name='my_idx'),\n",
    "            dtype='object',\n",
    "            name='my_name'\n",
    ")\n",
    "s"
   ]
  },
  {
   "cell_type": "code",
   "execution_count": 11,
   "id": "6bc5a026",
   "metadata": {},
   "outputs": [
    {
     "data": {
      "text/plain": [
       "array([100, 'a', {'dic1': 5}], dtype=object)"
      ]
     },
     "execution_count": 11,
     "metadata": {},
     "output_type": "execute_result"
    }
   ],
   "source": [
    "s.values"
   ]
  },
  {
   "cell_type": "code",
   "execution_count": 12,
   "id": "0a09251d",
   "metadata": {},
   "outputs": [
    {
     "data": {
      "text/plain": [
       "Index(['id1', 20, 'third'], dtype='object', name='my_idx')"
      ]
     },
     "execution_count": 12,
     "metadata": {},
     "output_type": "execute_result"
    }
   ],
   "source": [
    "s.index"
   ]
  },
  {
   "cell_type": "code",
   "execution_count": 13,
   "id": "c2466dc7",
   "metadata": {},
   "outputs": [
    {
     "data": {
      "text/plain": [
       "dtype('O')"
      ]
     },
     "execution_count": 13,
     "metadata": {},
     "output_type": "execute_result"
    }
   ],
   "source": [
    "s.dtype"
   ]
  },
  {
   "cell_type": "code",
   "execution_count": 14,
   "id": "ce9722bb",
   "metadata": {},
   "outputs": [
    {
     "data": {
      "text/plain": [
       "'my_name'"
      ]
     },
     "execution_count": 14,
     "metadata": {},
     "output_type": "execute_result"
    }
   ],
   "source": [
    "s.name"
   ]
  },
  {
   "cell_type": "code",
   "execution_count": 15,
   "id": "eaf9183b",
   "metadata": {},
   "outputs": [
    {
     "data": {
      "text/plain": [
       "(3,)"
      ]
     },
     "execution_count": 15,
     "metadata": {},
     "output_type": "execute_result"
    }
   ],
   "source": [
    "s.shape"
   ]
  },
  {
   "cell_type": "code",
   "execution_count": 16,
   "id": "0f15dc63",
   "metadata": {},
   "outputs": [
    {
     "data": {
      "text/html": [
       "<div>\n",
       "<style scoped>\n",
       "    .dataframe tbody tr th:only-of-type {\n",
       "        vertical-align: middle;\n",
       "    }\n",
       "\n",
       "    .dataframe tbody tr th {\n",
       "        vertical-align: top;\n",
       "    }\n",
       "\n",
       "    .dataframe thead th {\n",
       "        text-align: right;\n",
       "    }\n",
       "</style>\n",
       "<table border=\"1\" class=\"dataframe\">\n",
       "  <thead>\n",
       "    <tr style=\"text-align: right;\">\n",
       "      <th></th>\n",
       "      <th>col_0</th>\n",
       "      <th>col_1</th>\n",
       "      <th>col_2</th>\n",
       "    </tr>\n",
       "  </thead>\n",
       "  <tbody>\n",
       "    <tr>\n",
       "      <th>row_0</th>\n",
       "      <td>1</td>\n",
       "      <td>a</td>\n",
       "      <td>1.2</td>\n",
       "    </tr>\n",
       "    <tr>\n",
       "      <th>row_1</th>\n",
       "      <td>2</td>\n",
       "      <td>b</td>\n",
       "      <td>2.2</td>\n",
       "    </tr>\n",
       "    <tr>\n",
       "      <th>row_2</th>\n",
       "      <td>3</td>\n",
       "      <td>c</td>\n",
       "      <td>3.2</td>\n",
       "    </tr>\n",
       "  </tbody>\n",
       "</table>\n",
       "</div>"
      ],
      "text/plain": [
       "       col_0 col_1  col_2\n",
       "row_0      1     a    1.2\n",
       "row_1      2     b    2.2\n",
       "row_2      3     c    3.2"
      ]
     },
     "execution_count": 16,
     "metadata": {},
     "output_type": "execute_result"
    }
   ],
   "source": [
    "data=[[1,'a',1.2],[2,'b',2.2],[3,'c',3.2]]\n",
    "df=pd.DataFrame(data=data,\n",
    "               index=['row_%d'%i for i in range(3)],\n",
    "               columns=['col_0','col_1','col_2'])\n",
    "df"
   ]
  },
  {
   "cell_type": "code",
   "execution_count": 17,
   "id": "39ffba2d",
   "metadata": {},
   "outputs": [
    {
     "data": {
      "text/html": [
       "<div>\n",
       "<style scoped>\n",
       "    .dataframe tbody tr th:only-of-type {\n",
       "        vertical-align: middle;\n",
       "    }\n",
       "\n",
       "    .dataframe tbody tr th {\n",
       "        vertical-align: top;\n",
       "    }\n",
       "\n",
       "    .dataframe thead th {\n",
       "        text-align: right;\n",
       "    }\n",
       "</style>\n",
       "<table border=\"1\" class=\"dataframe\">\n",
       "  <thead>\n",
       "    <tr style=\"text-align: right;\">\n",
       "      <th></th>\n",
       "      <th>col_0</th>\n",
       "      <th>col_1</th>\n",
       "      <th>col_2</th>\n",
       "    </tr>\n",
       "  </thead>\n",
       "  <tbody>\n",
       "    <tr>\n",
       "      <th>row_0</th>\n",
       "      <td>1</td>\n",
       "      <td>a</td>\n",
       "      <td>1.2</td>\n",
       "    </tr>\n",
       "    <tr>\n",
       "      <th>row_1</th>\n",
       "      <td>2</td>\n",
       "      <td>b</td>\n",
       "      <td>2.2</td>\n",
       "    </tr>\n",
       "    <tr>\n",
       "      <th>row_2</th>\n",
       "      <td>3</td>\n",
       "      <td>c</td>\n",
       "      <td>3.2</td>\n",
       "    </tr>\n",
       "  </tbody>\n",
       "</table>\n",
       "</div>"
      ],
      "text/plain": [
       "       col_0 col_1  col_2\n",
       "row_0      1     a    1.2\n",
       "row_1      2     b    2.2\n",
       "row_2      3     c    3.2"
      ]
     },
     "execution_count": 17,
     "metadata": {},
     "output_type": "execute_result"
    }
   ],
   "source": [
    "df=pd.DataFrame(data={'col_0':[1,2,3],\n",
    "                      'col_1':list('abc'),\n",
    "                      'col_2':[1.2,2.2,3.2]},\n",
    "               index=['row_%d'%i for i in range(3)])\n",
    "df"
   ]
  },
  {
   "cell_type": "code",
   "execution_count": 18,
   "id": "1018f3d8",
   "metadata": {},
   "outputs": [
    {
     "data": {
      "text/plain": [
       "row_0    1\n",
       "row_1    2\n",
       "row_2    3\n",
       "Name: col_0, dtype: int64"
      ]
     },
     "execution_count": 18,
     "metadata": {},
     "output_type": "execute_result"
    }
   ],
   "source": [
    "df['col_0']"
   ]
  },
  {
   "cell_type": "code",
   "execution_count": 20,
   "id": "03e43de4",
   "metadata": {},
   "outputs": [
    {
     "data": {
      "text/html": [
       "<div>\n",
       "<style scoped>\n",
       "    .dataframe tbody tr th:only-of-type {\n",
       "        vertical-align: middle;\n",
       "    }\n",
       "\n",
       "    .dataframe tbody tr th {\n",
       "        vertical-align: top;\n",
       "    }\n",
       "\n",
       "    .dataframe thead th {\n",
       "        text-align: right;\n",
       "    }\n",
       "</style>\n",
       "<table border=\"1\" class=\"dataframe\">\n",
       "  <thead>\n",
       "    <tr style=\"text-align: right;\">\n",
       "      <th></th>\n",
       "      <th>col_0</th>\n",
       "      <th>col_1</th>\n",
       "    </tr>\n",
       "  </thead>\n",
       "  <tbody>\n",
       "    <tr>\n",
       "      <th>row_0</th>\n",
       "      <td>1</td>\n",
       "      <td>a</td>\n",
       "    </tr>\n",
       "    <tr>\n",
       "      <th>row_1</th>\n",
       "      <td>2</td>\n",
       "      <td>b</td>\n",
       "    </tr>\n",
       "    <tr>\n",
       "      <th>row_2</th>\n",
       "      <td>3</td>\n",
       "      <td>c</td>\n",
       "    </tr>\n",
       "  </tbody>\n",
       "</table>\n",
       "</div>"
      ],
      "text/plain": [
       "       col_0 col_1\n",
       "row_0      1     a\n",
       "row_1      2     b\n",
       "row_2      3     c"
      ]
     },
     "execution_count": 20,
     "metadata": {},
     "output_type": "execute_result"
    }
   ],
   "source": [
    "df[['col_0','col_1']]"
   ]
  },
  {
   "cell_type": "markdown",
   "id": "2ba7fc1d",
   "metadata": {},
   "source": [
    "取属性同上"
   ]
  },
  {
   "cell_type": "code",
   "execution_count": 21,
   "id": "28caff21",
   "metadata": {},
   "outputs": [
    {
     "data": {
      "text/html": [
       "<div>\n",
       "<style scoped>\n",
       "    .dataframe tbody tr th:only-of-type {\n",
       "        vertical-align: middle;\n",
       "    }\n",
       "\n",
       "    .dataframe tbody tr th {\n",
       "        vertical-align: top;\n",
       "    }\n",
       "\n",
       "    .dataframe thead th {\n",
       "        text-align: right;\n",
       "    }\n",
       "</style>\n",
       "<table border=\"1\" class=\"dataframe\">\n",
       "  <thead>\n",
       "    <tr style=\"text-align: right;\">\n",
       "      <th></th>\n",
       "      <th>row_0</th>\n",
       "      <th>row_1</th>\n",
       "      <th>row_2</th>\n",
       "    </tr>\n",
       "  </thead>\n",
       "  <tbody>\n",
       "    <tr>\n",
       "      <th>col_0</th>\n",
       "      <td>1</td>\n",
       "      <td>2</td>\n",
       "      <td>3</td>\n",
       "    </tr>\n",
       "    <tr>\n",
       "      <th>col_1</th>\n",
       "      <td>a</td>\n",
       "      <td>b</td>\n",
       "      <td>c</td>\n",
       "    </tr>\n",
       "    <tr>\n",
       "      <th>col_2</th>\n",
       "      <td>1.2</td>\n",
       "      <td>2.2</td>\n",
       "      <td>3.2</td>\n",
       "    </tr>\n",
       "  </tbody>\n",
       "</table>\n",
       "</div>"
      ],
      "text/plain": [
       "      row_0 row_1 row_2\n",
       "col_0     1     2     3\n",
       "col_1     a     b     c\n",
       "col_2   1.2   2.2   3.2"
      ]
     },
     "execution_count": 21,
     "metadata": {},
     "output_type": "execute_result"
    }
   ],
   "source": [
    "#转置\n",
    "df.T"
   ]
  },
  {
   "cell_type": "markdown",
   "id": "59b251da",
   "metadata": {},
   "source": [
    "3、常用基本函数"
   ]
  },
  {
   "cell_type": "code",
   "execution_count": null,
   "id": "c266d09b",
   "metadata": {},
   "outputs": [],
   "source": [
    "#返回序列前两行\n",
    "df.head(2)\n",
    "#返回序列后3行\n",
    "df.tail(3)\n",
    "#返回表的信息概况\n",
    "df.info()\n",
    "#返回表中数值列对应的主要统计量\n",
    "df.describe()"
   ]
  },
  {
   "cell_type": "code",
   "execution_count": null,
   "id": "ef0e1354",
   "metadata": {},
   "outputs": [],
   "source": [
    "df_demo=df[['Height','Weight']]\n",
    "df_demo.mean()\n",
    "df_demo.max()"
   ]
  },
  {
   "cell_type": "code",
   "execution_count": null,
   "id": "485dfe45",
   "metadata": {},
   "outputs": [],
   "source": [
    "#返回分位数\n",
    "df_demo.quantile(0.75)\n",
    "#返回非缺失值个数\n",
    "df_demo.count()\n",
    "#返回最大值对应的索引\n",
    "df_demo.idmax()\n",
    "\n",
    "df_demo.mean(axis=1).head()"
   ]
  },
  {
   "cell_type": "code",
   "execution_count": null,
   "id": "a0017a5f",
   "metadata": {},
   "outputs": [],
   "source": [
    "df['School'].unique()\n",
    "df['School'].nunique()\n",
    "\n",
    "#得到唯一值和出现的频数\n",
    "df['School'].value_counts()\n",
    "\n",
    "df_demo=df[['Gender','Transfer','Name']]\n",
    "df_demo.drop_duplicates(['Gender','Transfer'])\n",
    "\n",
    "# 保留只出现过一次的性别和姓名组合\n",
    "df_demo.drop_duplicates(['Name','Gender'], keep=False).head()\n",
    "# 在Series上也可以使用\n",
    "df['School'].drop_duplicates()\n",
    "\n",
    "df_demo.duplicated(['Gender','Transfer']).head()\n",
    "df['School'].duplicated().head()"
   ]
  },
  {
   "cell_type": "code",
   "execution_count": null,
   "id": "10c0c6a1",
   "metadata": {},
   "outputs": [],
   "source": [
    "df['Gender'].replace({'Female':0,'Male':1}).head()\n",
    "df['Gender'].replace(['Female','Male'],[0,1]).head()"
   ]
  },
  {
   "cell_type": "code",
   "execution_count": 25,
   "id": "a8d53827",
   "metadata": {},
   "outputs": [
    {
     "data": {
      "text/plain": [
       "0    a\n",
       "1    a\n",
       "2    b\n",
       "3    b\n",
       "4    b\n",
       "5    b\n",
       "6    a\n",
       "dtype: object"
      ]
     },
     "execution_count": 25,
     "metadata": {},
     "output_type": "execute_result"
    }
   ],
   "source": [
    "s=pd.Series(['a',1,'b',2,1,1,'a'])\n",
    "s.replace([1,2], method='ffill')"
   ]
  },
  {
   "cell_type": "code",
   "execution_count": 26,
   "id": "d0cc2b87",
   "metadata": {},
   "outputs": [
    {
     "data": {
      "text/plain": [
       "0    a\n",
       "1    b\n",
       "2    b\n",
       "3    a\n",
       "4    a\n",
       "5    a\n",
       "6    a\n",
       "dtype: object"
      ]
     },
     "execution_count": 26,
     "metadata": {},
     "output_type": "execute_result"
    }
   ],
   "source": [
    "s.replace([1,2],method='bfill')"
   ]
  },
  {
   "cell_type": "code",
   "execution_count": 28,
   "id": "c3c55989",
   "metadata": {},
   "outputs": [
    {
     "data": {
      "text/plain": [
       "0    -1.0\n",
       "1     NaN\n",
       "2     NaN\n",
       "3   -50.0\n",
       "dtype: float64"
      ]
     },
     "execution_count": 28,
     "metadata": {},
     "output_type": "execute_result"
    }
   ],
   "source": [
    "s=pd.Series([-1,1.2345,100,-50])\n",
    "s.where(s<0)"
   ]
  },
  {
   "cell_type": "code",
   "execution_count": 29,
   "id": "f4d0c819",
   "metadata": {},
   "outputs": [
    {
     "data": {
      "text/plain": [
       "0     -1.0\n",
       "1    100.0\n",
       "2    100.0\n",
       "3    -50.0\n",
       "dtype: float64"
      ]
     },
     "execution_count": 29,
     "metadata": {},
     "output_type": "execute_result"
    }
   ],
   "source": [
    "s.where(s<0,100)"
   ]
  },
  {
   "cell_type": "code",
   "execution_count": 30,
   "id": "e516eaa8",
   "metadata": {},
   "outputs": [
    {
     "data": {
      "text/plain": [
       "0         NaN\n",
       "1      1.2345\n",
       "2    100.0000\n",
       "3         NaN\n",
       "dtype: float64"
      ]
     },
     "execution_count": 30,
     "metadata": {},
     "output_type": "execute_result"
    }
   ],
   "source": [
    "s.mask(s<0)"
   ]
  },
  {
   "cell_type": "code",
   "execution_count": 31,
   "id": "b5fcae85",
   "metadata": {},
   "outputs": [
    {
     "data": {
      "text/plain": [
       "0    -50.0000\n",
       "1      1.2345\n",
       "2    100.0000\n",
       "3    -50.0000\n",
       "dtype: float64"
      ]
     },
     "execution_count": 31,
     "metadata": {},
     "output_type": "execute_result"
    }
   ],
   "source": [
    "s.mask(s<0,-50)"
   ]
  },
  {
   "cell_type": "code",
   "execution_count": 32,
   "id": "e331c1e1",
   "metadata": {},
   "outputs": [
    {
     "data": {
      "text/plain": [
       "0    -50.0000\n",
       "1      1.2345\n",
       "2    100.0000\n",
       "3    -50.0000\n",
       "dtype: float64"
      ]
     },
     "execution_count": 32,
     "metadata": {},
     "output_type": "execute_result"
    }
   ],
   "source": [
    "s_condition=pd.Series([True,False,False,True],index=s.index)\n",
    "s.mask(s_condition,-50)"
   ]
  },
  {
   "cell_type": "code",
   "execution_count": 33,
   "id": "e8eb3690",
   "metadata": {},
   "outputs": [
    {
     "data": {
      "text/plain": [
       "0     -1.00\n",
       "1      1.23\n",
       "2    100.00\n",
       "3    -50.00\n",
       "dtype: float64"
      ]
     },
     "execution_count": 33,
     "metadata": {},
     "output_type": "execute_result"
    }
   ],
   "source": [
    "s=pd.Series([-1,1.2345,100,-50])\n",
    "s.round(2)"
   ]
  },
  {
   "cell_type": "code",
   "execution_count": 34,
   "id": "ce1070fd",
   "metadata": {},
   "outputs": [
    {
     "data": {
      "text/plain": [
       "0      1.0000\n",
       "1      1.2345\n",
       "2    100.0000\n",
       "3     50.0000\n",
       "dtype: float64"
      ]
     },
     "execution_count": 34,
     "metadata": {},
     "output_type": "execute_result"
    }
   ],
   "source": [
    "s.abs()"
   ]
  },
  {
   "cell_type": "code",
   "execution_count": 35,
   "id": "fdafe618",
   "metadata": {},
   "outputs": [
    {
     "data": {
      "text/plain": [
       "0    0.0000\n",
       "1    1.2345\n",
       "2    2.0000\n",
       "3    0.0000\n",
       "dtype: float64"
      ]
     },
     "execution_count": 35,
     "metadata": {},
     "output_type": "execute_result"
    }
   ],
   "source": [
    "#前两个数分别表示上下截断边界\n",
    "s.clip(0,2)"
   ]
  },
  {
   "cell_type": "code",
   "execution_count": null,
   "id": "ca03cee4",
   "metadata": {},
   "outputs": [],
   "source": [
    "df_demo = df[['Grade', 'Name', 'Height', 'Weight']].set_index(['Grade','Name'])\n",
    "df_demo.head(3)"
   ]
  },
  {
   "cell_type": "code",
   "execution_count": null,
   "id": "500ba83d",
   "metadata": {},
   "outputs": [],
   "source": [
    "df_demo.sort_values('Height').head()\n",
    "df_demo.sort_values(['Weight','Height'],ascending=[True,False]).head()\n",
    "\n",
    "df_demo.sort_index(level=['Grade','Name'],ascending=[True,False]).head()"
   ]
  },
  {
   "cell_type": "code",
   "execution_count": null,
   "id": "18a7a9e6",
   "metadata": {},
   "outputs": [],
   "source": [
    "df_demo=df[['Height','Weight']]\n",
    "def my_mean(x):\n",
    "    res=x.mean()\n",
    "    return res\n",
    "df_demo.apply(my_mean)"
   ]
  },
  {
   "cell_type": "code",
   "execution_count": null,
   "id": "63d73020",
   "metadata": {},
   "outputs": [],
   "source": [
    "df_demo.apply(lambda x:x.mean())\n",
    "\n",
    "df_demo.apply(lambda x:x.mean(),axis=1).head()\n",
    "\n",
    "df_demo.apply(lambda x:(x-x.mean()).abs().mean())\n",
    "df_demo.mad()\n",
    "\n",
    "#谨慎使用apply"
   ]
  },
  {
   "cell_type": "markdown",
   "id": "d5f2411c",
   "metadata": {},
   "source": [
    "4、窗口对象"
   ]
  },
  {
   "cell_type": "code",
   "execution_count": 39,
   "id": "429d6ba1",
   "metadata": {},
   "outputs": [
    {
     "data": {
      "text/plain": [
       "Rolling [window=3,center=False,axis=0]"
      ]
     },
     "execution_count": 39,
     "metadata": {},
     "output_type": "execute_result"
    }
   ],
   "source": [
    "#滑窗对象\n",
    "s=pd.Series([1,2,3,4,5])\n",
    "roller=s.rolling(window=3)\n",
    "roller"
   ]
  },
  {
   "cell_type": "code",
   "execution_count": 40,
   "id": "74a5d32d",
   "metadata": {},
   "outputs": [
    {
     "data": {
      "text/plain": [
       "0    NaN\n",
       "1    NaN\n",
       "2    2.0\n",
       "3    3.0\n",
       "4    4.0\n",
       "dtype: float64"
      ]
     },
     "execution_count": 40,
     "metadata": {},
     "output_type": "execute_result"
    }
   ],
   "source": [
    "roller.mean() #等价于roller.apply(lambda x:x.mean())"
   ]
  },
  {
   "cell_type": "code",
   "execution_count": 41,
   "id": "e48c628f",
   "metadata": {},
   "outputs": [
    {
     "data": {
      "text/plain": [
       "0     NaN\n",
       "1     NaN\n",
       "2     6.0\n",
       "3     9.0\n",
       "4    12.0\n",
       "dtype: float64"
      ]
     },
     "execution_count": 41,
     "metadata": {},
     "output_type": "execute_result"
    }
   ],
   "source": [
    "roller.sum()"
   ]
  },
  {
   "cell_type": "code",
   "execution_count": 43,
   "id": "248e3251",
   "metadata": {},
   "outputs": [
    {
     "data": {
      "text/plain": [
       "0     NaN\n",
       "1     NaN\n",
       "2     2.5\n",
       "3     7.0\n",
       "4    12.0\n",
       "dtype: float64"
      ]
     },
     "execution_count": 43,
     "metadata": {},
     "output_type": "execute_result"
    }
   ],
   "source": [
    "s2=pd.Series([1,2,6,16,30])\n",
    "roller.cov(s2)"
   ]
  },
  {
   "cell_type": "code",
   "execution_count": 44,
   "id": "b49f94f3",
   "metadata": {},
   "outputs": [
    {
     "data": {
      "text/plain": [
       "0         NaN\n",
       "1         NaN\n",
       "2    0.944911\n",
       "3    0.970725\n",
       "4    0.995402\n",
       "dtype: float64"
      ]
     },
     "execution_count": 44,
     "metadata": {},
     "output_type": "execute_result"
    }
   ],
   "source": [
    "roller.corr(s2)"
   ]
  },
  {
   "cell_type": "code",
   "execution_count": 46,
   "id": "3092e7b5",
   "metadata": {},
   "outputs": [
    {
     "data": {
      "text/plain": [
       "0    NaN\n",
       "1    NaN\n",
       "2    1.0\n",
       "3    3.0\n",
       "4    6.0\n",
       "dtype: float64"
      ]
     },
     "execution_count": 46,
     "metadata": {},
     "output_type": "execute_result"
    }
   ],
   "source": [
    "s=pd.Series([1,3,6,10,15])\n",
    "s.shift(2)"
   ]
  },
  {
   "cell_type": "code",
   "execution_count": 47,
   "id": "4bdcf6bc",
   "metadata": {},
   "outputs": [
    {
     "data": {
      "text/plain": [
       "0     NaN\n",
       "1     NaN\n",
       "2     NaN\n",
       "3     9.0\n",
       "4    12.0\n",
       "dtype: float64"
      ]
     },
     "execution_count": 47,
     "metadata": {},
     "output_type": "execute_result"
    }
   ],
   "source": [
    "s.diff(3)"
   ]
  },
  {
   "cell_type": "code",
   "execution_count": 48,
   "id": "0ace3610",
   "metadata": {},
   "outputs": [
    {
     "data": {
      "text/plain": [
       "0         NaN\n",
       "1    2.000000\n",
       "2    1.000000\n",
       "3    0.666667\n",
       "4    0.500000\n",
       "dtype: float64"
      ]
     },
     "execution_count": 48,
     "metadata": {},
     "output_type": "execute_result"
    }
   ],
   "source": [
    "s.pct_change()"
   ]
  },
  {
   "cell_type": "code",
   "execution_count": 49,
   "id": "4ec3be0a",
   "metadata": {},
   "outputs": [
    {
     "data": {
      "text/plain": [
       "0     3.0\n",
       "1     6.0\n",
       "2    10.0\n",
       "3    15.0\n",
       "4     NaN\n",
       "dtype: float64"
      ]
     },
     "execution_count": 49,
     "metadata": {},
     "output_type": "execute_result"
    }
   ],
   "source": [
    "s.shift(-1)"
   ]
  },
  {
   "cell_type": "code",
   "execution_count": 50,
   "id": "c17c07b4",
   "metadata": {},
   "outputs": [
    {
     "data": {
      "text/plain": [
       "0   -5.0\n",
       "1   -7.0\n",
       "2   -9.0\n",
       "3    NaN\n",
       "4    NaN\n",
       "dtype: float64"
      ]
     },
     "execution_count": 50,
     "metadata": {},
     "output_type": "execute_result"
    }
   ],
   "source": [
    "s.diff(-2)"
   ]
  },
  {
   "cell_type": "code",
   "execution_count": 51,
   "id": "576d6db8",
   "metadata": {},
   "outputs": [
    {
     "data": {
      "text/plain": [
       "0    NaN\n",
       "1    NaN\n",
       "2    1.0\n",
       "3    3.0\n",
       "4    6.0\n",
       "dtype: float64"
      ]
     },
     "execution_count": 51,
     "metadata": {},
     "output_type": "execute_result"
    }
   ],
   "source": [
    "s.rolling(3).apply(lambda x:list(x)[0])"
   ]
  },
  {
   "cell_type": "code",
   "execution_count": 52,
   "id": "46b95f52",
   "metadata": {},
   "outputs": [
    {
     "data": {
      "text/plain": [
       "0     NaN\n",
       "1     NaN\n",
       "2     NaN\n",
       "3     9.0\n",
       "4    12.0\n",
       "dtype: float64"
      ]
     },
     "execution_count": 52,
     "metadata": {},
     "output_type": "execute_result"
    }
   ],
   "source": [
    "s.rolling(4).apply(lambda x:list(x)[-1]-list(x)[0])"
   ]
  },
  {
   "cell_type": "code",
   "execution_count": 53,
   "id": "5503fcd9",
   "metadata": {},
   "outputs": [
    {
     "data": {
      "text/plain": [
       "0         NaN\n",
       "1    2.000000\n",
       "2    1.000000\n",
       "3    0.666667\n",
       "4    0.500000\n",
       "dtype: float64"
      ]
     },
     "execution_count": 53,
     "metadata": {},
     "output_type": "execute_result"
    }
   ],
   "source": [
    "def my_pct(x):\n",
    "    L=list(x)\n",
    "    return L[-1]/L[0]-1\n",
    "s.rolling(2).apply(my_pct)"
   ]
  },
  {
   "cell_type": "code",
   "execution_count": 55,
   "id": "b509f6e3",
   "metadata": {},
   "outputs": [
    {
     "data": {
      "text/plain": [
       "0    1.000000\n",
       "1    2.000000\n",
       "2    3.333333\n",
       "3    5.000000\n",
       "dtype: float64"
      ]
     },
     "execution_count": 55,
     "metadata": {},
     "output_type": "execute_result"
    }
   ],
   "source": [
    "#扩张窗口 cummax cumsum cumprod\n",
    "s=pd.Series([1,3,6,10])\n",
    "s.expanding().mean()"
   ]
  },
  {
   "cell_type": "markdown",
   "id": "2e562c89",
   "metadata": {},
   "source": [
    "练习"
   ]
  },
  {
   "cell_type": "code",
   "execution_count": null,
   "id": "ebc7e2fa",
   "metadata": {},
   "outputs": [],
   "source": [
    "df[df.columns[5:]].sum(1)==df['Total'].all()"
   ]
  },
  {
   "cell_type": "code",
   "execution_count": null,
   "id": "57ce9113",
   "metadata": {},
   "outputs": [],
   "source": [
    "df_temp=df.drop_duplicates('#')\n",
    "df_temp.head()"
   ]
  },
  {
   "cell_type": "code",
   "execution_count": null,
   "id": "7103ae87",
   "metadata": {},
   "outputs": [],
   "source": [
    "df_temp['Type 1'].nunique"
   ]
  },
  {
   "cell_type": "code",
   "execution_count": null,
   "id": "67f3e728",
   "metadata": {},
   "outputs": [],
   "source": [
    "df_temp['Type 1'].value_counts().index[:3]"
   ]
  },
  {
   "cell_type": "code",
   "execution_count": null,
   "id": "cd49ede8",
   "metadata": {},
   "outputs": [],
   "source": [
    "df_temp.drop_duplicates(['Type1','Type2']).shape[0]"
   ]
  },
  {
   "cell_type": "code",
   "execution_count": null,
   "id": "66402d33",
   "metadata": {},
   "outputs": [],
   "source": [
    "L_all=[i+''+j for i in df['Type 1'].unique() for j in (df['Type 1'].unique().tolist()+[''])]\n",
    "len(L_all)"
   ]
  },
  {
   "cell_type": "code",
   "execution_count": null,
   "id": "b21d9187",
   "metadata": {},
   "outputs": [],
   "source": [
    "L_part=[i+''+j for i,j in zip(df['Type 1'],df['Type 2'].replace(np.nan,''))]\n",
    "len(set(L_all).difference(set(L_part)))"
   ]
  },
  {
   "cell_type": "code",
   "execution_count": null,
   "id": "ebdad72b",
   "metadata": {},
   "outputs": [],
   "source": [
    "L=df['Type 1'].unique().tolist()\n",
    "df['Type 1'].replace(L,[str.upper(i) for i in L])\n",
    "\n",
    "df['Type 1'].apply(lambda x:str.upper(x))"
   ]
  },
  {
   "cell_type": "code",
   "execution_count": null,
   "id": "f2f86ce1",
   "metadata": {},
   "outputs": [],
   "source": [
    "df['Deviation']=df[df.column[5:]].apply(lambda x:(x-x.median()).max(),1)\n",
    "df.sort_values('Deviation', ascending=False)"
   ]
  },
  {
   "cell_type": "code",
   "execution_count": null,
   "id": "b3112ae0",
   "metadata": {},
   "outputs": [],
   "source": [
    "s=pd.Serious(range(10))\n",
    "s[::-1].rolling(5).sum()[::-1]#倒序"
   ]
  }
 ],
 "metadata": {
  "kernelspec": {
   "display_name": "Python 3",
   "language": "python",
   "name": "python3"
  },
  "language_info": {
   "codemirror_mode": {
    "name": "ipython",
    "version": 3
   },
   "file_extension": ".py",
   "mimetype": "text/x-python",
   "name": "python",
   "nbconvert_exporter": "python",
   "pygments_lexer": "ipython3",
   "version": "3.6.13"
  }
 },
 "nbformat": 4,
 "nbformat_minor": 5
}
