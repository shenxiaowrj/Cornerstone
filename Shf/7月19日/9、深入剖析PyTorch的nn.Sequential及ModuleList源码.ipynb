{
 "cells": [
  {
   "cell_type": "markdown",
   "id": "cf3ae53b",
   "metadata": {},
   "source": [
    "一些Class："
   ]
  },
  {
   "cell_type": "markdown",
   "id": "0e4f4ca3",
   "metadata": {},
   "source": [
    "一、module.py续"
   ]
  },
  {
   "cell_type": "markdown",
   "id": "488acda8",
   "metadata": {},
   "source": [
    "train()，将模型设置为训练的模式"
   ]
  },
  {
   "cell_type": "raw",
   "id": "2141b002",
   "metadata": {},
   "source": [
    "eval()，进入推理模式"
   ]
  },
  {
   "cell_type": "markdown",
   "id": "d1be86a0",
   "metadata": {},
   "source": [
    "requires_grad()，自动微分，是否对函数进行偏导"
   ]
  },
  {
   "cell_type": "markdown",
   "id": "e592e55e",
   "metadata": {},
   "source": [
    "zero_grad()，梯度清零，直接在优化器中调用"
   ]
  },
  {
   "cell_type": "markdown",
   "id": "63deedf0",
   "metadata": {},
   "source": [
    "__repr__(self)，str(test_module)，输出格式与魔法函数repre相同"
   ]
  },
  {
   "cell_type": "markdown",
   "id": "ab67a04b",
   "metadata": {},
   "source": [
    "__dir__(self)，dir(test_module)"
   ]
  },
  {
   "cell_type": "markdown",
   "id": "8f9b88b9",
   "metadata": {},
   "source": [
    "二、Container.py"
   ]
  },
  {
   "cell_type": "code",
   "execution_count": null,
   "id": "e16e01af",
   "metadata": {},
   "outputs": [],
   "source": [
    "1、Container(Module)，不常用了"
   ]
  },
  {
   "cell_type": "markdown",
   "id": "b7ccd1a2",
   "metadata": {},
   "source": [
    "2、Sequential(Module)，有序，具有前向运算功能"
   ]
  },
  {
   "cell_type": "markdown",
   "id": "299fe6f1",
   "metadata": {},
   "source": [
    "__init__()"
   ]
  },
  {
   "cell_type": "code",
   "execution_count": null,
   "id": "451c988b",
   "metadata": {},
   "outputs": [],
   "source": [
    "#传入一些实例或字典\n",
    "model=nn.Sequential(\n",
    "    nn.Conv2d(1,20,5),\n",
    "    nn.ReLU(),\n",
    "    nn.Conv2d(20,64,5),\n",
    "    nn.ReLU()\n",
    ")"
   ]
  },
  {
   "cell_type": "code",
   "execution_count": 2,
   "id": "404c0c1c",
   "metadata": {},
   "outputs": [
    {
     "data": {
      "text/plain": [
       "Sequential(\n",
       "  (0): Linear(in_features=2, out_features=3, bias=True)\n",
       "  (1): Linear(in_features=3, out_features=4, bias=True)\n",
       ")"
      ]
     },
     "execution_count": 2,
     "metadata": {},
     "output_type": "execute_result"
    }
   ],
   "source": [
    "import torch\n",
    "s=torch.nn.Sequential(torch.nn.Linear(2,3),torch.nn.Linear(3,4))\n",
    "s"
   ]
  },
  {
   "cell_type": "code",
   "execution_count": 3,
   "id": "38386ad1",
   "metadata": {},
   "outputs": [
    {
     "data": {
      "text/plain": [
       "OrderedDict([('0', Linear(in_features=2, out_features=3, bias=True)),\n",
       "             ('1', Linear(in_features=3, out_features=4, bias=True))])"
      ]
     },
     "execution_count": 3,
     "metadata": {},
     "output_type": "execute_result"
    }
   ],
   "source": [
    "s._modules"
   ]
  },
  {
   "cell_type": "markdown",
   "id": "dcb9c60b",
   "metadata": {},
   "source": [
    "forward()"
   ]
  },
  {
   "cell_type": "code",
   "execution_count": null,
   "id": "63384ee3",
   "metadata": {},
   "outputs": [],
   "source": [
    "s(input) #依次去过每一个module中的子module"
   ]
  },
  {
   "cell_type": "markdown",
   "id": "50352e6b",
   "metadata": {},
   "source": [
    "3、ModuleList(Module)，把很多子module放到一个列表中"
   ]
  },
  {
   "cell_type": "code",
   "execution_count": 5,
   "id": "ecbc382f",
   "metadata": {},
   "outputs": [],
   "source": [
    "#一个存放模型的列表\n",
    "from torch import nn\n",
    "class MyModule(nn.Module):\n",
    "    def __init__(self):\n",
    "        super(MyModule, self).__init__()\n",
    "        self.linears=nn.ModuleList([nn.Linear(10,10) for i in range(10)])\n",
    "        \n",
    "    def forward(self,x):\n",
    "        # ModuleList can act as an iterable, or be indexed using ints.\n",
    "        for i,l in enumerate(self.linears):\n",
    "            x=self.linears[i//2](x)+l(x)\n",
    "        return x"
   ]
  },
  {
   "cell_type": "markdown",
   "id": "ed20460e",
   "metadata": {},
   "source": [
    "4、ModuleDict(Module)，用字典构建"
   ]
  },
  {
   "cell_type": "code",
   "execution_count": 6,
   "id": "eb5ebd8c",
   "metadata": {},
   "outputs": [],
   "source": [
    "class MyModule(nn.Module):\n",
    "    def __init__(self):\n",
    "        super(MyModule, self).__init__()\n",
    "        self.choices=nn.ModuleDict({\n",
    "            'conv':nn.Conv2d(10,10,3),\n",
    "            'pool':nn.MaxPool2d(3)\n",
    "        })\n",
    "        self.activations=nn.ModuleDict([\n",
    "            ['lrelu', nn.LeakyReLU()],\n",
    "            ['prelu',nn.PReLU()]\n",
    "        ])\n",
    "        \n",
    "    def forward(self,x,choice,act):\n",
    "        x=self.choices[choice(x)]\n",
    "        x=self.activations[act](x)\n",
    "        return x"
   ]
  },
  {
   "cell_type": "markdown",
   "id": "4a8b6855",
   "metadata": {},
   "source": [
    "5、ParametersList(Module)，把参数放到一个列表中"
   ]
  },
  {
   "cell_type": "code",
   "execution_count": null,
   "id": "546e3d3c",
   "metadata": {},
   "outputs": [],
   "source": [
    "class MyModule(nn.Module):\n",
    "    def __init__(self):\n",
    "        super(MyModule, self).__init__()\n",
    "        self.params=nn.ParameterList([nn.Parameter(torch.randn(10,10)) for i in range(10)])\n",
    "        \n",
    "    def forward(self,x):\n",
    "        # ParameterList can act as an iterable, or be indexed using ints.\n",
    "        for i,p in enumerate(self.params):\n",
    "            x=self.params[i//2](x)+p.mm(x)\n",
    "        return x"
   ]
  },
  {
   "cell_type": "markdown",
   "id": "67526b43",
   "metadata": {},
   "source": [
    "6、ParameterDict(Module)，同上"
   ]
  },
  {
   "cell_type": "code",
   "execution_count": 7,
   "id": "b30b59c4",
   "metadata": {},
   "outputs": [],
   "source": [
    "class MyModule(nn.Module):\n",
    "    def __init__(self):\n",
    "        super(MyModule, self).__init__()\n",
    "        self.params=nn.ParameterDict({\n",
    "            'left':nn.Parameter(torch.randn(5,10)),\n",
    "            'right':nn.Parameter(troch.randn(5,10))\n",
    "        })\n",
    "        \n",
    "    def forward(self,x,choice):\n",
    "        x=self.params[choice].mm(x)\n",
    "        return x"
   ]
  }
 ],
 "metadata": {
  "kernelspec": {
   "display_name": "Python 3",
   "language": "python",
   "name": "python3"
  },
  "language_info": {
   "codemirror_mode": {
    "name": "ipython",
    "version": 3
   },
   "file_extension": ".py",
   "mimetype": "text/x-python",
   "name": "python",
   "nbconvert_exporter": "python",
   "pygments_lexer": "ipython3",
   "version": "3.6.13"
  }
 },
 "nbformat": 4,
 "nbformat_minor": 5
}
