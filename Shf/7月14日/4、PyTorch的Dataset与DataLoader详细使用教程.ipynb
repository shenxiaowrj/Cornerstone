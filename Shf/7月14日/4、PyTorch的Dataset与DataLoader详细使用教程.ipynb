{
 "cells": [
  {
   "cell_type": "markdown",
   "id": "0908b2d0",
   "metadata": {},
   "source": [
    "1、torch.utils.data.DataLoader，用来处理多个样本"
   ]
  },
  {
   "cell_type": "markdown",
   "id": "426e01b4",
   "metadata": {},
   "source": [
    "2、torch.utils.data.Dataset，用来处理单个样本"
   ]
  },
  {
   "cell_type": "code",
   "execution_count": 6,
   "id": "4efb7427",
   "metadata": {},
   "outputs": [
    {
     "data": {
      "image/png": "[encoded data removed]",
      "text/plain": [
       "<Figure size 576x576 with 9 Axes>"
      ]
     },
     "metadata": {
      "needs_background": "light"
     },
     "output_type": "display_data"
    }
   ],
   "source": [
    "#针对于torch内置的数据库而言，利用torchvision加载内置的数据集\n",
    "import torch\n",
    "from torch.utils.data import Dataset\n",
    "from torchvision import datasets\n",
    "from torchvision.transforms import ToTensor\n",
    "import matplotlib.pyplot as plt\n",
    "training_data=datasets.FashionMNIST(\n",
    "    root=\"data\",\n",
    "    train=True,\n",
    "    download=True,\n",
    "    transform=ToTensor()\n",
    ")\n",
    "test_data=datasets.FashionMNIST(\n",
    "    root=\"data\",\n",
    "    train=False,\n",
    "    download=True,\n",
    "    transform=ToTensor()\n",
    ")\n",
    "#可视化，x为图片，y为类别\n",
    "labels_map={\n",
    "    0:\"T-Shirt\",\n",
    "    1:\"Trouser\",\n",
    "    2:\"Pullover\",\n",
    "    3:\"Dress\",\n",
    "    4:\"Coat\",\n",
    "    5:\"Sandal\",\n",
    "    6:\"Shirt\",\n",
    "    7:\"Sneaker\",\n",
    "    8:\"Bag\",\n",
    "    9:\"Ankle Boot\"\n",
    "}\n",
    "figure=plt.figure(figsize=(8,8))\n",
    "cols,rows=3,3\n",
    "for i in range(1,cols * rows + 1):\n",
    "    sample_idx=torch.randint(len(training_data),size=(1,)).item()\n",
    "    img,label=training_data[sample_idx]\n",
    "    figure.add_subplot(rows,cols,i)\n",
    "    plt.title(labels_map[label])\n",
    "    plt.axis(\"off\")\n",
    "    plt.imshow(img.squeeze(),cmap=\"gray\")\n",
    "plt.show()"
   ]
  },
  {
   "cell_type": "markdown",
   "id": "f909f51b",
   "metadata": {},
   "source": [
    "3、构建自定义的Dataset"
   ]
  },
  {
   "cell_type": "markdown",
   "id": "dedc5350",
   "metadata": {},
   "source": [
    "必须实现3个函数：_init_、_len_、_getitem_"
   ]
  },
  {
   "cell_type": "code",
   "execution_count": 10,
   "id": "e181a367",
   "metadata": {},
   "outputs": [],
   "source": [
    "import os\n",
    "import pandas as pd\n",
    "from torchvision.io import read_image\n",
    "\n",
    "class CustomImageDataset(Dataset):\n",
    "    #需要传入磁盘或文件路径\n",
    "    def __init__(self, annotations_file, img_dir, transform=None, target_transform=None): #transform和target_transform是分别对特征或标签进行预处理和后处理的函数\n",
    "        self.img_labels = pd.read_csv(annotations_file)\n",
    "        self.img_dir = img_dir\n",
    "        self.transform = transform\n",
    "        self.target_transform = target_transform\n",
    "        \n",
    "    #返回数据库大小\n",
    "    def __len__(self):\n",
    "        return len(self.img_labels)\n",
    "    \n",
    "    #基于一个索引，返回一个训练样本，这个训练样本是由x，y构成的训练对\n",
    "    def __getitem__(self, idx):\n",
    "        img_path = os.path.join(self.img_dir, self.img_labels.iloc[idx, 0])\n",
    "        image = read_image(img_path)\n",
    "        label = self.img_labels.iloc[idx, 1]\n",
    "        if self.transform:\n",
    "            image = self.transform(image)\n",
    "        if self.target_transform:\n",
    "            label = self.target_transform(label)\n",
    "        return image, label"
   ]
  },
  {
   "cell_type": "markdown",
   "id": "8689a720",
   "metadata": {},
   "source": [
    "4、一批DataLoader"
   ]
  },
  {
   "cell_type": "code",
   "execution_count": null,
   "id": "7c02681d",
   "metadata": {},
   "outputs": [],
   "source": [
    "#可能会涉及到多进程加载数据\n",
    "#导入DataLoader          ###查看其用法：命令行vim dataloader.py   定位：class DataLoader\n",
    "from torch.utils.data import DataLoader\n",
    "\n",
    "train_dataloader = DataLoader(training_data, batch_size=64, shuffle=True) #shuffle对数据进行打乱\n",
    "test_dataloader = DataLoader(test_data, batch_size=64)"
   ]
  },
  {
   "cell_type": "code",
   "execution_count": null,
   "id": "a4d220bc",
   "metadata": {},
   "outputs": [],
   "source": [
    "# Display image and label.\n",
    "train_features, train_labels = next(iter(train_dataloader))\n",
    "print(f\"Feature batch shape: {train_features.size()}\")\n",
    "print(f\"Labels batch shape: {train_labels.size()}\")\n",
    "img = train_features[0].squeeze()\n",
    "label = train_labels[0]\n",
    "plt.imshow(img, cmap=\"gray\")\n",
    "plt.show()\n",
    "print(f\"Label: {label}\")"
   ]
  },
  {
   "cell_type": "markdown",
   "id": "8de555d8",
   "metadata": {},
   "source": [
    "5、Dataset Type"
   ]
  },
  {
   "cell_type": "markdown",
   "id": "6e22fd02",
   "metadata": {},
   "source": [
    "map-style datasets（常用）、iterable-style datasets（更适用于流式计算场景）"
   ]
  }
 ],
 "metadata": {
  "kernelspec": {
   "display_name": "Python 3",
   "language": "python",
   "name": "python3"
  },
  "language_info": {
   "codemirror_mode": {
    "name": "ipython",
    "version": 3
   },
   "file_extension": ".py",
   "mimetype": "text/x-python",
   "name": "python",
   "nbconvert_exporter": "python",
   "pygments_lexer": "ipython3",
   "version": "3.6.13"
  }
 },
 "nbformat": 4,
 "nbformat_minor": 5
}
