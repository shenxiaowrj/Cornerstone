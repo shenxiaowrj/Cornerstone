{
 "cells": [
  {
   "cell_type": "markdown",
   "metadata": {},
   "source": [
    "假设pytorch是一个工具箱\n",
    "dir()函数，让我们知道工具箱以及工具箱中的分隔区有什么东西\n",
    "help()函数，让我们知道每个工具如何使用，工具的使用方法"
   ]
  },
  {
   "cell_type": "code",
   "execution_count": 6,
   "metadata": {},
   "outputs": [],
   "source": [
    "import os\n",
    "import torch\n",
    "from torch import nn\n",
    "from torch.utils.data import DataLoader\n",
    "from torchvision import datasets, transforms"
   ]
  },
  {
   "cell_type": "code",
   "execution_count": 2,
   "metadata": {},
   "outputs": [
    {
     "name": "stdout",
     "output_type": "stream",
     "text": [
      "Using cuda device\n"
     ]
    }
   ],
   "source": [
    "device = \"cuda\" if torch.cuda.is_available() else \"cpu\"     #判断当前cuda是否可用，可用则在gpu运行，不可用则默认在cpu运行\n",
    "print(f\"Using {device} device\")"
   ]
  },
  {
   "cell_type": "code",
   "execution_count": 7,
   "metadata": {},
   "outputs": [],
   "source": [
    "class NeuralNetwork(nn.Module):    #声明父类\n",
    "    def __init__(self):\n",
    "        super(NeuralNetwork, self).__init__()\n",
    "        self.flatten = nn.Flatten()    #创建flatten层\n",
    "        self.linear_relu_stack = nn.Sequential(      #stack层\n",
    "            nn.Linear(28*28, 512),   #线性层\n",
    "            nn.ReLU(),               #非线性函数\n",
    "            nn.Linear(512, 512),\n",
    "            nn.ReLU(),\n",
    "            nn.Linear(512, 10),\n",
    "        )\n",
    "\n",
    "    def forward(self, x):     #前向运算\n",
    "        x = self.flatten(x)   #维度展开\n",
    "        logits = self.linear_relu_stack(x)\n",
    "        return logits    #在pytorch中Linear层的输出就是logits 另一种理解的角度就是能量\n",
    "    # 得到logits之后讲过softmax 然后就可以得到预测的概率 之后就可以进行计算损失"
   ]
  },
  {
   "cell_type": "code",
   "execution_count": 8,
   "metadata": {},
   "outputs": [
    {
     "name": "stdout",
     "output_type": "stream",
     "text": [
      "NeuralNetwork(\n",
      "  (flatten): Flatten(start_dim=1, end_dim=-1)\n",
      "  (linear_relu_stack): Sequential(\n",
      "    (0): Linear(in_features=784, out_features=512, bias=True)\n",
      "    (1): ReLU()\n",
      "    (2): Linear(in_features=512, out_features=512, bias=True)\n",
      "    (3): ReLU()\n",
      "    (4): Linear(in_features=512, out_features=10, bias=True)\n",
      "  )\n",
      ")\n"
     ]
    }
   ],
   "source": [
    "model = NeuralNetwork().to(device)   #实例化一个网络，并将网络传入一个设备之中\n",
    "print(model)   #输出方法一：print输出"
   ]
  },
  {
   "cell_type": "code",
   "execution_count": 16,
   "metadata": {},
   "outputs": [
    {
     "name": "stdout",
     "output_type": "stream",
     "text": [
      "----------------------------------------------------------------\n",
      "        Layer (type)               Output Shape         Param #\n",
      "================================================================\n",
      "           Flatten-1                  [-1, 784]               0\n",
      "            Linear-2                  [-1, 512]         401,920\n",
      "              ReLU-3                  [-1, 512]               0\n",
      "            Linear-4                  [-1, 512]         262,656\n",
      "              ReLU-5                  [-1, 512]               0\n",
      "            Linear-6                   [-1, 10]           5,130\n",
      "================================================================\n",
      "Total params: 669,706\n",
      "Trainable params: 669,706\n",
      "Non-trainable params: 0\n",
      "----------------------------------------------------------------\n",
      "Input size (MB): 0.00\n",
      "Forward/backward pass size (MB): 0.02\n",
      "Params size (MB): 2.55\n",
      "Estimated Total Size (MB): 2.58\n",
      "----------------------------------------------------------------\n"
     ]
    }
   ],
   "source": [
    "from torchsummary import summary\n",
    "summary(model, input_size=(1, 28, 28))     #输出方式二：第三方库 pytorch summary"
   ]
  },
  {
   "cell_type": "code",
   "execution_count": 17,
   "metadata": {},
   "outputs": [
    {
     "name": "stdout",
     "output_type": "stream",
     "text": [
      "Predicted class: tensor([1], device='cuda:0')\n"
     ]
    }
   ],
   "source": [
    "X = torch.rand(1, 28, 28, device=device)    #在device随机初始化一个1*28*28的张量\n",
    "logits = model(X)\n",
    "#预测概率\n",
    "pred_probab = nn.Softmax(dim=1)(logits)   #实例化Softmax层，按第一维传入logits\n",
    "y_pred = pred_probab.argmax(1)          #对概率算出最大值， 利用argmax得到最大的一个概率值的索引\n",
    "print(f\"Predicted class: {y_pred}\")     #得到 y预测的标签的索引"
   ]
  },
  {
   "cell_type": "code",
   "execution_count": 19,
   "metadata": {},
   "outputs": [
    {
     "name": "stdout",
     "output_type": "stream",
     "text": [
      "torch.Size([3, 28, 28])\n"
     ]
    }
   ],
   "source": [
    "input_image = torch.rand(3,28,28)\n",
    "print(input_image.size())"
   ]
  },
  {
   "cell_type": "code",
   "execution_count": 20,
   "metadata": {},
   "outputs": [
    {
     "name": "stdout",
     "output_type": "stream",
     "text": [
      "torch.Size([3, 784])\n"
     ]
    }
   ],
   "source": [
    "flatten = nn.Flatten()    #从第一维度到最后一个维度浓缩成一个维度\n",
    "flat_image = flatten(input_image)\n",
    "print(flat_image.size())"
   ]
  },
  {
   "cell_type": "code",
   "execution_count": 21,
   "metadata": {},
   "outputs": [
    {
     "name": "stdout",
     "output_type": "stream",
     "text": [
      "torch.Size([3, 20])\n"
     ]
    }
   ],
   "source": [
    "layer1 = nn.Linear(in_features=28*28, out_features=20)\n",
    "hidden1 = layer1(flat_image)\n",
    "print(hidden1.size())"
   ]
  },
  {
   "cell_type": "code",
   "execution_count": 22,
   "metadata": {},
   "outputs": [
    {
     "name": "stdout",
     "output_type": "stream",
     "text": [
      "Before ReLU: tensor([[-0.3217, -0.6308, -0.1737,  0.0678, -0.1291,  0.5421, -0.0449,  0.1629,\n",
      "          0.0534, -0.0105, -0.1587, -0.3714, -1.0072,  0.2410,  0.0453, -0.1909,\n",
      "         -0.2916, -0.2430, -0.1410,  0.3978],\n",
      "        [-0.3950, -0.4006, -0.0053, -0.1947, -0.0989,  0.2439, -0.0234,  0.1176,\n",
      "          0.2682,  0.0267, -0.2111, -0.2076, -0.9404,  0.3137, -0.2214,  0.2280,\n",
      "         -0.2514, -0.2207,  0.0856,  0.5380],\n",
      "        [-0.0503, -0.5505, -0.0323, -0.3838,  0.0600,  0.3801,  0.1039,  0.4847,\n",
      "          0.4005,  0.0433, -0.4491, -0.3570, -1.2279,  0.2916, -0.1641,  0.3176,\n",
      "         -0.4015, -0.1948, -0.0861,  0.5386]], grad_fn=<AddmmBackward0>)\n",
      "\n",
      "\n",
      "After ReLU: tensor([[0.0000, 0.0000, 0.0000, 0.0678, 0.0000, 0.5421, 0.0000, 0.1629, 0.0534,\n",
      "         0.0000, 0.0000, 0.0000, 0.0000, 0.2410, 0.0453, 0.0000, 0.0000, 0.0000,\n",
      "         0.0000, 0.3978],\n",
      "        [0.0000, 0.0000, 0.0000, 0.0000, 0.0000, 0.2439, 0.0000, 0.1176, 0.2682,\n",
      "         0.0267, 0.0000, 0.0000, 0.0000, 0.3137, 0.0000, 0.2280, 0.0000, 0.0000,\n",
      "         0.0856, 0.5380],\n",
      "        [0.0000, 0.0000, 0.0000, 0.0000, 0.0600, 0.3801, 0.1039, 0.4847, 0.4005,\n",
      "         0.0433, 0.0000, 0.0000, 0.0000, 0.2916, 0.0000, 0.3176, 0.0000, 0.0000,\n",
      "         0.0000, 0.5386]], grad_fn=<ReluBackward0>)\n"
     ]
    }
   ],
   "source": [
    "print(f\"Before ReLU: {hidden1}\\n\\n\")\n",
    "hidden1 = nn.ReLU()(hidden1)\n",
    "print(f\"After ReLU: {hidden1}\")"
   ]
  },
  {
   "cell_type": "code",
   "execution_count": 23,
   "metadata": {},
   "outputs": [],
   "source": [
    "seq_modules = nn.Sequential(     #有序化容器\n",
    "    flatten,\n",
    "    layer1,\n",
    "    nn.ReLU(),\n",
    "    nn.Linear(20, 10)\n",
    ")\n",
    "input_image = torch.rand(3,28,28)\n",
    "logits = seq_modules(input_image)    "
   ]
  },
  {
   "cell_type": "code",
   "execution_count": 24,
   "metadata": {},
   "outputs": [],
   "source": [
    "softmax = nn.Softmax(dim=1)     #指数后的归一化\n",
    "pred_probab = softmax(logits)   #分类后的概率分布"
   ]
  },
  {
   "cell_type": "code",
   "execution_count": 25,
   "metadata": {},
   "outputs": [
    {
     "name": "stdout",
     "output_type": "stream",
     "text": [
      "Model structure: NeuralNetwork(\n",
      "  (flatten): Flatten(start_dim=1, end_dim=-1)\n",
      "  (linear_relu_stack): Sequential(\n",
      "    (0): Linear(in_features=784, out_features=512, bias=True)\n",
      "    (1): ReLU()\n",
      "    (2): Linear(in_features=512, out_features=512, bias=True)\n",
      "    (3): ReLU()\n",
      "    (4): Linear(in_features=512, out_features=10, bias=True)\n",
      "  )\n",
      ")\n",
      "\n",
      "\n",
      "Layer: linear_relu_stack.0.weight | Size: torch.Size([512, 784]) | Values : tensor([[ 0.0056, -0.0132, -0.0171,  ..., -0.0062,  0.0247, -0.0037],\n",
      "        [-0.0194,  0.0144, -0.0067,  ...,  0.0232, -0.0068, -0.0192]],\n",
      "       device='cuda:0', grad_fn=<SliceBackward0>) \n",
      "\n",
      "Layer: linear_relu_stack.0.bias | Size: torch.Size([512]) | Values : tensor([0.0282, 0.0053], device='cuda:0', grad_fn=<SliceBackward0>) \n",
      "\n",
      "Layer: linear_relu_stack.2.weight | Size: torch.Size([512, 512]) | Values : tensor([[ 0.0065, -0.0307, -0.0371,  ..., -0.0239, -0.0205, -0.0175],\n",
      "        [-0.0340,  0.0416, -0.0196,  ..., -0.0435, -0.0421, -0.0035]],\n",
      "       device='cuda:0', grad_fn=<SliceBackward0>) \n",
      "\n",
      "Layer: linear_relu_stack.2.bias | Size: torch.Size([512]) | Values : tensor([-0.0068,  0.0102], device='cuda:0', grad_fn=<SliceBackward0>) \n",
      "\n",
      "Layer: linear_relu_stack.4.weight | Size: torch.Size([10, 512]) | Values : tensor([[-0.0424,  0.0044, -0.0026,  ...,  0.0417,  0.0121,  0.0361],\n",
      "        [ 0.0207,  0.0185,  0.0440,  ...,  0.0410, -0.0107, -0.0394]],\n",
      "       device='cuda:0', grad_fn=<SliceBackward0>) \n",
      "\n",
      "Layer: linear_relu_stack.4.bias | Size: torch.Size([10]) | Values : tensor([0.0193, 0.0276], device='cuda:0', grad_fn=<SliceBackward0>) \n",
      "\n"
     ]
    }
   ],
   "source": [
    "print(f\"Model structure: {model}\\n\\n\")\n",
    "\n",
    "for name, param in model.named_parameters():\n",
    "    print(f\"Layer: {name} | Size: {param.size()} | Values : {param[:2]} \\n\")"
   ]
  },
  {
   "cell_type": "code",
   "execution_count": null,
   "metadata": {},
   "outputs": [],
   "source": []
  },
  {
   "cell_type": "code",
   "execution_count": null,
   "metadata": {},
   "outputs": [],
   "source": []
  },
  {
   "cell_type": "code",
   "execution_count": null,
   "metadata": {},
   "outputs": [],
   "source": []
  },
  {
   "cell_type": "code",
   "execution_count": null,
   "metadata": {},
   "outputs": [],
   "source": []
  },
  {
   "cell_type": "code",
   "execution_count": null,
   "metadata": {},
   "outputs": [],
   "source": []
  }
 ],
 "metadata": {
  "kernelspec": {
   "display_name": "Python [conda env:py1_1]",
   "language": "python",
   "name": "conda-env-py1_1-py"
  },
  "language_info": {
   "codemirror_mode": {
    "name": "ipython",
    "version": 3
   },
   "file_extension": ".py",
   "mimetype": "text/x-python",
   "name": "python",
   "nbconvert_exporter": "python",
   "pygments_lexer": "ipython3",
   "version": "3.9.0"
  }
 },
 "nbformat": 4,
 "nbformat_minor": 2
}
