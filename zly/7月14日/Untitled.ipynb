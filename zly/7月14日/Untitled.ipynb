{
 "cells": [
  {
   "cell_type": "code",
   "execution_count": 2,
   "metadata": {},
   "outputs": [
    {
     "data": {
      "text/plain": [
       "tensor([0, 1, 2, 3, 4])"
      ]
     },
     "execution_count": 2,
     "metadata": {},
     "output_type": "execute_result"
    }
   ],
   "source": [
    "import torch\n",
    "torch.arange(5)"
   ]
  },
  {
   "cell_type": "code",
   "execution_count": 6,
   "metadata": {},
   "outputs": [
    {
     "name": "stdout",
     "output_type": "stream",
     "text": [
      "tensor([[0.5143, 0.1898],\n",
      "        [0.5175, 0.0920]])\n",
      "tensor([[0.0202, 0.3798]])\n"
     ]
    }
   ],
   "source": [
    "# 切割，chunk()函数\n",
    "a=torch.rand([3,2])\n",
    "b,c=torch.chunk(a,chunks=2,)\n",
    "print(b)\n",
    "print(c)"
   ]
  },
  {
   "cell_type": "code",
   "execution_count": 7,
   "metadata": {},
   "outputs": [
    {
     "name": "stdout",
     "output_type": "stream",
     "text": [
      "tensor([[0.5143],\n",
      "        [0.5175],\n",
      "        [0.0202]]) \n",
      " tensor([[0.1898],\n",
      "        [0.0920],\n",
      "        [0.3798]])\n"
     ]
    }
   ],
   "source": [
    "# dim=  默认：0横1竖\n",
    "b,c=torch.chunk(a,chunks=2,dim=1)\n",
    "print(b,\"\\n\",c)"
   ]
  },
  {
   "cell_type": "code",
   "execution_count": 8,
   "metadata": {},
   "outputs": [
    {
     "name": "stdout",
     "output_type": "stream",
     "text": [
      "tensor([[1, 5, 6],\n",
      "        [1, 5, 6]])\n"
     ]
    }
   ],
   "source": [
    "#gather(),\n",
    "# 当dim=0，那么输出的数组i中数字的 行 号就依次等于index内的数字，列为index的列号数。\n",
    "# 当dim=1，那么输出的数组i中数字的 列 号就依次等于index内的数字，行为index的行号数。\n",
    "b=torch.tensor([[1,2,3],[4,5,6]]) \n",
    "index1=torch.tensor([[0,1,1],[0,1,1]])\n",
    "print (torch.gather(b,dim=0,index=index1))"
   ]
  },
  {
   "cell_type": "code",
   "execution_count": 9,
   "metadata": {},
   "outputs": [
    {
     "name": "stdout",
     "output_type": "stream",
     "text": [
      "tensor([[1, 2, 2],\n",
      "        [4, 5, 5]])\n"
     ]
    }
   ],
   "source": [
    "b=torch.tensor([[1,2,3],[4,5,6]]) \n",
    "index1=torch.tensor([[0,1,1],[0,1,1]])\n",
    "print (torch.gather(b,dim=1,index=index1))"
   ]
  },
  {
   "cell_type": "code",
   "execution_count": null,
   "metadata": {},
   "outputs": [],
   "source": []
  }
 ],
 "metadata": {
  "kernelspec": {
   "display_name": "Python [conda env:py1_1]",
   "language": "python",
   "name": "conda-env-py1_1-py"
  },
  "language_info": {
   "codemirror_mode": {
    "name": "ipython",
    "version": 3
   },
   "file_extension": ".py",
   "mimetype": "text/x-python",
   "name": "python",
   "nbconvert_exporter": "python",
   "pygments_lexer": "ipython3",
   "version": "3.9.0"
  }
 },
 "nbformat": 4,
 "nbformat_minor": 2
}
