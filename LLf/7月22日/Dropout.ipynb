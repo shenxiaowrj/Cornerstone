{
 "cells": [
  {
   "cell_type": "code",
   "execution_count": 9,
   "id": "a8ea724e",
   "metadata": {},
   "outputs": [],
   "source": [
    "import torch\n",
    "from torch import nn\n",
    "import numpy as np"
   ]
  },
  {
   "cell_type": "code",
   "execution_count": 7,
   "id": "5a9d4135",
   "metadata": {},
   "outputs": [],
   "source": [
    "m = nn.Dropout(p=0.2)\n",
    "input = torch.randn(20, 16)\n",
    "output = m(input)"
   ]
  },
  {
   "cell_type": "code",
   "execution_count": 12,
   "id": "236d9e92",
   "metadata": {},
   "outputs": [],
   "source": [
    "def train(rate,x,w1,b1,w2,b2):\n",
    "    layer1 = np.maximum(0,np.dot(w1,x) + b1)\n",
    "    mask1 = np.random.binomial(1,1-rate,layer1.shape)\n",
    "    layer1 = layer1*mask1\n",
    "    layer2 = np.maximum(0,np.dot(w2,x) + b2)\n",
    "    mask2 = np.random.binomial(1,1-rate,layer2.shape)\n",
    "    layer2 = layer2*mask2\n",
    "    \n",
    "    \n",
    "    return layer2\n",
    "\n",
    "def another_train(rate,x,w1,b1,w2,b2):\n",
    "    layer1 = np.maximum(0,np.dot(w1,x) + b1)\n",
    "    mask1 = np.random.binomial(1,1-rate,layer1.shape)\n",
    "    layer1 = layer1*mask1\n",
    "    layer1 = layer1/(1-rate)\n",
    "    layer2 = np.maximum(0,np.dot(w2,x) + b2)\n",
    "    mask2 = np.random.binomial(1,1-rate,layer2.shape)\n",
    "    layer2 = layer2*mask2\n",
    "    layer2 = layer2/(1-rate)\n",
    "    \n",
    "    return layer2\n",
    "\n",
    "\n",
    "def test(rate,x,w1,b1,w2,b2):\n",
    "    layer1 = np.maximum(0,np.dot(w1,x) + b1)\n",
    "    layer1 = layer1*(1-rate)\n",
    "    layer2 = np.maximum(0,np.dot(w2,layer1) + b2)\n",
    "    layer2 = layer2*(1-rate)\n",
    "    \n",
    "    return layer2\n",
    "\n",
    "def test(rate,x,w1,b1,w2,b2):\n",
    "    layer1 = np.maximum(0,np.dot(w1,x) + b1)\n",
    "    \n",
    "    layer2 = np.maximum(0,np.dot(w2,layer1) + b2)\n",
    "    \n",
    "    return layer2\n"
   ]
  },
  {
   "cell_type": "code",
   "execution_count": null,
   "id": "0842f2da",
   "metadata": {},
   "outputs": [],
   "source": []
  }
 ],
 "metadata": {
  "kernelspec": {
   "display_name": "Python 3 (ipykernel)",
   "language": "python",
   "name": "python3"
  },
  "language_info": {
   "codemirror_mode": {
    "name": "ipython",
    "version": 3
   },
   "file_extension": ".py",
   "mimetype": "text/x-python",
   "name": "python",
   "nbconvert_exporter": "python",
   "pygments_lexer": "ipython3",
   "version": "3.9.0"
  }
 },
 "nbformat": 4,
 "nbformat_minor": 5
}
