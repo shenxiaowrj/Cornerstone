{
 "cells": [
  {
   "cell_type": "code",
   "execution_count": 1,
   "id": "a180c645",
   "metadata": {},
   "outputs": [],
   "source": [
    "import torch\n",
    "import torch.nn as nn\n",
    "import torch.optim as optim"
   ]
  },
  {
   "cell_type": "code",
   "execution_count": 2,
   "id": "da0b7776",
   "metadata": {},
   "outputs": [
    {
     "name": "stdout",
     "output_type": "stream",
     "text": [
      "Net(\n",
      "  (conv1): Conv2d(3, 6, kernel_size=(5, 5), stride=(1, 1))\n",
      "  (pool): MaxPool2d(kernel_size=2, stride=2, padding=0, dilation=1, ceil_mode=False)\n",
      "  (conv2): Conv2d(6, 16, kernel_size=(5, 5), stride=(1, 1))\n",
      "  (fc1): Linear(in_features=400, out_features=120, bias=True)\n",
      "  (fc2): Linear(in_features=120, out_features=84, bias=True)\n",
      "  (fc3): Linear(in_features=84, out_features=10, bias=True)\n",
      ")\n"
     ]
    }
   ],
   "source": [
    "class Net(nn.Module):\n",
    "    def __init__(self):\n",
    "        super(Net, self).__init__()\n",
    "        self.conv1 = nn.Conv2d(3, 6, 5)\n",
    "        self.pool = nn.MaxPool2d(2, 2)\n",
    "        self.conv2 = nn.Conv2d(6, 16, 5)\n",
    "        self.fc1 = nn.Linear(16 * 5 * 5, 120)\n",
    "        self.fc2 = nn.Linear(120, 84)\n",
    "        self.fc3 = nn.Linear(84, 10)\n",
    "\n",
    "    def forward(self, x):\n",
    "        x = self.pool(F.relu(self.conv1(x)))\n",
    "        x = self.pool(F.relu(self.conv2(x)))\n",
    "        x = x.view(-1, 16 * 5 * 5)\n",
    "        x = F.relu(self.fc1(x))\n",
    "        x = F.relu(self.fc2(x))\n",
    "        x = self.fc3(x)\n",
    "        return x\n",
    "\n",
    "net = Net()\n",
    "print(net)"
   ]
  },
  {
   "cell_type": "code",
   "execution_count": 3,
   "id": "5dcde8f5",
   "metadata": {},
   "outputs": [],
   "source": [
    "optimizer = optim.SGD(net.parameters(), lr=0.001, momentum=0.9)"
   ]
  },
  {
   "cell_type": "code",
   "execution_count": 4,
   "id": "2638371b",
   "metadata": {},
   "outputs": [],
   "source": [
    "# Additional information\n",
    "EPOCH = 5\n",
    "PATH = \"model.pt\"\n",
    "LOSS = 0.4\n",
    "\n",
    "torch.save({\n",
    "            'epoch': EPOCH,\n",
    "            'model_state_dict': net.state_dict(),  ##对优化器进行保存\n",
    "            'optimizer_state_dict': optimizer.state_dict(),\n",
    "            'loss': LOSS,\n",
    "            }, PATH)"
   ]
  },
  {
   "cell_type": "code",
   "execution_count": 5,
   "id": "15987a38",
   "metadata": {},
   "outputs": [
    {
     "data": {
      "text/plain": [
       "Net(\n",
       "  (conv1): Conv2d(3, 6, kernel_size=(5, 5), stride=(1, 1))\n",
       "  (pool): MaxPool2d(kernel_size=2, stride=2, padding=0, dilation=1, ceil_mode=False)\n",
       "  (conv2): Conv2d(6, 16, kernel_size=(5, 5), stride=(1, 1))\n",
       "  (fc1): Linear(in_features=400, out_features=120, bias=True)\n",
       "  (fc2): Linear(in_features=120, out_features=84, bias=True)\n",
       "  (fc3): Linear(in_features=84, out_features=10, bias=True)\n",
       ")"
      ]
     },
     "execution_count": 5,
     "metadata": {},
     "output_type": "execute_result"
    }
   ],
   "source": [
    "model = Net()\n",
    "optimizer = optim.SGD(net.parameters(), lr=0.001, momentum=0.9)\n",
    "\n",
    "checkpoint = torch.load(PATH)\n",
    "model.load_state_dict(checkpoint['model_state_dict'])\n",
    "optimizer.load_state_dict(checkpoint['optimizer_state_dict'])\n",
    "epoch = checkpoint['epoch']\n",
    "loss = checkpoint['loss']\n",
    "\n",
    "model.eval()\n",
    "# - or -\n",
    "model.train()"
   ]
  },
  {
   "cell_type": "code",
   "execution_count": 6,
   "id": "8e60e641",
   "metadata": {},
   "outputs": [],
   "source": [
    "class Test(nn.Module):                 ##新建一个类\n",
    "    def __init__(self):\n",
    "        super(Test,self).__init__()    ##调用父类的init函数\n",
    "        self.linear1 = torch.nn.Linear(2,3)         ##创建第一个线性层  Linear(输入特征大小,输出特征大小)\n",
    "        self.linear2 = torch.nn.Linear(3,4)         ##创建第二个线性层\n",
    "        self.batch_norm = torch.nn.BatchNorm2d(4)   ##创建batch_orm层\n",
    "        "
   ]
  },
  {
   "cell_type": "code",
   "execution_count": 7,
   "id": "fbccf64a",
   "metadata": {},
   "outputs": [],
   "source": [
    "test_module = Test()  ##对新的类进行实例化"
   ]
  },
  {
   "cell_type": "code",
   "execution_count": 8,
   "id": "896027e2",
   "metadata": {},
   "outputs": [
    {
     "data": {
      "text/plain": [
       "OrderedDict([('linear1', Linear(in_features=2, out_features=3, bias=True)),\n",
       "             ('linear2', Linear(in_features=3, out_features=4, bias=True)),\n",
       "             ('batch_norm',\n",
       "              BatchNorm2d(4, eps=1e-05, momentum=0.1, affine=True, track_running_stats=True))])"
      ]
     },
     "execution_count": 8,
     "metadata": {},
     "output_type": "execute_result"
    }
   ],
   "source": [
    "test_module._modules  ##调用_modules,会返回有序字典，包括linear1、linear2、batch_norm"
   ]
  },
  {
   "cell_type": "code",
   "execution_count": 9,
   "id": "171b8bd5",
   "metadata": {},
   "outputs": [
    {
     "data": {
      "text/plain": [
       "Linear(in_features=2, out_features=3, bias=True)"
      ]
     },
     "execution_count": 9,
     "metadata": {},
     "output_type": "execute_result"
    }
   ],
   "source": [
    "test_module._modules['linear1']  ##单独访问linear1"
   ]
  },
  {
   "cell_type": "code",
   "execution_count": 10,
   "id": "4175b496",
   "metadata": {},
   "outputs": [
    {
     "data": {
      "text/plain": [
       "Parameter containing:\n",
       "tensor([[ 0.2130,  0.6700],\n",
       "        [-0.4400,  0.5632],\n",
       "        [ 0.5111,  0.1931]], requires_grad=True)"
      ]
     },
     "execution_count": 10,
     "metadata": {},
     "output_type": "execute_result"
    }
   ],
   "source": [
    "test_module._modules['linear1'].weight  ##取得linear1的权重张量"
   ]
  },
  {
   "cell_type": "code",
   "execution_count": 11,
   "id": "dbf9442c",
   "metadata": {},
   "outputs": [
    {
     "data": {
      "text/plain": [
       "torch.float32"
      ]
     },
     "execution_count": 11,
     "metadata": {},
     "output_type": "execute_result"
    }
   ],
   "source": [
    "test_module._modules['linear1'].weight.dtype  ##获取其数据类型"
   ]
  },
  {
   "cell_type": "code",
   "execution_count": 12,
   "id": "25895ddd",
   "metadata": {},
   "outputs": [
    {
     "data": {
      "text/plain": [
       "Test(\n",
       "  (linear1): Linear(in_features=2, out_features=3, bias=True)\n",
       "  (linear2): Linear(in_features=3, out_features=4, bias=True)\n",
       "  (batch_norm): BatchNorm2d(4, eps=1e-05, momentum=0.1, affine=True, track_running_stats=True)\n",
       ")"
      ]
     },
     "execution_count": 12,
     "metadata": {},
     "output_type": "execute_result"
    }
   ],
   "source": [
    "test_module.to(torch.double)  ##调用to函数"
   ]
  },
  {
   "cell_type": "code",
   "execution_count": 13,
   "id": "59f60bcc",
   "metadata": {},
   "outputs": [
    {
     "data": {
      "text/plain": [
       "torch.float64"
      ]
     },
     "execution_count": 13,
     "metadata": {},
     "output_type": "execute_result"
    }
   ],
   "source": [
    "test_module._modules['linear1'].weight.dtype  ##数据类型发生变化"
   ]
  },
  {
   "cell_type": "code",
   "execution_count": 14,
   "id": "96497f66",
   "metadata": {},
   "outputs": [
    {
     "data": {
      "text/plain": [
       "Parameter containing:\n",
       "tensor([[ 0.2130,  0.6700],\n",
       "        [-0.4400,  0.5632],\n",
       "        [ 0.5111,  0.1931]], dtype=torch.float64, requires_grad=True)"
      ]
     },
     "execution_count": 14,
     "metadata": {},
     "output_type": "execute_result"
    }
   ],
   "source": [
    "test_module._modules['linear1'].weight"
   ]
  },
  {
   "cell_type": "code",
   "execution_count": 15,
   "id": "50e811fb",
   "metadata": {},
   "outputs": [
    {
     "data": {
      "text/plain": [
       "Test(\n",
       "  (linear1): Linear(in_features=2, out_features=3, bias=True)\n",
       "  (linear2): Linear(in_features=3, out_features=4, bias=True)\n",
       "  (batch_norm): BatchNorm2d(4, eps=1e-05, momentum=0.1, affine=True, track_running_stats=True)\n",
       ")"
      ]
     },
     "execution_count": 15,
     "metadata": {},
     "output_type": "execute_result"
    }
   ],
   "source": [
    "test_module.to(torch.float32)"
   ]
  },
  {
   "cell_type": "code",
   "execution_count": 16,
   "id": "4bf89480",
   "metadata": {},
   "outputs": [
    {
     "data": {
      "text/plain": [
       "torch.float32"
      ]
     },
     "execution_count": 16,
     "metadata": {},
     "output_type": "execute_result"
    }
   ],
   "source": [
    "test_module._modules['linear1'].weight.dtype"
   ]
  },
  {
   "cell_type": "code",
   "execution_count": 17,
   "id": "467ce2c0",
   "metadata": {},
   "outputs": [
    {
     "data": {
      "text/plain": [
       "OrderedDict([('linear1', Linear(in_features=2, out_features=3, bias=True)),\n",
       "             ('linear2', Linear(in_features=3, out_features=4, bias=True)),\n",
       "             ('batch_norm',\n",
       "              BatchNorm2d(4, eps=1e-05, momentum=0.1, affine=True, track_running_stats=True))])"
      ]
     },
     "execution_count": 17,
     "metadata": {},
     "output_type": "execute_result"
    }
   ],
   "source": [
    "test_module._modules"
   ]
  },
  {
   "cell_type": "code",
   "execution_count": 18,
   "id": "a797fa1b",
   "metadata": {},
   "outputs": [
    {
     "data": {
      "text/plain": [
       "OrderedDict()"
      ]
     },
     "execution_count": 18,
     "metadata": {},
     "output_type": "execute_result"
    }
   ],
   "source": [
    "test_module._parameters  ##并没有编写对应的函数，只能找当前的parameters，不能去子类中寻找"
   ]
  },
  {
   "cell_type": "code",
   "execution_count": 19,
   "id": "b5661693",
   "metadata": {},
   "outputs": [
    {
     "data": {
      "text/plain": [
       "OrderedDict()"
      ]
     },
     "execution_count": 19,
     "metadata": {},
     "output_type": "execute_result"
    }
   ],
   "source": [
    "test_module._buffers    ##并没有编写对应的函数"
   ]
  },
  {
   "cell_type": "code",
   "execution_count": 20,
   "id": "71a7a2c6",
   "metadata": {},
   "outputs": [
    {
     "data": {
      "text/plain": [
       "OrderedDict([('linear1.weight',\n",
       "              tensor([[ 0.2130,  0.6700],\n",
       "                      [-0.4400,  0.5632],\n",
       "                      [ 0.5111,  0.1931]])),\n",
       "             ('linear1.bias', tensor([ 0.4125, -0.5220, -0.5521])),\n",
       "             ('linear2.weight',\n",
       "              tensor([[-0.0231, -0.0630, -0.1831],\n",
       "                      [-0.3315, -0.1221,  0.3205],\n",
       "                      [-0.3661, -0.2107, -0.4890],\n",
       "                      [ 0.1272, -0.2465,  0.0465]])),\n",
       "             ('linear2.bias', tensor([ 0.4207, -0.0765,  0.4154,  0.5267])),\n",
       "             ('batch_norm.weight', tensor([1., 1., 1., 1.])),\n",
       "             ('batch_norm.bias', tensor([0., 0., 0., 0.])),\n",
       "             ('batch_norm.running_mean', tensor([0., 0., 0., 0.])),\n",
       "             ('batch_norm.running_var', tensor([1., 1., 1., 1.])),\n",
       "             ('batch_norm.num_batches_tracked', tensor(0))])"
      ]
     },
     "execution_count": 20,
     "metadata": {},
     "output_type": "execute_result"
    }
   ],
   "source": [
    "test_module.state_dict()  ##返回一个有序字典，会返回所有的参数和buffer"
   ]
  },
  {
   "cell_type": "code",
   "execution_count": 21,
   "id": "69c58017",
   "metadata": {},
   "outputs": [
    {
     "data": {
      "text/plain": [
       "tensor([[ 0.2130,  0.6700],\n",
       "        [-0.4400,  0.5632],\n",
       "        [ 0.5111,  0.1931]])"
      ]
     },
     "execution_count": 21,
     "metadata": {},
     "output_type": "execute_result"
    }
   ],
   "source": [
    "test_module.state_dict()['linear1.weight']"
   ]
  },
  {
   "cell_type": "code",
   "execution_count": 27,
   "id": "4fbb8343",
   "metadata": {},
   "outputs": [
    {
     "name": "stdout",
     "output_type": "stream",
     "text": [
      "Parameter containing:\n",
      "tensor([[ 0.2130,  0.6700],\n",
      "        [-0.4400,  0.5632],\n",
      "        [ 0.5111,  0.1931]], requires_grad=True)\n",
      "Parameter containing:\n",
      "tensor([ 0.4125, -0.5220, -0.5521], requires_grad=True)\n",
      "Parameter containing:\n",
      "tensor([[-0.0231, -0.0630, -0.1831],\n",
      "        [-0.3315, -0.1221,  0.3205],\n",
      "        [-0.3661, -0.2107, -0.4890],\n",
      "        [ 0.1272, -0.2465,  0.0465]], requires_grad=True)\n",
      "Parameter containing:\n",
      "tensor([ 0.4207, -0.0765,  0.4154,  0.5267], requires_grad=True)\n",
      "Parameter containing:\n",
      "tensor([1., 1., 1., 1.], requires_grad=True)\n",
      "Parameter containing:\n",
      "tensor([0., 0., 0., 0.], requires_grad=True)\n"
     ]
    }
   ],
   "source": [
    "for p in test_module.parameters():  ##parameters是递归的包含子module的函数\n",
    "    print(p)                         ##_parameters则只能检索当前module的函数不能检索子module的"
   ]
  },
  {
   "cell_type": "code",
   "execution_count": 29,
   "id": "4a345ae8",
   "metadata": {},
   "outputs": [
    {
     "name": "stdout",
     "output_type": "stream",
     "text": [
      "('linear1.weight', Parameter containing:\n",
      "tensor([[ 0.2130,  0.6700],\n",
      "        [-0.4400,  0.5632],\n",
      "        [ 0.5111,  0.1931]], requires_grad=True))\n",
      "('linear1.bias', Parameter containing:\n",
      "tensor([ 0.4125, -0.5220, -0.5521], requires_grad=True))\n",
      "('linear2.weight', Parameter containing:\n",
      "tensor([[-0.0231, -0.0630, -0.1831],\n",
      "        [-0.3315, -0.1221,  0.3205],\n",
      "        [-0.3661, -0.2107, -0.4890],\n",
      "        [ 0.1272, -0.2465,  0.0465]], requires_grad=True))\n",
      "('linear2.bias', Parameter containing:\n",
      "tensor([ 0.4207, -0.0765,  0.4154,  0.5267], requires_grad=True))\n",
      "('batch_norm.weight', Parameter containing:\n",
      "tensor([1., 1., 1., 1.], requires_grad=True))\n",
      "('batch_norm.bias', Parameter containing:\n",
      "tensor([0., 0., 0., 0.], requires_grad=True))\n"
     ]
    }
   ],
   "source": [
    "for p in test_module.named_parameters(): ##比上边更加清晰\n",
    "    print(p)"
   ]
  },
  {
   "cell_type": "code",
   "execution_count": 30,
   "id": "f5dc0470",
   "metadata": {},
   "outputs": [
    {
     "name": "stdout",
     "output_type": "stream",
     "text": [
      "('linear1', Linear(in_features=2, out_features=3, bias=True))\n",
      "('linear2', Linear(in_features=3, out_features=4, bias=True))\n",
      "('batch_norm', BatchNorm2d(4, eps=1e-05, momentum=0.1, affine=True, track_running_stats=True))\n"
     ]
    }
   ],
   "source": [
    "for p in test_module.named_children():  ##返回的是一个元组\n",
    "    print(p)"
   ]
  },
  {
   "cell_type": "code",
   "execution_count": 32,
   "id": "8a47932b",
   "metadata": {},
   "outputs": [
    {
     "data": {
      "text/plain": [
       "OrderedDict([('linear1', Linear(in_features=2, out_features=3, bias=True)),\n",
       "             ('linear2', Linear(in_features=3, out_features=4, bias=True)),\n",
       "             ('batch_norm',\n",
       "              BatchNorm2d(4, eps=1e-05, momentum=0.1, affine=True, track_running_stats=True))])"
      ]
     },
     "execution_count": 32,
     "metadata": {},
     "output_type": "execute_result"
    }
   ],
   "source": [
    "test_module._modules  ##返回的是一个字典"
   ]
  },
  {
   "cell_type": "code",
   "execution_count": 34,
   "id": "a5f9045a",
   "metadata": {},
   "outputs": [
    {
     "name": "stdout",
     "output_type": "stream",
     "text": [
      "('', Test(\n",
      "  (linear1): Linear(in_features=2, out_features=3, bias=True)\n",
      "  (linear2): Linear(in_features=3, out_features=4, bias=True)\n",
      "  (batch_norm): BatchNorm2d(4, eps=1e-05, momentum=0.1, affine=True, track_running_stats=True)\n",
      "))\n",
      "('linear1', Linear(in_features=2, out_features=3, bias=True))\n",
      "('linear2', Linear(in_features=3, out_features=4, bias=True))\n",
      "('batch_norm', BatchNorm2d(4, eps=1e-05, momentum=0.1, affine=True, track_running_stats=True))\n"
     ]
    }
   ],
   "source": [
    "for p in test_module.named_modules():  #与上面的差别是named_modules将自身模块也返回了\n",
    "    print(p)"
   ]
  },
  {
   "cell_type": "code",
   "execution_count": 39,
   "id": "cd261c8b",
   "metadata": {},
   "outputs": [
    {
     "name": "stdout",
     "output_type": "stream",
     "text": [
      "Test(\n",
      "  (linear1): Linear(in_features=2, out_features=3, bias=True)\n",
      "  (linear2): Linear(in_features=3, out_features=4, bias=True)\n",
      "  (batch_norm): BatchNorm2d(4, eps=1e-05, momentum=0.1, affine=True, track_running_stats=True)\n",
      ")\n",
      "\n",
      "\n",
      "Linear(in_features=2, out_features=3, bias=True)\n",
      "\n",
      "\n",
      "Linear(in_features=3, out_features=4, bias=True)\n",
      "\n",
      "\n",
      "BatchNorm2d(4, eps=1e-05, momentum=0.1, affine=True, track_running_stats=True)\n",
      "\n",
      "\n"
     ]
    }
   ],
   "source": [
    "for p in test_module.modules(): \n",
    "    print(p)\n",
    "    print('\\n')"
   ]
  },
  {
   "cell_type": "code",
   "execution_count": null,
   "id": "a368fc07",
   "metadata": {},
   "outputs": [],
   "source": []
  }
 ],
 "metadata": {
  "kernelspec": {
   "display_name": "Python 3 (ipykernel)",
   "language": "python",
   "name": "python3"
  },
  "language_info": {
   "codemirror_mode": {
    "name": "ipython",
    "version": 3
   },
   "file_extension": ".py",
   "mimetype": "text/x-python",
   "name": "python",
   "nbconvert_exporter": "python",
   "pygments_lexer": "ipython3",
   "version": "3.9.0"
  }
 },
 "nbformat": 4,
 "nbformat_minor": 5
}
