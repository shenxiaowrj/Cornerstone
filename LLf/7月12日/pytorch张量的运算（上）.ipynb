{
 "cells": [
  {
   "cell_type": "code",
   "execution_count": 2,
   "id": "2f32bf60",
   "metadata": {},
   "outputs": [],
   "source": [
    "import torch"
   ]
  },
  {
   "cell_type": "code",
   "execution_count": 3,
   "id": "2d4f80f9",
   "metadata": {},
   "outputs": [],
   "source": [
    "b=torch.rand([3,2,])"
   ]
  },
  {
   "cell_type": "code",
   "execution_count": 4,
   "id": "a7b1c590",
   "metadata": {},
   "outputs": [
    {
     "data": {
      "text/plain": [
       "tensor([[0.4216, 0.2240],\n",
       "        [0.4242, 0.3623],\n",
       "        [0.3125, 0.7414]])"
      ]
     },
     "execution_count": 4,
     "metadata": {},
     "output_type": "execute_result"
    }
   ],
   "source": [
    "b"
   ]
  },
  {
   "cell_type": "code",
   "execution_count": 5,
   "id": "4c54e5f5",
   "metadata": {},
   "outputs": [
    {
     "data": {
      "text/plain": [
       "(tensor([[0.4216, 0.2240],\n",
       "         [0.4242, 0.3623]]),\n",
       " tensor([[0.3125, 0.7414]]))"
      ]
     },
     "execution_count": 5,
     "metadata": {},
     "output_type": "execute_result"
    }
   ],
   "source": [
    "torch.chunk(b,chunks=2)"
   ]
  },
  {
   "cell_type": "code",
   "execution_count": 6,
   "id": "42d15b3b",
   "metadata": {},
   "outputs": [],
   "source": [
    "c,d=torch.chunk(b,chunks=2)"
   ]
  },
  {
   "cell_type": "code",
   "execution_count": 7,
   "id": "afd49c67",
   "metadata": {},
   "outputs": [
    {
     "data": {
      "text/plain": [
       "tensor([[0.4216, 0.2240],\n",
       "        [0.4242, 0.3623]])"
      ]
     },
     "execution_count": 7,
     "metadata": {},
     "output_type": "execute_result"
    }
   ],
   "source": [
    "c"
   ]
  },
  {
   "cell_type": "code",
   "execution_count": 8,
   "id": "7dc9fc91",
   "metadata": {},
   "outputs": [
    {
     "data": {
      "text/plain": [
       "tensor([[0.3125, 0.7414]])"
      ]
     },
     "execution_count": 8,
     "metadata": {},
     "output_type": "execute_result"
    }
   ],
   "source": [
    "d"
   ]
  },
  {
   "cell_type": "code",
   "execution_count": 9,
   "id": "39eac793",
   "metadata": {},
   "outputs": [],
   "source": [
    "#默认dim=0按行分，dim=1按列分\n",
    "c,d=torch.chunk(b,chunks=2,dim=1)"
   ]
  },
  {
   "cell_type": "code",
   "execution_count": 10,
   "id": "0007573e",
   "metadata": {},
   "outputs": [
    {
     "data": {
      "text/plain": [
       "tensor([[0.4216],\n",
       "        [0.4242],\n",
       "        [0.3125]])"
      ]
     },
     "execution_count": 10,
     "metadata": {},
     "output_type": "execute_result"
    }
   ],
   "source": [
    "c"
   ]
  },
  {
   "cell_type": "code",
   "execution_count": 11,
   "id": "d3e72b75",
   "metadata": {},
   "outputs": [
    {
     "data": {
      "text/plain": [
       "tensor([[0.2240],\n",
       "        [0.3623],\n",
       "        [0.7414]])"
      ]
     },
     "execution_count": 11,
     "metadata": {},
     "output_type": "execute_result"
    }
   ],
   "source": [
    "d"
   ]
  },
  {
   "cell_type": "code",
   "execution_count": 12,
   "id": "8031f424",
   "metadata": {},
   "outputs": [
    {
     "data": {
      "text/plain": [
       "tensor([[0., 1.],\n",
       "        [2., 3.]])"
      ]
     },
     "execution_count": 12,
     "metadata": {},
     "output_type": "execute_result"
    }
   ],
   "source": [
    "a=torch.arange(4.)\n",
    "torch.reshape(a,(2,2))"
   ]
  },
  {
   "cell_type": "code",
   "execution_count": 13,
   "id": "cdbb600d",
   "metadata": {},
   "outputs": [
    {
     "data": {
      "text/plain": [
       "tensor([[0.4216, 0.2240],\n",
       "        [0.4242, 0.3623],\n",
       "        [0.3125, 0.7414]])"
      ]
     },
     "execution_count": 13,
     "metadata": {},
     "output_type": "execute_result"
    }
   ],
   "source": [
    "b"
   ]
  },
  {
   "cell_type": "code",
   "execution_count": 14,
   "id": "e4ef7379",
   "metadata": {},
   "outputs": [
    {
     "data": {
      "text/plain": [
       "tensor([[0.4216, 0.2240, 0.4242],\n",
       "        [0.3623, 0.3125, 0.7414]])"
      ]
     },
     "execution_count": 14,
     "metadata": {},
     "output_type": "execute_result"
    }
   ],
   "source": [
    "torch.reshape(b,[2,3])"
   ]
  },
  {
   "cell_type": "code",
   "execution_count": 17,
   "id": "7cf27cb6",
   "metadata": {},
   "outputs": [
    {
     "data": {
      "text/plain": [
       "tensor([0.4216, 0.2240, 0.4242, 0.3623, 0.3125, 0.7414])"
      ]
     },
     "execution_count": 17,
     "metadata": {},
     "output_type": "execute_result"
    }
   ],
   "source": [
    "torch.reshape(torch.reshape(b,[2,3]),[-1])"
   ]
  },
  {
   "cell_type": "code",
   "execution_count": 19,
   "id": "5bd242b1",
   "metadata": {},
   "outputs": [
    {
     "data": {
      "text/plain": [
       "tensor([[0.4216, 0.2240, 0.4242],\n",
       "        [0.3623, 0.3125, 0.7414]])"
      ]
     },
     "execution_count": 19,
     "metadata": {},
     "output_type": "execute_result"
    }
   ],
   "source": [
    "torch.reshape(torch.reshape(torch.reshape(b,[2,3]),[-1]),[2,3])"
   ]
  },
  {
   "cell_type": "code",
   "execution_count": 20,
   "id": "3899a67c",
   "metadata": {},
   "outputs": [
    {
     "data": {
      "text/plain": [
       "tensor([[0, 1],\n",
       "        [2, 3],\n",
       "        [4, 5],\n",
       "        [6, 7],\n",
       "        [8, 9]])"
      ]
     },
     "execution_count": 20,
     "metadata": {},
     "output_type": "execute_result"
    }
   ],
   "source": [
    "a=torch.arange(10).reshape(5,2)\n",
    "a"
   ]
  },
  {
   "cell_type": "code",
   "execution_count": 21,
   "id": "f72ebe98",
   "metadata": {},
   "outputs": [
    {
     "data": {
      "text/plain": [
       "(tensor([[0, 1],\n",
       "         [2, 3]]),\n",
       " tensor([[4, 5],\n",
       "         [6, 7]]),\n",
       " tensor([[8, 9]]))"
      ]
     },
     "execution_count": 21,
     "metadata": {},
     "output_type": "execute_result"
    }
   ],
   "source": [
    "torch.split(a,2)"
   ]
  },
  {
   "cell_type": "code",
   "execution_count": 23,
   "id": "99e5cbd6",
   "metadata": {},
   "outputs": [
    {
     "data": {
      "text/plain": [
       "(tensor([[0, 1]]),\n",
       " tensor([[2, 3],\n",
       "         [4, 5],\n",
       "         [6, 7],\n",
       "         [8, 9]]))"
      ]
     },
     "execution_count": 23,
     "metadata": {},
     "output_type": "execute_result"
    }
   ],
   "source": [
    "torch.split(a,[1,4])"
   ]
  },
  {
   "cell_type": "code",
   "execution_count": 24,
   "id": "0753aeb4",
   "metadata": {},
   "outputs": [
    {
     "data": {
      "text/plain": [
       "tensor([[0.4216, 0.2240],\n",
       "        [0.4242, 0.3623],\n",
       "        [0.3125, 0.7414]])"
      ]
     },
     "execution_count": 24,
     "metadata": {},
     "output_type": "execute_result"
    }
   ],
   "source": [
    "b"
   ]
  },
  {
   "cell_type": "code",
   "execution_count": 25,
   "id": "74212a86",
   "metadata": {},
   "outputs": [
    {
     "data": {
      "text/plain": [
       "torch.Size([3, 2])"
      ]
     },
     "execution_count": 25,
     "metadata": {},
     "output_type": "execute_result"
    }
   ],
   "source": [
    "b.shape"
   ]
  },
  {
   "cell_type": "code",
   "execution_count": 26,
   "id": "4e362979",
   "metadata": {},
   "outputs": [
    {
     "data": {
      "text/plain": [
       "tensor([[[0.4216, 0.2240]],\n",
       "\n",
       "        [[0.4242, 0.3623]],\n",
       "\n",
       "        [[0.3125, 0.7414]]])"
      ]
     },
     "execution_count": 26,
     "metadata": {},
     "output_type": "execute_result"
    }
   ],
   "source": [
    "torch.reshape(b,[3,1,2])"
   ]
  },
  {
   "cell_type": "code",
   "execution_count": 27,
   "id": "6fda0d78",
   "metadata": {},
   "outputs": [
    {
     "data": {
      "text/plain": [
       "tensor([[0.4216, 0.2240],\n",
       "        [0.4242, 0.3623],\n",
       "        [0.3125, 0.7414]])"
      ]
     },
     "execution_count": 27,
     "metadata": {},
     "output_type": "execute_result"
    }
   ],
   "source": [
    "#去除掉纬度为一的\n",
    "torch.squeeze(torch.reshape(b,[3,1,2]))"
   ]
  },
  {
   "cell_type": "code",
   "execution_count": 28,
   "id": "8d2a04ca",
   "metadata": {},
   "outputs": [
    {
     "data": {
      "text/plain": [
       "tensor([[[[[0.4216]],\n",
       "\n",
       "          [[0.2240]]]],\n",
       "\n",
       "\n",
       "\n",
       "        [[[[0.4242]],\n",
       "\n",
       "          [[0.3623]]]],\n",
       "\n",
       "\n",
       "\n",
       "        [[[[0.3125]],\n",
       "\n",
       "          [[0.7414]]]]])"
      ]
     },
     "execution_count": 28,
     "metadata": {},
     "output_type": "execute_result"
    }
   ],
   "source": [
    "torch.reshape(b,[3,1,2,1,1])"
   ]
  },
  {
   "cell_type": "code",
   "execution_count": 29,
   "id": "0ffd4dd0",
   "metadata": {},
   "outputs": [
    {
     "data": {
      "text/plain": [
       "torch.Size([3, 2, 1, 1])"
      ]
     },
     "execution_count": 29,
     "metadata": {},
     "output_type": "execute_result"
    }
   ],
   "source": [
    "torch.squeeze(torch.reshape(b,[3,1,2,1,1]),dim=1).shape"
   ]
  },
  {
   "cell_type": "code",
   "execution_count": 31,
   "id": "f7813c40",
   "metadata": {},
   "outputs": [
    {
     "data": {
      "text/plain": [
       "torch.Size([3, 2, 1])"
      ]
     },
     "execution_count": 31,
     "metadata": {},
     "output_type": "execute_result"
    }
   ],
   "source": [
    "torch.squeeze(torch.squeeze(torch.reshape(b,[3,1,2,1,1]),dim=1),dim=2).shape"
   ]
  },
  {
   "cell_type": "code",
   "execution_count": 33,
   "id": "5bda3efa",
   "metadata": {},
   "outputs": [
    {
     "data": {
      "text/plain": [
       "tensor([[0.7003, 0.6386],\n",
       "        [0.2598, 0.5260],\n",
       "        [0.2067, 0.9998]])"
      ]
     },
     "execution_count": 33,
     "metadata": {},
     "output_type": "execute_result"
    }
   ],
   "source": [
    "a=torch.rand([3,2])\n",
    "a"
   ]
  },
  {
   "cell_type": "code",
   "execution_count": 34,
   "id": "3bc00620",
   "metadata": {},
   "outputs": [
    {
     "data": {
      "text/plain": [
       "tensor([[[0.7003, 0.6386],\n",
       "         [0.2598, 0.5260],\n",
       "         [0.2067, 0.9998]],\n",
       "\n",
       "        [[0.4216, 0.2240],\n",
       "         [0.4242, 0.3623],\n",
       "         [0.3125, 0.7414]]])"
      ]
     },
     "execution_count": 34,
     "metadata": {},
     "output_type": "execute_result"
    }
   ],
   "source": [
    "#堆叠，与cat不同\n",
    "torch.stack([a,b])"
   ]
  },
  {
   "cell_type": "code",
   "execution_count": 35,
   "id": "8eed0355",
   "metadata": {},
   "outputs": [
    {
     "data": {
      "text/plain": [
       "torch.Size([2, 3, 2])"
      ]
     },
     "execution_count": 35,
     "metadata": {},
     "output_type": "execute_result"
    }
   ],
   "source": [
    "torch.stack([a,b]).shape"
   ]
  },
  {
   "cell_type": "code",
   "execution_count": 36,
   "id": "25ffac42",
   "metadata": {},
   "outputs": [
    {
     "data": {
      "text/plain": [
       "tensor([[[0.7003, 0.6386],\n",
       "         [0.4216, 0.2240]],\n",
       "\n",
       "        [[0.2598, 0.5260],\n",
       "         [0.4242, 0.3623]],\n",
       "\n",
       "        [[0.2067, 0.9998],\n",
       "         [0.3125, 0.7414]]])"
      ]
     },
     "execution_count": 36,
     "metadata": {},
     "output_type": "execute_result"
    }
   ],
   "source": [
    "torch.stack([a,b],dim=1)"
   ]
  },
  {
   "cell_type": "code",
   "execution_count": 37,
   "id": "454d6bc0",
   "metadata": {},
   "outputs": [
    {
     "data": {
      "text/plain": [
       "torch.Size([3, 2, 2])"
      ]
     },
     "execution_count": 37,
     "metadata": {},
     "output_type": "execute_result"
    }
   ],
   "source": [
    "torch.stack([a,b],dim=1).shape"
   ]
  },
  {
   "cell_type": "code",
   "execution_count": null,
   "id": "db3126cc",
   "metadata": {},
   "outputs": [],
   "source": []
  }
 ],
 "metadata": {
  "kernelspec": {
   "display_name": "Python 3 (ipykernel)",
   "language": "python",
   "name": "python3"
  },
  "language_info": {
   "codemirror_mode": {
    "name": "ipython",
    "version": 3
   },
   "file_extension": ".py",
   "mimetype": "text/x-python",
   "name": "python",
   "nbconvert_exporter": "python",
   "pygments_lexer": "ipython3",
   "version": "3.9.0"
  }
 },
 "nbformat": 4,
 "nbformat_minor": 5
}
