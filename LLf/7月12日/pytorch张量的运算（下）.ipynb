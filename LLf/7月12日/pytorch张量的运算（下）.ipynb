{
 "cells": [
  {
   "cell_type": "code",
   "execution_count": 1,
   "id": "564142d7",
   "metadata": {},
   "outputs": [],
   "source": [
    "import torch"
   ]
  },
  {
   "cell_type": "code",
   "execution_count": 3,
   "id": "be489510",
   "metadata": {},
   "outputs": [
    {
     "data": {
      "text/plain": [
       "tensor([[0.5199, 0.9766, 0.0417],\n",
       "        [0.9844, 0.2087, 0.5822]])"
      ]
     },
     "execution_count": 3,
     "metadata": {},
     "output_type": "execute_result"
    }
   ],
   "source": [
    "a=torch.rand([2,3])\n",
    "a"
   ]
  },
  {
   "cell_type": "code",
   "execution_count": 4,
   "id": "b01fee9d",
   "metadata": {},
   "outputs": [
    {
     "data": {
      "text/plain": [
       "tensor([0.5199, 0.0417, 0.5822])"
      ]
     },
     "execution_count": 4,
     "metadata": {},
     "output_type": "execute_result"
    }
   ],
   "source": [
    "torch.take(a,torch.tensor([0,2,5]))"
   ]
  },
  {
   "cell_type": "code",
   "execution_count": 6,
   "id": "654b612c",
   "metadata": {},
   "outputs": [
    {
     "data": {
      "text/plain": [
       "tensor([[0.1466, 0.3172, 0.9555],\n",
       "        [0.1792, 0.3712, 0.8201],\n",
       "        [0.0043, 0.5644, 0.9837],\n",
       "        [0.8443, 0.2100, 0.2178]])"
      ]
     },
     "execution_count": 6,
     "metadata": {},
     "output_type": "execute_result"
    }
   ],
   "source": [
    "b=torch.rand((4,3))\n",
    "b"
   ]
  },
  {
   "cell_type": "code",
   "execution_count": 9,
   "id": "6d3d7756",
   "metadata": {},
   "outputs": [
    {
     "data": {
      "text/plain": [
       "tensor([[0.1466, 0.3172, 0.9555],\n",
       "        [0.1792, 0.3712, 0.8201],\n",
       "        [0.0043, 0.5644, 0.9837],\n",
       "        [0.8443, 0.2100, 0.2178],\n",
       "        [0.1466, 0.3172, 0.9555],\n",
       "        [0.1792, 0.3712, 0.8201],\n",
       "        [0.0043, 0.5644, 0.9837],\n",
       "        [0.8443, 0.2100, 0.2178]])"
      ]
     },
     "execution_count": 9,
     "metadata": {},
     "output_type": "execute_result"
    }
   ],
   "source": [
    "b_tiled=torch.tile(b,[2,1])\n",
    "b_tiled"
   ]
  },
  {
   "cell_type": "code",
   "execution_count": 10,
   "id": "9745ee62",
   "metadata": {},
   "outputs": [
    {
     "data": {
      "text/plain": [
       "tensor([[0.1466, 0.3172, 0.9555, 0.1466, 0.3172, 0.9555, 0.1466, 0.3172, 0.9555],\n",
       "        [0.1792, 0.3712, 0.8201, 0.1792, 0.3712, 0.8201, 0.1792, 0.3712, 0.8201],\n",
       "        [0.0043, 0.5644, 0.9837, 0.0043, 0.5644, 0.9837, 0.0043, 0.5644, 0.9837],\n",
       "        [0.8443, 0.2100, 0.2178, 0.8443, 0.2100, 0.2178, 0.8443, 0.2100, 0.2178]])"
      ]
     },
     "execution_count": 10,
     "metadata": {},
     "output_type": "execute_result"
    }
   ],
   "source": [
    "b_tiled=torch.tile(b,[1,3])\n",
    "b_tiled"
   ]
  },
  {
   "cell_type": "code",
   "execution_count": 11,
   "id": "83d8f9b6",
   "metadata": {},
   "outputs": [
    {
     "data": {
      "text/plain": [
       "tensor([[0.1466, 0.3172, 0.9555, 0.1466, 0.3172, 0.9555, 0.1466, 0.3172, 0.9555],\n",
       "        [0.1792, 0.3712, 0.8201, 0.1792, 0.3712, 0.8201, 0.1792, 0.3712, 0.8201],\n",
       "        [0.0043, 0.5644, 0.9837, 0.0043, 0.5644, 0.9837, 0.0043, 0.5644, 0.9837],\n",
       "        [0.8443, 0.2100, 0.2178, 0.8443, 0.2100, 0.2178, 0.8443, 0.2100, 0.2178],\n",
       "        [0.1466, 0.3172, 0.9555, 0.1466, 0.3172, 0.9555, 0.1466, 0.3172, 0.9555],\n",
       "        [0.1792, 0.3712, 0.8201, 0.1792, 0.3712, 0.8201, 0.1792, 0.3712, 0.8201],\n",
       "        [0.0043, 0.5644, 0.9837, 0.0043, 0.5644, 0.9837, 0.0043, 0.5644, 0.9837],\n",
       "        [0.8443, 0.2100, 0.2178, 0.8443, 0.2100, 0.2178, 0.8443, 0.2100, 0.2178]])"
      ]
     },
     "execution_count": 11,
     "metadata": {},
     "output_type": "execute_result"
    }
   ],
   "source": [
    "b_tiled=torch.tile(b,[2,3])\n",
    "b_tiled"
   ]
  },
  {
   "cell_type": "code",
   "execution_count": 16,
   "id": "b71295f8",
   "metadata": {},
   "outputs": [
    {
     "data": {
      "text/plain": [
       "tensor([[0.1466, 0.3172, 0.9555],\n",
       "        [0.1792, 0.3712, 0.8201],\n",
       "        [0.0043, 0.5644, 0.9837],\n",
       "        [0.8443, 0.2100, 0.2178]])"
      ]
     },
     "execution_count": 16,
     "metadata": {},
     "output_type": "execute_result"
    }
   ],
   "source": [
    "b"
   ]
  },
  {
   "cell_type": "code",
   "execution_count": 17,
   "id": "31216ced",
   "metadata": {},
   "outputs": [
    {
     "data": {
      "text/plain": [
       "torch.Size([4, 3])"
      ]
     },
     "execution_count": 17,
     "metadata": {},
     "output_type": "execute_result"
    }
   ],
   "source": [
    "b.shape"
   ]
  },
  {
   "cell_type": "code",
   "execution_count": 14,
   "id": "e569841a",
   "metadata": {},
   "outputs": [
    {
     "data": {
      "text/plain": [
       "tensor([[0.1466, 0.1792, 0.0043, 0.8443],\n",
       "        [0.3172, 0.3712, 0.5644, 0.2100],\n",
       "        [0.9555, 0.8201, 0.9837, 0.2178]])"
      ]
     },
     "execution_count": 14,
     "metadata": {},
     "output_type": "execute_result"
    }
   ],
   "source": [
    "torch.transpose(b,0,1)"
   ]
  },
  {
   "cell_type": "code",
   "execution_count": 15,
   "id": "81488ff9",
   "metadata": {},
   "outputs": [
    {
     "data": {
      "text/plain": [
       "torch.Size([3, 4])"
      ]
     },
     "execution_count": 15,
     "metadata": {},
     "output_type": "execute_result"
    }
   ],
   "source": [
    "torch.transpose(b,0,1).shape"
   ]
  },
  {
   "cell_type": "code",
   "execution_count": 18,
   "id": "4c0c197a",
   "metadata": {},
   "outputs": [
    {
     "data": {
      "text/plain": [
       "tensor([[0.1466, 0.3172, 0.9555],\n",
       "        [0.1792, 0.3712, 0.8201],\n",
       "        [0.0043, 0.5644, 0.9837],\n",
       "        [0.8443, 0.2100, 0.2178]])"
      ]
     },
     "execution_count": 18,
     "metadata": {},
     "output_type": "execute_result"
    }
   ],
   "source": [
    "b"
   ]
  },
  {
   "cell_type": "code",
   "execution_count": 19,
   "id": "5ecee1c6",
   "metadata": {},
   "outputs": [
    {
     "data": {
      "text/plain": [
       "(tensor([0.1466, 0.3172, 0.9555]),\n",
       " tensor([0.1792, 0.3712, 0.8201]),\n",
       " tensor([0.0043, 0.5644, 0.9837]),\n",
       " tensor([0.8443, 0.2100, 0.2178]))"
      ]
     },
     "execution_count": 19,
     "metadata": {},
     "output_type": "execute_result"
    }
   ],
   "source": [
    "torch.unbind(b,dim=0)"
   ]
  },
  {
   "cell_type": "code",
   "execution_count": 20,
   "id": "f47e55f8",
   "metadata": {},
   "outputs": [
    {
     "data": {
      "text/plain": [
       "(tensor([0.1466, 0.1792, 0.0043, 0.8443]),\n",
       " tensor([0.3172, 0.3712, 0.5644, 0.2100]),\n",
       " tensor([0.9555, 0.8201, 0.9837, 0.2178]))"
      ]
     },
     "execution_count": 20,
     "metadata": {},
     "output_type": "execute_result"
    }
   ],
   "source": [
    "torch.unbind(b,dim=1)"
   ]
  },
  {
   "cell_type": "code",
   "execution_count": 21,
   "id": "38bc4363",
   "metadata": {},
   "outputs": [
    {
     "data": {
      "text/plain": [
       "tensor([[[0.8651, 0.6749, 0.9718, 0.0440],\n",
       "         [0.0319, 0.9957, 0.5012, 0.5699],\n",
       "         [0.0727, 0.5533, 0.1186, 0.7390]],\n",
       "\n",
       "        [[0.8723, 0.5741, 0.9053, 0.6186],\n",
       "         [0.2393, 0.3694, 0.1715, 0.7878],\n",
       "         [0.0568, 0.6717, 0.0679, 0.2324]]])"
      ]
     },
     "execution_count": 21,
     "metadata": {},
     "output_type": "execute_result"
    }
   ],
   "source": [
    "a=torch.rand((2,3,4))\n",
    "a"
   ]
  },
  {
   "cell_type": "code",
   "execution_count": 22,
   "id": "c044d5bc",
   "metadata": {},
   "outputs": [
    {
     "data": {
      "text/plain": [
       "(tensor([[0.8651, 0.6749, 0.9718, 0.0440],\n",
       "         [0.0319, 0.9957, 0.5012, 0.5699],\n",
       "         [0.0727, 0.5533, 0.1186, 0.7390]]),\n",
       " tensor([[0.8723, 0.5741, 0.9053, 0.6186],\n",
       "         [0.2393, 0.3694, 0.1715, 0.7878],\n",
       "         [0.0568, 0.6717, 0.0679, 0.2324]]))"
      ]
     },
     "execution_count": 22,
     "metadata": {},
     "output_type": "execute_result"
    }
   ],
   "source": [
    "torch.unbind(a,dim=0)"
   ]
  },
  {
   "cell_type": "code",
   "execution_count": 23,
   "id": "2682e1d4",
   "metadata": {},
   "outputs": [
    {
     "data": {
      "text/plain": [
       "(tensor([[0.8651, 0.6749, 0.9718, 0.0440],\n",
       "         [0.8723, 0.5741, 0.9053, 0.6186]]),\n",
       " tensor([[0.0319, 0.9957, 0.5012, 0.5699],\n",
       "         [0.2393, 0.3694, 0.1715, 0.7878]]),\n",
       " tensor([[0.0727, 0.5533, 0.1186, 0.7390],\n",
       "         [0.0568, 0.6717, 0.0679, 0.2324]]))"
      ]
     },
     "execution_count": 23,
     "metadata": {},
     "output_type": "execute_result"
    }
   ],
   "source": [
    "torch.unbind(a,dim=1)"
   ]
  },
  {
   "cell_type": "code",
   "execution_count": 24,
   "id": "f5c3c1f5",
   "metadata": {},
   "outputs": [
    {
     "data": {
      "text/plain": [
       "tensor([[[0.8651, 0.6749, 0.9718, 0.0440],\n",
       "         [0.0319, 0.9957, 0.5012, 0.5699],\n",
       "         [0.0727, 0.5533, 0.1186, 0.7390]],\n",
       "\n",
       "        [[0.8723, 0.5741, 0.9053, 0.6186],\n",
       "         [0.2393, 0.3694, 0.1715, 0.7878],\n",
       "         [0.0568, 0.6717, 0.0679, 0.2324]]])"
      ]
     },
     "execution_count": 24,
     "metadata": {},
     "output_type": "execute_result"
    }
   ],
   "source": [
    "a"
   ]
  },
  {
   "cell_type": "code",
   "execution_count": 25,
   "id": "6d912fc3",
   "metadata": {},
   "outputs": [
    {
     "data": {
      "text/plain": [
       "torch.Size([2, 3, 4])"
      ]
     },
     "execution_count": 25,
     "metadata": {},
     "output_type": "execute_result"
    }
   ],
   "source": [
    "a.shape"
   ]
  },
  {
   "cell_type": "code",
   "execution_count": 26,
   "id": "43528115",
   "metadata": {},
   "outputs": [
    {
     "data": {
      "text/plain": [
       "tensor([[[[0.8651, 0.6749, 0.9718, 0.0440],\n",
       "          [0.0319, 0.9957, 0.5012, 0.5699],\n",
       "          [0.0727, 0.5533, 0.1186, 0.7390]],\n",
       "\n",
       "         [[0.8723, 0.5741, 0.9053, 0.6186],\n",
       "          [0.2393, 0.3694, 0.1715, 0.7878],\n",
       "          [0.0568, 0.6717, 0.0679, 0.2324]]]])"
      ]
     },
     "execution_count": 26,
     "metadata": {},
     "output_type": "execute_result"
    }
   ],
   "source": [
    "torch.unsqueeze(a,dim=0)"
   ]
  },
  {
   "cell_type": "code",
   "execution_count": 27,
   "id": "c677bd64",
   "metadata": {},
   "outputs": [
    {
     "data": {
      "text/plain": [
       "torch.Size([1, 2, 3, 4])"
      ]
     },
     "execution_count": 27,
     "metadata": {},
     "output_type": "execute_result"
    }
   ],
   "source": [
    "torch.unsqueeze(a,dim=0).shape"
   ]
  },
  {
   "cell_type": "code",
   "execution_count": 28,
   "id": "605630a7",
   "metadata": {},
   "outputs": [
    {
     "data": {
      "text/plain": [
       "torch.Size([2, 1, 3, 4])"
      ]
     },
     "execution_count": 28,
     "metadata": {},
     "output_type": "execute_result"
    }
   ],
   "source": [
    "torch.unsqueeze(a,dim=1).shape"
   ]
  },
  {
   "cell_type": "code",
   "execution_count": 31,
   "id": "fd451a90",
   "metadata": {},
   "outputs": [
    {
     "data": {
      "text/plain": [
       "torch.Size([2, 3, 4, 1])"
      ]
     },
     "execution_count": 31,
     "metadata": {},
     "output_type": "execute_result"
    }
   ],
   "source": [
    "torch.unsqueeze(a,dim=-1).shape"
   ]
  },
  {
   "cell_type": "code",
   "execution_count": 32,
   "id": "e4a0038f",
   "metadata": {},
   "outputs": [],
   "source": [
    "x=torch.randn(3,2)\n",
    "y=torch.ones(3,2)"
   ]
  },
  {
   "cell_type": "code",
   "execution_count": 34,
   "id": "44bd7a28",
   "metadata": {},
   "outputs": [
    {
     "data": {
      "text/plain": [
       "tensor([[-2.5871,  0.9681],\n",
       "        [ 0.8639, -0.7946],\n",
       "        [-1.2119,  0.7576]])"
      ]
     },
     "execution_count": 34,
     "metadata": {},
     "output_type": "execute_result"
    }
   ],
   "source": [
    "x"
   ]
  },
  {
   "cell_type": "code",
   "execution_count": 35,
   "id": "c606d3ed",
   "metadata": {},
   "outputs": [
    {
     "data": {
      "text/plain": [
       "tensor([[1., 1.],\n",
       "        [1., 1.],\n",
       "        [1., 1.]])"
      ]
     },
     "execution_count": 35,
     "metadata": {},
     "output_type": "execute_result"
    }
   ],
   "source": [
    "y"
   ]
  },
  {
   "cell_type": "code",
   "execution_count": 33,
   "id": "573c459b",
   "metadata": {},
   "outputs": [
    {
     "data": {
      "text/plain": [
       "tensor([[1.0000, 0.9681],\n",
       "        [0.8639, 1.0000],\n",
       "        [1.0000, 0.7576]])"
      ]
     },
     "execution_count": 33,
     "metadata": {},
     "output_type": "execute_result"
    }
   ],
   "source": [
    "torch.where(x>0,x,y)"
   ]
  },
  {
   "cell_type": "code",
   "execution_count": null,
   "id": "38a94530",
   "metadata": {},
   "outputs": [],
   "source": []
  }
 ],
 "metadata": {
  "kernelspec": {
   "display_name": "Python 3 (ipykernel)",
   "language": "python",
   "name": "python3"
  },
  "language_info": {
   "codemirror_mode": {
    "name": "ipython",
    "version": 3
   },
   "file_extension": ".py",
   "mimetype": "text/x-python",
   "name": "python",
   "nbconvert_exporter": "python",
   "pygments_lexer": "ipython3",
   "version": "3.9.0"
  }
 },
 "nbformat": 4,
 "nbformat_minor": 5
}
