{
 "cells": [
  {
   "cell_type": "code",
   "execution_count": 1,
   "id": "915eb4c1",
   "metadata": {},
   "outputs": [],
   "source": [
    "import torch\n",
    "from torch import nn\n",
    "from torch.utils.data import DataLoader\n",
    "from torchvision import datasets\n",
    "from torchvision.transforms import ToTensor, Lambda"
   ]
  },
  {
   "cell_type": "code",
   "execution_count": 2,
   "id": "8450adf2",
   "metadata": {},
   "outputs": [
    {
     "name": "stdout",
     "output_type": "stream",
     "text": [
      "Downloading http://fashion-mnist.s3-website.eu-central-1.amazonaws.com/train-images-idx3-ubyte.gz\n",
      "Downloading http://fashion-mnist.s3-website.eu-central-1.amazonaws.com/train-images-idx3-ubyte.gz to data\\FashionMNIST\\raw\\train-images-idx3-ubyte.gz\n"
     ]
    },
    {
     "name": "stderr",
     "output_type": "stream",
     "text": [
      "100.0%\n"
     ]
    },
    {
     "name": "stdout",
     "output_type": "stream",
     "text": [
      "Extracting data\\FashionMNIST\\raw\\train-images-idx3-ubyte.gz to data\\FashionMNIST\\raw\n",
      "\n",
      "Downloading http://fashion-mnist.s3-website.eu-central-1.amazonaws.com/train-labels-idx1-ubyte.gz\n",
      "Downloading http://fashion-mnist.s3-website.eu-central-1.amazonaws.com/train-labels-idx1-ubyte.gz to data\\FashionMNIST\\raw\\train-labels-idx1-ubyte.gz\n"
     ]
    },
    {
     "name": "stderr",
     "output_type": "stream",
     "text": [
      "100.0%\n"
     ]
    },
    {
     "name": "stdout",
     "output_type": "stream",
     "text": [
      "Extracting data\\FashionMNIST\\raw\\train-labels-idx1-ubyte.gz to data\\FashionMNIST\\raw\n",
      "\n",
      "Downloading http://fashion-mnist.s3-website.eu-central-1.amazonaws.com/t10k-images-idx3-ubyte.gz\n",
      "Downloading http://fashion-mnist.s3-website.eu-central-1.amazonaws.com/t10k-images-idx3-ubyte.gz to data\\FashionMNIST\\raw\\t10k-images-idx3-ubyte.gz\n"
     ]
    },
    {
     "name": "stderr",
     "output_type": "stream",
     "text": [
      "100.0%\n"
     ]
    },
    {
     "name": "stdout",
     "output_type": "stream",
     "text": [
      "Extracting data\\FashionMNIST\\raw\\t10k-images-idx3-ubyte.gz to data\\FashionMNIST\\raw\n",
      "\n",
      "Downloading http://fashion-mnist.s3-website.eu-central-1.amazonaws.com/t10k-labels-idx1-ubyte.gz\n",
      "Downloading http://fashion-mnist.s3-website.eu-central-1.amazonaws.com/t10k-labels-idx1-ubyte.gz to data\\FashionMNIST\\raw\\t10k-labels-idx1-ubyte.gz\n"
     ]
    },
    {
     "name": "stderr",
     "output_type": "stream",
     "text": [
      "100.0%\n"
     ]
    },
    {
     "name": "stdout",
     "output_type": "stream",
     "text": [
      "Extracting data\\FashionMNIST\\raw\\t10k-labels-idx1-ubyte.gz to data\\FashionMNIST\\raw\n",
      "\n"
     ]
    }
   ],
   "source": [
    "training_data = datasets.FashionMNIST(  ##训练集\n",
    "    root=\"data\",\n",
    "    train=True,\n",
    "    download=True,\n",
    "    transform=ToTensor()\n",
    ")"
   ]
  },
  {
   "cell_type": "code",
   "execution_count": 3,
   "id": "5bd4c8cb",
   "metadata": {},
   "outputs": [],
   "source": [
    "test_data = datasets.FashionMNIST(   ##测试集\n",
    "    root=\"data\",\n",
    "    train=False,\n",
    "    download=True,\n",
    "    transform=ToTensor()\n",
    ")"
   ]
  },
  {
   "cell_type": "code",
   "execution_count": 4,
   "id": "dd4b1ca0",
   "metadata": {},
   "outputs": [],
   "source": [
    "##将构建好的datasets作为dataloader的输入\n",
    "train_dataloader = DataLoader(training_data, batch_size=64)\n",
    "test_dataloader = DataLoader(test_data, batch_size=64)"
   ]
  },
  {
   "cell_type": "code",
   "execution_count": 6,
   "id": "ea173880",
   "metadata": {},
   "outputs": [],
   "source": [
    "##构建模型\n",
    "class NeuralNetwork(nn.Module):\n",
    "    def __init__(self):\n",
    "        super(NeuralNetwork, self).__init__()    ##调用父类module\n",
    "        self.flatten = nn.Flatten()              ##Flatten将张量从第一个维度开始都变为一个维度\n",
    "        self.linear_relu_stack = nn.Sequential(  ##Sequential有序的容器，通过添加的module，有序的串联起来\n",
    "            nn.Linear(28*28, 512),    #线性层\n",
    "            nn.ReLU(),                #非线性激活函数\n",
    "            nn.Linear(512, 512),\n",
    "            nn.ReLU(),\n",
    "            nn.Linear(512, 10),\n",
    "        )\n",
    "    \n",
    "    def forward(self, x):           ##前向运算\n",
    "        x = self.flatten(x)         ##对输入的维度进行一个flatten操作\n",
    "        logits = self.linear_relu_stack(x)   \n",
    "        return logits\n",
    "    "
   ]
  },
  {
   "cell_type": "code",
   "execution_count": 7,
   "id": "e5337934",
   "metadata": {},
   "outputs": [],
   "source": [
    "model = NeuralNetwork()  #实例化网络"
   ]
  },
  {
   "cell_type": "code",
   "execution_count": 8,
   "id": "d8393a1f",
   "metadata": {},
   "outputs": [],
   "source": [
    "#超参数\n",
    "learning_rate = 1e-3\n",
    "batch_size = 64\n",
    "epochs = 5"
   ]
  },
  {
   "cell_type": "code",
   "execution_count": 9,
   "id": "e608e16a",
   "metadata": {},
   "outputs": [],
   "source": [
    "# 交叉熵损失函数\n",
    "loss_fn = nn.CrossEntropyLoss()"
   ]
  },
  {
   "cell_type": "code",
   "execution_count": 10,
   "id": "2a8910db",
   "metadata": {},
   "outputs": [],
   "source": [
    "##构建优化器\n",
    "optimizer = torch.optim.SGD(model.parameters(), lr=learning_rate)"
   ]
  },
  {
   "cell_type": "markdown",
   "id": "e54aaaf1",
   "metadata": {},
   "source": [
    "# 在训练循环中，优化分三步进行：\n",
    "1、调用以重置模型参数的梯度。默认情况下，渐变相加起来;为了防止重复计数，我们在每次迭代时显式地将它们归零。optimizer.zero_grad()\n",
    "\n",
    "2、通过调用 反向传播预测损失。PyTorch 会沉积每个参数的损耗梯度。loss.backward()\n",
    "\n",
    "3、一旦我们有了梯度，我们调用通过向后传递中收集的梯度来调整参数。optimizer.step()"
   ]
  },
  {
   "cell_type": "code",
   "execution_count": 11,
   "id": "44b43644",
   "metadata": {},
   "outputs": [],
   "source": [
    "def train_loop(dataloader, model, loss_fn, optimizer):\n",
    "    size = len(dataloader.dataset)        ##计算dataloader的大小\n",
    "    for batch, (X, y) in enumerate(dataloader):  ##enumerate枚举函数\n",
    "        # Compute prediction and loss\n",
    "        pred = model(X)  ##logits\n",
    "        loss = loss_fn(pred, y)  ##将logits和y放入loss_fn函数中得到loss标量\n",
    "\n",
    "        # Backpropagation\n",
    "        optimizer.zero_grad()   ##对每个参数梯度置零\n",
    "        loss.backward()         ##loss对所有参数梯度的计算\n",
    "        optimizer.step()        ##通过优化器对参数进行更新\n",
    "\n",
    "        if batch % 100 == 0:  #每到100个就来查看一下loss的值\n",
    "            loss, current = loss.item(), batch * len(X)  ##当前训练了多少个样本了\n",
    "            print(f\"loss: {loss:>7f}  [{current:>5d}/{size:>5d}]\")\n",
    "\n",
    "\n",
    "def test_loop(dataloader, model, loss_fn):\n",
    "    size = len(dataloader.dataset)\n",
    "    num_batches = len(dataloader)\n",
    "    test_loss, correct = 0, 0\n",
    "\n",
    "    with torch.no_grad():\n",
    "        for X, y in dataloader:\n",
    "            pred = model(X)\n",
    "            test_loss += loss_fn(pred, y).item()\n",
    "            correct += (pred.argmax(1) == y).type(torch.float).sum().item()\n",
    "\n",
    "    test_loss /= num_batches\n",
    "    correct /= size\n",
    "    print(f\"Test Error: \\n Accuracy: {(100*correct):>0.1f}%, Avg loss: {test_loss:>8f} \\n\")"
   ]
  },
  {
   "cell_type": "code",
   "execution_count": 12,
   "id": "11f34764",
   "metadata": {},
   "outputs": [
    {
     "name": "stdout",
     "output_type": "stream",
     "text": [
      "Epoch 1\n",
      "-------------------------------\n",
      "loss: 2.303466  [    0/60000]\n",
      "loss: 2.288825  [ 6400/60000]\n",
      "loss: 2.274044  [12800/60000]\n",
      "loss: 2.263069  [19200/60000]\n",
      "loss: 2.235757  [25600/60000]\n",
      "loss: 2.228578  [32000/60000]\n",
      "loss: 2.216583  [38400/60000]\n",
      "loss: 2.189525  [44800/60000]\n",
      "loss: 2.185098  [51200/60000]\n",
      "loss: 2.144545  [57600/60000]\n",
      "Test Error: \n",
      " Accuracy: 54.6%, Avg loss: 2.145669 \n",
      "\n",
      "Epoch 2\n",
      "-------------------------------\n",
      "loss: 2.158687  [    0/60000]\n",
      "loss: 2.145877  [ 6400/60000]\n",
      "loss: 2.089099  [12800/60000]\n",
      "loss: 2.096604  [19200/60000]\n",
      "loss: 2.044379  [25600/60000]\n",
      "loss: 1.994059  [32000/60000]\n",
      "loss: 2.001401  [38400/60000]\n",
      "loss: 1.927449  [44800/60000]\n",
      "loss: 1.931690  [51200/60000]\n",
      "loss: 1.844731  [57600/60000]\n",
      "Test Error: \n",
      " Accuracy: 58.6%, Avg loss: 1.852291 \n",
      "\n",
      "Epoch 3\n",
      "-------------------------------\n",
      "loss: 1.890171  [    0/60000]\n",
      "loss: 1.857084  [ 6400/60000]\n",
      "loss: 1.737202  [12800/60000]\n",
      "loss: 1.768098  [19200/60000]\n",
      "loss: 1.675373  [25600/60000]\n",
      "loss: 1.623226  [32000/60000]\n",
      "loss: 1.629686  [38400/60000]\n",
      "loss: 1.543625  [44800/60000]\n",
      "loss: 1.571286  [51200/60000]\n",
      "loss: 1.456463  [57600/60000]\n",
      "Test Error: \n",
      " Accuracy: 61.1%, Avg loss: 1.483271 \n",
      "\n",
      "Epoch 4\n",
      "-------------------------------\n",
      "loss: 1.552553  [    0/60000]\n",
      "loss: 1.520715  [ 6400/60000]\n",
      "loss: 1.374366  [12800/60000]\n",
      "loss: 1.436700  [19200/60000]\n",
      "loss: 1.340648  [25600/60000]\n",
      "loss: 1.327226  [32000/60000]\n",
      "loss: 1.334511  [38400/60000]\n",
      "loss: 1.270423  [44800/60000]\n",
      "loss: 1.309197  [51200/60000]\n",
      "loss: 1.206249  [57600/60000]\n",
      "Test Error: \n",
      " Accuracy: 63.0%, Avg loss: 1.233218 \n",
      "\n",
      "Epoch 5\n",
      "-------------------------------\n",
      "loss: 1.309037  [    0/60000]\n",
      "loss: 1.295460  [ 6400/60000]\n",
      "loss: 1.133862  [12800/60000]\n",
      "loss: 1.229845  [19200/60000]\n",
      "loss: 1.121758  [25600/60000]\n",
      "loss: 1.136831  [32000/60000]\n",
      "loss: 1.154980  [38400/60000]\n",
      "loss: 1.101519  [44800/60000]\n",
      "loss: 1.145143  [51200/60000]\n",
      "loss: 1.058716  [57600/60000]\n",
      "Test Error: \n",
      " Accuracy: 64.5%, Avg loss: 1.077897 \n",
      "\n",
      "Epoch 6\n",
      "-------------------------------\n",
      "loss: 1.147204  [    0/60000]\n",
      "loss: 1.153940  [ 6400/60000]\n",
      "loss: 0.975537  [12800/60000]\n",
      "loss: 1.100299  [19200/60000]\n",
      "loss: 0.986969  [25600/60000]\n",
      "loss: 1.009400  [32000/60000]\n",
      "loss: 1.043248  [38400/60000]\n",
      "loss: 0.993688  [44800/60000]\n",
      "loss: 1.036570  [51200/60000]\n",
      "loss: 0.965628  [57600/60000]\n",
      "Test Error: \n",
      " Accuracy: 65.6%, Avg loss: 0.977273 \n",
      "\n",
      "Epoch 7\n",
      "-------------------------------\n",
      "loss: 1.034094  [    0/60000]\n",
      "loss: 1.061354  [ 6400/60000]\n",
      "loss: 0.866622  [12800/60000]\n",
      "loss: 1.013329  [19200/60000]\n",
      "loss: 0.902185  [25600/60000]\n",
      "loss: 0.919509  [32000/60000]\n",
      "loss: 0.969409  [38400/60000]\n",
      "loss: 0.922778  [44800/60000]\n",
      "loss: 0.960032  [51200/60000]\n",
      "loss: 0.902476  [57600/60000]\n",
      "Test Error: \n",
      " Accuracy: 67.0%, Avg loss: 0.908024 \n",
      "\n",
      "Epoch 8\n",
      "-------------------------------\n",
      "loss: 0.950290  [    0/60000]\n",
      "loss: 0.996180  [ 6400/60000]\n",
      "loss: 0.787850  [12800/60000]\n",
      "loss: 0.950918  [19200/60000]\n",
      "loss: 0.845390  [25600/60000]\n",
      "loss: 0.853210  [32000/60000]\n",
      "loss: 0.916851  [38400/60000]\n",
      "loss: 0.874528  [44800/60000]\n",
      "loss: 0.903853  [51200/60000]\n",
      "loss: 0.856215  [57600/60000]\n",
      "Test Error: \n",
      " Accuracy: 68.2%, Avg loss: 0.857540 \n",
      "\n",
      "Epoch 9\n",
      "-------------------------------\n",
      "loss: 0.885393  [    0/60000]\n",
      "loss: 0.946786  [ 6400/60000]\n",
      "loss: 0.728258  [12800/60000]\n",
      "loss: 0.903672  [19200/60000]\n",
      "loss: 0.804739  [25600/60000]\n",
      "loss: 0.802837  [32000/60000]\n",
      "loss: 0.876684  [38400/60000]\n",
      "loss: 0.840311  [44800/60000]\n",
      "loss: 0.861393  [51200/60000]\n",
      "loss: 0.820218  [57600/60000]\n",
      "Test Error: \n",
      " Accuracy: 69.6%, Avg loss: 0.819087 \n",
      "\n",
      "Epoch 10\n",
      "-------------------------------\n",
      "loss: 0.833577  [    0/60000]\n",
      "loss: 0.907016  [ 6400/60000]\n",
      "loss: 0.681583  [12800/60000]\n",
      "loss: 0.866701  [19200/60000]\n",
      "loss: 0.773893  [25600/60000]\n",
      "loss: 0.763887  [32000/60000]\n",
      "loss: 0.844282  [38400/60000]\n",
      "loss: 0.814636  [44800/60000]\n",
      "loss: 0.828042  [51200/60000]\n",
      "loss: 0.790957  [57600/60000]\n",
      "Test Error: \n",
      " Accuracy: 70.8%, Avg loss: 0.788420 \n",
      "\n",
      "Done!\n"
     ]
    }
   ],
   "source": [
    "##进行周期训练\n",
    "loss_fn = nn.CrossEntropyLoss()\n",
    "optimizer = torch.optim.SGD(model.parameters(), lr=learning_rate)\n",
    "\n",
    "epochs = 10\n",
    "for t in range(epochs):\n",
    "    print(f\"Epoch {t+1}\\n-------------------------------\")\n",
    "    train_loop(train_dataloader, model, loss_fn, optimizer)\n",
    "    test_loop(test_dataloader, model, loss_fn)\n",
    "print(\"Done!\")"
   ]
  },
  {
   "cell_type": "code",
   "execution_count": null,
   "id": "54939b15",
   "metadata": {},
   "outputs": [],
   "source": []
  }
 ],
 "metadata": {
  "kernelspec": {
   "display_name": "Python 3 (ipykernel)",
   "language": "python",
   "name": "python3"
  },
  "language_info": {
   "codemirror_mode": {
    "name": "ipython",
    "version": 3
   },
   "file_extension": ".py",
   "mimetype": "text/x-python",
   "name": "python",
   "nbconvert_exporter": "python",
   "pygments_lexer": "ipython3",
   "version": "3.9.0"
  }
 },
 "nbformat": 4,
 "nbformat_minor": 5
}
