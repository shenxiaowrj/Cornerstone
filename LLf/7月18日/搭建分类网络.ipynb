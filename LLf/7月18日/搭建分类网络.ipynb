{
 "cells": [
  {
   "cell_type": "code",
   "execution_count": 2,
   "id": "7fbde235",
   "metadata": {},
   "outputs": [],
   "source": [
    "import os\n",
    "import torch\n",
    "from torch import nn\n",
    "from torch.utils.data import DataLoader\n",
    "from torchvision import datasets, transforms"
   ]
  },
  {
   "cell_type": "code",
   "execution_count": 3,
   "id": "cfcd91cf",
   "metadata": {},
   "outputs": [
    {
     "name": "stdout",
     "output_type": "stream",
     "text": [
      "Using cuda device\n"
     ]
    }
   ],
   "source": [
    "#判断cuda是否可用，可用就在gpu上运行，不可用就在cpu上\n",
    "device = \"cuda\" if torch.cuda.is_available() else \"cpu\"\n",
    "print(f\"Using {device} device\")"
   ]
  },
  {
   "cell_type": "code",
   "execution_count": 4,
   "id": "2f6a8172",
   "metadata": {},
   "outputs": [],
   "source": [
    "class NeuralNetwork(nn.Module):   ##父类\n",
    "    def __init__(self):\n",
    "        super(NeuralNetwork, self).__init__()\n",
    "        self.flatten = nn.Flatten()   ##创建flatten\n",
    "        self.linear_relu_stack = nn.Sequential(  ##线性+relu的堆叠模块\n",
    "            nn.Linear(28*28, 512),  ##线性层  Linear（输入特征的特征维度，隐含层的大小）\n",
    "            nn.ReLU(),              ##relu非线性的激活函数\n",
    "            nn.Linear(512, 512),    ##输入为512，输出也为512\n",
    "            nn.ReLU(),\n",
    "            nn.Linear(512, 10),     ##输入为512，输出为10\n",
    "        )                           ##一共五层\n",
    "\n",
    "    def forward(self, x):           ##默认x作为输入  前向运算\n",
    "        x = self.flatten(x)         ##维度摊平\n",
    "        logits = self.linear_relu_stack(x)\n",
    "        return logits"
   ]
  },
  {
   "cell_type": "code",
   "execution_count": 5,
   "id": "8ae7ab26",
   "metadata": {},
   "outputs": [
    {
     "name": "stdout",
     "output_type": "stream",
     "text": [
      "NeuralNetwork(\n",
      "  (flatten): Flatten(start_dim=1, end_dim=-1)\n",
      "  (linear_relu_stack): Sequential(\n",
      "    (0): Linear(in_features=784, out_features=512, bias=True)\n",
      "    (1): ReLU()\n",
      "    (2): Linear(in_features=512, out_features=512, bias=True)\n",
      "    (3): ReLU()\n",
      "    (4): Linear(in_features=512, out_features=10, bias=True)\n",
      "  )\n",
      ")\n"
     ]
    }
   ],
   "source": [
    "model = NeuralNetwork().to(device)  \n",
    "print(model)   ##print输出"
   ]
  },
  {
   "cell_type": "code",
   "execution_count": 17,
   "id": "30547ed3",
   "metadata": {
    "scrolled": true
   },
   "outputs": [
    {
     "name": "stdout",
     "output_type": "stream",
     "text": [
      "----------------------------------------------------------------\n",
      "        Layer (type)               Output Shape         Param #\n",
      "================================================================\n",
      "           Flatten-1                  [-1, 784]               0\n",
      "            Linear-2                  [-1, 512]         401,920\n",
      "              ReLU-3                  [-1, 512]               0\n",
      "            Linear-4                  [-1, 512]         262,656\n",
      "              ReLU-5                  [-1, 512]               0\n",
      "            Linear-6                   [-1, 10]           5,130\n",
      "================================================================\n",
      "Total params: 669,706\n",
      "Trainable params: 669,706\n",
      "Non-trainable params: 0\n",
      "----------------------------------------------------------------\n",
      "Input size (MB): 0.00\n",
      "Forward/backward pass size (MB): 0.02\n",
      "Params size (MB): 2.55\n",
      "Estimated Total Size (MB): 2.58\n",
      "----------------------------------------------------------------\n"
     ]
    }
   ],
   "source": [
    "#如何在jupyter notebook中安装github中的第三方库\n",
    "from torchsummary import summary\n",
    "summary(model, input_size=(1, 28, 28)) "
   ]
  },
  {
   "cell_type": "code",
   "execution_count": 7,
   "id": "a5a031c7",
   "metadata": {},
   "outputs": [
    {
     "name": "stdout",
     "output_type": "stream",
     "text": [
      "Predicted class: tensor([6], device='cuda:0')\n"
     ]
    }
   ],
   "source": [
    "X = torch.rand(1, 28, 28, device=device)  ##在device随机初始化一个1*28*28的张量\n",
    "logits = model(X)\n",
    "pred_probab = nn.Softmax(dim=1)(logits)   ##实例化softmax\n",
    "y_pred = pred_probab.argmax(1)            ##计算出概率最大值\n",
    "print(f\"Predicted class: {y_pred}\")"
   ]
  },
  {
   "cell_type": "code",
   "execution_count": 8,
   "id": "c6afae50",
   "metadata": {},
   "outputs": [
    {
     "name": "stdout",
     "output_type": "stream",
     "text": [
      "torch.Size([3, 28, 28])\n"
     ]
    }
   ],
   "source": [
    "input_image = torch.rand(3,28,28)\n",
    "print(input_image.size())  ##查看输入张量的大小"
   ]
  },
  {
   "cell_type": "code",
   "execution_count": 9,
   "id": "5242ea48",
   "metadata": {},
   "outputs": [
    {
     "name": "stdout",
     "output_type": "stream",
     "text": [
      "torch.Size([3, 784])\n"
     ]
    }
   ],
   "source": [
    "flatten = nn.Flatten()     ##实例化操作，flatten的作用是从第一维度到最后一个维度浓缩成一个维度\n",
    "flat_image = flatten(input_image)\n",
    "print(flat_image.size())  ##输出的784=28*28"
   ]
  },
  {
   "cell_type": "code",
   "execution_count": 10,
   "id": "964620c2",
   "metadata": {},
   "outputs": [
    {
     "name": "stdout",
     "output_type": "stream",
     "text": [
      "torch.Size([3, 20])\n"
     ]
    }
   ],
   "source": [
    "layer1 = nn.Linear(in_features=28*28, out_features=20)   ## Linear（输入的特征大小，输出的隐含层大小）\n",
    "hidden1 = layer1(flat_image)\n",
    "print(hidden1.size())      ##784=28*28被out_features=20替换"
   ]
  },
  {
   "cell_type": "code",
   "execution_count": 11,
   "id": "1f757b53",
   "metadata": {},
   "outputs": [
    {
     "name": "stdout",
     "output_type": "stream",
     "text": [
      "Before ReLU: tensor([[ 0.1900, -0.3520,  0.4229, -0.0819,  0.0373,  0.0321,  0.6072,  0.0025,\n",
      "          0.0547, -0.3817,  0.3305, -0.1969, -0.0204,  0.2798, -0.0830, -0.1471,\n",
      "         -0.3000, -0.1589, -0.1237,  0.4137],\n",
      "        [ 0.2337, -0.3599,  0.2771, -0.1569,  0.2875, -0.4632,  0.7306,  0.2544,\n",
      "         -0.0988, -0.3940,  0.0674, -0.1030,  0.6177,  0.2127,  0.0433, -0.1029,\n",
      "         -0.4432, -0.2290, -0.1548,  0.3283],\n",
      "        [ 0.2453, -0.3998,  0.2494, -0.1623, -0.1197, -0.2783,  0.2950,  0.3928,\n",
      "         -0.0547, -0.1786,  0.1675, -0.1743,  0.4023, -0.0279,  0.0020,  0.0102,\n",
      "         -0.3827,  0.0755, -0.0959,  0.2682]], grad_fn=<AddmmBackward0>)\n",
      "\n",
      "\n",
      "After ReLU: tensor([[0.1900, 0.0000, 0.4229, 0.0000, 0.0373, 0.0321, 0.6072, 0.0025, 0.0547,\n",
      "         0.0000, 0.3305, 0.0000, 0.0000, 0.2798, 0.0000, 0.0000, 0.0000, 0.0000,\n",
      "         0.0000, 0.4137],\n",
      "        [0.2337, 0.0000, 0.2771, 0.0000, 0.2875, 0.0000, 0.7306, 0.2544, 0.0000,\n",
      "         0.0000, 0.0674, 0.0000, 0.6177, 0.2127, 0.0433, 0.0000, 0.0000, 0.0000,\n",
      "         0.0000, 0.3283],\n",
      "        [0.2453, 0.0000, 0.2494, 0.0000, 0.0000, 0.0000, 0.2950, 0.3928, 0.0000,\n",
      "         0.0000, 0.1675, 0.0000, 0.4023, 0.0000, 0.0020, 0.0102, 0.0000, 0.0755,\n",
      "         0.0000, 0.2682]], grad_fn=<ReluBackward0>)\n"
     ]
    }
   ],
   "source": [
    "print(f\"Before ReLU: {hidden1}\\n\\n\")\n",
    "hidden1 = nn.ReLU()(hidden1)\n",
    "print(f\"After ReLU: {hidden1}\")"
   ]
  },
  {
   "cell_type": "code",
   "execution_count": 12,
   "id": "eb172434",
   "metadata": {},
   "outputs": [],
   "source": [
    "seq_modules = nn.Sequential(\n",
    "    flatten,\n",
    "    layer1,\n",
    "    nn.ReLU(),\n",
    "    nn.Linear(20, 10)\n",
    ")\n",
    "input_image = torch.rand(3,28,28)\n",
    "logits = seq_modules(input_image)"
   ]
  },
  {
   "cell_type": "code",
   "execution_count": 13,
   "id": "b9b390cc",
   "metadata": {},
   "outputs": [],
   "source": [
    "softmax = nn.Softmax(dim=1)\n",
    "pred_probab = softmax(logits)"
   ]
  },
  {
   "cell_type": "code",
   "execution_count": 14,
   "id": "e7dfd77a",
   "metadata": {},
   "outputs": [
    {
     "name": "stdout",
     "output_type": "stream",
     "text": [
      "Model structure: NeuralNetwork(\n",
      "  (flatten): Flatten(start_dim=1, end_dim=-1)\n",
      "  (linear_relu_stack): Sequential(\n",
      "    (0): Linear(in_features=784, out_features=512, bias=True)\n",
      "    (1): ReLU()\n",
      "    (2): Linear(in_features=512, out_features=512, bias=True)\n",
      "    (3): ReLU()\n",
      "    (4): Linear(in_features=512, out_features=10, bias=True)\n",
      "  )\n",
      ")\n",
      "\n",
      "\n",
      "Layer: linear_relu_stack.0.weight | Size: torch.Size([512, 784]) | Values : tensor([[ 0.0027, -0.0300, -0.0350,  ...,  0.0225,  0.0208, -0.0184],\n",
      "        [-0.0221, -0.0243,  0.0132,  ..., -0.0014,  0.0102,  0.0226]],\n",
      "       device='cuda:0', grad_fn=<SliceBackward0>) \n",
      "\n",
      "Layer: linear_relu_stack.0.bias | Size: torch.Size([512]) | Values : tensor([-0.0155, -0.0339], device='cuda:0', grad_fn=<SliceBackward0>) \n",
      "\n",
      "Layer: linear_relu_stack.2.weight | Size: torch.Size([512, 512]) | Values : tensor([[-0.0143,  0.0362,  0.0058,  ...,  0.0147, -0.0175, -0.0181],\n",
      "        [ 0.0117, -0.0362, -0.0252,  ..., -0.0401, -0.0408, -0.0132]],\n",
      "       device='cuda:0', grad_fn=<SliceBackward0>) \n",
      "\n",
      "Layer: linear_relu_stack.2.bias | Size: torch.Size([512]) | Values : tensor([-0.0367, -0.0335], device='cuda:0', grad_fn=<SliceBackward0>) \n",
      "\n",
      "Layer: linear_relu_stack.4.weight | Size: torch.Size([10, 512]) | Values : tensor([[ 0.0029,  0.0185, -0.0137,  ..., -0.0241, -0.0172,  0.0209],\n",
      "        [-0.0344, -0.0114,  0.0102,  ...,  0.0076,  0.0137, -0.0309]],\n",
      "       device='cuda:0', grad_fn=<SliceBackward0>) \n",
      "\n",
      "Layer: linear_relu_stack.4.bias | Size: torch.Size([10]) | Values : tensor([-0.0374, -0.0163], device='cuda:0', grad_fn=<SliceBackward0>) \n",
      "\n"
     ]
    }
   ],
   "source": [
    "print(f\"Model structure: {model}\\n\\n\")\n",
    "\n",
    "for name, param in model.named_parameters():\n",
    "    print(f\"Layer: {name} | Size: {param.size()} | Values : {param[:2]} \\n\")"
   ]
  },
  {
   "cell_type": "code",
   "execution_count": null,
   "id": "f16ff01c",
   "metadata": {},
   "outputs": [],
   "source": []
  }
 ],
 "metadata": {
  "kernelspec": {
   "display_name": "Python 3 (ipykernel)",
   "language": "python",
   "name": "python3"
  },
  "language_info": {
   "codemirror_mode": {
    "name": "ipython",
    "version": 3
   },
   "file_extension": ".py",
   "mimetype": "text/x-python",
   "name": "python",
   "nbconvert_exporter": "python",
   "pygments_lexer": "ipython3",
   "version": "3.9.0"
  }
 },
 "nbformat": 4,
 "nbformat_minor": 5
}
