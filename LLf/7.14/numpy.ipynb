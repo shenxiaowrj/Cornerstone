{
 "cells": [
  {
   "cell_type": "code",
   "execution_count": 2,
   "id": "4998f12a",
   "metadata": {},
   "outputs": [],
   "source": [
    "import numpy as np"
   ]
  },
  {
   "cell_type": "code",
   "execution_count": 3,
   "id": "2e5f4fd2",
   "metadata": {},
   "outputs": [
    {
     "data": {
      "text/plain": [
       "array([1, 2, 3])"
      ]
     },
     "execution_count": 3,
     "metadata": {},
     "output_type": "execute_result"
    }
   ],
   "source": [
    "np.array([1,2,3])"
   ]
  },
  {
   "cell_type": "code",
   "execution_count": 8,
   "id": "db5ee8bd",
   "metadata": {},
   "outputs": [
    {
     "data": {
      "text/plain": [
       "array([[1., 2., 3.],\n",
       "       [4., 5., 6.]])"
      ]
     },
     "execution_count": 8,
     "metadata": {},
     "output_type": "execute_result"
    }
   ],
   "source": [
    "np.array([[1,2.,3],[4,5,6]])"
   ]
  },
  {
   "cell_type": "code",
   "execution_count": 10,
   "id": "af67d94e",
   "metadata": {},
   "outputs": [],
   "source": [
    "arr = np.array([1,2])"
   ]
  },
  {
   "cell_type": "code",
   "execution_count": 11,
   "id": "1477e770",
   "metadata": {},
   "outputs": [
    {
     "data": {
      "text/plain": [
       "array([0, 2, 4, 6, 8])"
      ]
     },
     "execution_count": 11,
     "metadata": {},
     "output_type": "execute_result"
    }
   ],
   "source": [
    "np.arange(0,10,2)"
   ]
  },
  {
   "cell_type": "code",
   "execution_count": 13,
   "id": "7089aa65",
   "metadata": {},
   "outputs": [
    {
     "data": {
      "text/plain": [
       "array([[ 0,  1,  2,  3],\n",
       "       [ 4,  5,  6,  7],\n",
       "       [ 8,  9, 10, 11]])"
      ]
     },
     "execution_count": 13,
     "metadata": {},
     "output_type": "execute_result"
    }
   ],
   "source": [
    "np.arange(12).reshape(3,4)"
   ]
  },
  {
   "cell_type": "code",
   "execution_count": 14,
   "id": "4e52e542",
   "metadata": {},
   "outputs": [
    {
     "data": {
      "text/plain": [
       "array([[0., 1., 2., 3., 4.],\n",
       "       [5., 6., 7., 8., 9.]])"
      ]
     },
     "execution_count": 14,
     "metadata": {},
     "output_type": "execute_result"
    }
   ],
   "source": [
    "np.linspace(0,9,10).reshape(2,5)"
   ]
  },
  {
   "cell_type": "code",
   "execution_count": 15,
   "id": "feac97ba",
   "metadata": {},
   "outputs": [
    {
     "data": {
      "text/plain": [
       "array([[0. , 1.8, 3.6],\n",
       "       [5.4, 7.2, 9. ]])"
      ]
     },
     "execution_count": 15,
     "metadata": {},
     "output_type": "execute_result"
    }
   ],
   "source": [
    "np.linspace(0,9,6).reshape(2,3)"
   ]
  },
  {
   "cell_type": "code",
   "execution_count": 16,
   "id": "9af7583c",
   "metadata": {},
   "outputs": [
    {
     "data": {
      "text/plain": [
       "array([[1.00000000e+00, 6.04964746e+00, 3.65982344e+01],\n",
       "       [2.21406416e+02, 1.33943076e+03, 8.10308393e+03]])"
      ]
     },
     "execution_count": 16,
     "metadata": {},
     "output_type": "execute_result"
    }
   ],
   "source": [
    "np.logspace(0,9,6,base=np.e).reshape(2,3)"
   ]
  },
  {
   "cell_type": "code",
   "execution_count": 17,
   "id": "51ccd9c9",
   "metadata": {},
   "outputs": [
    {
     "data": {
      "text/plain": [
       "array([[0. , 1.8, 3.6],\n",
       "       [5.4, 7.2, 9. ]])"
      ]
     },
     "execution_count": 17,
     "metadata": {},
     "output_type": "execute_result"
    }
   ],
   "source": [
    "np.log(_)"
   ]
  },
  {
   "cell_type": "code",
   "execution_count": 19,
   "id": "d51dd4a4",
   "metadata": {},
   "outputs": [
    {
     "data": {
      "text/plain": [
       "array([[0.33308272, 0.89849811, 0.06674541],\n",
       "       [0.41153157, 0.9050271 , 0.60673579]])"
      ]
     },
     "execution_count": 19,
     "metadata": {},
     "output_type": "execute_result"
    }
   ],
   "source": [
    "np.random.rand(2,3)"
   ]
  },
  {
   "cell_type": "code",
   "execution_count": 20,
   "id": "920af925",
   "metadata": {},
   "outputs": [
    {
     "data": {
      "text/plain": [
       "0.6540887569291772"
      ]
     },
     "execution_count": 20,
     "metadata": {},
     "output_type": "execute_result"
    }
   ],
   "source": [
    "np.random.rand()"
   ]
  },
  {
   "cell_type": "code",
   "execution_count": 23,
   "id": "2809531c",
   "metadata": {},
   "outputs": [
    {
     "data": {
      "text/plain": [
       "array([[0.46603251, 0.35060988],\n",
       "       [0.29381516, 0.16228531],\n",
       "       [0.68097706, 0.34124398]])"
      ]
     },
     "execution_count": 23,
     "metadata": {},
     "output_type": "execute_result"
    }
   ],
   "source": [
    "np.random.random((3,2))"
   ]
  },
  {
   "cell_type": "code",
   "execution_count": 24,
   "id": "985fd649",
   "metadata": {},
   "outputs": [
    {
     "data": {
      "text/plain": [
       "array([[ 0.39389312, -0.61732906, -0.04033774],\n",
       "       [-0.9386345 , -0.24013735,  0.82418332]])"
      ]
     },
     "execution_count": 24,
     "metadata": {},
     "output_type": "execute_result"
    }
   ],
   "source": [
    "np.random.uniform(-1,1,(2,3))"
   ]
  },
  {
   "cell_type": "code",
   "execution_count": 27,
   "id": "438d6b88",
   "metadata": {},
   "outputs": [
    {
     "data": {
      "text/plain": [
       "Generator(PCG64) at 0x12A16CF53C0"
      ]
     },
     "execution_count": 27,
     "metadata": {},
     "output_type": "execute_result"
    }
   ],
   "source": [
    "rng=np.random.default_rng(42)\n",
    "rng"
   ]
  },
  {
   "cell_type": "code",
   "execution_count": 28,
   "id": "44edb338",
   "metadata": {},
   "outputs": [
    {
     "data": {
      "text/plain": [
       "array([[0.77395605, 0.43887844, 0.85859792],\n",
       "       [0.69736803, 0.09417735, 0.97562235]])"
      ]
     },
     "execution_count": 28,
     "metadata": {},
     "output_type": "execute_result"
    }
   ],
   "source": [
    "rng.random((2,3))"
   ]
  },
  {
   "cell_type": "code",
   "execution_count": 29,
   "id": "4591b448",
   "metadata": {},
   "outputs": [
    {
     "data": {
      "text/plain": [
       "array([[ 0.1278404 , -0.31624259, -0.01680116, -0.85304393],\n",
       "       [ 0.87939797,  0.77779194,  0.0660307 ,  1.12724121]])"
      ]
     },
     "execution_count": 29,
     "metadata": {},
     "output_type": "execute_result"
    }
   ],
   "source": [
    "rng.standard_normal((2,4))"
   ]
  },
  {
   "cell_type": "code",
   "execution_count": 30,
   "id": "9a8bd62f",
   "metadata": {},
   "outputs": [
    {
     "data": {
      "text/plain": [
       "array([[0.4434142 , 0.22723872, 0.55458479],\n",
       "       [0.06381726, 0.82763117, 0.6316644 ]])"
      ]
     },
     "execution_count": 30,
     "metadata": {},
     "output_type": "execute_result"
    }
   ],
   "source": [
    "#指定上下界的均匀分布\n",
    "rng.uniform(0,1,(2,3))"
   ]
  },
  {
   "cell_type": "code",
   "execution_count": 33,
   "id": "36431919",
   "metadata": {},
   "outputs": [
    {
     "data": {
      "text/plain": [
       "array([1, 7], dtype=int64)"
      ]
     },
     "execution_count": 33,
     "metadata": {},
     "output_type": "execute_result"
    }
   ],
   "source": [
    "rng.integers(10,size=2)"
   ]
  },
  {
   "cell_type": "code",
   "execution_count": 34,
   "id": "6f6f8725",
   "metadata": {},
   "outputs": [
    {
     "data": {
      "text/plain": [
       "array([[7, 3, 0],\n",
       "       [9, 4, 8]], dtype=int64)"
      ]
     },
     "execution_count": 34,
     "metadata": {},
     "output_type": "execute_result"
    }
   ],
   "source": [
    "rng.integers(0,10,(2,3))"
   ]
  },
  {
   "cell_type": "code",
   "execution_count": 36,
   "id": "af87f367",
   "metadata": {},
   "outputs": [
    {
     "data": {
      "text/plain": [
       "array([[-0.42832782, -0.35213355,  0.53230919,  0.36544406,  0.41273261],\n",
       "       [ 0.430821  ,  2.1416476 , -0.40641502, -0.51224273, -0.81377273],\n",
       "       [ 0.61597942,  1.12897229, -0.11394746, -0.84015648, -0.82448122]])"
      ]
     },
     "execution_count": 36,
     "metadata": {},
     "output_type": "execute_result"
    }
   ],
   "source": [
    "#高斯分布\n",
    "rng.normal(0,1,(3,5))"
   ]
  },
  {
   "cell_type": "code",
   "execution_count": 3,
   "id": "24778e08",
   "metadata": {},
   "outputs": [
    {
     "data": {
      "text/plain": [
       "array([[0.77395605, 0.43887844, 0.85859792, 0.69736803],\n",
       "       [0.09417735, 0.97562235, 0.7611397 , 0.78606431],\n",
       "       [0.12811363, 0.45038594, 0.37079802, 0.92676499]])"
      ]
     },
     "execution_count": 3,
     "metadata": {},
     "output_type": "execute_result"
    }
   ],
   "source": [
    "rng = np.random.default_rng(seed=42)\n",
    "arr = rng.random((3,4))\n",
    "arr"
   ]
  },
  {
   "cell_type": "code",
   "execution_count": 4,
   "id": "7dd12d35",
   "metadata": {},
   "outputs": [
    {
     "data": {
      "text/plain": [
       "2"
      ]
     },
     "execution_count": 4,
     "metadata": {},
     "output_type": "execute_result"
    }
   ],
   "source": [
    "arr.ndim"
   ]
  },
  {
   "cell_type": "code",
   "execution_count": 5,
   "id": "616da793",
   "metadata": {},
   "outputs": [
    {
     "data": {
      "text/plain": [
       "(3, 4)"
      ]
     },
     "execution_count": 5,
     "metadata": {},
     "output_type": "execute_result"
    }
   ],
   "source": [
    "arr.shape"
   ]
  },
  {
   "cell_type": "code",
   "execution_count": 6,
   "id": "6bcd9be2",
   "metadata": {},
   "outputs": [
    {
     "data": {
      "text/plain": [
       "12"
      ]
     },
     "execution_count": 6,
     "metadata": {},
     "output_type": "execute_result"
    }
   ],
   "source": [
    "arr.size"
   ]
  },
  {
   "cell_type": "code",
   "execution_count": 7,
   "id": "8553beb1",
   "metadata": {},
   "outputs": [
    {
     "data": {
      "text/plain": [
       "array([[0.77395605, 0.43887844, 0.85859792, 0.69736803],\n",
       "       [0.09417735, 0.97562235, 0.7611397 , 0.78606431],\n",
       "       [0.12811363, 0.45038594, 0.37079802, 0.92676499]])"
      ]
     },
     "execution_count": 7,
     "metadata": {},
     "output_type": "execute_result"
    }
   ],
   "source": [
    "arr"
   ]
  },
  {
   "cell_type": "code",
   "execution_count": 8,
   "id": "9ef6f953",
   "metadata": {},
   "outputs": [
    {
     "data": {
      "text/plain": [
       "0.9756223516367559"
      ]
     },
     "execution_count": 8,
     "metadata": {},
     "output_type": "execute_result"
    }
   ],
   "source": [
    "arr.max()"
   ]
  },
  {
   "cell_type": "code",
   "execution_count": 9,
   "id": "37721077",
   "metadata": {},
   "outputs": [
    {
     "data": {
      "text/plain": [
       "array([0.77395605, 0.97562235, 0.85859792, 0.92676499])"
      ]
     },
     "execution_count": 9,
     "metadata": {},
     "output_type": "execute_result"
    }
   ],
   "source": [
    "arr.max(axis=0)"
   ]
  },
  {
   "cell_type": "code",
   "execution_count": 10,
   "id": "3e0c95df",
   "metadata": {},
   "outputs": [
    {
     "data": {
      "text/plain": [
       "array([0.85859792, 0.97562235, 0.92676499])"
      ]
     },
     "execution_count": 10,
     "metadata": {},
     "output_type": "execute_result"
    }
   ],
   "source": [
    "arr.max(axis =1)"
   ]
  },
  {
   "cell_type": "code",
   "execution_count": 11,
   "id": "3d1c8a36",
   "metadata": {},
   "outputs": [
    {
     "data": {
      "text/plain": [
       "array([[0.77395605, 0.43887844, 0.85859792, 0.69736803],\n",
       "       [0.09417735, 0.97562235, 0.7611397 , 0.78606431],\n",
       "       [0.12811363, 0.45038594, 0.37079802, 0.92676499]])"
      ]
     },
     "execution_count": 11,
     "metadata": {},
     "output_type": "execute_result"
    }
   ],
   "source": [
    "arr"
   ]
  },
  {
   "cell_type": "code",
   "execution_count": 12,
   "id": "d2c92850",
   "metadata": {},
   "outputs": [
    {
     "data": {
      "text/plain": [
       "0.6051555606435642"
      ]
     },
     "execution_count": 12,
     "metadata": {},
     "output_type": "execute_result"
    }
   ],
   "source": [
    "np.average(arr)"
   ]
  },
  {
   "cell_type": "code",
   "execution_count": 14,
   "id": "85a315a8",
   "metadata": {},
   "outputs": [
    {
     "data": {
      "text/plain": [
       "array([0.33208234, 0.62162891, 0.66351188, 0.80339911])"
      ]
     },
     "execution_count": 14,
     "metadata": {},
     "output_type": "execute_result"
    }
   ],
   "source": [
    "#按列求平均值\n",
    "np.average(arr,axis=0)"
   ]
  },
  {
   "cell_type": "code",
   "execution_count": 15,
   "id": "19922ea9",
   "metadata": {},
   "outputs": [
    {
     "data": {
      "text/plain": [
       "array([0.69220011, 0.65425093, 0.46901565])"
      ]
     },
     "execution_count": 15,
     "metadata": {},
     "output_type": "execute_result"
    }
   ],
   "source": [
    "#按行求平均值\n",
    "np.average(arr,axis=1)"
   ]
  },
  {
   "cell_type": "code",
   "execution_count": 18,
   "id": "1aabf077",
   "metadata": {},
   "outputs": [
    {
     "data": {
      "text/plain": [
       "array([0.99624703, 1.86488673, 1.99053565, 2.41019732])"
      ]
     },
     "execution_count": 18,
     "metadata": {},
     "output_type": "execute_result"
    }
   ],
   "source": [
    "np.sum(arr,axis=0)"
   ]
  },
  {
   "cell_type": "code",
   "execution_count": 19,
   "id": "fb52b8d6",
   "metadata": {},
   "outputs": [
    {
     "data": {
      "text/plain": [
       "array([[0.77395605, 1.21283449, 2.07143241, 2.76880044],\n",
       "       [0.09417735, 1.0697997 , 1.8309394 , 2.61700371],\n",
       "       [0.12811363, 0.57849957, 0.94929759, 1.87606258]])"
      ]
     },
     "execution_count": 19,
     "metadata": {},
     "output_type": "execute_result"
    }
   ],
   "source": [
    "#累计求和（按行）\n",
    "np.cumsum(arr,axis=1)"
   ]
  },
  {
   "cell_type": "code",
   "execution_count": 20,
   "id": "dc5337a8",
   "metadata": {},
   "outputs": [
    {
     "data": {
      "text/plain": [
       "0.28783096517727075"
      ]
     },
     "execution_count": 20,
     "metadata": {},
     "output_type": "execute_result"
    }
   ],
   "source": [
    "#标准差\n",
    "np.std(arr)"
   ]
  },
  {
   "cell_type": "code",
   "execution_count": 21,
   "id": "228ffc01",
   "metadata": {},
   "outputs": [
    {
     "data": {
      "text/plain": [
       "array([0.02464271, 0.1114405 , 0.0839356 ])"
      ]
     },
     "execution_count": 21,
     "metadata": {},
     "output_type": "execute_result"
    }
   ],
   "source": [
    "#方差\n",
    "np.var(arr,axis=1)"
   ]
  },
  {
   "cell_type": "code",
   "execution_count": 25,
   "id": "6301c1dc",
   "metadata": {},
   "outputs": [
    {
     "data": {
      "text/plain": [
       "array([[ 9, 77, 65, 44],\n",
       "       [43, 86,  9, 70],\n",
       "       [20, 10, 53, 97]], dtype=int64)"
      ]
     },
     "execution_count": 25,
     "metadata": {},
     "output_type": "execute_result"
    }
   ],
   "source": [
    "rng = np.random.default_rng(seed=42)\n",
    "arr = rng.integers(1,100,(3,4))\n",
    "arr"
   ]
  },
  {
   "cell_type": "code",
   "execution_count": 26,
   "id": "9d2606a8",
   "metadata": {},
   "outputs": [
    {
     "data": {
      "text/plain": [
       "array([[[ 9, 77, 65],\n",
       "        [44, 43, 86]],\n",
       "\n",
       "       [[ 9, 70, 20],\n",
       "        [10, 53, 97]]], dtype=int64)"
      ]
     },
     "execution_count": 26,
     "metadata": {},
     "output_type": "execute_result"
    }
   ],
   "source": [
    "#reshape 变成另一个形状\n",
    "arr.reshape(2,2,3)"
   ]
  },
  {
   "cell_type": "code",
   "execution_count": 27,
   "id": "9a155305",
   "metadata": {},
   "outputs": [
    {
     "data": {
      "text/plain": [
       "array([ 9, 77, 65, 44, 43, 86,  9, 70, 20, 10, 53, 97], dtype=int64)"
      ]
     },
     "execution_count": 27,
     "metadata": {},
     "output_type": "execute_result"
    }
   ],
   "source": [
    "arr.ravel()"
   ]
  },
  {
   "cell_type": "code",
   "execution_count": 28,
   "id": "d43ab236",
   "metadata": {},
   "outputs": [
    {
     "data": {
      "text/plain": [
       "(3, 4)"
      ]
     },
     "execution_count": 28,
     "metadata": {},
     "output_type": "execute_result"
    }
   ],
   "source": [
    "arr.shape"
   ]
  },
  {
   "cell_type": "code",
   "execution_count": 29,
   "id": "6015b27c",
   "metadata": {},
   "outputs": [
    {
     "data": {
      "text/plain": [
       "(3, 1, 4)"
      ]
     },
     "execution_count": 29,
     "metadata": {},
     "output_type": "execute_result"
    }
   ],
   "source": [
    "#扩展一个维度，必须指定维度\n",
    "np.expand_dims(arr,1).shape"
   ]
  },
  {
   "cell_type": "code",
   "execution_count": 31,
   "id": "275f8619",
   "metadata": {},
   "outputs": [
    {
     "data": {
      "text/plain": [
       "(3, 1, 4, 1)"
      ]
     },
     "execution_count": 31,
     "metadata": {},
     "output_type": "execute_result"
    }
   ],
   "source": [
    "expanded = np.expand_dims(arr,axis=(1,3))\n",
    "expanded.shape"
   ]
  },
  {
   "cell_type": "code",
   "execution_count": 32,
   "id": "128fb746",
   "metadata": {},
   "outputs": [
    {
     "data": {
      "text/plain": [
       "(3, 4)"
      ]
     },
     "execution_count": 32,
     "metadata": {},
     "output_type": "execute_result"
    }
   ],
   "source": [
    "#去除维度为1的\n",
    "#可以指定，但指定的维度必须为1\n",
    "np.squeeze(expanded).shape"
   ]
  },
  {
   "cell_type": "code",
   "execution_count": 33,
   "id": "5d29ce3c",
   "metadata": {},
   "outputs": [
    {
     "data": {
      "text/plain": [
       "'loveu'"
      ]
     },
     "execution_count": 33,
     "metadata": {},
     "output_type": "execute_result"
    }
   ],
   "source": [
    "#反序\n",
    "s = \"uevol\"\n",
    "s[::-1]"
   ]
  },
  {
   "cell_type": "code",
   "execution_count": 35,
   "id": "56fe3d3c",
   "metadata": {},
   "outputs": [
    {
     "data": {
      "text/plain": [
       "[5.2, '1', 1]"
      ]
     },
     "execution_count": 35,
     "metadata": {},
     "output_type": "execute_result"
    }
   ],
   "source": [
    "lis = [1,\"1\",5.2]\n",
    "lis[::-1]"
   ]
  },
  {
   "cell_type": "code",
   "execution_count": 36,
   "id": "fd765376",
   "metadata": {},
   "outputs": [
    {
     "data": {
      "text/plain": [
       "array([[ 9, 77, 65, 44],\n",
       "       [43, 86,  9, 70],\n",
       "       [20, 10, 53, 97]], dtype=int64)"
      ]
     },
     "execution_count": 36,
     "metadata": {},
     "output_type": "execute_result"
    }
   ],
   "source": [
    "arr"
   ]
  },
  {
   "cell_type": "code",
   "execution_count": 37,
   "id": "005675e6",
   "metadata": {},
   "outputs": [
    {
     "data": {
      "text/plain": [
       "array([[20, 10, 53, 97],\n",
       "       [43, 86,  9, 70],\n",
       "       [ 9, 77, 65, 44]], dtype=int64)"
      ]
     },
     "execution_count": 37,
     "metadata": {},
     "output_type": "execute_result"
    }
   ],
   "source": [
    "#默认进行 行反序\n",
    "arr[::-1]"
   ]
  },
  {
   "cell_type": "code",
   "execution_count": 38,
   "id": "c6a3186c",
   "metadata": {},
   "outputs": [
    {
     "data": {
      "text/plain": [
       "array([[20, 10, 53, 97],\n",
       "       [43, 86,  9, 70],\n",
       "       [ 9, 77, 65, 44]], dtype=int64)"
      ]
     },
     "execution_count": 38,
     "metadata": {},
     "output_type": "execute_result"
    }
   ],
   "source": [
    "#行反序\n",
    "arr[::-1,:]"
   ]
  },
  {
   "cell_type": "code",
   "execution_count": 39,
   "id": "dabcab72",
   "metadata": {},
   "outputs": [
    {
     "data": {
      "text/plain": [
       "array([[44, 65, 77,  9],\n",
       "       [70,  9, 86, 43],\n",
       "       [97, 53, 10, 20]], dtype=int64)"
      ]
     },
     "execution_count": 39,
     "metadata": {},
     "output_type": "execute_result"
    }
   ],
   "source": [
    "#列反序\n",
    "arr[:,::-1]"
   ]
  },
  {
   "cell_type": "code",
   "execution_count": 40,
   "id": "f6a4ed08",
   "metadata": {
    "scrolled": true
   },
   "outputs": [
    {
     "data": {
      "text/plain": [
       "array([[97, 53, 10, 20],\n",
       "       [70,  9, 86, 43],\n",
       "       [44, 65, 77,  9]], dtype=int64)"
      ]
     },
     "execution_count": 40,
     "metadata": {},
     "output_type": "execute_result"
    }
   ],
   "source": [
    "#行列都反序\n",
    "arr[::-1,::-1]"
   ]
  },
  {
   "cell_type": "code",
   "execution_count": 41,
   "id": "c30880bd",
   "metadata": {},
   "outputs": [
    {
     "data": {
      "text/plain": [
       "array([[ 9, 77, 65, 44],\n",
       "       [43, 86,  9, 70],\n",
       "       [20, 10, 53, 97]], dtype=int64)"
      ]
     },
     "execution_count": 41,
     "metadata": {},
     "output_type": "execute_result"
    }
   ],
   "source": [
    "#转置\n",
    "arr"
   ]
  },
  {
   "cell_type": "code",
   "execution_count": 43,
   "id": "755741c3",
   "metadata": {},
   "outputs": [
    {
     "data": {
      "text/plain": [
       "array([[ 9, 43, 20],\n",
       "       [77, 86, 10],\n",
       "       [65,  9, 53],\n",
       "       [44, 70, 97]], dtype=int64)"
      ]
     },
     "execution_count": 43,
     "metadata": {},
     "output_type": "execute_result"
    }
   ],
   "source": [
    "arr.T"
   ]
  },
  {
   "cell_type": "code",
   "execution_count": 44,
   "id": "2454ec0b",
   "metadata": {},
   "outputs": [
    {
     "data": {
      "text/plain": [
       "(4, 3)"
      ]
     },
     "execution_count": 44,
     "metadata": {},
     "output_type": "execute_result"
    }
   ],
   "source": [
    "#转置，可以指定维度\n",
    "np.transpose(arr).shape"
   ]
  },
  {
   "cell_type": "code",
   "execution_count": 45,
   "id": "c96b5809",
   "metadata": {},
   "outputs": [
    {
     "data": {
      "text/plain": [
       "(1, 3, 1, 4)"
      ]
     },
     "execution_count": 45,
     "metadata": {},
     "output_type": "execute_result"
    }
   ],
   "source": [
    "np.transpose(arr.reshape(1,1,3,4),axes=(0,2,1,3)).shape"
   ]
  },
  {
   "cell_type": "code",
   "execution_count": 46,
   "id": "bc425703",
   "metadata": {},
   "outputs": [
    {
     "data": {
      "text/plain": [
       "array([[0.77395605, 0.43887844, 0.85859792, 0.69736803],\n",
       "       [0.09417735, 0.97562235, 0.7611397 , 0.78606431],\n",
       "       [0.12811363, 0.45038594, 0.37079802, 0.92676499],\n",
       "       [0.64386512, 0.82276161, 0.4434142 , 0.22723872],\n",
       "       [0.55458479, 0.06381726, 0.82763117, 0.6316644 ]])"
      ]
     },
     "execution_count": 46,
     "metadata": {},
     "output_type": "execute_result"
    }
   ],
   "source": [
    "rng = np.random.default_rng(seed=42)\n",
    "arr = rng.random((5,4))\n",
    "arr"
   ]
  },
  {
   "cell_type": "code",
   "execution_count": 47,
   "id": "08f7ca2c",
   "metadata": {},
   "outputs": [
    {
     "data": {
      "text/plain": [
       "array([0.77395605, 0.43887844, 0.85859792, 0.69736803])"
      ]
     },
     "execution_count": 47,
     "metadata": {},
     "output_type": "execute_result"
    }
   ],
   "source": [
    "#索引\n",
    "arr[0]"
   ]
  },
  {
   "cell_type": "code",
   "execution_count": 48,
   "id": "9cfc95ae",
   "metadata": {},
   "outputs": [
    {
     "data": {
      "text/plain": [
       "0.7739560485559633"
      ]
     },
     "execution_count": 48,
     "metadata": {},
     "output_type": "execute_result"
    }
   ],
   "source": [
    "arr[0,0]"
   ]
  },
  {
   "cell_type": "code",
   "execution_count": 62,
   "id": "39a3464f",
   "metadata": {},
   "outputs": [
    {
     "data": {
      "text/plain": [
       "array([[0.09417735, 0.97562235, 0.7611397 , 0.78606431],\n",
       "       [0.12811363, 0.45038594, 0.37079802, 0.92676499]])"
      ]
     },
     "execution_count": 62,
     "metadata": {},
     "output_type": "execute_result"
    }
   ],
   "source": [
    "#取一个范围 实验可知为前开后闭的区间 start:stop:step\n",
    "arr[1:3]"
   ]
  },
  {
   "cell_type": "code",
   "execution_count": 51,
   "id": "b66fa364",
   "metadata": {},
   "outputs": [
    {
     "data": {
      "text/plain": [
       "array([[0.09417735, 0.97562235, 0.7611397 , 0.78606431],\n",
       "       [0.64386512, 0.82276161, 0.4434142 , 0.22723872]])"
      ]
     },
     "execution_count": 51,
     "metadata": {},
     "output_type": "execute_result"
    }
   ],
   "source": [
    "#离散\n",
    "arr[[1,3]]"
   ]
  },
  {
   "cell_type": "code",
   "execution_count": 57,
   "id": "2cbe98ce",
   "metadata": {},
   "outputs": [
    {
     "data": {
      "text/plain": [
       "array([[0.77395605, 0.43887844, 0.85859792, 0.69736803],\n",
       "       [0.09417735, 0.97562235, 0.7611397 , 0.78606431],\n",
       "       [0.12811363, 0.45038594, 0.37079802, 0.92676499],\n",
       "       [0.64386512, 0.82276161, 0.4434142 , 0.22723872],\n",
       "       [0.55458479, 0.06381726, 0.82763117, 0.6316644 ]])"
      ]
     },
     "execution_count": 57,
     "metadata": {},
     "output_type": "execute_result"
    }
   ],
   "source": [
    "arr"
   ]
  },
  {
   "cell_type": "code",
   "execution_count": 56,
   "id": "0644aa0b",
   "metadata": {},
   "outputs": [
    {
     "data": {
      "text/plain": [
       "array([0.97562235, 0.45038594])"
      ]
     },
     "execution_count": 56,
     "metadata": {},
     "output_type": "execute_result"
    }
   ],
   "source": [
    "arr[1:3,1]"
   ]
  },
  {
   "cell_type": "code",
   "execution_count": 59,
   "id": "f746cda0",
   "metadata": {},
   "outputs": [
    {
     "data": {
      "text/plain": [
       "array([[0.09417735, 0.97562235, 0.7611397 , 0.78606431],\n",
       "       [0.64386512, 0.82276161, 0.4434142 , 0.22723872]])"
      ]
     },
     "execution_count": 59,
     "metadata": {},
     "output_type": "execute_result"
    }
   ],
   "source": [
    "arr[[1,3]]"
   ]
  },
  {
   "cell_type": "code",
   "execution_count": 66,
   "id": "3eb57714",
   "metadata": {},
   "outputs": [
    {
     "data": {
      "text/plain": [
       "array([[0.77395605, 0.43887844, 0.85859792, 0.69736803],\n",
       "       [0.09417735, 0.97562235, 0.7611397 , 0.78606431],\n",
       "       [0.12811363, 0.45038594, 0.37079802, 0.92676499],\n",
       "       [0.64386512, 0.82276161, 0.4434142 , 0.22723872],\n",
       "       [0.55458479, 0.06381726, 0.82763117, 0.6316644 ]])"
      ]
     },
     "execution_count": 66,
     "metadata": {},
     "output_type": "execute_result"
    }
   ],
   "source": [
    "arr"
   ]
  },
  {
   "cell_type": "code",
   "execution_count": 64,
   "id": "50344249",
   "metadata": {},
   "outputs": [
    {
     "data": {
      "text/plain": [
       "array([[0.77395605, 0.43887844, 0.85859792, 0.69736803],\n",
       "       [0.12811363, 0.45038594, 0.37079802, 0.92676499]])"
      ]
     },
     "execution_count": 64,
     "metadata": {},
     "output_type": "execute_result"
    }
   ],
   "source": [
    "#也可加入步长 如取第0行到第4行且步长为2 则取出来的如下\n",
    "arr[0:4:2]"
   ]
  },
  {
   "cell_type": "code",
   "execution_count": 65,
   "id": "547064bc",
   "metadata": {},
   "outputs": [
    {
     "data": {
      "text/plain": [
       "array([[0.77395605, 0.85859792],\n",
       "       [0.12811363, 0.37079802]])"
      ]
     },
     "execution_count": 65,
     "metadata": {},
     "output_type": "execute_result"
    }
   ],
   "source": [
    "#也可以加入列\n",
    "arr[0:4:2,0:3:2]"
   ]
  },
  {
   "cell_type": "code",
   "execution_count": 67,
   "id": "da46c322",
   "metadata": {},
   "outputs": [
    {
     "data": {
      "text/plain": [
       "array([0.43887844, 0.97562235, 0.45038594, 0.82276161, 0.06381726])"
      ]
     },
     "execution_count": 67,
     "metadata": {},
     "output_type": "execute_result"
    }
   ],
   "source": [
    "#第一列的值\n",
    "arr[...,1]"
   ]
  },
  {
   "cell_type": "code",
   "execution_count": 69,
   "id": "493536e7",
   "metadata": {},
   "outputs": [
    {
     "data": {
      "text/plain": [
       "(array([[0.77395605, 0.43887844, 0.85859792],\n",
       "        [0.69736803, 0.09417735, 0.97562235]]),\n",
       " array([[0.7611397 , 0.78606431, 0.12811363],\n",
       "        [0.45038594, 0.37079802, 0.92676499]]))"
      ]
     },
     "execution_count": 69,
     "metadata": {},
     "output_type": "execute_result"
    }
   ],
   "source": [
    "#拼接\n",
    "rng = np.random.default_rng(seed=42)\n",
    "arr1 = rng.random((2,3))\n",
    "arr2 = rng.random((2,3))\n",
    "arr1,arr2"
   ]
  },
  {
   "cell_type": "code",
   "execution_count": 70,
   "id": "d4627ef9",
   "metadata": {},
   "outputs": [
    {
     "data": {
      "text/plain": [
       "array([[0.77395605, 0.43887844, 0.85859792],\n",
       "       [0.69736803, 0.09417735, 0.97562235],\n",
       "       [0.7611397 , 0.78606431, 0.12811363],\n",
       "       [0.45038594, 0.37079802, 0.92676499]])"
      ]
     },
     "execution_count": 70,
     "metadata": {},
     "output_type": "execute_result"
    }
   ],
   "source": [
    "#默认按列进行连接\n",
    "np.concatenate((arr1,arr2))"
   ]
  },
  {
   "cell_type": "code",
   "execution_count": 72,
   "id": "2a0ebc10",
   "metadata": {},
   "outputs": [
    {
     "data": {
      "text/plain": [
       "array([[0.77395605, 0.43887844, 0.85859792, 0.7611397 , 0.78606431,\n",
       "        0.12811363],\n",
       "       [0.69736803, 0.09417735, 0.97562235, 0.45038594, 0.37079802,\n",
       "        0.92676499]])"
      ]
     },
     "execution_count": 72,
     "metadata": {},
     "output_type": "execute_result"
    }
   ],
   "source": [
    "np.concatenate((arr1,arr2),axis = 1)"
   ]
  },
  {
   "cell_type": "code",
   "execution_count": 74,
   "id": "22068169",
   "metadata": {},
   "outputs": [
    {
     "data": {
      "text/plain": [
       "array([[0, 7, 6, 4],\n",
       "       [4, 8, 0, 6],\n",
       "       [2, 0, 5, 9]], dtype=int64)"
      ]
     },
     "execution_count": 74,
     "metadata": {},
     "output_type": "execute_result"
    }
   ],
   "source": [
    "#重复\n",
    "rng = np.random.default_rng(42)\n",
    "arr = rng.integers(0,10,(3,4))\n",
    "arr"
   ]
  },
  {
   "cell_type": "code",
   "execution_count": 75,
   "id": "a614a249",
   "metadata": {},
   "outputs": [
    {
     "data": {
      "text/plain": [
       "array([[0, 7, 6, 4],\n",
       "       [0, 7, 6, 4],\n",
       "       [4, 8, 0, 6],\n",
       "       [4, 8, 0, 6],\n",
       "       [2, 0, 5, 9],\n",
       "       [2, 0, 5, 9]], dtype=int64)"
      ]
     },
     "execution_count": 75,
     "metadata": {},
     "output_type": "execute_result"
    }
   ],
   "source": [
    "#重复两次\n",
    "np.repeat(arr,2,axis=0)"
   ]
  },
  {
   "cell_type": "code",
   "execution_count": 76,
   "id": "874e2ee2",
   "metadata": {},
   "outputs": [
    {
     "data": {
      "text/plain": [
       "array([[ 9, 77, 65, 44],\n",
       "       [43, 86,  9, 70],\n",
       "       [20, 10, 53, 97],\n",
       "       [73, 76, 72, 78],\n",
       "       [51, 13, 84, 45],\n",
       "       [50, 37, 19, 92]], dtype=int64)"
      ]
     },
     "execution_count": 76,
     "metadata": {},
     "output_type": "execute_result"
    }
   ],
   "source": [
    "#拆分\n",
    "rng = np.random.default_rng(42)\n",
    "arr = rng.integers(1,100,(6,4))\n",
    "arr"
   ]
  },
  {
   "cell_type": "code",
   "execution_count": 78,
   "id": "8b591a90",
   "metadata": {},
   "outputs": [
    {
     "data": {
      "text/plain": [
       "[array([[ 9, 77, 65, 44],\n",
       "        [43, 86,  9, 70]], dtype=int64),\n",
       " array([[20, 10, 53, 97],\n",
       "        [73, 76, 72, 78]], dtype=int64),\n",
       " array([[51, 13, 84, 45],\n",
       "        [50, 37, 19, 92]], dtype=int64)]"
      ]
     },
     "execution_count": 78,
     "metadata": {},
     "output_type": "execute_result"
    }
   ],
   "source": [
    "np.split(arr,3)"
   ]
  },
  {
   "cell_type": "code",
   "execution_count": 82,
   "id": "b8de3a89",
   "metadata": {},
   "outputs": [
    {
     "data": {
      "text/plain": [
       "array([[ 9, 77, 65, 44],\n",
       "       [43, 86,  9, 70],\n",
       "       [20, 10, 53, 97]], dtype=int64)"
      ]
     },
     "execution_count": 82,
     "metadata": {},
     "output_type": "execute_result"
    }
   ],
   "source": [
    "#筛选\n",
    "rng = np.random.default_rng(42)\n",
    "arr = rng.integers(1,100,(3,4))\n",
    "arr"
   ]
  },
  {
   "cell_type": "code",
   "execution_count": 83,
   "id": "4dba40da",
   "metadata": {},
   "outputs": [
    {
     "data": {
      "text/plain": [
       "array([[False,  True,  True, False],\n",
       "       [False,  True, False,  True],\n",
       "       [False, False,  True,  True]])"
      ]
     },
     "execution_count": 83,
     "metadata": {},
     "output_type": "execute_result"
    }
   ],
   "source": [
    "arr > 50"
   ]
  },
  {
   "cell_type": "code",
   "execution_count": 84,
   "id": "88c1955a",
   "metadata": {},
   "outputs": [
    {
     "data": {
      "text/plain": [
       "(array([0, 0, 1, 1, 2, 2], dtype=int64),\n",
       " array([1, 2, 1, 3, 2, 3], dtype=int64))"
      ]
     },
     "execution_count": 84,
     "metadata": {},
     "output_type": "execute_result"
    }
   ],
   "source": [
    "#返回满足条件的索引，因为是两个维度，所以会返回两组结果\n",
    "np.where(arr > 50)"
   ]
  },
  {
   "cell_type": "code",
   "execution_count": 85,
   "id": "66192ad9",
   "metadata": {},
   "outputs": [
    {
     "data": {
      "text/plain": [
       "array([[-1, 77, 65, -1],\n",
       "       [-1, 86, -1, 70],\n",
       "       [-1, -1, 53, 97]], dtype=int64)"
      ]
     },
     "execution_count": 85,
     "metadata": {},
     "output_type": "execute_result"
    }
   ],
   "source": [
    "#不满足条件的将会被替换为-1\n",
    "np.where(arr > 50,arr,-1)"
   ]
  },
  {
   "cell_type": "code",
   "execution_count": 86,
   "id": "c60f7206",
   "metadata": {},
   "outputs": [
    {
     "data": {
      "text/plain": [
       "array([77, 65, 86, 70, 53, 97], dtype=int64)"
      ]
     },
     "execution_count": 86,
     "metadata": {},
     "output_type": "execute_result"
    }
   ],
   "source": [
    "#提取\n",
    "np.extract(arr > 50, arr)"
   ]
  },
  {
   "cell_type": "code",
   "execution_count": 89,
   "id": "979e8d1b",
   "metadata": {},
   "outputs": [
    {
     "data": {
      "text/plain": [
       "array([ 9, 10, 20, 43, 44, 53, 65, 70, 77, 86, 97], dtype=int64)"
      ]
     },
     "execution_count": 89,
     "metadata": {},
     "output_type": "execute_result"
    }
   ],
   "source": [
    "np.unique(arr)"
   ]
  },
  {
   "cell_type": "code",
   "execution_count": 91,
   "id": "ae26ff22",
   "metadata": {},
   "outputs": [
    {
     "data": {
      "text/plain": [
       "array([3, 2], dtype=int64)"
      ]
     },
     "execution_count": 91,
     "metadata": {},
     "output_type": "execute_result"
    }
   ],
   "source": [
    "#抽样\n",
    "#第一个参数是要抽样的集合，如果是一个整数，则表示从0到该值\n",
    "#第二个参数是样本大小\n",
    "#第三个参数表示结果是否可以重复\n",
    "#第四个参数表示出现的概率，长度和第一个参数一样\n",
    "rng = np.random.default_rng(42)\n",
    "rng.choice(4,2,replace=False,p=[0.1,0.2,0.3,0.4])"
   ]
  },
  {
   "cell_type": "code",
   "execution_count": 92,
   "id": "a1875cbf",
   "metadata": {},
   "outputs": [
    {
     "data": {
      "text/plain": [
       "array([[77.62164881, 44.44896554, 86.00119407, 70.03943488],\n",
       "       [10.32355744, 97.58661281, 76.3528305 , 78.82036622],\n",
       "       [13.68324963, 45.58820785, 37.7090044 , 92.7497339 ]])"
      ]
     },
     "execution_count": 92,
     "metadata": {},
     "output_type": "execute_result"
    }
   ],
   "source": [
    "#最值\n",
    "rng = np.random.default_rng(42)\n",
    "arr = rng.uniform(1,100,(3,4))\n",
    "arr"
   ]
  },
  {
   "cell_type": "code",
   "execution_count": 93,
   "id": "ddbc6e60",
   "metadata": {},
   "outputs": [
    {
     "data": {
      "text/plain": [
       "5"
      ]
     },
     "execution_count": 93,
     "metadata": {},
     "output_type": "execute_result"
    }
   ],
   "source": [
    "#所有值中最大的index(从第一个开始按行挨个数第五个最大)\n",
    "np.argmax(arr)"
   ]
  },
  {
   "cell_type": "code",
   "execution_count": 95,
   "id": "5ea6070b",
   "metadata": {},
   "outputs": [
    {
     "data": {
      "text/plain": [
       "array([0, 1, 0, 2], dtype=int64)"
      ]
     },
     "execution_count": 95,
     "metadata": {},
     "output_type": "execute_result"
    }
   ],
   "source": [
    "#按列（axis=0）每一列中最大的值的位置\n",
    "np.argmax(arr,axis=0)"
   ]
  },
  {
   "cell_type": "code",
   "execution_count": 96,
   "id": "785a3ca3",
   "metadata": {},
   "outputs": [
    {
     "data": {
      "text/plain": [
       "array([[77.62164881, 44.44896554, 86.00119407, 70.03943488],\n",
       "       [10.32355744, 97.58661281, 76.3528305 , 78.82036622],\n",
       "       [13.68324963, 45.58820785, 37.7090044 , 92.7497339 ]])"
      ]
     },
     "execution_count": 96,
     "metadata": {},
     "output_type": "execute_result"
    }
   ],
   "source": [
    "arr"
   ]
  },
  {
   "cell_type": "code",
   "execution_count": 97,
   "id": "4259492e",
   "metadata": {},
   "outputs": [
    {
     "data": {
      "text/plain": [
       "array([[1, 3, 0, 2],\n",
       "       [0, 2, 3, 1],\n",
       "       [0, 2, 1, 3]], dtype=int64)"
      ]
     },
     "execution_count": 97,
     "metadata": {},
     "output_type": "execute_result"
    }
   ],
   "source": [
    "#索引  默认axis=1\n",
    "np.argsort(arr)"
   ]
  },
  {
   "cell_type": "code",
   "execution_count": 98,
   "id": "36f3d065",
   "metadata": {},
   "outputs": [
    {
     "data": {
      "text/plain": [
       "array([[1, 3, 0, 2],\n",
       "       [0, 2, 3, 1],\n",
       "       [0, 2, 1, 3]], dtype=int64)"
      ]
     },
     "execution_count": 98,
     "metadata": {},
     "output_type": "execute_result"
    }
   ],
   "source": [
    "np.argsort(arr,axis=1)"
   ]
  },
  {
   "cell_type": "code",
   "execution_count": 99,
   "id": "73362e18",
   "metadata": {},
   "outputs": [
    {
     "data": {
      "text/plain": [
       "array([[1, 0, 2, 0],\n",
       "       [2, 2, 1, 1],\n",
       "       [0, 1, 0, 2]], dtype=int64)"
      ]
     },
     "execution_count": 99,
     "metadata": {},
     "output_type": "execute_result"
    }
   ],
   "source": [
    "np.argsort(arr,axis=0)"
   ]
  },
  {
   "cell_type": "code",
   "execution_count": 101,
   "id": "2e2a779d",
   "metadata": {},
   "outputs": [
    {
     "data": {
      "text/plain": [
       "array([[ 2, 15, 13,  9],\n",
       "       [ 9, 17,  2, 14],\n",
       "       [ 4,  2, 11, 19]], dtype=int64)"
      ]
     },
     "execution_count": 101,
     "metadata": {},
     "output_type": "execute_result"
    }
   ],
   "source": [
    "rng = np.random.default_rng(42)\n",
    "arr = rng.integers(1,20,(3,4))\n",
    "arr"
   ]
  },
  {
   "cell_type": "code",
   "execution_count": 102,
   "id": "3259020a",
   "metadata": {},
   "outputs": [
    {
     "data": {
      "text/plain": [
       "array([[ 4, 30, 26, 18],\n",
       "       [18, 34,  4, 28],\n",
       "       [ 8,  4, 22, 38]], dtype=int64)"
      ]
     },
     "execution_count": 102,
     "metadata": {},
     "output_type": "execute_result"
    }
   ],
   "source": [
    "#加减乘除\n",
    "arr * 2"
   ]
  },
  {
   "cell_type": "code",
   "execution_count": 103,
   "id": "9b50023f",
   "metadata": {},
   "outputs": [
    {
     "data": {
      "text/plain": [
       "array([[  4, 225, 169,  81],\n",
       "       [ 81, 289,   4, 196],\n",
       "       [ 16,   4, 121, 361]], dtype=int64)"
      ]
     },
     "execution_count": 103,
     "metadata": {},
     "output_type": "execute_result"
    }
   ],
   "source": [
    "#平方\n",
    "arr ** 2"
   ]
  },
  {
   "cell_type": "code",
   "execution_count": 105,
   "id": "808a47a0",
   "metadata": {},
   "outputs": [
    {
     "data": {
      "text/plain": [
       "array([[1.41421356, 3.87298335, 3.60555128, 3.        ],\n",
       "       [3.        , 4.12310563, 1.41421356, 3.74165739],\n",
       "       [2.        , 1.41421356, 3.31662479, 4.35889894]])"
      ]
     },
     "execution_count": 105,
     "metadata": {},
     "output_type": "execute_result"
    }
   ],
   "source": [
    "#开方\n",
    "np.sqrt(arr)"
   ]
  },
  {
   "cell_type": "code",
   "execution_count": 106,
   "id": "a9d752ec",
   "metadata": {},
   "outputs": [
    {
     "data": {
      "text/plain": [
       "array([[1., 4., 4., 3.],\n",
       "       [3., 4., 1., 4.],\n",
       "       [2., 1., 3., 4.]])"
      ]
     },
     "execution_count": 106,
     "metadata": {},
     "output_type": "execute_result"
    }
   ],
   "source": [
    "#四舍五入 可以指定保留几位小数\n",
    "np.round(np.sqrt(arr))"
   ]
  },
  {
   "cell_type": "code",
   "execution_count": 113,
   "id": "62048edc",
   "metadata": {},
   "outputs": [
    {
     "data": {
      "text/plain": [
       "array([[1.41, 3.87, 3.61, 3.  ],\n",
       "       [3.  , 4.12, 1.41, 3.74],\n",
       "       [2.  , 1.41, 3.32, 4.36]])"
      ]
     },
     "execution_count": 113,
     "metadata": {},
     "output_type": "execute_result"
    }
   ],
   "source": [
    "np.round(np.sqrt(arr),2)"
   ]
  },
  {
   "cell_type": "code",
   "execution_count": 109,
   "id": "b87a98de",
   "metadata": {},
   "outputs": [
    {
     "data": {
      "text/plain": [
       "array([[1., 3., 3., 3.],\n",
       "       [3., 4., 1., 3.],\n",
       "       [2., 1., 3., 4.]])"
      ]
     },
     "execution_count": 109,
     "metadata": {},
     "output_type": "execute_result"
    }
   ],
   "source": [
    "#取整数部分\n",
    "np.floor(np.sqrt(arr))"
   ]
  },
  {
   "cell_type": "code",
   "execution_count": 111,
   "id": "0849ad31",
   "metadata": {},
   "outputs": [
    {
     "data": {
      "text/plain": [
       "array([[2., 4., 4., 3.],\n",
       "       [3., 5., 2., 4.],\n",
       "       [2., 2., 4., 5.]])"
      ]
     },
     "execution_count": 111,
     "metadata": {},
     "output_type": "execute_result"
    }
   ],
   "source": [
    "#有小数的部分全部当1加入整数\n",
    "np.ceil(np.sqrt(arr))"
   ]
  },
  {
   "cell_type": "code",
   "execution_count": 114,
   "id": "908f52dc",
   "metadata": {},
   "outputs": [
    {
     "data": {
      "text/plain": [
       "array([[ 2, 15, 13,  9],\n",
       "       [ 9, 17,  2, 14],\n",
       "       [ 4,  2, 11, 19]], dtype=int64)"
      ]
     },
     "execution_count": 114,
     "metadata": {},
     "output_type": "execute_result"
    }
   ],
   "source": [
    "arr"
   ]
  },
  {
   "cell_type": "code",
   "execution_count": 115,
   "id": "3cb0391a",
   "metadata": {},
   "outputs": [
    {
     "data": {
      "text/plain": [
       "array([[2, 0, 1, 0],\n",
       "       [0, 2, 2, 2],\n",
       "       [1, 2, 2, 1]], dtype=int64)"
      ]
     },
     "execution_count": 115,
     "metadata": {},
     "output_type": "execute_result"
    }
   ],
   "source": [
    "#模运算 求余\n",
    "np.mod(arr,3)"
   ]
  },
  {
   "cell_type": "code",
   "execution_count": 116,
   "id": "3cc1e67f",
   "metadata": {},
   "outputs": [
    {
     "data": {
      "text/plain": [
       "array([[-3, 10,  8,  4],\n",
       "       [ 4, 12, -3,  9],\n",
       "       [-1, -3,  6, 14]], dtype=int64)"
      ]
     },
     "execution_count": 116,
     "metadata": {},
     "output_type": "execute_result"
    }
   ],
   "source": [
    "arr-5"
   ]
  },
  {
   "cell_type": "code",
   "execution_count": 117,
   "id": "3eaa0f09",
   "metadata": {},
   "outputs": [
    {
     "data": {
      "text/plain": [
       "array([[-1,  5,  5,  1],\n",
       "       [ 1,  5, -1,  5],\n",
       "       [ 0, -1,  5,  5]], dtype=int64)"
      ]
     },
     "execution_count": 117,
     "metadata": {},
     "output_type": "execute_result"
    }
   ],
   "source": [
    "np.mod(arr,arr-5)"
   ]
  },
  {
   "cell_type": "code",
   "execution_count": 120,
   "id": "6013102c",
   "metadata": {},
   "outputs": [
    {
     "data": {
      "text/plain": [
       "array([[ 9, 77, 65, 44],\n",
       "       [43, 86,  9, 70],\n",
       "       [20, 10, 53, 97]], dtype=int64)"
      ]
     },
     "execution_count": 120,
     "metadata": {},
     "output_type": "execute_result"
    }
   ],
   "source": [
    "#广播\n",
    "rng = np.random.default_rng(42)\n",
    "a = rng.integers(1,100,(3,4))\n",
    "a"
   ]
  },
  {
   "cell_type": "code",
   "execution_count": 121,
   "id": "aec01b5e",
   "metadata": {},
   "outputs": [
    {
     "data": {
      "text/plain": [
       "array([[ 10,  79,  68,  48],\n",
       "       [ 44,  88,  12,  74],\n",
       "       [ 21,  12,  56, 101]], dtype=int64)"
      ]
     },
     "execution_count": 121,
     "metadata": {},
     "output_type": "execute_result"
    }
   ],
   "source": [
    "#加的为一行四列\n",
    "a + [1,2,3,4]"
   ]
  },
  {
   "cell_type": "code",
   "execution_count": 127,
   "id": "986b3cdf",
   "metadata": {},
   "outputs": [
    {
     "data": {
      "text/plain": [
       "array([[ 10,  78,  66,  45],\n",
       "       [ 45,  88,  11,  72],\n",
       "       [ 23,  13,  56, 100]], dtype=int64)"
      ]
     },
     "execution_count": 127,
     "metadata": {},
     "output_type": "execute_result"
    }
   ],
   "source": [
    "#加的为三行四列\n",
    "b = a + [[1],[2],[3]]\n",
    "b"
   ]
  },
  {
   "cell_type": "code",
   "execution_count": 125,
   "id": "95fb3ba4",
   "metadata": {},
   "outputs": [
    {
     "data": {
      "text/plain": [
       "array([[ 9, 77, 65, 44],\n",
       "       [43, 86,  9, 70],\n",
       "       [20, 10, 53, 97]], dtype=int64)"
      ]
     },
     "execution_count": 125,
     "metadata": {},
     "output_type": "execute_result"
    }
   ],
   "source": [
    "#取余\n",
    "np.mod(a,b)"
   ]
  },
  {
   "cell_type": "code",
   "execution_count": 3,
   "id": "90649ac5",
   "metadata": {},
   "outputs": [
    {
     "data": {
      "text/plain": [
       "(array([[1, 7],\n",
       "        [6, 4],\n",
       "        [4, 8]], dtype=int64),\n",
       " array([[1, 7, 2, 1],\n",
       "        [5, 9, 7, 7]], dtype=int64),\n",
       " array([[7, 8, 5],\n",
       "        [2, 8, 5],\n",
       "        [5, 4, 2]], dtype=int64))"
      ]
     },
     "execution_count": 3,
     "metadata": {},
     "output_type": "execute_result"
    }
   ],
   "source": [
    "#矩阵乘法\n",
    "rng = np.random.default_rng(42)\n",
    "a = rng.integers(1,10,(3,2))\n",
    "b = rng.integers(1,10,(2,4))\n",
    "c = rng.integers(1,10,(3,3))\n",
    "a,b,c"
   ]
  },
  {
   "cell_type": "code",
   "execution_count": 130,
   "id": "270a2036",
   "metadata": {},
   "outputs": [
    {
     "data": {
      "text/plain": [
       "array([[ 36,  70,  51,  50],\n",
       "       [ 26,  78,  40,  34],\n",
       "       [ 44, 100,  64,  60]], dtype=int64)"
      ]
     },
     "execution_count": 130,
     "metadata": {},
     "output_type": "execute_result"
    }
   ],
   "source": [
    "#乘法有多种写法\n",
    "a.dot(b)"
   ]
  },
  {
   "cell_type": "code",
   "execution_count": 131,
   "id": "0e8e47c2",
   "metadata": {},
   "outputs": [
    {
     "data": {
      "text/plain": [
       "array([[ 36,  70,  51,  50],\n",
       "       [ 26,  78,  40,  34],\n",
       "       [ 44, 100,  64,  60]], dtype=int64)"
      ]
     },
     "execution_count": 131,
     "metadata": {},
     "output_type": "execute_result"
    }
   ],
   "source": [
    "np.dot(a,b)"
   ]
  },
  {
   "cell_type": "code",
   "execution_count": 132,
   "id": "b45cee0e",
   "metadata": {},
   "outputs": [
    {
     "data": {
      "text/plain": [
       "array([[ 36,  70,  51,  50],\n",
       "       [ 26,  78,  40,  34],\n",
       "       [ 44, 100,  64,  60]], dtype=int64)"
      ]
     },
     "execution_count": 132,
     "metadata": {},
     "output_type": "execute_result"
    }
   ],
   "source": [
    "a @ b"
   ]
  },
  {
   "cell_type": "code",
   "execution_count": 135,
   "id": "fad1b201",
   "metadata": {},
   "outputs": [
    {
     "data": {
      "text/plain": [
       "array([[1, 6, 4],\n",
       "       [7, 4, 8]], dtype=int64)"
      ]
     },
     "execution_count": 135,
     "metadata": {},
     "output_type": "execute_result"
    }
   ],
   "source": [
    "a.T"
   ]
  },
  {
   "cell_type": "code",
   "execution_count": 136,
   "id": "fc12a3ac",
   "metadata": {},
   "outputs": [
    {
     "data": {
      "text/plain": [
       "array([[1, 7],\n",
       "       [6, 4],\n",
       "       [4, 8]], dtype=int64)"
      ]
     },
     "execution_count": 136,
     "metadata": {},
     "output_type": "execute_result"
    }
   ],
   "source": [
    "a"
   ]
  },
  {
   "cell_type": "code",
   "execution_count": 133,
   "id": "f6000068",
   "metadata": {},
   "outputs": [
    {
     "data": {
      "text/plain": [
       "182"
      ]
     },
     "execution_count": 133,
     "metadata": {},
     "output_type": "execute_result"
    }
   ],
   "source": [
    "#点积\n",
    "np.vdot(a,a)"
   ]
  },
  {
   "cell_type": "code",
   "execution_count": 139,
   "id": "015b0597",
   "metadata": {},
   "outputs": [
    {
     "data": {
      "text/plain": [
       "array([[50, 34, 60],\n",
       "       [34, 52, 56],\n",
       "       [60, 56, 80]], dtype=int64)"
      ]
     },
     "execution_count": 139,
     "metadata": {},
     "output_type": "execute_result"
    }
   ],
   "source": [
    "#内积\n",
    "np.inner(a,a)"
   ]
  },
  {
   "cell_type": "code",
   "execution_count": 140,
   "id": "3e344b31",
   "metadata": {},
   "outputs": [
    {
     "data": {
      "text/plain": [
       "array([[50, 34, 60],\n",
       "       [34, 52, 56],\n",
       "       [60, 56, 80]], dtype=int64)"
      ]
     },
     "execution_count": 140,
     "metadata": {},
     "output_type": "execute_result"
    }
   ],
   "source": [
    "a.dot(a.T)"
   ]
  },
  {
   "cell_type": "code",
   "execution_count": 5,
   "id": "104409f3",
   "metadata": {},
   "outputs": [
    {
     "data": {
      "text/plain": [
       "(5, 2, 4, 6)"
      ]
     },
     "execution_count": 5,
     "metadata": {},
     "output_type": "execute_result"
    }
   ],
   "source": [
    "# ijk,lkm ->ijlm\n",
    "np.dot(np.ones((5,2,3)),np.ones((4,3,6))).shape"
   ]
  },
  {
   "cell_type": "code",
   "execution_count": 6,
   "id": "cd57e6cd",
   "metadata": {},
   "outputs": [
    {
     "ename": "ValueError",
     "evalue": "operands could not be broadcast together with remapped shapes [original->remapped]: (5,2,3)->(5,newaxis,newaxis) (4,3,6)->(4,newaxis,newaxis)  and requested shape (2,6)",
     "output_type": "error",
     "traceback": [
      "\u001b[1;31m---------------------------------------------------------------------------\u001b[0m",
      "\u001b[1;31mValueError\u001b[0m                                Traceback (most recent call last)",
      "Input \u001b[1;32mIn [6]\u001b[0m, in \u001b[0;36m<cell line: 2>\u001b[1;34m()\u001b[0m\n\u001b[0;32m      1\u001b[0m \u001b[38;5;66;03m#ijk,ikl->ijl\u001b[39;00m\n\u001b[1;32m----> 2\u001b[0m \u001b[43mnp\u001b[49m\u001b[38;5;241;43m.\u001b[39;49m\u001b[43mmatmul\u001b[49m\u001b[43m(\u001b[49m\u001b[43mnp\u001b[49m\u001b[38;5;241;43m.\u001b[39;49m\u001b[43mones\u001b[49m\u001b[43m(\u001b[49m\u001b[43m(\u001b[49m\u001b[38;5;241;43m5\u001b[39;49m\u001b[43m,\u001b[49m\u001b[38;5;241;43m2\u001b[39;49m\u001b[43m,\u001b[49m\u001b[38;5;241;43m3\u001b[39;49m\u001b[43m)\u001b[49m\u001b[43m)\u001b[49m\u001b[43m,\u001b[49m\u001b[43mnp\u001b[49m\u001b[38;5;241;43m.\u001b[39;49m\u001b[43mones\u001b[49m\u001b[43m(\u001b[49m\u001b[43m(\u001b[49m\u001b[38;5;241;43m4\u001b[39;49m\u001b[43m,\u001b[49m\u001b[38;5;241;43m3\u001b[39;49m\u001b[43m,\u001b[49m\u001b[38;5;241;43m6\u001b[39;49m\u001b[43m)\u001b[49m\u001b[43m)\u001b[49m\u001b[43m)\u001b[49m\u001b[38;5;241m.\u001b[39mshape\n",
      "\u001b[1;31mValueError\u001b[0m: operands could not be broadcast together with remapped shapes [original->remapped]: (5,2,3)->(5,newaxis,newaxis) (4,3,6)->(4,newaxis,newaxis)  and requested shape (2,6)"
     ]
    }
   ],
   "source": [
    "#ijk,ikl->ijl\n",
    "np.matmul(np.ones((5,2,3)),np.ones((4,3,6))).shape"
   ]
  },
  {
   "cell_type": "code",
   "execution_count": 7,
   "id": "e2ec8cc9",
   "metadata": {},
   "outputs": [
    {
     "data": {
      "text/plain": [
       "(4, 2, 6)"
      ]
     },
     "execution_count": 7,
     "metadata": {},
     "output_type": "execute_result"
    }
   ],
   "source": [
    "np.matmul(np.ones((4,2,3)),np.ones((4,3,6))).shape"
   ]
  },
  {
   "cell_type": "code",
   "execution_count": null,
   "id": "29a33cdc",
   "metadata": {},
   "outputs": [],
   "source": []
  }
 ],
 "metadata": {
  "kernelspec": {
   "display_name": "Python 3 (ipykernel)",
   "language": "python",
   "name": "python3"
  },
  "language_info": {
   "codemirror_mode": {
    "name": "ipython",
    "version": 3
   },
   "file_extension": ".py",
   "mimetype": "text/x-python",
   "name": "python",
   "nbconvert_exporter": "python",
   "pygments_lexer": "ipython3",
   "version": "3.9.0"
  }
 },
 "nbformat": 4,
 "nbformat_minor": 5
}
