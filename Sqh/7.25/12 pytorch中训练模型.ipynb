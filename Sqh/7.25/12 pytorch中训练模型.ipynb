{
 "cells": [
  {
   "cell_type": "code",
   "execution_count": 1,
   "id": "9d90e427",
   "metadata": {},
   "outputs": [],
   "source": [
    "import torch\n",
    "from torch import nn\n",
    "from torch.utils.data import DataLoader\n",
    "from torchvision import datasets\n",
    "from torchvision.transforms import ToTensor, Lambda"
   ]
  },
  {
   "cell_type": "code",
   "execution_count": 2,
   "id": "210012e9",
   "metadata": {},
   "outputs": [
    {
     "name": "stdout",
     "output_type": "stream",
     "text": [
      "Downloading http://fashion-mnist.s3-website.eu-central-1.amazonaws.com/train-images-idx3-ubyte.gz\n",
      "Downloading http://fashion-mnist.s3-website.eu-central-1.amazonaws.com/train-images-idx3-ubyte.gz to data\\FashionMNIST\\raw\\train-images-idx3-ubyte.gz\n"
     ]
    },
    {
     "name": "stderr",
     "output_type": "stream",
     "text": [
      "100.0%\n"
     ]
    },
    {
     "name": "stdout",
     "output_type": "stream",
     "text": [
      "Extracting data\\FashionMNIST\\raw\\train-images-idx3-ubyte.gz to data\\FashionMNIST\\raw\n",
      "\n",
      "Downloading http://fashion-mnist.s3-website.eu-central-1.amazonaws.com/train-labels-idx1-ubyte.gz\n",
      "Downloading http://fashion-mnist.s3-website.eu-central-1.amazonaws.com/train-labels-idx1-ubyte.gz to data\\FashionMNIST\\raw\\train-labels-idx1-ubyte.gz\n"
     ]
    },
    {
     "name": "stderr",
     "output_type": "stream",
     "text": [
      "100.0%\n"
     ]
    },
    {
     "name": "stdout",
     "output_type": "stream",
     "text": [
      "Extracting data\\FashionMNIST\\raw\\train-labels-idx1-ubyte.gz to data\\FashionMNIST\\raw\n",
      "\n",
      "Downloading http://fashion-mnist.s3-website.eu-central-1.amazonaws.com/t10k-images-idx3-ubyte.gz\n",
      "Downloading http://fashion-mnist.s3-website.eu-central-1.amazonaws.com/t10k-images-idx3-ubyte.gz to data\\FashionMNIST\\raw\\t10k-images-idx3-ubyte.gz\n"
     ]
    },
    {
     "name": "stderr",
     "output_type": "stream",
     "text": [
      "100.0%\n"
     ]
    },
    {
     "name": "stdout",
     "output_type": "stream",
     "text": [
      "Extracting data\\FashionMNIST\\raw\\t10k-images-idx3-ubyte.gz to data\\FashionMNIST\\raw\n",
      "\n",
      "Downloading http://fashion-mnist.s3-website.eu-central-1.amazonaws.com/t10k-labels-idx1-ubyte.gz\n",
      "Downloading http://fashion-mnist.s3-website.eu-central-1.amazonaws.com/t10k-labels-idx1-ubyte.gz to data\\FashionMNIST\\raw\\t10k-labels-idx1-ubyte.gz\n"
     ]
    },
    {
     "name": "stderr",
     "output_type": "stream",
     "text": [
      "100.0%\n"
     ]
    },
    {
     "name": "stdout",
     "output_type": "stream",
     "text": [
      "Extracting data\\FashionMNIST\\raw\\t10k-labels-idx1-ubyte.gz to data\\FashionMNIST\\raw\n",
      "\n"
     ]
    }
   ],
   "source": [
    "training_data = datasets.FashionMNIST(   #创建训练集\n",
    "    root=\"data\",\n",
    "    train=True,\n",
    "    download=True,\n",
    "    transform=ToTensor()\n",
    ")\n",
    "test_data = datasets.FashionMNIST(   #创建测试集\n",
    "    root=\"data\",\n",
    "    train=False,\n",
    "    download=True,\n",
    "    transform=ToTensor()\n",
    ")"
   ]
  },
  {
   "cell_type": "code",
   "execution_count": 3,
   "id": "5d68acf9",
   "metadata": {},
   "outputs": [],
   "source": [
    "train_dataloader = DataLoader(training_data, batch_size=64)#将创建好的datasets作为dataloader的输入\n",
    "test_dataloader = DataLoader(test_data, batch_size=64)  "
   ]
  },
  {
   "cell_type": "code",
   "execution_count": 4,
   "id": "39bc8892",
   "metadata": {},
   "outputs": [],
   "source": [
    "#类似第6节分类神经网络\n",
    "class NeuralNetwork(nn.Module):\n",
    "    def __init__(self):\n",
    "        super(NeuralNetwork, self).__init__()    \n",
    "        self.flatten = nn.Flatten()              #Flatten将张量从第一个维度浓缩为一个维度\n",
    "        self.linear_relu_stack = nn.Sequential( \n",
    "            nn.Linear(28*28, 512),    #线性层\n",
    "            nn.ReLU(),                #非线性激活函数\n",
    "            nn.Linear(512, 512),\n",
    "            nn.ReLU(),\n",
    "            nn.Linear(512, 10),\n",
    "        )\n",
    "    \n",
    "    def forward(self, x):           \n",
    "        x = self.flatten(x)         \n",
    "        logits = self.linear_relu_stack(x)   \n",
    "        return logits"
   ]
  },
  {
   "cell_type": "code",
   "execution_count": 5,
   "id": "26f6e346",
   "metadata": {},
   "outputs": [],
   "source": [
    "model = NeuralNetwork()  #实例化"
   ]
  },
  {
   "cell_type": "code",
   "execution_count": 6,
   "id": "ad096260",
   "metadata": {},
   "outputs": [],
   "source": [
    "#接下来开始训练模型，训练之前要定义一些超参数，还要设置一个目标函数loss函数\n",
    "#超参数的值不需要优化，但会影响训练效果，比如batch size，学习率learning_rate，训练周期数epochs等\n",
    "learning_rate = 1e-3\n",
    "batch_size = 64\n",
    "epochs = 5"
   ]
  },
  {
   "cell_type": "code",
   "execution_count": 7,
   "id": "c0aa4132",
   "metadata": {},
   "outputs": [],
   "source": [
    "#交叉熵Loss函数\n",
    "loss_fn = nn.CrossEntropyLoss() #直接把logits传入交叉熵函数中，在函数中会对logits归一化，然后计算预测误差"
   ]
  },
  {
   "cell_type": "code",
   "execution_count": 8,
   "id": "42fe6b88",
   "metadata": {},
   "outputs": [],
   "source": [
    "#接下来构建优化器  优化器中会设计一个算法进行对参数的更新\n",
    "optimizer = torch.optim.SGD(model.parameters(), lr=learning_rate)"
   ]
  },
  {
   "cell_type": "code",
   "execution_count": 9,
   "id": "914f9f15",
   "metadata": {},
   "outputs": [],
   "source": [
    "def train_loop(dataloader, model, loss_fn, optimizer): #单步训练\n",
    "    size = len(dataloader.dataset)        #计算dataloader的大小\n",
    "    for batch, (X, y) in enumerate(dataloader):  #enumerate()，对dataloader枚举\n",
    "        # Compute prediction and loss\n",
    "        pred = model(X)  # 就是logits\n",
    "        loss = loss_fn(pred, y)  #将logits和y放入loss_fn函数中得到loss标量\n",
    "        # Backpropagation\n",
    "        optimizer.zero_grad()  #梯度置零\n",
    "        loss.backward()      #计算梯度\n",
    "        optimizer.step()     #通过优化器对参数进行更新\n",
    "        if batch % 100 == 0:  #每到100个就查看一下loss值\n",
    "            loss, current = loss.item(), batch * len(X)  #查看当前训练了多少个样本\n",
    "            print(f\"loss: {loss:>7f}  [{current:>5d}/{size:>5d}]\")"
   ]
  },
  {
   "cell_type": "code",
   "execution_count": 10,
   "id": "e1de6302",
   "metadata": {},
   "outputs": [],
   "source": [
    "def test_loop(dataloader, model, loss_fn): #单步测试\n",
    "    size = len(dataloader.dataset)\n",
    "    num_batches = len(dataloader)\n",
    "    test_loss, correct = 0, 0\n",
    "    with torch.no_grad():  #不会计算梯度函数，效率更高\n",
    "        for X, y in dataloader:\n",
    "            pred = model(X)\n",
    "            test_loss += loss_fn(pred, y).item()\n",
    "            correct += (pred.argmax(1) == y).type(torch.float).sum().item()\n",
    "    test_loss /= num_batches\n",
    "    correct /= size\n",
    "    print(f\"Test Error: \\n Accuracy: {(100*correct):>0.1f}%, Avg loss: {test_loss:>8f} \\n\")"
   ]
  },
  {
   "cell_type": "code",
   "execution_count": 11,
   "id": "5f6f3b62",
   "metadata": {},
   "outputs": [
    {
     "name": "stdout",
     "output_type": "stream",
     "text": [
      "Epoch 1\n",
      "-------------------------------\n",
      "loss: 2.297170  [    0/60000]\n",
      "loss: 2.287079  [ 6400/60000]\n",
      "loss: 2.270108  [12800/60000]\n",
      "loss: 2.264654  [19200/60000]\n",
      "loss: 2.242713  [25600/60000]\n",
      "loss: 2.205695  [32000/60000]\n",
      "loss: 2.214495  [38400/60000]\n",
      "loss: 2.179672  [44800/60000]\n",
      "loss: 2.180261  [51200/60000]\n",
      "loss: 2.131116  [57600/60000]\n",
      "Test Error: \n",
      " Accuracy: 44.7%, Avg loss: 2.134601 \n",
      "\n",
      "Epoch 2\n",
      "-------------------------------\n",
      "loss: 2.148691  [    0/60000]\n",
      "loss: 2.133478  [ 6400/60000]\n",
      "loss: 2.076335  [12800/60000]\n",
      "loss: 2.088089  [19200/60000]\n",
      "loss: 2.029632  [25600/60000]\n",
      "loss: 1.963990  [32000/60000]\n",
      "loss: 1.982476  [38400/60000]\n",
      "loss: 1.906371  [44800/60000]\n",
      "loss: 1.918987  [51200/60000]\n",
      "loss: 1.812640  [57600/60000]\n",
      "Test Error: \n",
      " Accuracy: 55.7%, Avg loss: 1.831597 \n",
      "\n",
      "Epoch 3\n",
      "-------------------------------\n",
      "loss: 1.874301  [    0/60000]\n",
      "loss: 1.834367  [ 6400/60000]\n",
      "loss: 1.722998  [12800/60000]\n",
      "loss: 1.757711  [19200/60000]\n",
      "loss: 1.647437  [25600/60000]\n",
      "loss: 1.598624  [32000/60000]\n",
      "loss: 1.610587  [38400/60000]\n",
      "loss: 1.527904  [44800/60000]\n",
      "loss: 1.560011  [51200/60000]\n",
      "loss: 1.431136  [57600/60000]\n",
      "Test Error: \n",
      " Accuracy: 60.9%, Avg loss: 1.468787 \n",
      "\n",
      "Epoch 4\n",
      "-------------------------------\n",
      "loss: 1.543959  [    0/60000]\n",
      "loss: 1.501748  [ 6400/60000]\n",
      "loss: 1.361027  [12800/60000]\n",
      "loss: 1.431486  [19200/60000]\n",
      "loss: 1.318585  [25600/60000]\n",
      "loss: 1.313142  [32000/60000]\n",
      "loss: 1.322437  [38400/60000]\n",
      "loss: 1.260366  [44800/60000]\n",
      "loss: 1.297008  [51200/60000]\n",
      "loss: 1.186419  [57600/60000]\n",
      "Test Error: \n",
      " Accuracy: 63.6%, Avg loss: 1.221698 \n",
      "\n",
      "Epoch 5\n",
      "-------------------------------\n",
      "loss: 1.301089  [    0/60000]\n",
      "loss: 1.277195  [ 6400/60000]\n",
      "loss: 1.116885  [12800/60000]\n",
      "loss: 1.226619  [19200/60000]\n",
      "loss: 1.106877  [25600/60000]\n",
      "loss: 1.125759  [32000/60000]\n",
      "loss: 1.147146  [38400/60000]\n",
      "loss: 1.093206  [44800/60000]\n",
      "loss: 1.131755  [51200/60000]\n",
      "loss: 1.040330  [57600/60000]\n",
      "Test Error: \n",
      " Accuracy: 65.2%, Avg loss: 1.068023 \n",
      "\n",
      "Epoch 6\n",
      "-------------------------------\n",
      "loss: 1.138459  [    0/60000]\n",
      "loss: 1.135489  [ 6400/60000]\n",
      "loss: 0.957044  [12800/60000]\n",
      "loss: 1.097072  [19200/60000]\n",
      "loss: 0.978587  [25600/60000]\n",
      "loss: 0.998148  [32000/60000]\n",
      "loss: 1.037879  [38400/60000]\n",
      "loss: 0.985876  [44800/60000]\n",
      "loss: 1.022512  [51200/60000]\n",
      "loss: 0.947420  [57600/60000]\n",
      "Test Error: \n",
      " Accuracy: 66.5%, Avg loss: 0.967982 \n",
      "\n",
      "Epoch 7\n",
      "-------------------------------\n",
      "loss: 1.023633  [    0/60000]\n",
      "loss: 1.042341  [ 6400/60000]\n",
      "loss: 0.846841  [12800/60000]\n",
      "loss: 1.009876  [19200/60000]\n",
      "loss: 0.898033  [25600/60000]\n",
      "loss: 0.907022  [32000/60000]\n",
      "loss: 0.965833  [38400/60000]\n",
      "loss: 0.914932  [44800/60000]\n",
      "loss: 0.946370  [51200/60000]\n",
      "loss: 0.884457  [57600/60000]\n",
      "Test Error: \n",
      " Accuracy: 67.6%, Avg loss: 0.898937 \n",
      "\n",
      "Epoch 8\n",
      "-------------------------------\n",
      "loss: 0.938602  [    0/60000]\n",
      "loss: 0.976485  [ 6400/60000]\n",
      "loss: 0.767131  [12800/60000]\n",
      "loss: 0.947407  [19200/60000]\n",
      "loss: 0.844007  [25600/60000]\n",
      "loss: 0.839532  [32000/60000]\n",
      "loss: 0.914540  [38400/60000]\n",
      "loss: 0.866277  [44800/60000]\n",
      "loss: 0.891213  [51200/60000]\n",
      "loss: 0.838723  [57600/60000]\n",
      "Test Error: \n",
      " Accuracy: 68.7%, Avg loss: 0.848687 \n",
      "\n",
      "Epoch 9\n",
      "-------------------------------\n",
      "loss: 0.872632  [    0/60000]\n",
      "loss: 0.926939  [ 6400/60000]\n",
      "loss: 0.707056  [12800/60000]\n",
      "loss: 0.900676  [19200/60000]\n",
      "loss: 0.805351  [25600/60000]\n",
      "loss: 0.788422  [32000/60000]\n",
      "loss: 0.875332  [38400/60000]\n",
      "loss: 0.831633  [44800/60000]\n",
      "loss: 0.850113  [51200/60000]\n",
      "loss: 0.803661  [57600/60000]\n",
      "Test Error: \n",
      " Accuracy: 70.4%, Avg loss: 0.810407 \n",
      "\n",
      "Epoch 10\n",
      "-------------------------------\n",
      "loss: 0.819703  [    0/60000]\n",
      "loss: 0.887293  [ 6400/60000]\n",
      "loss: 0.660232  [12800/60000]\n",
      "loss: 0.864581  [19200/60000]\n",
      "loss: 0.775697  [25600/60000]\n",
      "loss: 0.749100  [32000/60000]\n",
      "loss: 0.843345  [38400/60000]\n",
      "loss: 0.805618  [44800/60000]\n",
      "loss: 0.818418  [51200/60000]\n",
      "loss: 0.775677  [57600/60000]\n",
      "Test Error: \n",
      " Accuracy: 71.6%, Avg loss: 0.779894 \n",
      "\n",
      "Done!\n"
     ]
    }
   ],
   "source": [
    "loss_fn = nn.CrossEntropyLoss() #周期训练\n",
    "optimizer = torch.optim.SGD(model.parameters(), lr=learning_rate)\n",
    "\n",
    "epochs = 10\n",
    "for t in range(epochs):\n",
    "    print(f\"Epoch {t+1}\\n-------------------------------\")\n",
    "    train_loop(train_dataloader, model, loss_fn, optimizer) #循环调用两个单步步骤\n",
    "    test_loop(test_dataloader, model, loss_fn)\n",
    "print(\"Done!\")"
   ]
  },
  {
   "cell_type": "code",
   "execution_count": null,
   "id": "6ba4e7d5",
   "metadata": {},
   "outputs": [],
   "source": []
  }
 ],
 "metadata": {
  "kernelspec": {
   "display_name": "Python 3 (ipykernel)",
   "language": "python",
   "name": "python3"
  },
  "language_info": {
   "codemirror_mode": {
    "name": "ipython",
    "version": 3
   },
   "file_extension": ".py",
   "mimetype": "text/x-python",
   "name": "python",
   "nbconvert_exporter": "python",
   "pygments_lexer": "ipython3",
   "version": "3.9.0"
  }
 },
 "nbformat": 4,
 "nbformat_minor": 5
}
