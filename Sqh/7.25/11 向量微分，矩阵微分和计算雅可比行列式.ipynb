{
 "cells": [
  {
   "cell_type": "code",
   "execution_count": 7,
   "id": "e3c8a932",
   "metadata": {},
   "outputs": [],
   "source": [
    "import torch\n",
    "import torch.autograd"
   ]
  },
  {
   "cell_type": "code",
   "execution_count": 8,
   "id": "24a81d09",
   "metadata": {},
   "outputs": [],
   "source": [
    "def func(x):\n",
    "  return x.exp().sum(dim=1)  #sum(dim=1)对每一行求和"
   ]
  },
  {
   "cell_type": "code",
   "execution_count": 9,
   "id": "39da4dbe",
   "metadata": {},
   "outputs": [],
   "source": [
    "x = torch.randn(2, 3)"
   ]
  },
  {
   "cell_type": "code",
   "execution_count": 10,
   "id": "ae0970b6",
   "metadata": {},
   "outputs": [
    {
     "data": {
      "text/plain": [
       "tensor([[-0.2737,  0.7202, -0.9718],\n",
       "        [-0.9212,  1.2268,  0.5909]])"
      ]
     },
     "execution_count": 10,
     "metadata": {},
     "output_type": "execute_result"
    }
   ],
   "source": [
    "x"
   ]
  },
  {
   "cell_type": "code",
   "execution_count": 12,
   "id": "93f231fd",
   "metadata": {},
   "outputs": [],
   "source": [
    "y=func(x)"
   ]
  },
  {
   "cell_type": "code",
   "execution_count": 13,
   "id": "45a3a0b0",
   "metadata": {},
   "outputs": [
    {
     "data": {
      "text/plain": [
       "tensor([3.1938, 5.6139])"
      ]
     },
     "execution_count": 13,
     "metadata": {},
     "output_type": "execute_result"
    }
   ],
   "source": [
    "y"
   ]
  },
  {
   "cell_type": "code",
   "execution_count": 17,
   "id": "a1bb0f5a",
   "metadata": {},
   "outputs": [
    {
     "data": {
      "text/plain": [
       "tensor([[[0.7606, 2.0548, 0.3784],\n",
       "         [0.0000, 0.0000, 0.0000]],\n",
       "\n",
       "        [[0.0000, 0.0000, 0.0000],\n",
       "         [0.3980, 3.4103, 1.8056]]])"
      ]
     },
     "execution_count": 17,
     "metadata": {},
     "output_type": "execute_result"
    }
   ],
   "source": [
    "torch.autograd.functional.jacobian(func, x) #参数主要是(func,inputs)，func是一个函数，输入形式是tensor，返回形式是一个tensor或者一系列tensor，inputs就是要传入func函数中的输入"
   ]
  },
  {
   "cell_type": "markdown",
   "id": "5c5f1176",
   "metadata": {},
   "source": [
    "#上边就是雅可比矩阵"
   ]
  },
  {
   "cell_type": "code",
   "execution_count": 18,
   "id": "f512b955",
   "metadata": {},
   "outputs": [],
   "source": [
    "def func(x):\n",
    "    return "
   ]
  },
  {
   "cell_type": "code",
   "execution_count": 19,
   "id": "7175e063",
   "metadata": {},
   "outputs": [],
   "source": [
    "a=torch.randn(3)"
   ]
  },
  {
   "cell_type": "code",
   "execution_count": 20,
   "id": "86cb4bf3",
   "metadata": {},
   "outputs": [
    {
     "data": {
      "text/plain": [
       "tensor([-0.3342,  0.1808, -1.9951])"
      ]
     },
     "execution_count": 20,
     "metadata": {},
     "output_type": "execute_result"
    }
   ],
   "source": [
    "a"
   ]
  },
  {
   "cell_type": "code",
   "execution_count": 21,
   "id": "387ec969",
   "metadata": {},
   "outputs": [],
   "source": [
    "def func(x):\n",
    "    return a+x"
   ]
  },
  {
   "cell_type": "code",
   "execution_count": 22,
   "id": "05f83537",
   "metadata": {},
   "outputs": [],
   "source": [
    "x=torch.randn(3)"
   ]
  },
  {
   "cell_type": "code",
   "execution_count": 23,
   "id": "0ba455b4",
   "metadata": {},
   "outputs": [
    {
     "data": {
      "text/plain": [
       "tensor([-0.2121, -2.1432, -0.5180])"
      ]
     },
     "execution_count": 23,
     "metadata": {},
     "output_type": "execute_result"
    }
   ],
   "source": [
    "x"
   ]
  },
  {
   "cell_type": "code",
   "execution_count": 24,
   "id": "e3d1ad1c",
   "metadata": {},
   "outputs": [
    {
     "data": {
      "text/plain": [
       "tensor([-0.5463, -1.9624, -2.5130])"
      ]
     },
     "execution_count": 24,
     "metadata": {},
     "output_type": "execute_result"
    }
   ],
   "source": [
    "func(x)"
   ]
  },
  {
   "cell_type": "code",
   "execution_count": 25,
   "id": "e51c6acb",
   "metadata": {},
   "outputs": [
    {
     "ename": "NameError",
     "evalue": "name 'jacobian' is not defined",
     "output_type": "error",
     "traceback": [
      "\u001b[1;31m---------------------------------------------------------------------------\u001b[0m",
      "\u001b[1;31mNameError\u001b[0m                                 Traceback (most recent call last)",
      "Input \u001b[1;32mIn [25]\u001b[0m, in \u001b[0;36m<cell line: 1>\u001b[1;34m()\u001b[0m\n\u001b[1;32m----> 1\u001b[0m \u001b[43mjacobian\u001b[49m(func,x)\n",
      "\u001b[1;31mNameError\u001b[0m: name 'jacobian' is not defined"
     ]
    }
   ],
   "source": [
    "jacobian(func,x)"
   ]
  },
  {
   "cell_type": "code",
   "execution_count": 26,
   "id": "6e8ece71",
   "metadata": {},
   "outputs": [
    {
     "data": {
      "text/plain": [
       "tensor([[1., 0., 0.],\n",
       "        [0., 1., 0.],\n",
       "        [0., 0., 1.]])"
      ]
     },
     "execution_count": 26,
     "metadata": {},
     "output_type": "execute_result"
    }
   ],
   "source": [
    "torch.autograd.functional.jacobian(func, x)"
   ]
  },
  {
   "cell_type": "raw",
   "id": "94a06510",
   "metadata": {},
   "source": [
    "# 接下来讲pytorch如何算向量对向量的导数或者矩阵对矩阵的导数\n",
    "第一种方法是backword函数\n",
    "第二种是雅可比"
   ]
  },
  {
   "cell_type": "code",
   "execution_count": 27,
   "id": "9dbcf1ec",
   "metadata": {},
   "outputs": [
    {
     "data": {
      "text/plain": [
       "tensor([-0.3342,  0.1808, -1.9951])"
      ]
     },
     "execution_count": 27,
     "metadata": {},
     "output_type": "execute_result"
    }
   ],
   "source": [
    "#backword()方法\n",
    "a"
   ]
  },
  {
   "cell_type": "code",
   "execution_count": 28,
   "id": "bd631f3c",
   "metadata": {},
   "outputs": [],
   "source": [
    "x = torch.randn(3,requires_grad=True)"
   ]
  },
  {
   "cell_type": "code",
   "execution_count": 29,
   "id": "391be6df",
   "metadata": {},
   "outputs": [],
   "source": [
    "y=func(x)"
   ]
  },
  {
   "cell_type": "code",
   "execution_count": 30,
   "id": "7c92c5f1",
   "metadata": {},
   "outputs": [
    {
     "data": {
      "text/plain": [
       "tensor([-0.0829, -0.2615, -3.8747], grad_fn=<AddBackward0>)"
      ]
     },
     "execution_count": 30,
     "metadata": {},
     "output_type": "execute_result"
    }
   ],
   "source": [
    "y"
   ]
  },
  {
   "cell_type": "code",
   "execution_count": 31,
   "id": "e2fc18ba",
   "metadata": {},
   "outputs": [
    {
     "ename": "AttributeError",
     "evalue": "'Tensor' object has no attribute 'backword'",
     "output_type": "error",
     "traceback": [
      "\u001b[1;31m---------------------------------------------------------------------------\u001b[0m",
      "\u001b[1;31mAttributeError\u001b[0m                            Traceback (most recent call last)",
      "Input \u001b[1;32mIn [31]\u001b[0m, in \u001b[0;36m<cell line: 1>\u001b[1;34m()\u001b[0m\n\u001b[1;32m----> 1\u001b[0m \u001b[43my\u001b[49m\u001b[38;5;241;43m.\u001b[39;49m\u001b[43mbackword\u001b[49m()\n",
      "\u001b[1;31mAttributeError\u001b[0m: 'Tensor' object has no attribute 'backword'"
     ]
    }
   ],
   "source": [
    "y.backword() #用backword()函数计算x的梯度。但直接这样调用会报错，y现在是张量不是标量"
   ]
  },
  {
   "cell_type": "code",
   "execution_count": 32,
   "id": "c240a848",
   "metadata": {},
   "outputs": [],
   "source": [
    "y.backward(torch.ones_like(y))"
   ]
  },
  {
   "cell_type": "code",
   "execution_count": 33,
   "id": "0287d0ef",
   "metadata": {},
   "outputs": [
    {
     "data": {
      "text/plain": [
       "tensor([1., 1., 1.])"
      ]
     },
     "execution_count": 33,
     "metadata": {},
     "output_type": "execute_result"
    }
   ],
   "source": [
    "x.grad"
   ]
  },
  {
   "cell_type": "code",
   "execution_count": 35,
   "id": "8c127a28",
   "metadata": {},
   "outputs": [
    {
     "data": {
      "text/plain": [
       "tensor([1., 1., 1.])"
      ]
     },
     "execution_count": 35,
     "metadata": {},
     "output_type": "execute_result"
    }
   ],
   "source": [
    "#雅可比方法\n",
    "torch.ones_like(y) @ torch.autograd.functional.jacobian(func,y)#前者充当vector，@表示相乘"
   ]
  },
  {
   "cell_type": "markdown",
   "id": "497d300f",
   "metadata": {},
   "source": [
    "#以上是向量对向量的导数求法，下边是矩阵对矩阵"
   ]
  },
  {
   "cell_type": "code",
   "execution_count": 36,
   "id": "20061ffe",
   "metadata": {},
   "outputs": [],
   "source": [
    "a = torch.randn(2,3,requires_grad = True)\n",
    "b = torch.randn(3,2,requires_grad = True)"
   ]
  },
  {
   "cell_type": "code",
   "execution_count": 37,
   "id": "965afa43",
   "metadata": {},
   "outputs": [
    {
     "data": {
      "text/plain": [
       "tensor([[ 1.1534, -0.0693, -0.0799],\n",
       "        [-0.8072,  0.5023,  1.0066]], requires_grad=True)"
      ]
     },
     "execution_count": 37,
     "metadata": {},
     "output_type": "execute_result"
    }
   ],
   "source": [
    "a"
   ]
  },
  {
   "cell_type": "code",
   "execution_count": 38,
   "id": "054faa98",
   "metadata": {},
   "outputs": [
    {
     "data": {
      "text/plain": [
       "tensor([[-0.6340,  0.7446],\n",
       "        [ 0.2974, -0.3235],\n",
       "        [-0.0979,  1.1610]], requires_grad=True)"
      ]
     },
     "execution_count": 38,
     "metadata": {},
     "output_type": "execute_result"
    }
   ],
   "source": [
    "b"
   ]
  },
  {
   "cell_type": "code",
   "execution_count": 39,
   "id": "a2c195c7",
   "metadata": {},
   "outputs": [
    {
     "data": {
      "text/plain": [
       "tensor([[-0.7440,  0.7885],\n",
       "        [ 0.5626,  0.4051]], grad_fn=<MmBackward0>)"
      ]
     },
     "execution_count": 39,
     "metadata": {},
     "output_type": "execute_result"
    }
   ],
   "source": [
    "a@b# @表示乘法"
   ]
  },
  {
   "cell_type": "code",
   "execution_count": 40,
   "id": "35d661c9",
   "metadata": {},
   "outputs": [],
   "source": [
    "y=a@b"
   ]
  },
  {
   "cell_type": "code",
   "execution_count": 41,
   "id": "245431f3",
   "metadata": {},
   "outputs": [
    {
     "ename": "AttributeError",
     "evalue": "'Tensor' object has no attribute 'backword'",
     "output_type": "error",
     "traceback": [
      "\u001b[1;31m---------------------------------------------------------------------------\u001b[0m",
      "\u001b[1;31mAttributeError\u001b[0m                            Traceback (most recent call last)",
      "Input \u001b[1;32mIn [41]\u001b[0m, in \u001b[0;36m<cell line: 1>\u001b[1;34m()\u001b[0m\n\u001b[1;32m----> 1\u001b[0m \u001b[43my\u001b[49m\u001b[38;5;241;43m.\u001b[39;49m\u001b[43mbackword\u001b[49m()\n",
      "\u001b[1;31mAttributeError\u001b[0m: 'Tensor' object has no attribute 'backword'"
     ]
    }
   ],
   "source": [
    "y.backword()"
   ]
  },
  {
   "cell_type": "code",
   "execution_count": 42,
   "id": "54924dab",
   "metadata": {},
   "outputs": [],
   "source": [
    "y.backward(torch.ones_like(y))"
   ]
  },
  {
   "cell_type": "code",
   "execution_count": 43,
   "id": "1939b8f1",
   "metadata": {},
   "outputs": [
    {
     "data": {
      "text/plain": [
       "tensor([[ 0.1107, -0.0261,  1.0632],\n",
       "        [ 0.1107, -0.0261,  1.0632]])"
      ]
     },
     "execution_count": 43,
     "metadata": {},
     "output_type": "execute_result"
    }
   ],
   "source": [
    "a.grad"
   ]
  },
  {
   "cell_type": "code",
   "execution_count": 44,
   "id": "a0fe5ef9",
   "metadata": {},
   "outputs": [
    {
     "data": {
      "text/plain": [
       "tensor([[0.3462, 0.3462],\n",
       "        [0.4329, 0.4329],\n",
       "        [0.9266, 0.9266]])"
      ]
     },
     "execution_count": 44,
     "metadata": {},
     "output_type": "execute_result"
    }
   ],
   "source": [
    "b.grad"
   ]
  },
  {
   "cell_type": "code",
   "execution_count": 45,
   "id": "39c176f9",
   "metadata": {},
   "outputs": [],
   "source": [
    "def func(a):\n",
    "    return a @ b"
   ]
  },
  {
   "cell_type": "code",
   "execution_count": 46,
   "id": "e2f88ea6",
   "metadata": {},
   "outputs": [
    {
     "data": {
      "text/plain": [
       "tensor([[ 1.1534, -0.0693, -0.0799],\n",
       "        [-0.8072,  0.5023,  1.0066]], requires_grad=True)"
      ]
     },
     "execution_count": 46,
     "metadata": {},
     "output_type": "execute_result"
    }
   ],
   "source": [
    "a"
   ]
  },
  {
   "cell_type": "code",
   "execution_count": 47,
   "id": "203ff492",
   "metadata": {},
   "outputs": [
    {
     "data": {
      "text/plain": [
       "tensor([[-0.7440,  0.7885],\n",
       "        [ 0.5626,  0.4051]], grad_fn=<MmBackward0>)"
      ]
     },
     "execution_count": 47,
     "metadata": {},
     "output_type": "execute_result"
    }
   ],
   "source": [
    "func(a)"
   ]
  },
  {
   "cell_type": "code",
   "execution_count": 48,
   "id": "37797f03",
   "metadata": {},
   "outputs": [
    {
     "data": {
      "text/plain": [
       "tensor([-0.7440,  0.7885], grad_fn=<MvBackward0>)"
      ]
     },
     "execution_count": 48,
     "metadata": {},
     "output_type": "execute_result"
    }
   ],
   "source": [
    " func(a[0]) #先算a的第一行，将矩阵输出变成向量输出"
   ]
  },
  {
   "cell_type": "code",
   "execution_count": 49,
   "id": "1b42a14d",
   "metadata": {},
   "outputs": [
    {
     "data": {
      "text/plain": [
       "tensor([ 0.1107, -0.0261,  1.0632])"
      ]
     },
     "execution_count": 49,
     "metadata": {},
     "output_type": "execute_result"
    }
   ],
   "source": [
    "torch.ones_like(func(a[0]))@torch.autograd.functional.jacobian(func,a[0]) #前者就是vector，就是dl/dy的梯度，默认是全1的张量"
   ]
  },
  {
   "cell_type": "code",
   "execution_count": 50,
   "id": "724d9a92",
   "metadata": {},
   "outputs": [
    {
     "data": {
      "text/plain": [
       "tensor([[ 0.1107, -0.0261,  1.0632],\n",
       "        [ 0.1107, -0.0261,  1.0632]])"
      ]
     },
     "execution_count": 50,
     "metadata": {},
     "output_type": "execute_result"
    }
   ],
   "source": [
    "a.grad"
   ]
  },
  {
   "cell_type": "code",
   "execution_count": 51,
   "id": "ae56ccb0",
   "metadata": {},
   "outputs": [
    {
     "data": {
      "text/plain": [
       "tensor([ 0.1107, -0.0261,  1.0632])"
      ]
     },
     "execution_count": 51,
     "metadata": {},
     "output_type": "execute_result"
    }
   ],
   "source": [
    "torch.ones_like(func(a[1])) @ torch.autograd.functional.jacobian(func,a[1])"
   ]
  },
  {
   "cell_type": "code",
   "execution_count": 52,
   "id": "5eb076d2",
   "metadata": {},
   "outputs": [
    {
     "data": {
      "text/plain": [
       "tensor([[-0.7440,  0.7885],\n",
       "        [ 0.5626,  0.4051]], grad_fn=<MmBackward0>)"
      ]
     },
     "execution_count": 52,
     "metadata": {},
     "output_type": "execute_result"
    }
   ],
   "source": [
    "a@b"
   ]
  },
  {
   "cell_type": "code",
   "execution_count": 53,
   "id": "e6f9d9d7",
   "metadata": {},
   "outputs": [
    {
     "data": {
      "text/plain": [
       "tensor([[ 1.1534, -0.0693, -0.0799],\n",
       "        [-0.8072,  0.5023,  1.0066]], requires_grad=True)"
      ]
     },
     "execution_count": 53,
     "metadata": {},
     "output_type": "execute_result"
    }
   ],
   "source": [
    "a"
   ]
  },
  {
   "cell_type": "code",
   "execution_count": 54,
   "id": "65e3e572",
   "metadata": {},
   "outputs": [
    {
     "data": {
      "text/plain": [
       "tensor([[-0.6340,  0.7446],\n",
       "        [ 0.2974, -0.3235],\n",
       "        [-0.0979,  1.1610]], requires_grad=True)"
      ]
     },
     "execution_count": 54,
     "metadata": {},
     "output_type": "execute_result"
    }
   ],
   "source": [
    "b"
   ]
  },
  {
   "cell_type": "code",
   "execution_count": 55,
   "id": "0b4211d4",
   "metadata": {},
   "outputs": [],
   "source": [
    " def func(b):\n",
    "    return a@b"
   ]
  },
  {
   "cell_type": "code",
   "execution_count": 56,
   "id": "7778e80b",
   "metadata": {},
   "outputs": [
    {
     "data": {
      "text/plain": [
       "tensor([0.3462, 0.4329, 0.9266])"
      ]
     },
     "execution_count": 56,
     "metadata": {},
     "output_type": "execute_result"
    }
   ],
   "source": [
    "torch.ones_like(func(b[:,0])) @ torch.autograd.functional.jacobian(func,b[:,0])\n",
    "#b[:,0]表示b的第一列"
   ]
  },
  {
   "cell_type": "code",
   "execution_count": 57,
   "id": "c5d0c4b6",
   "metadata": {},
   "outputs": [
    {
     "data": {
      "text/plain": [
       "tensor([[0.3462, 0.3462],\n",
       "        [0.4329, 0.4329],\n",
       "        [0.9266, 0.9266]])"
      ]
     },
     "execution_count": 57,
     "metadata": {},
     "output_type": "execute_result"
    }
   ],
   "source": [
    "b.grad"
   ]
  },
  {
   "cell_type": "code",
   "execution_count": 58,
   "id": "53a45275",
   "metadata": {},
   "outputs": [
    {
     "data": {
      "text/plain": [
       "tensor([0.3462, 0.4329, 0.9266])"
      ]
     },
     "execution_count": 58,
     "metadata": {},
     "output_type": "execute_result"
    }
   ],
   "source": [
    "torch.ones_like(func(b[:,1])) @ torch.autograd.functional.jacobian(func,b[:,1])"
   ]
  },
  {
   "cell_type": "code",
   "execution_count": null,
   "id": "bcd854f8",
   "metadata": {},
   "outputs": [],
   "source": []
  }
 ],
 "metadata": {
  "kernelspec": {
   "display_name": "Python 3 (ipykernel)",
   "language": "python",
   "name": "python3"
  },
  "language_info": {
   "codemirror_mode": {
    "name": "ipython",
    "version": 3
   },
   "file_extension": ".py",
   "mimetype": "text/x-python",
   "name": "python",
   "nbconvert_exporter": "python",
   "pygments_lexer": "ipython3",
   "version": "3.9.0"
  }
 },
 "nbformat": 4,
 "nbformat_minor": 5
}
