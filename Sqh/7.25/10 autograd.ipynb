{
 "cells": [
  {
   "cell_type": "code",
   "execution_count": 1,
   "id": "584279bd",
   "metadata": {},
   "outputs": [],
   "source": [
    "import torch"
   ]
  },
  {
   "cell_type": "code",
   "execution_count": 2,
   "id": "4573ab97",
   "metadata": {},
   "outputs": [],
   "source": [
    "x = torch.ones(5)  #输入张量\n",
    "y = torch.zeros(3)   #定义标签\n",
    "w = torch.randn(5,3,requires_grad = True)\n",
    "b = torch.randn(3,requires_grad = True)    # w b是两个参数，requires_grad = True需要计算梯度\n",
    "z = torch.matmul(x,w)+b   #预测输出\n",
    "loss = torch.nn.functional.binary_cross_entropy_with_logits(z,y)"
   ]
  },
  {
   "cell_type": "markdown",
   "id": "b19b7856",
   "metadata": {},
   "source": [
    "训练神经网络的过程，就是不断地去改变这个网络参数的值比如w b，使得网络的预测输出z越接近真实目标y越好。一般就是用梯度后向传播算法，根据z和y的距离得出loss，再根据loss得出loss关于w和loss关于b的梯度，再根据梯度下降算法更新w和b（10 15分钟有问题"
   ]
  },
  {
   "cell_type": "code",
   "execution_count": 3,
   "id": "8a5bcc02",
   "metadata": {},
   "outputs": [
    {
     "name": "stdout",
     "output_type": "stream",
     "text": [
      "Gradient function for z = <AddBackward0 object at 0x000001DF74BAA730>\n",
      "Gradient function for loss =  <BinaryCrossEntropyWithLogitsBackward0 object at 0x000001DF67BDB460>\n"
     ]
    }
   ],
   "source": [
    "print('Gradient function for z =',z.grad_fn)\n",
    "print('Gradient function for loss = ',loss.grad_fn)"
   ]
  },
  {
   "cell_type": "code",
   "execution_count": 4,
   "id": "0cc5695c",
   "metadata": {},
   "outputs": [
    {
     "name": "stdout",
     "output_type": "stream",
     "text": [
      "tensor([[0.3321, 0.3091, 0.3052],\n",
      "        [0.3321, 0.3091, 0.3052],\n",
      "        [0.3321, 0.3091, 0.3052],\n",
      "        [0.3321, 0.3091, 0.3052],\n",
      "        [0.3321, 0.3091, 0.3052]])\n",
      "tensor([0.3321, 0.3091, 0.3052])\n"
     ]
    }
   ],
   "source": [
    "loss.backward()  #backward()是属于tensor类的一个函数。前提loss是标量。对于可以计算梯度的父节点都会计算出梯度\n",
    "print(w.grad)\n",
    "print(b.grad) #打印所有计算出梯度父节点的梯度，只能获取requires_grad = True参数的梯度"
   ]
  },
  {
   "cell_type": "code",
   "execution_count": 6,
   "id": "23ed1d4e",
   "metadata": {},
   "outputs": [
    {
     "name": "stdout",
     "output_type": "stream",
     "text": [
      "True\n",
      "False\n"
     ]
    }
   ],
   "source": [
    "z = torch.matmul(x,w)+b  #只要父节点中有一个requires_grad为true，那么当前这个节点为true\n",
    "print(z.requires_grad)\n",
    "\n",
    "with torch.no_grad():    #torch.no_grad()是上下文管理器，使处在上下文的操作不需要计算梯度，使requires_grad为false\n",
    "    z = torch.matmul(x,w)+b\n",
    "print(z.requires_grad)"
   ]
  },
  {
   "cell_type": "code",
   "execution_count": 7,
   "id": "e53a94f4",
   "metadata": {},
   "outputs": [
    {
     "name": "stdout",
     "output_type": "stream",
     "text": [
      "False\n"
     ]
    }
   ],
   "source": [
    "z = torch.matmul(x,w)+b\n",
    "z_det = z.detach()  ##分离，调用该节点的detach函数，得到的新节点也会false\n",
    "print(z_det.requires_grad)"
   ]
  },
  {
   "cell_type": "code",
   "execution_count": 8,
   "id": "c5a02fbf",
   "metadata": {},
   "outputs": [
    {
     "name": "stdout",
     "output_type": "stream",
     "text": [
      "First call\n",
      " tensor([[4., 2., 2., 2., 2.],\n",
      "        [2., 4., 2., 2., 2.],\n",
      "        [2., 2., 4., 2., 2.],\n",
      "        [2., 2., 2., 4., 2.],\n",
      "        [2., 2., 2., 2., 4.]])\n",
      "\n",
      "Second call\n",
      " tensor([[8., 4., 4., 4., 4.],\n",
      "        [4., 8., 4., 4., 4.],\n",
      "        [4., 4., 8., 4., 4.],\n",
      "        [4., 4., 4., 8., 4.],\n",
      "        [4., 4., 4., 4., 8.]])\n",
      "\n",
      "Call after zeroing gradients\n",
      " tensor([[4., 2., 2., 2., 2.],\n",
      "        [2., 4., 2., 2., 2.],\n",
      "        [2., 2., 4., 2., 2.],\n",
      "        [2., 2., 2., 4., 2.],\n",
      "        [2., 2., 2., 2., 4.]])\n"
     ]
    }
   ],
   "source": [
    "inp = torch.eye(5,requires_grad = True)  \n",
    "out = (inp+1).pow(2)                     #先加法操作，再平方操作\n",
    "out.backward(torch.ones_like(inp),retain_graph=True)  #传入一个全1的矩阵充当vector v\n",
    "print(\"First call\\n\",inp.grad)\n",
    "out.backward(torch.ones_like(inp),retain_graph=True) #retain_graph=True目的是进行第二次调用\n",
    "print(\"\\nSecond call\\n\",inp.grad) \n",
    "inp.grad.zero_()\n",
    "out.backward(torch.ones_like(inp),retain_graph=True)\n",
    "print(\"\\nCall after zeroing gradients\\n\",inp.grad)\n",
    "##在每一步更新完参数后，我们需要对参数的梯度置零，不需要手动操作，调用优化器的置零操作即可"
   ]
  }
 ],
 "metadata": {
  "kernelspec": {
   "display_name": "Python 3 (ipykernel)",
   "language": "python",
   "name": "python3"
  },
  "language_info": {
   "codemirror_mode": {
    "name": "ipython",
    "version": 3
   },
   "file_extension": ".py",
   "mimetype": "text/x-python",
   "name": "python",
   "nbconvert_exporter": "python",
   "pygments_lexer": "ipython3",
   "version": "3.9.0"
  }
 },
 "nbformat": 4,
 "nbformat_minor": 5
}
