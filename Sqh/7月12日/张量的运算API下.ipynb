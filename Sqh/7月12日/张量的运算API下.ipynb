{
 "cells": [
  {
   "cell_type": "code",
   "execution_count": 1,
   "id": "f594ebc9",
   "metadata": {},
   "outputs": [],
   "source": [
    "import torch\n",
    "import numpy as np"
   ]
  },
  {
   "cell_type": "code",
   "execution_count": 2,
   "id": "dce4ac66",
   "metadata": {},
   "outputs": [],
   "source": [
    "src=torch.tensor([[4,3,5],[6,7,8]])"
   ]
  },
  {
   "cell_type": "code",
   "execution_count": 3,
   "id": "7fb9f7cb",
   "metadata": {},
   "outputs": [
    {
     "ename": "AttributeError",
     "evalue": "'Tensor' object has no attribute 'torch'",
     "output_type": "error",
     "traceback": [
      "\u001b[1;31m---------------------------------------------------------------------------\u001b[0m",
      "\u001b[1;31mAttributeError\u001b[0m                            Traceback (most recent call last)",
      "Input \u001b[1;32mIn [3]\u001b[0m, in \u001b[0;36m<cell line: 1>\u001b[1;34m()\u001b[0m\n\u001b[1;32m----> 1\u001b[0m torch\u001b[38;5;241m.\u001b[39mtake(\u001b[43msrc\u001b[49m\u001b[38;5;241;43m.\u001b[39;49m\u001b[43mtorch\u001b[49m\u001b[38;5;241m.\u001b[39mtensor([\u001b[38;5;241m0\u001b[39m,\u001b[38;5;241m2\u001b[39m,\u001b[38;5;241m5\u001b[39m]))\n",
      "\u001b[1;31mAttributeError\u001b[0m: 'Tensor' object has no attribute 'torch'"
     ]
    }
   ],
   "source": [
    "torch.take(src.torch.tensor([0,2,5]))"
   ]
  },
  {
   "cell_type": "code",
   "execution_count": 4,
   "id": "2c32cddf",
   "metadata": {},
   "outputs": [
    {
     "data": {
      "text/plain": [
       "tensor([4, 5, 8])"
      ]
     },
     "execution_count": 4,
     "metadata": {},
     "output_type": "execute_result"
    }
   ],
   "source": [
    "torch.take(src,torch.tensor([0,2,5]))\n",
    "#在index索引角度下会把input看成一维张量"
   ]
  },
  {
   "cell_type": "code",
   "execution_count": 5,
   "id": "a0e006ae",
   "metadata": {},
   "outputs": [],
   "source": [
    "a=torch.rand([4,3])"
   ]
  },
  {
   "cell_type": "code",
   "execution_count": 6,
   "id": "35722210",
   "metadata": {},
   "outputs": [
    {
     "data": {
      "text/plain": [
       "tensor([[0.6558, 0.5879, 0.5975],\n",
       "        [0.2387, 0.4592, 0.6408],\n",
       "        [0.9801, 0.3924, 0.2622],\n",
       "        [0.7122, 0.0551, 0.6018]])"
      ]
     },
     "execution_count": 6,
     "metadata": {},
     "output_type": "execute_result"
    }
   ],
   "source": [
    "a"
   ]
  },
  {
   "cell_type": "code",
   "execution_count": 7,
   "id": "ad3cb67f",
   "metadata": {},
   "outputs": [],
   "source": [
    "a_tiled=torch.tile(a,[2,1])\n",
    "#tile函数很重要，表示复制"
   ]
  },
  {
   "cell_type": "code",
   "execution_count": 8,
   "id": "dbe81ff0",
   "metadata": {},
   "outputs": [
    {
     "data": {
      "text/plain": [
       "tensor([[0.6558, 0.5879, 0.5975],\n",
       "        [0.2387, 0.4592, 0.6408],\n",
       "        [0.9801, 0.3924, 0.2622],\n",
       "        [0.7122, 0.0551, 0.6018],\n",
       "        [0.6558, 0.5879, 0.5975],\n",
       "        [0.2387, 0.4592, 0.6408],\n",
       "        [0.9801, 0.3924, 0.2622],\n",
       "        [0.7122, 0.0551, 0.6018]])"
      ]
     },
     "execution_count": 8,
     "metadata": {},
     "output_type": "execute_result"
    }
   ],
   "source": [
    "a_tiled"
   ]
  },
  {
   "cell_type": "code",
   "execution_count": 9,
   "id": "be6c927d",
   "metadata": {},
   "outputs": [],
   "source": [
    "a_tiled=torch.tile(a,[1,3])"
   ]
  },
  {
   "cell_type": "code",
   "execution_count": 10,
   "id": "a4ac4bfe",
   "metadata": {},
   "outputs": [
    {
     "data": {
      "text/plain": [
       "tensor([[0.6558, 0.5879, 0.5975, 0.6558, 0.5879, 0.5975, 0.6558, 0.5879, 0.5975],\n",
       "        [0.2387, 0.4592, 0.6408, 0.2387, 0.4592, 0.6408, 0.2387, 0.4592, 0.6408],\n",
       "        [0.9801, 0.3924, 0.2622, 0.9801, 0.3924, 0.2622, 0.9801, 0.3924, 0.2622],\n",
       "        [0.7122, 0.0551, 0.6018, 0.7122, 0.0551, 0.6018, 0.7122, 0.0551, 0.6018]])"
      ]
     },
     "execution_count": 10,
     "metadata": {},
     "output_type": "execute_result"
    }
   ],
   "source": [
    "a_tiled"
   ]
  },
  {
   "cell_type": "code",
   "execution_count": 11,
   "id": "339de8e9",
   "metadata": {},
   "outputs": [],
   "source": [
    "a_tiled=torch.tile(a,[2,3])"
   ]
  },
  {
   "cell_type": "code",
   "execution_count": 12,
   "id": "ebcee200",
   "metadata": {},
   "outputs": [
    {
     "data": {
      "text/plain": [
       "tensor([[0.6558, 0.5879, 0.5975, 0.6558, 0.5879, 0.5975, 0.6558, 0.5879, 0.5975],\n",
       "        [0.2387, 0.4592, 0.6408, 0.2387, 0.4592, 0.6408, 0.2387, 0.4592, 0.6408],\n",
       "        [0.9801, 0.3924, 0.2622, 0.9801, 0.3924, 0.2622, 0.9801, 0.3924, 0.2622],\n",
       "        [0.7122, 0.0551, 0.6018, 0.7122, 0.0551, 0.6018, 0.7122, 0.0551, 0.6018],\n",
       "        [0.6558, 0.5879, 0.5975, 0.6558, 0.5879, 0.5975, 0.6558, 0.5879, 0.5975],\n",
       "        [0.2387, 0.4592, 0.6408, 0.2387, 0.4592, 0.6408, 0.2387, 0.4592, 0.6408],\n",
       "        [0.9801, 0.3924, 0.2622, 0.9801, 0.3924, 0.2622, 0.9801, 0.3924, 0.2622],\n",
       "        [0.7122, 0.0551, 0.6018, 0.7122, 0.0551, 0.6018, 0.7122, 0.0551, 0.6018]])"
      ]
     },
     "execution_count": 12,
     "metadata": {},
     "output_type": "execute_result"
    }
   ],
   "source": [
    "a_tiled"
   ]
  },
  {
   "cell_type": "code",
   "execution_count": 13,
   "id": "05808974",
   "metadata": {},
   "outputs": [
    {
     "ename": "AttributeError",
     "evalue": "'Tensor' object has no attribute 'shpe'",
     "output_type": "error",
     "traceback": [
      "\u001b[1;31m---------------------------------------------------------------------------\u001b[0m",
      "\u001b[1;31mAttributeError\u001b[0m                            Traceback (most recent call last)",
      "Input \u001b[1;32mIn [13]\u001b[0m, in \u001b[0;36m<cell line: 1>\u001b[1;34m()\u001b[0m\n\u001b[1;32m----> 1\u001b[0m \u001b[43ma\u001b[49m\u001b[38;5;241;43m.\u001b[39;49m\u001b[43mshpe\u001b[49m\n",
      "\u001b[1;31mAttributeError\u001b[0m: 'Tensor' object has no attribute 'shpe'"
     ]
    }
   ],
   "source": [
    "a.shpe"
   ]
  },
  {
   "cell_type": "code",
   "execution_count": 14,
   "id": "df438fd4",
   "metadata": {},
   "outputs": [
    {
     "data": {
      "text/plain": [
       "torch.Size([4, 3])"
      ]
     },
     "execution_count": 14,
     "metadata": {},
     "output_type": "execute_result"
    }
   ],
   "source": [
    "a.shape"
   ]
  },
  {
   "cell_type": "code",
   "execution_count": 15,
   "id": "15cfbe93",
   "metadata": {},
   "outputs": [
    {
     "data": {
      "text/plain": [
       "tensor([[0.6558, 0.2387, 0.9801, 0.7122],\n",
       "        [0.5879, 0.4592, 0.3924, 0.0551],\n",
       "        [0.5975, 0.6408, 0.2622, 0.6018]])"
      ]
     },
     "execution_count": 15,
     "metadata": {},
     "output_type": "execute_result"
    }
   ],
   "source": [
    "torch.transpose(a,0,1)\n",
    "#transpose函数表示转置"
   ]
  },
  {
   "cell_type": "code",
   "execution_count": 16,
   "id": "25d58f44",
   "metadata": {},
   "outputs": [
    {
     "data": {
      "text/plain": [
       "tensor([[0.6558, 0.2387, 0.9801, 0.7122],\n",
       "        [0.5879, 0.4592, 0.3924, 0.0551],\n",
       "        [0.5975, 0.6408, 0.2622, 0.6018]])"
      ]
     },
     "execution_count": 16,
     "metadata": {},
     "output_type": "execute_result"
    }
   ],
   "source": [
    "torch.transpose(a,1,0)"
   ]
  },
  {
   "cell_type": "code",
   "execution_count": 17,
   "id": "2273a21f",
   "metadata": {},
   "outputs": [
    {
     "data": {
      "text/plain": [
       "(tensor([0.6558, 0.5879, 0.5975]),\n",
       " tensor([0.2387, 0.4592, 0.6408]),\n",
       " tensor([0.9801, 0.3924, 0.2622]),\n",
       " tensor([0.7122, 0.0551, 0.6018]))"
      ]
     },
     "execution_count": 17,
     "metadata": {},
     "output_type": "execute_result"
    }
   ],
   "source": [
    "torch.unbind(a,dim=0)\n",
    "#移除一个张量的维度"
   ]
  },
  {
   "cell_type": "code",
   "execution_count": 18,
   "id": "9c2b62c1",
   "metadata": {},
   "outputs": [
    {
     "data": {
      "text/plain": [
       "(tensor([0.6558, 0.2387, 0.9801, 0.7122]),\n",
       " tensor([0.5879, 0.4592, 0.3924, 0.0551]),\n",
       " tensor([0.5975, 0.6408, 0.2622, 0.6018]))"
      ]
     },
     "execution_count": 18,
     "metadata": {},
     "output_type": "execute_result"
    }
   ],
   "source": [
    "torch.unbind(a,dim=1)"
   ]
  },
  {
   "cell_type": "code",
   "execution_count": 19,
   "id": "d8077164",
   "metadata": {},
   "outputs": [],
   "source": [
    "a=torch.rand([2,3,4])"
   ]
  },
  {
   "cell_type": "code",
   "execution_count": 20,
   "id": "347d816f",
   "metadata": {},
   "outputs": [
    {
     "data": {
      "text/plain": [
       "tensor([[[0.8026, 0.3760, 0.1735, 0.0959],\n",
       "         [0.1108, 0.6290, 0.9216, 0.0573],\n",
       "         [0.8868, 0.9981, 0.2219, 0.3437]],\n",
       "\n",
       "        [[0.1745, 0.3882, 0.8840, 0.5017],\n",
       "         [0.7454, 0.9612, 0.3814, 0.9514],\n",
       "         [0.1164, 0.2655, 0.3132, 0.8007]]])"
      ]
     },
     "execution_count": 20,
     "metadata": {},
     "output_type": "execute_result"
    }
   ],
   "source": [
    "a"
   ]
  },
  {
   "cell_type": "code",
   "execution_count": 21,
   "id": "573be14d",
   "metadata": {},
   "outputs": [
    {
     "data": {
      "text/plain": [
       "(tensor([[0.8026, 0.3760, 0.1735, 0.0959],\n",
       "         [0.1108, 0.6290, 0.9216, 0.0573],\n",
       "         [0.8868, 0.9981, 0.2219, 0.3437]]),\n",
       " tensor([[0.1745, 0.3882, 0.8840, 0.5017],\n",
       "         [0.7454, 0.9612, 0.3814, 0.9514],\n",
       "         [0.1164, 0.2655, 0.3132, 0.8007]]))"
      ]
     },
     "execution_count": 21,
     "metadata": {},
     "output_type": "execute_result"
    }
   ],
   "source": [
    "torch.unbind(a,dim=0)"
   ]
  },
  {
   "cell_type": "code",
   "execution_count": 22,
   "id": "52cae4b8",
   "metadata": {},
   "outputs": [
    {
     "data": {
      "text/plain": [
       "(tensor([[0.8026, 0.3760, 0.1735, 0.0959],\n",
       "         [0.1745, 0.3882, 0.8840, 0.5017]]),\n",
       " tensor([[0.1108, 0.6290, 0.9216, 0.0573],\n",
       "         [0.7454, 0.9612, 0.3814, 0.9514]]),\n",
       " tensor([[0.8868, 0.9981, 0.2219, 0.3437],\n",
       "         [0.1164, 0.2655, 0.3132, 0.8007]]))"
      ]
     },
     "execution_count": 22,
     "metadata": {},
     "output_type": "execute_result"
    }
   ],
   "source": [
    "torch.unbind(a,dim=1)"
   ]
  },
  {
   "cell_type": "code",
   "execution_count": 23,
   "id": "01236d79",
   "metadata": {},
   "outputs": [
    {
     "data": {
      "text/plain": [
       "torch.Size([2, 3, 4])"
      ]
     },
     "execution_count": 23,
     "metadata": {},
     "output_type": "execute_result"
    }
   ],
   "source": [
    "a.shape"
   ]
  },
  {
   "cell_type": "code",
   "execution_count": 24,
   "id": "c01dbd85",
   "metadata": {},
   "outputs": [
    {
     "data": {
      "text/plain": [
       "tensor([[[[0.8026, 0.3760, 0.1735, 0.0959],\n",
       "          [0.1108, 0.6290, 0.9216, 0.0573],\n",
       "          [0.8868, 0.9981, 0.2219, 0.3437]],\n",
       "\n",
       "         [[0.1745, 0.3882, 0.8840, 0.5017],\n",
       "          [0.7454, 0.9612, 0.3814, 0.9514],\n",
       "          [0.1164, 0.2655, 0.3132, 0.8007]]]])"
      ]
     },
     "execution_count": 24,
     "metadata": {},
     "output_type": "execute_result"
    }
   ],
   "source": [
    "torch.unsqueeze(a,dim=0)"
   ]
  },
  {
   "cell_type": "code",
   "execution_count": 25,
   "id": "8f420a21",
   "metadata": {},
   "outputs": [
    {
     "data": {
      "text/plain": [
       "torch.Size([2, 3, 4])"
      ]
     },
     "execution_count": 25,
     "metadata": {},
     "output_type": "execute_result"
    }
   ],
   "source": [
    "a.shape"
   ]
  },
  {
   "cell_type": "code",
   "execution_count": 26,
   "id": "6ae5909b",
   "metadata": {},
   "outputs": [
    {
     "data": {
      "text/plain": [
       "torch.Size([1, 2, 3, 4])"
      ]
     },
     "execution_count": 26,
     "metadata": {},
     "output_type": "execute_result"
    }
   ],
   "source": [
    "torch.unsqueeze(a,dim=0).shape"
   ]
  },
  {
   "cell_type": "code",
   "execution_count": 27,
   "id": "32fcee19",
   "metadata": {},
   "outputs": [
    {
     "data": {
      "text/plain": [
       "torch.Size([2, 1, 3, 4])"
      ]
     },
     "execution_count": 27,
     "metadata": {},
     "output_type": "execute_result"
    }
   ],
   "source": [
    "torch.unsqueeze(a,dim=1).shape"
   ]
  },
  {
   "cell_type": "code",
   "execution_count": 28,
   "id": "6318dd40",
   "metadata": {},
   "outputs": [
    {
     "data": {
      "text/plain": [
       "torch.Size([2, 3, 4, 1])"
      ]
     },
     "execution_count": 28,
     "metadata": {},
     "output_type": "execute_result"
    }
   ],
   "source": [
    "torch.unsqueeze(a,dim=-1).shape"
   ]
  },
  {
   "cell_type": "code",
   "execution_count": 29,
   "id": "466e2b18",
   "metadata": {},
   "outputs": [],
   "source": [
    "a=torch.rand([2,2])"
   ]
  },
  {
   "cell_type": "code",
   "execution_count": 30,
   "id": "ffed16da",
   "metadata": {},
   "outputs": [
    {
     "data": {
      "text/plain": [
       "tensor([[0.9670, 0.8392],\n",
       "        [0.5464, 0.4876]])"
      ]
     },
     "execution_count": 30,
     "metadata": {},
     "output_type": "execute_result"
    }
   ],
   "source": [
    "a"
   ]
  },
  {
   "cell_type": "code",
   "execution_count": 31,
   "id": "78a1e551",
   "metadata": {},
   "outputs": [
    {
     "ename": "AttributeError",
     "evalue": "module 'torch' has no attribute 'zeros_likes'",
     "output_type": "error",
     "traceback": [
      "\u001b[1;31m---------------------------------------------------------------------------\u001b[0m",
      "\u001b[1;31mAttributeError\u001b[0m                            Traceback (most recent call last)",
      "Input \u001b[1;32mIn [31]\u001b[0m, in \u001b[0;36m<cell line: 1>\u001b[1;34m()\u001b[0m\n\u001b[1;32m----> 1\u001b[0m b\u001b[38;5;241m=\u001b[39m\u001b[43mtorch\u001b[49m\u001b[38;5;241;43m.\u001b[39;49m\u001b[43mzeros_likes\u001b[49m(a)\n",
      "\u001b[1;31mAttributeError\u001b[0m: module 'torch' has no attribute 'zeros_likes'"
     ]
    }
   ],
   "source": [
    "b=torch.zeros_likes(a)"
   ]
  },
  {
   "cell_type": "code",
   "execution_count": 32,
   "id": "21cb4b7c",
   "metadata": {},
   "outputs": [],
   "source": [
    "b=torch.zeros_like(a)"
   ]
  },
  {
   "cell_type": "code",
   "execution_count": 33,
   "id": "13ac64c5",
   "metadata": {},
   "outputs": [
    {
     "data": {
      "text/plain": [
       "tensor([[0., 0.],\n",
       "        [0., 0.]])"
      ]
     },
     "execution_count": 33,
     "metadata": {},
     "output_type": "execute_result"
    }
   ],
   "source": [
    "b"
   ]
  },
  {
   "cell_type": "code",
   "execution_count": 34,
   "id": "4375d855",
   "metadata": {},
   "outputs": [
    {
     "data": {
      "text/plain": [
       "tensor([[0.9670, 0.8392],\n",
       "        [0.5464, 0.0000]])"
      ]
     },
     "execution_count": 34,
     "metadata": {},
     "output_type": "execute_result"
    }
   ],
   "source": [
    "torch.where(a>0.5,a,b)\n",
    "#torch.where(condition,x,y)  判断语句，根据condition判断返回x还是y，成立的话返回x否则是返回y"
   ]
  },
  {
   "cell_type": "code",
   "execution_count": 35,
   "id": "1f855ebb",
   "metadata": {},
   "outputs": [
    {
     "data": {
      "text/plain": [
       "tensor([3, 2, 1, 0])"
      ]
     },
     "execution_count": 35,
     "metadata": {},
     "output_type": "execute_result"
    }
   ],
   "source": [
    "torch.randperm(4)"
   ]
  },
  {
   "cell_type": "code",
   "execution_count": null,
   "id": "d6c3fb2c",
   "metadata": {},
   "outputs": [],
   "source": []
  }
 ],
 "metadata": {
  "kernelspec": {
   "display_name": "Python 3 (ipykernel)",
   "language": "python",
   "name": "python3"
  },
  "language_info": {
   "codemirror_mode": {
    "name": "ipython",
    "version": 3
   },
   "file_extension": ".py",
   "mimetype": "text/x-python",
   "name": "python",
   "nbconvert_exporter": "python",
   "pygments_lexer": "ipython3",
   "version": "3.9.0"
  }
 },
 "nbformat": 4,
 "nbformat_minor": 5
}
