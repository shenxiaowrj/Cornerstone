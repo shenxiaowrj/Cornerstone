{
 "cells": [
  {
   "cell_type": "code",
   "execution_count": 1,
   "id": "da86d70c",
   "metadata": {},
   "outputs": [],
   "source": [
    "import pandas as pd\n",
    "import cv2\n",
    "from easydict import EasyDict\n",
    "import yaml\n",
    "\n",
    "import torch \n",
    "import torch.nn as nn\n",
    "from torch.optim import Adam,SGD,AdamW\n",
    "from torch.utils.data import Dataset,DataLoader,Subset\n",
    "from torch.nn import CrossEntropyLoss,NLLLoss\n",
    "\n",
    "import albumentations as A\n",
    "from albumentations.pytorch import ToTensorV2\n",
    "\n",
    "import timm\n",
    "import numpy as np\n",
    "\n",
    "import matplotlib.pyplot as plt\n",
    "%matplotlib inline"
   ]
  },
  {
   "cell_type": "markdown",
   "id": "a76c8d17",
   "metadata": {},
   "source": [
    "# Data"
   ]
  },
  {
   "cell_type": "code",
   "execution_count": 16,
   "id": "9f672c84",
   "metadata": {},
   "outputs": [
    {
     "name": "stdout",
     "output_type": "stream",
     "text": [
      " 驱动器 D 中的卷是 娱乐\n",
      " 卷的序列号是 6278-910F\n",
      "\n",
      " D:\\Python code\\digit-recognizer 的目录\n",
      "\n",
      "2022/07/26  14:11    <DIR>          .\n",
      "2022/07/26  14:11    <DIR>          ..\n",
      "2019/12/11  20:01           240,909 sample_submission.csv\n",
      "2019/12/11  20:01        51,118,296 test.csv\n",
      "2019/12/11  20:01        76,775,041 train.csv\n",
      "               3 个文件    128,134,246 字节\n",
      "               2 个目录 361,780,633,600 可用字节\n"
     ]
    }
   ],
   "source": [
    "ls digit-recognizer"
   ]
  },
  {
   "cell_type": "code",
   "execution_count": 3,
   "id": "46b9a37d",
   "metadata": {},
   "outputs": [],
   "source": [
    "train=pd.read_csv(\"./digit-recognizer/train.csv\")\n",
    "test=pd.read_csv(\"./digit-recognizer/test.csv\")\n",
    "submission=pd.read_csv(\"./digit-recognizer/sample_submission.csv\")"
   ]
  },
  {
   "cell_type": "code",
   "execution_count": 4,
   "id": "85fe73ac",
   "metadata": {},
   "outputs": [
    {
     "data": {
      "text/html": [
       "<div>\n",
       "<style scoped>\n",
       "    .dataframe tbody tr th:only-of-type {\n",
       "        vertical-align: middle;\n",
       "    }\n",
       "\n",
       "    .dataframe tbody tr th {\n",
       "        vertical-align: top;\n",
       "    }\n",
       "\n",
       "    .dataframe thead th {\n",
       "        text-align: right;\n",
       "    }\n",
       "</style>\n",
       "<table border=\"1\" class=\"dataframe\">\n",
       "  <thead>\n",
       "    <tr style=\"text-align: right;\">\n",
       "      <th></th>\n",
       "      <th>label</th>\n",
       "      <th>pixel0</th>\n",
       "      <th>pixel1</th>\n",
       "      <th>pixel2</th>\n",
       "      <th>pixel3</th>\n",
       "      <th>pixel4</th>\n",
       "      <th>pixel5</th>\n",
       "      <th>pixel6</th>\n",
       "      <th>pixel7</th>\n",
       "      <th>pixel8</th>\n",
       "      <th>...</th>\n",
       "      <th>pixel774</th>\n",
       "      <th>pixel775</th>\n",
       "      <th>pixel776</th>\n",
       "      <th>pixel777</th>\n",
       "      <th>pixel778</th>\n",
       "      <th>pixel779</th>\n",
       "      <th>pixel780</th>\n",
       "      <th>pixel781</th>\n",
       "      <th>pixel782</th>\n",
       "      <th>pixel783</th>\n",
       "    </tr>\n",
       "  </thead>\n",
       "  <tbody>\n",
       "    <tr>\n",
       "      <th>0</th>\n",
       "      <td>1</td>\n",
       "      <td>0</td>\n",
       "      <td>0</td>\n",
       "      <td>0</td>\n",
       "      <td>0</td>\n",
       "      <td>0</td>\n",
       "      <td>0</td>\n",
       "      <td>0</td>\n",
       "      <td>0</td>\n",
       "      <td>0</td>\n",
       "      <td>...</td>\n",
       "      <td>0</td>\n",
       "      <td>0</td>\n",
       "      <td>0</td>\n",
       "      <td>0</td>\n",
       "      <td>0</td>\n",
       "      <td>0</td>\n",
       "      <td>0</td>\n",
       "      <td>0</td>\n",
       "      <td>0</td>\n",
       "      <td>0</td>\n",
       "    </tr>\n",
       "    <tr>\n",
       "      <th>1</th>\n",
       "      <td>0</td>\n",
       "      <td>0</td>\n",
       "      <td>0</td>\n",
       "      <td>0</td>\n",
       "      <td>0</td>\n",
       "      <td>0</td>\n",
       "      <td>0</td>\n",
       "      <td>0</td>\n",
       "      <td>0</td>\n",
       "      <td>0</td>\n",
       "      <td>...</td>\n",
       "      <td>0</td>\n",
       "      <td>0</td>\n",
       "      <td>0</td>\n",
       "      <td>0</td>\n",
       "      <td>0</td>\n",
       "      <td>0</td>\n",
       "      <td>0</td>\n",
       "      <td>0</td>\n",
       "      <td>0</td>\n",
       "      <td>0</td>\n",
       "    </tr>\n",
       "  </tbody>\n",
       "</table>\n",
       "<p>2 rows × 785 columns</p>\n",
       "</div>"
      ],
      "text/plain": [
       "   label  pixel0  pixel1  pixel2  pixel3  pixel4  pixel5  pixel6  pixel7  \\\n",
       "0      1       0       0       0       0       0       0       0       0   \n",
       "1      0       0       0       0       0       0       0       0       0   \n",
       "\n",
       "   pixel8  ...  pixel774  pixel775  pixel776  pixel777  pixel778  pixel779  \\\n",
       "0       0  ...         0         0         0         0         0         0   \n",
       "1       0  ...         0         0         0         0         0         0   \n",
       "\n",
       "   pixel780  pixel781  pixel782  pixel783  \n",
       "0         0         0         0         0  \n",
       "1         0         0         0         0  \n",
       "\n",
       "[2 rows x 785 columns]"
      ]
     },
     "execution_count": 4,
     "metadata": {},
     "output_type": "execute_result"
    }
   ],
   "source": [
    "train.head(2)"
   ]
  },
  {
   "cell_type": "code",
   "execution_count": 5,
   "id": "da1743b4",
   "metadata": {},
   "outputs": [
    {
     "data": {
      "text/plain": [
       "<matplotlib.image.AxesImage at 0x2e7fb3c68e0>"
      ]
     },
     "execution_count": 5,
     "metadata": {},
     "output_type": "execute_result"
    },
    {
     "data": {
      "image/png": "[encoded data removed]",
      "text/plain": [
       "<Figure size 432x288 with 1 Axes>"
      ]
     },
     "metadata": {
      "needs_background": "light"
     },
     "output_type": "display_data"
    }
   ],
   "source": [
    "plt.imshow(train.iloc[0,1:].values.reshape(28,28))"
   ]
  },
  {
   "cell_type": "code",
   "execution_count": 6,
   "id": "de7c5425",
   "metadata": {},
   "outputs": [
    {
     "data": {
      "text/html": [
       "<div>\n",
       "<style scoped>\n",
       "    .dataframe tbody tr th:only-of-type {\n",
       "        vertical-align: middle;\n",
       "    }\n",
       "\n",
       "    .dataframe tbody tr th {\n",
       "        vertical-align: top;\n",
       "    }\n",
       "\n",
       "    .dataframe thead th {\n",
       "        text-align: right;\n",
       "    }\n",
       "</style>\n",
       "<table border=\"1\" class=\"dataframe\">\n",
       "  <thead>\n",
       "    <tr style=\"text-align: right;\">\n",
       "      <th></th>\n",
       "      <th>pixel0</th>\n",
       "      <th>pixel1</th>\n",
       "      <th>pixel2</th>\n",
       "      <th>pixel3</th>\n",
       "      <th>pixel4</th>\n",
       "      <th>pixel5</th>\n",
       "      <th>pixel6</th>\n",
       "      <th>pixel7</th>\n",
       "      <th>pixel8</th>\n",
       "      <th>pixel9</th>\n",
       "      <th>...</th>\n",
       "      <th>pixel774</th>\n",
       "      <th>pixel775</th>\n",
       "      <th>pixel776</th>\n",
       "      <th>pixel777</th>\n",
       "      <th>pixel778</th>\n",
       "      <th>pixel779</th>\n",
       "      <th>pixel780</th>\n",
       "      <th>pixel781</th>\n",
       "      <th>pixel782</th>\n",
       "      <th>pixel783</th>\n",
       "    </tr>\n",
       "  </thead>\n",
       "  <tbody>\n",
       "    <tr>\n",
       "      <th>0</th>\n",
       "      <td>0</td>\n",
       "      <td>0</td>\n",
       "      <td>0</td>\n",
       "      <td>0</td>\n",
       "      <td>0</td>\n",
       "      <td>0</td>\n",
       "      <td>0</td>\n",
       "      <td>0</td>\n",
       "      <td>0</td>\n",
       "      <td>0</td>\n",
       "      <td>...</td>\n",
       "      <td>0</td>\n",
       "      <td>0</td>\n",
       "      <td>0</td>\n",
       "      <td>0</td>\n",
       "      <td>0</td>\n",
       "      <td>0</td>\n",
       "      <td>0</td>\n",
       "      <td>0</td>\n",
       "      <td>0</td>\n",
       "      <td>0</td>\n",
       "    </tr>\n",
       "    <tr>\n",
       "      <th>1</th>\n",
       "      <td>0</td>\n",
       "      <td>0</td>\n",
       "      <td>0</td>\n",
       "      <td>0</td>\n",
       "      <td>0</td>\n",
       "      <td>0</td>\n",
       "      <td>0</td>\n",
       "      <td>0</td>\n",
       "      <td>0</td>\n",
       "      <td>0</td>\n",
       "      <td>...</td>\n",
       "      <td>0</td>\n",
       "      <td>0</td>\n",
       "      <td>0</td>\n",
       "      <td>0</td>\n",
       "      <td>0</td>\n",
       "      <td>0</td>\n",
       "      <td>0</td>\n",
       "      <td>0</td>\n",
       "      <td>0</td>\n",
       "      <td>0</td>\n",
       "    </tr>\n",
       "    <tr>\n",
       "      <th>2</th>\n",
       "      <td>0</td>\n",
       "      <td>0</td>\n",
       "      <td>0</td>\n",
       "      <td>0</td>\n",
       "      <td>0</td>\n",
       "      <td>0</td>\n",
       "      <td>0</td>\n",
       "      <td>0</td>\n",
       "      <td>0</td>\n",
       "      <td>0</td>\n",
       "      <td>...</td>\n",
       "      <td>0</td>\n",
       "      <td>0</td>\n",
       "      <td>0</td>\n",
       "      <td>0</td>\n",
       "      <td>0</td>\n",
       "      <td>0</td>\n",
       "      <td>0</td>\n",
       "      <td>0</td>\n",
       "      <td>0</td>\n",
       "      <td>0</td>\n",
       "    </tr>\n",
       "    <tr>\n",
       "      <th>3</th>\n",
       "      <td>0</td>\n",
       "      <td>0</td>\n",
       "      <td>0</td>\n",
       "      <td>0</td>\n",
       "      <td>0</td>\n",
       "      <td>0</td>\n",
       "      <td>0</td>\n",
       "      <td>0</td>\n",
       "      <td>0</td>\n",
       "      <td>0</td>\n",
       "      <td>...</td>\n",
       "      <td>0</td>\n",
       "      <td>0</td>\n",
       "      <td>0</td>\n",
       "      <td>0</td>\n",
       "      <td>0</td>\n",
       "      <td>0</td>\n",
       "      <td>0</td>\n",
       "      <td>0</td>\n",
       "      <td>0</td>\n",
       "      <td>0</td>\n",
       "    </tr>\n",
       "    <tr>\n",
       "      <th>4</th>\n",
       "      <td>0</td>\n",
       "      <td>0</td>\n",
       "      <td>0</td>\n",
       "      <td>0</td>\n",
       "      <td>0</td>\n",
       "      <td>0</td>\n",
       "      <td>0</td>\n",
       "      <td>0</td>\n",
       "      <td>0</td>\n",
       "      <td>0</td>\n",
       "      <td>...</td>\n",
       "      <td>0</td>\n",
       "      <td>0</td>\n",
       "      <td>0</td>\n",
       "      <td>0</td>\n",
       "      <td>0</td>\n",
       "      <td>0</td>\n",
       "      <td>0</td>\n",
       "      <td>0</td>\n",
       "      <td>0</td>\n",
       "      <td>0</td>\n",
       "    </tr>\n",
       "  </tbody>\n",
       "</table>\n",
       "<p>5 rows × 784 columns</p>\n",
       "</div>"
      ],
      "text/plain": [
       "   pixel0  pixel1  pixel2  pixel3  pixel4  pixel5  pixel6  pixel7  pixel8  \\\n",
       "0       0       0       0       0       0       0       0       0       0   \n",
       "1       0       0       0       0       0       0       0       0       0   \n",
       "2       0       0       0       0       0       0       0       0       0   \n",
       "3       0       0       0       0       0       0       0       0       0   \n",
       "4       0       0       0       0       0       0       0       0       0   \n",
       "\n",
       "   pixel9  ...  pixel774  pixel775  pixel776  pixel777  pixel778  pixel779  \\\n",
       "0       0  ...         0         0         0         0         0         0   \n",
       "1       0  ...         0         0         0         0         0         0   \n",
       "2       0  ...         0         0         0         0         0         0   \n",
       "3       0  ...         0         0         0         0         0         0   \n",
       "4       0  ...         0         0         0         0         0         0   \n",
       "\n",
       "   pixel780  pixel781  pixel782  pixel783  \n",
       "0         0         0         0         0  \n",
       "1         0         0         0         0  \n",
       "2         0         0         0         0  \n",
       "3         0         0         0         0  \n",
       "4         0         0         0         0  \n",
       "\n",
       "[5 rows x 784 columns]"
      ]
     },
     "execution_count": 6,
     "metadata": {},
     "output_type": "execute_result"
    }
   ],
   "source": [
    "test.head()"
   ]
  },
  {
   "cell_type": "code",
   "execution_count": 7,
   "id": "16989511",
   "metadata": {},
   "outputs": [
    {
     "data": {
      "text/html": [
       "<div>\n",
       "<style scoped>\n",
       "    .dataframe tbody tr th:only-of-type {\n",
       "        vertical-align: middle;\n",
       "    }\n",
       "\n",
       "    .dataframe tbody tr th {\n",
       "        vertical-align: top;\n",
       "    }\n",
       "\n",
       "    .dataframe thead th {\n",
       "        text-align: right;\n",
       "    }\n",
       "</style>\n",
       "<table border=\"1\" class=\"dataframe\">\n",
       "  <thead>\n",
       "    <tr style=\"text-align: right;\">\n",
       "      <th></th>\n",
       "      <th>ImageId</th>\n",
       "      <th>Label</th>\n",
       "    </tr>\n",
       "  </thead>\n",
       "  <tbody>\n",
       "    <tr>\n",
       "      <th>0</th>\n",
       "      <td>1</td>\n",
       "      <td>0</td>\n",
       "    </tr>\n",
       "    <tr>\n",
       "      <th>1</th>\n",
       "      <td>2</td>\n",
       "      <td>0</td>\n",
       "    </tr>\n",
       "    <tr>\n",
       "      <th>2</th>\n",
       "      <td>3</td>\n",
       "      <td>0</td>\n",
       "    </tr>\n",
       "    <tr>\n",
       "      <th>3</th>\n",
       "      <td>4</td>\n",
       "      <td>0</td>\n",
       "    </tr>\n",
       "    <tr>\n",
       "      <th>4</th>\n",
       "      <td>5</td>\n",
       "      <td>0</td>\n",
       "    </tr>\n",
       "  </tbody>\n",
       "</table>\n",
       "</div>"
      ],
      "text/plain": [
       "   ImageId  Label\n",
       "0        1      0\n",
       "1        2      0\n",
       "2        3      0\n",
       "3        4      0\n",
       "4        5      0"
      ]
     },
     "execution_count": 7,
     "metadata": {},
     "output_type": "execute_result"
    }
   ],
   "source": [
    "submission.head()"
   ]
  },
  {
   "cell_type": "code",
   "execution_count": 8,
   "id": "dbd46f16",
   "metadata": {},
   "outputs": [],
   "source": [
    "train_images=train.iloc[:,1:].values.reshape(-1,28,28)\n",
    "train_labels=train.iloc[:,0].values\n",
    "test_images=test.values.reshape(-1,28,28)"
   ]
  },
  {
   "cell_type": "code",
   "execution_count": 9,
   "id": "5a9f7ed2",
   "metadata": {},
   "outputs": [
    {
     "data": {
      "text/plain": [
       "(42000, 28, 28)"
      ]
     },
     "execution_count": 9,
     "metadata": {},
     "output_type": "execute_result"
    }
   ],
   "source": [
    "train_images.shape"
   ]
  },
  {
   "cell_type": "code",
   "execution_count": 10,
   "id": "36d54c38",
   "metadata": {},
   "outputs": [
    {
     "data": {
      "text/plain": [
       "{0, 1, 2, 3, 4, 5, 6, 7, 8, 9}"
      ]
     },
     "execution_count": 10,
     "metadata": {},
     "output_type": "execute_result"
    }
   ],
   "source": [
    "set(train_labels)"
   ]
  },
  {
   "cell_type": "code",
   "execution_count": 11,
   "id": "2e19dae9",
   "metadata": {},
   "outputs": [
    {
     "data": {
      "text/plain": [
       "True"
      ]
     },
     "execution_count": 11,
     "metadata": {},
     "output_type": "execute_result"
    }
   ],
   "source": [
    "len(train_labels)==len(train_images)"
   ]
  },
  {
   "cell_type": "code",
   "execution_count": 12,
   "id": "46a4fefd",
   "metadata": {},
   "outputs": [
    {
     "data": {
      "text/plain": [
       "(28000, 28, 28)"
      ]
     },
     "execution_count": 12,
     "metadata": {},
     "output_type": "execute_result"
    }
   ],
   "source": [
    "test_images.shape"
   ]
  },
  {
   "cell_type": "code",
   "execution_count": 13,
   "id": "b40c38a5",
   "metadata": {},
   "outputs": [
    {
     "data": {
      "text/plain": [
       "0.13101533792088266"
      ]
     },
     "execution_count": 13,
     "metadata": {},
     "output_type": "execute_result"
    }
   ],
   "source": [
    "train_images.mean()/255"
   ]
  },
  {
   "cell_type": "code",
   "execution_count": 14,
   "id": "9adffd65",
   "metadata": {},
   "outputs": [
    {
     "data": {
      "text/plain": [
       "0.3085401559245608"
      ]
     },
     "execution_count": 14,
     "metadata": {},
     "output_type": "execute_result"
    }
   ],
   "source": [
    "train_images.std()/255"
   ]
  },
  {
   "cell_type": "code",
   "execution_count": 15,
   "id": "456e03af",
   "metadata": {},
   "outputs": [
    {
     "data": {
      "text/plain": [
       "255"
      ]
     },
     "execution_count": 15,
     "metadata": {},
     "output_type": "execute_result"
    }
   ],
   "source": [
    "train_images.max()"
   ]
  },
  {
   "cell_type": "markdown",
   "id": "50449a58",
   "metadata": {},
   "source": [
    "# Image Augmentation\n",
    "一般分为以下步骤\n",
    "1.图片增强\n",
    "2.图片尺寸\n",
    "3.标准化\n",
    "4.匹配到模型input format"
   ]
  },
  {
   "cell_type": "code",
   "execution_count": 17,
   "id": "bbf032e6",
   "metadata": {},
   "outputs": [],
   "source": [
    "def get_transform(image_size,train=True):\n",
    "    if train:\n",
    "        return A.Compose([\n",
    "            #A.RandomCrop(width=22,height=22),\n",
    "            A.HorizontalFlip(p=0.5),\n",
    "            A.VerticalFlip(p=0.5),\n",
    "            A.RandomBrightnessContrast(p=0.2),\n",
    "            A.Resize(*image_size,interpolation=cv2.INTER_LANCZOS4),\n",
    "            A.Normalize(0.1310,0.30854),\n",
    "            ToTensorV2(),\n",
    "        ])\n",
    "    else:\n",
    "        return A.Compose([ \n",
    "            A.Resize(*image_size,interpolation=cv2.INTER_LANCZOS4),\n",
    "            A.Normalize(0.1310,0.30854),\n",
    "            ToTensorV2(),\n",
    "        ])"
   ]
  },
  {
   "cell_type": "code",
   "execution_count": 18,
   "id": "397a47d6",
   "metadata": {},
   "outputs": [],
   "source": [
    "train_transform=get_transform((28,28),True)"
   ]
  },
  {
   "cell_type": "code",
   "execution_count": 19,
   "id": "e40f971f",
   "metadata": {},
   "outputs": [
    {
     "data": {
      "text/plain": [
       "{'image': tensor([[[-0.4246, -0.4246, -0.4246, -0.4246, -0.4246, -0.4246, -0.4246,\n",
       "           -0.4246, -0.4246, -0.4246, -0.4246, -0.4246, -0.4246, -0.4246,\n",
       "           -0.4246, -0.4246, -0.4246, -0.4246, -0.4246, -0.4246, -0.4246,\n",
       "           -0.4246, -0.4246, -0.4246, -0.4246, -0.4246, -0.4246, -0.4246],\n",
       "          [-0.4246, -0.4246, -0.4246, -0.4246, -0.4246, -0.4246, -0.4246,\n",
       "           -0.4246, -0.4246, -0.4246, -0.4246, -0.4246, -0.4246, -0.4246,\n",
       "           -0.4246, -0.4246, -0.4246, -0.4246, -0.4246, -0.4246, -0.4246,\n",
       "           -0.4246, -0.4246, -0.4246, -0.4246, -0.4246, -0.4246, -0.4246],\n",
       "          [-0.4246, -0.4246, -0.4246, -0.4246, -0.4246, -0.4246, -0.4246,\n",
       "           -0.4246, -0.4246, -0.4246, -0.4246, -0.4246, -0.4246, -0.4246,\n",
       "           -0.4246, -0.4246, -0.4246, -0.4246, -0.4246, -0.4246, -0.4246,\n",
       "           -0.4246, -0.4246, -0.4246, -0.4246, -0.4246, -0.4246, -0.4246],\n",
       "          [-0.4246, -0.4246, -0.4246, -0.4246, -0.4246, -0.4246, -0.4246,\n",
       "           -0.4246, -0.4246, -0.4246, -0.4246, -0.4246, -0.4246, -0.4246,\n",
       "           -0.4246, -0.4246, -0.4246, -0.4246, -0.4246, -0.4246, -0.4246,\n",
       "           -0.4246, -0.4246, -0.4246, -0.4246, -0.4246, -0.4246, -0.4246],\n",
       "          [-0.4246, -0.4246, -0.4246, -0.4246, -0.4246, -0.4246, -0.4246,\n",
       "           -0.4246,  2.2954,  2.3462,  0.7829, -0.4246, -0.4246, -0.4246,\n",
       "           -0.4246, -0.4246, -0.4246, -0.4246, -0.4246, -0.4246, -0.4246,\n",
       "           -0.4246, -0.4246, -0.4246, -0.4246, -0.4246, -0.4246, -0.4246],\n",
       "          [-0.4246, -0.4246, -0.4246, -0.4246, -0.4246, -0.4246, -0.4246,\n",
       "            0.7066,  2.7657,  2.7911,  2.7529,  1.2404, -0.4246, -0.4246,\n",
       "           -0.4246, -0.4246, -0.4246, -0.4246, -0.4246, -0.4246, -0.4246,\n",
       "           -0.4246, -0.4246, -0.4246, -0.4246, -0.4246, -0.4246, -0.4246],\n",
       "          [-0.4246, -0.4246, -0.4246, -0.4246, -0.4246, -0.4246, -0.4246,\n",
       "            0.7702,  2.7911,  2.7911,  2.7911,  0.7702, -0.4246, -0.4246,\n",
       "           -0.4246, -0.4246, -0.4246, -0.4246, -0.4246, -0.4246, -0.4246,\n",
       "           -0.4246, -0.4246, -0.4246, -0.4246, -0.4246, -0.4246, -0.4246],\n",
       "          [-0.4246, -0.4246, -0.4246, -0.4246, -0.4246, -0.4246, -0.4246,\n",
       "           -0.2339,  2.3716,  2.7911,  2.7911,  0.5922, -0.4246, -0.4246,\n",
       "           -0.4246, -0.4246, -0.4246, -0.4246, -0.4246, -0.4246, -0.4246,\n",
       "           -0.4246, -0.4246, -0.4246, -0.4246, -0.4246, -0.4246, -0.4246],\n",
       "          [-0.4246, -0.4246, -0.4246, -0.4246, -0.4246, -0.4246, -0.4246,\n",
       "           -0.4246,  0.7066,  2.6258,  2.7911,  2.0539, -0.1068, -0.4246,\n",
       "           -0.4246, -0.4246, -0.4246, -0.4246, -0.4246, -0.4246, -0.4246,\n",
       "           -0.4246, -0.4246, -0.4246, -0.4246, -0.4246, -0.4246, -0.4246],\n",
       "          [-0.4246, -0.4246, -0.4246, -0.4246, -0.4246, -0.4246, -0.4246,\n",
       "           -0.4246, -0.4246,  0.8846,  2.7911,  2.7911,  2.0030, -0.4246,\n",
       "           -0.4246, -0.4246, -0.4246, -0.4246, -0.4246, -0.4246, -0.4246,\n",
       "           -0.4246, -0.4246, -0.4246, -0.4246, -0.4246, -0.4246, -0.4246],\n",
       "          [-0.4246, -0.4246, -0.4246, -0.4246, -0.4246, -0.4246, -0.4246,\n",
       "           -0.4246, -0.4246, -0.1450,  1.9649,  2.7911,  2.6894,  0.7575,\n",
       "           -0.4246, -0.4246, -0.4246, -0.4246, -0.4246, -0.4246, -0.4246,\n",
       "           -0.4246, -0.4246, -0.4246, -0.4246, -0.4246, -0.4246, -0.4246],\n",
       "          [-0.4246, -0.4246, -0.4246, -0.4246, -0.4246, -0.4246, -0.4246,\n",
       "           -0.4246, -0.4246, -0.4246, -0.1704,  2.1556,  2.7911,  2.7275,\n",
       "            0.5414, -0.4246, -0.4246, -0.4246, -0.4246, -0.4246, -0.4246,\n",
       "           -0.4246, -0.4246, -0.4246, -0.4246, -0.4246, -0.4246, -0.4246],\n",
       "          [-0.4246, -0.4246, -0.4246, -0.4246, -0.4246, -0.4246, -0.4246,\n",
       "           -0.4246, -0.4246, -0.4246, -0.4246,  1.7107,  2.7911,  2.7911,\n",
       "            2.0666, -0.3356, -0.4246, -0.4246, -0.4246, -0.4246, -0.4246,\n",
       "           -0.4246, -0.4246, -0.4246, -0.4246, -0.4246, -0.4246, -0.4246],\n",
       "          [-0.4246, -0.4246, -0.4246, -0.4246, -0.4246, -0.4246, -0.4246,\n",
       "           -0.4246, -0.4246, -0.4246, -0.4246, -0.1704,  2.1937,  2.8038,\n",
       "            2.8038,  2.0920, -0.3356, -0.4246, -0.4246, -0.4246, -0.4246,\n",
       "           -0.4246, -0.4246, -0.4246, -0.4246, -0.4246, -0.4246, -0.4246],\n",
       "          [-0.4246, -0.4246, -0.4246, -0.4246, -0.4246, -0.4246, -0.4246,\n",
       "           -0.4246, -0.4246, -0.4246, -0.4246, -0.4246, -0.0814,  2.7911,\n",
       "            2.7911,  2.8038, -0.2593, -0.4246, -0.4246, -0.4246, -0.4246,\n",
       "           -0.4246, -0.4246, -0.4246, -0.4246, -0.4246, -0.4246, -0.4246],\n",
       "          [-0.4246, -0.4246, -0.4246, -0.4246, -0.4246, -0.4246, -0.4246,\n",
       "           -0.4246, -0.4246, -0.4246, -0.4246, -0.4246, -0.2212,  2.2318,\n",
       "            2.7911,  2.8038,  2.6258,  0.6049, -0.4246, -0.4246, -0.4246,\n",
       "           -0.4246, -0.4246, -0.4246, -0.4246, -0.4246, -0.4246, -0.4246],\n",
       "          [-0.4246, -0.4246, -0.4246, -0.4246, -0.4246, -0.4246, -0.4246,\n",
       "           -0.4246, -0.4246, -0.4246, -0.4246, -0.4246, -0.4246, -0.1322,\n",
       "            2.2445,  2.8038,  2.7911,  1.5963, -0.4246, -0.4246, -0.4246,\n",
       "           -0.4246, -0.4246, -0.4246, -0.4246, -0.4246, -0.4246, -0.4246],\n",
       "          [-0.4246, -0.4246, -0.4246, -0.4246, -0.4246, -0.4246, -0.4246,\n",
       "           -0.4246, -0.4246, -0.4246, -0.4246, -0.4246, -0.4246, -0.4246,\n",
       "            0.7575,  2.8038,  2.7911,  2.6004,  1.7361, -0.2085, -0.4246,\n",
       "           -0.4246, -0.4246, -0.4246, -0.4246, -0.4246, -0.4246, -0.4246],\n",
       "          [-0.4246, -0.4246, -0.4246, -0.4246, -0.4246, -0.4246, -0.4246,\n",
       "           -0.4246, -0.4246, -0.4246, -0.4246, -0.4246, -0.4246, -0.4246,\n",
       "           -0.4246,  0.2618,  2.2318,  2.7911,  2.7911,  0.6939, -0.4246,\n",
       "           -0.4246, -0.4246, -0.4246, -0.4246, -0.4246, -0.4246, -0.4246],\n",
       "          [-0.4246, -0.4246, -0.4246, -0.4246, -0.4246, -0.4246, -0.4246,\n",
       "           -0.4246, -0.4246, -0.4246, -0.4246, -0.4246, -0.4246, -0.4246,\n",
       "           -0.4246, -0.4246, -0.0560,  2.2064,  2.7911,  2.5623,  0.5541,\n",
       "           -0.4246, -0.4246, -0.4246, -0.4246, -0.4246, -0.4246, -0.4246],\n",
       "          [-0.4246, -0.4246, -0.4246, -0.4246, -0.4246, -0.4246, -0.4246,\n",
       "           -0.4246, -0.4246, -0.4246, -0.4246, -0.4246, -0.4246, -0.4246,\n",
       "           -0.4246, -0.4246, -0.4246,  0.5922,  2.7148,  2.7911,  2.2191,\n",
       "           -0.2593, -0.4246, -0.4246, -0.4246, -0.4246, -0.4246, -0.4246],\n",
       "          [-0.4246, -0.4246, -0.4246, -0.4246, -0.4246, -0.4246, -0.4246,\n",
       "           -0.4246, -0.4246, -0.4246, -0.4246, -0.4246, -0.4246, -0.4246,\n",
       "           -0.4246, -0.4246, -0.4246, -0.4246,  1.1388,  2.7275,  2.7911,\n",
       "            1.6980, -0.2975, -0.4246, -0.4246, -0.4246, -0.4246, -0.4246],\n",
       "          [-0.4246, -0.4246, -0.4246, -0.4246, -0.4246, -0.4246, -0.4246,\n",
       "           -0.4246, -0.4246, -0.4246, -0.4246, -0.4246, -0.4246, -0.4246,\n",
       "           -0.4246, -0.4246, -0.4246, -0.4246, -0.4246,  2.0030,  2.7529,\n",
       "            2.7911,  0.7575, -0.4246, -0.4246, -0.4246, -0.4246, -0.4246],\n",
       "          [-0.4246, -0.4246, -0.4246, -0.4246, -0.4246, -0.4246, -0.4246,\n",
       "           -0.4246, -0.4246, -0.4246, -0.4246, -0.4246, -0.4246, -0.4246,\n",
       "           -0.4246, -0.4246, -0.4246, -0.4246, -0.4246, -0.4246,  1.9649,\n",
       "            2.8165,  0.7702, -0.4246, -0.4246, -0.4246, -0.4246, -0.4246],\n",
       "          [-0.4246, -0.4246, -0.4246, -0.4246, -0.4246, -0.4246, -0.4246,\n",
       "           -0.4246, -0.4246, -0.4246, -0.4246, -0.4246, -0.4246, -0.4246,\n",
       "           -0.4246, -0.4246, -0.4246, -0.4246, -0.4246, -0.4246, -0.4246,\n",
       "           -0.4246, -0.4246, -0.4246, -0.4246, -0.4246, -0.4246, -0.4246],\n",
       "          [-0.4246, -0.4246, -0.4246, -0.4246, -0.4246, -0.4246, -0.4246,\n",
       "           -0.4246, -0.4246, -0.4246, -0.4246, -0.4246, -0.4246, -0.4246,\n",
       "           -0.4246, -0.4246, -0.4246, -0.4246, -0.4246, -0.4246, -0.4246,\n",
       "           -0.4246, -0.4246, -0.4246, -0.4246, -0.4246, -0.4246, -0.4246],\n",
       "          [-0.4246, -0.4246, -0.4246, -0.4246, -0.4246, -0.4246, -0.4246,\n",
       "           -0.4246, -0.4246, -0.4246, -0.4246, -0.4246, -0.4246, -0.4246,\n",
       "           -0.4246, -0.4246, -0.4246, -0.4246, -0.4246, -0.4246, -0.4246,\n",
       "           -0.4246, -0.4246, -0.4246, -0.4246, -0.4246, -0.4246, -0.4246],\n",
       "          [-0.4246, -0.4246, -0.4246, -0.4246, -0.4246, -0.4246, -0.4246,\n",
       "           -0.4246, -0.4246, -0.4246, -0.4246, -0.4246, -0.4246, -0.4246,\n",
       "           -0.4246, -0.4246, -0.4246, -0.4246, -0.4246, -0.4246, -0.4246,\n",
       "           -0.4246, -0.4246, -0.4246, -0.4246, -0.4246, -0.4246, -0.4246]]])}"
      ]
     },
     "execution_count": 19,
     "metadata": {},
     "output_type": "execute_result"
    }
   ],
   "source": [
    "train_transform(image=train_images[0])"
   ]
  },
  {
   "cell_type": "code",
   "execution_count": 20,
   "id": "4dc2ea34",
   "metadata": {},
   "outputs": [],
   "source": [
    "output=train_transform(image=train_images[0])"
   ]
  },
  {
   "cell_type": "code",
   "execution_count": 21,
   "id": "7477cdb7",
   "metadata": {},
   "outputs": [
    {
     "data": {
      "text/plain": [
       "tensor(-0.1547)"
      ]
     },
     "execution_count": 21,
     "metadata": {},
     "output_type": "execute_result"
    }
   ],
   "source": [
    "output['image'].mean()"
   ]
  },
  {
   "cell_type": "code",
   "execution_count": 22,
   "id": "47ddc4f5",
   "metadata": {},
   "outputs": [
    {
     "data": {
      "text/plain": [
       "tensor(0.8218)"
      ]
     },
     "execution_count": 22,
     "metadata": {},
     "output_type": "execute_result"
    }
   ],
   "source": [
    "output['image'].std()"
   ]
  },
  {
   "cell_type": "code",
   "execution_count": 23,
   "id": "6895a376",
   "metadata": {},
   "outputs": [
    {
     "data": {
      "text/plain": [
       "<matplotlib.image.AxesImage at 0x2e7fb36f9d0>"
      ]
     },
     "execution_count": 23,
     "metadata": {},
     "output_type": "execute_result"
    },
    {
     "data": {
      "image/png": "[encoded data removed]",
      "text/plain": [
       "<Figure size 432x288 with 1 Axes>"
      ]
     },
     "metadata": {
      "needs_background": "light"
     },
     "output_type": "display_data"
    }
   ],
   "source": [
    "plt.imshow(output['image'].squeeze().numpy())"
   ]
  },
  {
   "cell_type": "markdown",
   "id": "c538f8be",
   "metadata": {},
   "source": [
    "# Dataset"
   ]
  },
  {
   "cell_type": "code",
   "execution_count": 24,
   "id": "143cc793",
   "metadata": {},
   "outputs": [],
   "source": [
    "class MiniDataSet(Dataset):\n",
    "    def __init__(self,images,labels=None,transform=None):\n",
    "        self.images=images.astype(\"float32\")\n",
    "        self.labels=labels\n",
    "        self.transform=transform\n",
    "    def __len__(self):\n",
    "        return len(self.images)\n",
    "    def __getitem__(self,idx):\n",
    "        ret={}\n",
    "        img=self.images[idx]\n",
    "        if self.transform is not None:\n",
    "            img=self.transform(image=img)[\"image\"]\n",
    "        ret[\"image\"]=img\n",
    "        if self.labels is not None:\n",
    "            ret[\"label\"]=self.labels[idx]\n",
    "        return ret"
   ]
  },
  {
   "cell_type": "code",
   "execution_count": 25,
   "id": "4386fa8b",
   "metadata": {},
   "outputs": [],
   "source": [
    "ds=MiniDataSet(train_images,train_labels,get_transform((28,28),True))"
   ]
  },
  {
   "cell_type": "code",
   "execution_count": 26,
   "id": "5c882a7c",
   "metadata": {},
   "outputs": [
    {
     "data": {
      "text/plain": [
       "{'image': tensor([[[-0.4246, -0.4246, -0.4246, -0.4246, -0.4246, -0.4246, -0.4246,\n",
       "           -0.4246, -0.4246, -0.4246, -0.4246, -0.4246, -0.4246, -0.4246,\n",
       "           -0.4246, -0.4246, -0.4246, -0.4246, -0.4246, -0.4246, -0.4246,\n",
       "           -0.4246, -0.4246, -0.4246, -0.4246, -0.4246, -0.4246, -0.4246],\n",
       "          [-0.4246, -0.4246, -0.4246, -0.4246, -0.4246, -0.4246, -0.4246,\n",
       "           -0.4246, -0.4246, -0.4246, -0.4246, -0.4246, -0.4246, -0.4246,\n",
       "           -0.4246, -0.4246, -0.4246, -0.4246, -0.4246, -0.4246, -0.4246,\n",
       "           -0.4246, -0.4246, -0.4246, -0.4246, -0.4246, -0.4246, -0.4246],\n",
       "          [-0.4246, -0.4246, -0.4246, -0.4246, -0.4246, -0.4246, -0.4246,\n",
       "           -0.4246, -0.4246, -0.4246, -0.4246, -0.4246, -0.4246, -0.4246,\n",
       "           -0.4246, -0.4246, -0.4246, -0.4246, -0.4246, -0.4246, -0.4246,\n",
       "           -0.4246, -0.4246, -0.4246, -0.4246, -0.4246, -0.4246, -0.4246],\n",
       "          [-0.4246, -0.4246, -0.4246, -0.4246, -0.4246, -0.4246, -0.4246,\n",
       "           -0.4246, -0.4246, -0.4246, -0.4246, -0.4246, -0.4246, -0.4246,\n",
       "           -0.4246, -0.4246, -0.4246, -0.4246, -0.4246, -0.4246, -0.4246,\n",
       "           -0.4246, -0.4246, -0.4246, -0.4246, -0.4246, -0.4246, -0.4246],\n",
       "          [-0.4246, -0.4246, -0.4246, -0.4246, -0.4246, -0.4246, -0.4246,\n",
       "           -0.4246,  2.2954,  2.3462,  0.7829, -0.4246, -0.4246, -0.4246,\n",
       "           -0.4246, -0.4246, -0.4246, -0.4246, -0.4246, -0.4246, -0.4246,\n",
       "           -0.4246, -0.4246, -0.4246, -0.4246, -0.4246, -0.4246, -0.4246],\n",
       "          [-0.4246, -0.4246, -0.4246, -0.4246, -0.4246, -0.4246, -0.4246,\n",
       "            0.7066,  2.7657,  2.7911,  2.7529,  1.2404, -0.4246, -0.4246,\n",
       "           -0.4246, -0.4246, -0.4246, -0.4246, -0.4246, -0.4246, -0.4246,\n",
       "           -0.4246, -0.4246, -0.4246, -0.4246, -0.4246, -0.4246, -0.4246],\n",
       "          [-0.4246, -0.4246, -0.4246, -0.4246, -0.4246, -0.4246, -0.4246,\n",
       "            0.7702,  2.7911,  2.7911,  2.7911,  0.7702, -0.4246, -0.4246,\n",
       "           -0.4246, -0.4246, -0.4246, -0.4246, -0.4246, -0.4246, -0.4246,\n",
       "           -0.4246, -0.4246, -0.4246, -0.4246, -0.4246, -0.4246, -0.4246],\n",
       "          [-0.4246, -0.4246, -0.4246, -0.4246, -0.4246, -0.4246, -0.4246,\n",
       "           -0.2339,  2.3716,  2.7911,  2.7911,  0.5922, -0.4246, -0.4246,\n",
       "           -0.4246, -0.4246, -0.4246, -0.4246, -0.4246, -0.4246, -0.4246,\n",
       "           -0.4246, -0.4246, -0.4246, -0.4246, -0.4246, -0.4246, -0.4246],\n",
       "          [-0.4246, -0.4246, -0.4246, -0.4246, -0.4246, -0.4246, -0.4246,\n",
       "           -0.4246,  0.7066,  2.6258,  2.7911,  2.0539, -0.1068, -0.4246,\n",
       "           -0.4246, -0.4246, -0.4246, -0.4246, -0.4246, -0.4246, -0.4246,\n",
       "           -0.4246, -0.4246, -0.4246, -0.4246, -0.4246, -0.4246, -0.4246],\n",
       "          [-0.4246, -0.4246, -0.4246, -0.4246, -0.4246, -0.4246, -0.4246,\n",
       "           -0.4246, -0.4246,  0.8846,  2.7911,  2.7911,  2.0030, -0.4246,\n",
       "           -0.4246, -0.4246, -0.4246, -0.4246, -0.4246, -0.4246, -0.4246,\n",
       "           -0.4246, -0.4246, -0.4246, -0.4246, -0.4246, -0.4246, -0.4246],\n",
       "          [-0.4246, -0.4246, -0.4246, -0.4246, -0.4246, -0.4246, -0.4246,\n",
       "           -0.4246, -0.4246, -0.1450,  1.9649,  2.7911,  2.6894,  0.7575,\n",
       "           -0.4246, -0.4246, -0.4246, -0.4246, -0.4246, -0.4246, -0.4246,\n",
       "           -0.4246, -0.4246, -0.4246, -0.4246, -0.4246, -0.4246, -0.4246],\n",
       "          [-0.4246, -0.4246, -0.4246, -0.4246, -0.4246, -0.4246, -0.4246,\n",
       "           -0.4246, -0.4246, -0.4246, -0.1704,  2.1556,  2.7911,  2.7275,\n",
       "            0.5414, -0.4246, -0.4246, -0.4246, -0.4246, -0.4246, -0.4246,\n",
       "           -0.4246, -0.4246, -0.4246, -0.4246, -0.4246, -0.4246, -0.4246],\n",
       "          [-0.4246, -0.4246, -0.4246, -0.4246, -0.4246, -0.4246, -0.4246,\n",
       "           -0.4246, -0.4246, -0.4246, -0.4246,  1.7107,  2.7911,  2.7911,\n",
       "            2.0666, -0.3356, -0.4246, -0.4246, -0.4246, -0.4246, -0.4246,\n",
       "           -0.4246, -0.4246, -0.4246, -0.4246, -0.4246, -0.4246, -0.4246],\n",
       "          [-0.4246, -0.4246, -0.4246, -0.4246, -0.4246, -0.4246, -0.4246,\n",
       "           -0.4246, -0.4246, -0.4246, -0.4246, -0.1704,  2.1937,  2.8038,\n",
       "            2.8038,  2.0920, -0.3356, -0.4246, -0.4246, -0.4246, -0.4246,\n",
       "           -0.4246, -0.4246, -0.4246, -0.4246, -0.4246, -0.4246, -0.4246],\n",
       "          [-0.4246, -0.4246, -0.4246, -0.4246, -0.4246, -0.4246, -0.4246,\n",
       "           -0.4246, -0.4246, -0.4246, -0.4246, -0.4246, -0.0814,  2.7911,\n",
       "            2.7911,  2.8038, -0.2593, -0.4246, -0.4246, -0.4246, -0.4246,\n",
       "           -0.4246, -0.4246, -0.4246, -0.4246, -0.4246, -0.4246, -0.4246],\n",
       "          [-0.4246, -0.4246, -0.4246, -0.4246, -0.4246, -0.4246, -0.4246,\n",
       "           -0.4246, -0.4246, -0.4246, -0.4246, -0.4246, -0.2212,  2.2318,\n",
       "            2.7911,  2.8038,  2.6258,  0.6049, -0.4246, -0.4246, -0.4246,\n",
       "           -0.4246, -0.4246, -0.4246, -0.4246, -0.4246, -0.4246, -0.4246],\n",
       "          [-0.4246, -0.4246, -0.4246, -0.4246, -0.4246, -0.4246, -0.4246,\n",
       "           -0.4246, -0.4246, -0.4246, -0.4246, -0.4246, -0.4246, -0.1322,\n",
       "            2.2445,  2.8038,  2.7911,  1.5963, -0.4246, -0.4246, -0.4246,\n",
       "           -0.4246, -0.4246, -0.4246, -0.4246, -0.4246, -0.4246, -0.4246],\n",
       "          [-0.4246, -0.4246, -0.4246, -0.4246, -0.4246, -0.4246, -0.4246,\n",
       "           -0.4246, -0.4246, -0.4246, -0.4246, -0.4246, -0.4246, -0.4246,\n",
       "            0.7575,  2.8038,  2.7911,  2.6004,  1.7361, -0.2085, -0.4246,\n",
       "           -0.4246, -0.4246, -0.4246, -0.4246, -0.4246, -0.4246, -0.4246],\n",
       "          [-0.4246, -0.4246, -0.4246, -0.4246, -0.4246, -0.4246, -0.4246,\n",
       "           -0.4246, -0.4246, -0.4246, -0.4246, -0.4246, -0.4246, -0.4246,\n",
       "           -0.4246,  0.2618,  2.2318,  2.7911,  2.7911,  0.6939, -0.4246,\n",
       "           -0.4246, -0.4246, -0.4246, -0.4246, -0.4246, -0.4246, -0.4246],\n",
       "          [-0.4246, -0.4246, -0.4246, -0.4246, -0.4246, -0.4246, -0.4246,\n",
       "           -0.4246, -0.4246, -0.4246, -0.4246, -0.4246, -0.4246, -0.4246,\n",
       "           -0.4246, -0.4246, -0.0560,  2.2064,  2.7911,  2.5623,  0.5541,\n",
       "           -0.4246, -0.4246, -0.4246, -0.4246, -0.4246, -0.4246, -0.4246],\n",
       "          [-0.4246, -0.4246, -0.4246, -0.4246, -0.4246, -0.4246, -0.4246,\n",
       "           -0.4246, -0.4246, -0.4246, -0.4246, -0.4246, -0.4246, -0.4246,\n",
       "           -0.4246, -0.4246, -0.4246,  0.5922,  2.7148,  2.7911,  2.2191,\n",
       "           -0.2593, -0.4246, -0.4246, -0.4246, -0.4246, -0.4246, -0.4246],\n",
       "          [-0.4246, -0.4246, -0.4246, -0.4246, -0.4246, -0.4246, -0.4246,\n",
       "           -0.4246, -0.4246, -0.4246, -0.4246, -0.4246, -0.4246, -0.4246,\n",
       "           -0.4246, -0.4246, -0.4246, -0.4246,  1.1388,  2.7275,  2.7911,\n",
       "            1.6980, -0.2975, -0.4246, -0.4246, -0.4246, -0.4246, -0.4246],\n",
       "          [-0.4246, -0.4246, -0.4246, -0.4246, -0.4246, -0.4246, -0.4246,\n",
       "           -0.4246, -0.4246, -0.4246, -0.4246, -0.4246, -0.4246, -0.4246,\n",
       "           -0.4246, -0.4246, -0.4246, -0.4246, -0.4246,  2.0030,  2.7529,\n",
       "            2.7911,  0.7575, -0.4246, -0.4246, -0.4246, -0.4246, -0.4246],\n",
       "          [-0.4246, -0.4246, -0.4246, -0.4246, -0.4246, -0.4246, -0.4246,\n",
       "           -0.4246, -0.4246, -0.4246, -0.4246, -0.4246, -0.4246, -0.4246,\n",
       "           -0.4246, -0.4246, -0.4246, -0.4246, -0.4246, -0.4246,  1.9649,\n",
       "            2.8165,  0.7702, -0.4246, -0.4246, -0.4246, -0.4246, -0.4246],\n",
       "          [-0.4246, -0.4246, -0.4246, -0.4246, -0.4246, -0.4246, -0.4246,\n",
       "           -0.4246, -0.4246, -0.4246, -0.4246, -0.4246, -0.4246, -0.4246,\n",
       "           -0.4246, -0.4246, -0.4246, -0.4246, -0.4246, -0.4246, -0.4246,\n",
       "           -0.4246, -0.4246, -0.4246, -0.4246, -0.4246, -0.4246, -0.4246],\n",
       "          [-0.4246, -0.4246, -0.4246, -0.4246, -0.4246, -0.4246, -0.4246,\n",
       "           -0.4246, -0.4246, -0.4246, -0.4246, -0.4246, -0.4246, -0.4246,\n",
       "           -0.4246, -0.4246, -0.4246, -0.4246, -0.4246, -0.4246, -0.4246,\n",
       "           -0.4246, -0.4246, -0.4246, -0.4246, -0.4246, -0.4246, -0.4246],\n",
       "          [-0.4246, -0.4246, -0.4246, -0.4246, -0.4246, -0.4246, -0.4246,\n",
       "           -0.4246, -0.4246, -0.4246, -0.4246, -0.4246, -0.4246, -0.4246,\n",
       "           -0.4246, -0.4246, -0.4246, -0.4246, -0.4246, -0.4246, -0.4246,\n",
       "           -0.4246, -0.4246, -0.4246, -0.4246, -0.4246, -0.4246, -0.4246],\n",
       "          [-0.4246, -0.4246, -0.4246, -0.4246, -0.4246, -0.4246, -0.4246,\n",
       "           -0.4246, -0.4246, -0.4246, -0.4246, -0.4246, -0.4246, -0.4246,\n",
       "           -0.4246, -0.4246, -0.4246, -0.4246, -0.4246, -0.4246, -0.4246,\n",
       "           -0.4246, -0.4246, -0.4246, -0.4246, -0.4246, -0.4246, -0.4246]]]),\n",
       " 'label': 1}"
      ]
     },
     "execution_count": 26,
     "metadata": {},
     "output_type": "execute_result"
    }
   ],
   "source": [
    "ds[0]"
   ]
  },
  {
   "cell_type": "markdown",
   "id": "e2bd54d2",
   "metadata": {},
   "source": [
    "# Model"
   ]
  },
  {
   "cell_type": "code",
   "execution_count": 27,
   "id": "bd84eddc",
   "metadata": {},
   "outputs": [],
   "source": [
    "class MiniModel(nn.Module):\n",
    "    def __init__(self,backbone,num_class,pretrained=False,backbone_ckpt=None):\n",
    "        super().__init__()\n",
    "        self.backbone=timm.create_model(backbone,pretrained=pretrained,\n",
    "                                       checkpoint_path=backbone_ckpt,in_chans=1)\n",
    "        \n",
    "        self.head=nn.Linear(self.backbone.get_classifier().in_features,num_class)\n",
    "        self.backbone.head.fc=nn.Identity()\n",
    "        self.loss_fn=NLLLoss()\n",
    "        \n",
    "    def forward(self,image,label=None):\n",
    "            embed=self.backbone(image)\n",
    "            logit=self.head(embed)\n",
    "            \n",
    "            if label is not None:\n",
    "                logit_logsoftmax=torch.log_softmax(logit,1)\n",
    "                loss=self.loss_fn(logit_logsoftmax,label)\n",
    "                return {\"prediction\":logit,\"loss\":loss}\n",
    "            return {\"prediction\":logit}\n"
   ]
  },
  {
   "cell_type": "code",
   "execution_count": 28,
   "id": "53450ef1",
   "metadata": {},
   "outputs": [],
   "source": [
    "ds=MiniDataSet(train_images,train_labels,get_transform((224,224),True))"
   ]
  },
  {
   "cell_type": "code",
   "execution_count": 29,
   "id": "34ac3866",
   "metadata": {},
   "outputs": [],
   "source": [
    "model=MiniModel(\"convnext_small\",10,True)"
   ]
  },
  {
   "cell_type": "code",
   "execution_count": 30,
   "id": "6ac631f2",
   "metadata": {},
   "outputs": [
    {
     "data": {
      "text/plain": [
       "{'prediction': tensor([[-0.0138,  0.2109, -0.0274,  0.0775, -0.2335, -0.1701, -0.0544,  0.0504,\n",
       "           0.1770, -0.0605]], grad_fn=<AddmmBackward0>)}"
      ]
     },
     "execution_count": 30,
     "metadata": {},
     "output_type": "execute_result"
    }
   ],
   "source": [
    "model(ds[0]['image'].unsqueeze(0))"
   ]
  },
  {
   "cell_type": "markdown",
   "id": "01a48bd6",
   "metadata": {},
   "source": [
    "# Pipeline\n",
    "train_fn\n",
    "eval_fn\n",
    "pred_fn\n"
   ]
  },
  {
   "cell_type": "code",
   "execution_count": 31,
   "id": "307c56a2",
   "metadata": {},
   "outputs": [],
   "source": [
    "def train_one_epoch(model,optimizer,dataloader,device):\n",
    "    model.to(device)\n",
    "    model.train()\n",
    "    train_loss=[]\n",
    "    \n",
    "    for step,batch in enumerate(dataloader):\n",
    "        output=model(batch[\"image\"],batch[\"label\"].to(device))\n",
    "        optimizer.zero_grad()\n",
    "        output[\"loss\"].backward()\n",
    "        optimizer.step()\n",
    "        train_loss.append(output['loss'].item())\n",
    "    return np.mean(train_loss)\n",
    "\n",
    "def eval_one_epoch(model,dataloader,device):\n",
    "    model.to(device)\n",
    "    model.train()\n",
    "    eval_loss=[]\n",
    "    \n",
    "    for step,batch in enumerate(dataloader):\n",
    "        output=model(batch[\"image\"],batch[\"label\"].to(device))\n",
    "        eval_loss.append(output['loss'].item())\n",
    "    return np.mean(eval_loss)\n",
    "\n",
    "def predict(model,dataloader,device):\n",
    "    model.to(device)\n",
    "    model.train()\n",
    "    prediction=[]\n",
    "    for step,batch in enumerate(dataloader):\n",
    "        output=model(batch[\"image\"].to(device))\n",
    "        prediction=torch.argmax(output['prediction'],1)\n",
    "        predictions.append(prediction.cpu().numpy())\n",
    "    predictions=np.concatenate(predictions,axis=0)\n",
    "    return predictions"
   ]
  },
  {
   "cell_type": "markdown",
   "id": "b37df4ec",
   "metadata": {},
   "source": [
    "# Experiment"
   ]
  },
  {
   "cell_type": "code",
   "execution_count": null,
   "id": "8228cdbb",
   "metadata": {},
   "outputs": [],
   "source": [
    "CONFIG=EasyDict({\n",
    "    \"backbone\":\"convnext_small\",\n",
    "    \"num_class\":10,\n",
    "    \"image_size\":(56,56),\n",
    "    \"pretrained\":True,\n",
    "    \"epochs\":5,\n",
    "    \"batch_size\":16,\n",
    "    \"num_workers\":2,\n",
    "    \"device\":\"cuda:0\"\n",
    "})"
   ]
  },
  {
   "cell_type": "code",
   "execution_count": null,
   "id": "29caf92f",
   "metadata": {},
   "outputs": [],
   "source": [
    "train_transform=get_transform(CONFIG.image_size,True)\n",
    "valid_transform=get_transform(CONFIG.image_size,False)\n",
    "\n",
    "full_train_ds=MiniDataSet(train_images,train_labels,train_transform)\n",
    "train_ds=MiniDataSet(train_images[:40000],train_labels[:40000],train_transform)\n",
    "val_ds=MiniDataSet(train_images[40000:],train_labels[40000:],valid_transform)\n",
    "test_ds=MiniDataSet(test_images,transform=valid_transform)"
   ]
  },
  {
   "cell_type": "code",
   "execution_count": null,
   "id": "ced28c86",
   "metadata": {},
   "outputs": [],
   "source": [
    "full_train_dl=DataLoader(full_train_ds,batch_size=CONFIG.batch_size,num_workers=CONFIG.num_workers,shuffle=True,drop_last=True)\n",
    "train_dl=DataLoader(train_ds,batch_size=CONFIG.batch_size,num_workers=CONFIG.num_workers,shuffle=True,drop_last=True)\n",
    "val_dl=DataLoader(val_ds,batch_size=CONFIG.batch_size,num_workers=CONFIG.num_workers,shuffle=True,drop_last=False)\n",
    "test_dl=DataLoader(test_ds,batch_size=CONFIG.batch_size,num_workers=CONFIG.num_workers,shuffle=True,drop_last=False)"
   ]
  },
  {
   "cell_type": "markdown",
   "id": "08c5e5c4",
   "metadata": {},
   "source": [
    "# "
   ]
  },
  {
   "cell_type": "code",
   "execution_count": null,
   "id": "69a58e0d",
   "metadata": {},
   "outputs": [],
   "source": [
    "model=MiniModel(backbone=CONFIG.backbone,num_class=CONFIG.num_class,pretrained=CONFIG.pretrained)\n",
    "optimizer=Adam(model.parameters(),lr=0.0005)"
   ]
  },
  {
   "cell_type": "code",
   "execution_count": null,
   "id": "220a3309",
   "metadata": {},
   "outputs": [],
   "source": [
    "for epoch in range(CONFIG.epochs):\n",
    "    train_loss=train_one_epoch(model,optimizer,train_dl,CONFIG.device)\n",
    "    val_loss=eval_one_epoch(model,val_dl,CONFIG.device)\n",
    "    print(f\"Epoch_{epoch+1},train loss {train_loss:.4f},val loss {val_loss:.4f}\")"
   ]
  },
  {
   "cell_type": "code",
   "execution_count": null,
   "id": "543e8d89",
   "metadata": {},
   "outputs": [],
   "source": [
    "val_prediction=predict(model,val_dl,device=CONFIG.device)\n",
    "test_prediction=predict(model,test_dl,device=CONFIG.device)"
   ]
  },
  {
   "cell_type": "code",
   "execution_count": null,
   "id": "8446894f",
   "metadata": {},
   "outputs": [],
   "source": [
    "from sklearn.metrics import accuracy_score"
   ]
  },
  {
   "cell_type": "code",
   "execution_count": null,
   "id": "060061ca",
   "metadata": {},
   "outputs": [],
   "source": [
    "submission[\"Label\"]=test_prediction\n",
    "submission.to_csv(\"./submit.csv\",index=False)"
   ]
  },
  {
   "cell_type": "code",
   "execution_count": null,
   "id": "58721a16",
   "metadata": {},
   "outputs": [],
   "source": []
  }
 ],
 "metadata": {
  "kernelspec": {
   "display_name": "Python 3 (ipykernel)",
   "language": "python",
   "name": "python3"
  },
  "language_info": {
   "codemirror_mode": {
    "name": "ipython",
    "version": 3
   },
   "file_extension": ".py",
   "mimetype": "text/x-python",
   "name": "python",
   "nbconvert_exporter": "python",
   "pygments_lexer": "ipython3",
   "version": "3.9.0"
  }
 },
 "nbformat": 4,
 "nbformat_minor": 5
}
