{
 "cells": [
  {
   "cell_type": "markdown",
   "id": "081e4da7",
   "metadata": {},
   "source": [
    "2 pytorch张量运算的api"
   ]
  },
  {
   "cell_type": "markdown",
   "id": "bd218498",
   "metadata": {},
   "source": [
    "王汝嘉 2022-07-13"
   ]
  },
  {
   "cell_type": "markdown",
   "id": "e6828754",
   "metadata": {},
   "source": [
    "索引 切片 聚合 旋转\n",
    "\n",
    "indexing slicing joining mutating"
   ]
  },
  {
   "cell_type": "code",
   "execution_count": 2,
   "id": "7a8f5767",
   "metadata": {},
   "outputs": [],
   "source": [
    "import torch"
   ]
  },
  {
   "cell_type": "code",
   "execution_count": 3,
   "id": "add5a1e6",
   "metadata": {},
   "outputs": [],
   "source": [
    "# cat"
   ]
  },
  {
   "cell_type": "code",
   "execution_count": 4,
   "id": "d9791652",
   "metadata": {},
   "outputs": [
    {
     "data": {
      "text/plain": [
       "tensor([[2, 2, 2],\n",
       "        [2, 2, 2]])"
      ]
     },
     "execution_count": 4,
     "metadata": {},
     "output_type": "execute_result"
    }
   ],
   "source": [
    "a = torch.full((2,3),2)\n",
    "a"
   ]
  },
  {
   "cell_type": "code",
   "execution_count": 5,
   "id": "768d4be4",
   "metadata": {},
   "outputs": [
    {
     "data": {
      "text/plain": [
       "tensor([[3, 3],\n",
       "        [3, 3]])"
      ]
     },
     "execution_count": 5,
     "metadata": {},
     "output_type": "execute_result"
    }
   ],
   "source": [
    "b = torch.full((2,2),3)\n",
    "b"
   ]
  },
  {
   "cell_type": "code",
   "execution_count": 6,
   "id": "3da84acc",
   "metadata": {},
   "outputs": [
    {
     "data": {
      "text/plain": [
       "tensor([[2, 2, 2, 3, 3],\n",
       "        [2, 2, 2, 3, 3]])"
      ]
     },
     "execution_count": 6,
     "metadata": {},
     "output_type": "execute_result"
    }
   ],
   "source": [
    "torch.cat((a,b),dim=1)"
   ]
  },
  {
   "cell_type": "code",
   "execution_count": 7,
   "id": "9ed277ba",
   "metadata": {},
   "outputs": [],
   "source": [
    "# chunk\n",
    "#torch.chunk(input, chunks, dim=0)"
   ]
  },
  {
   "cell_type": "code",
   "execution_count": 8,
   "id": "e5f119b8",
   "metadata": {},
   "outputs": [
    {
     "data": {
      "text/plain": [
       "tensor([[0.7255, 0.0894],\n",
       "        [0.5402, 0.7757],\n",
       "        [0.5016, 0.4700]])"
      ]
     },
     "execution_count": 8,
     "metadata": {},
     "output_type": "execute_result"
    }
   ],
   "source": [
    "a = torch.rand([3,2])\n",
    "a"
   ]
  },
  {
   "cell_type": "code",
   "execution_count": 9,
   "id": "1b54dab0",
   "metadata": {},
   "outputs": [],
   "source": [
    "# chunks的数目代表的是要切分成的块儿的数目"
   ]
  },
  {
   "cell_type": "code",
   "execution_count": 10,
   "id": "e7893bc2",
   "metadata": {},
   "outputs": [
    {
     "data": {
      "text/plain": [
       "(tensor([[0.7255, 0.0894],\n",
       "         [0.5402, 0.7757]]),\n",
       " tensor([[0.5016, 0.4700]]))"
      ]
     },
     "execution_count": 10,
     "metadata": {},
     "output_type": "execute_result"
    }
   ],
   "source": [
    "# 按行切分 \n",
    "torch.chunk(a,chunks=2,dim=0)"
   ]
  },
  {
   "cell_type": "code",
   "execution_count": 11,
   "id": "49eb98d0",
   "metadata": {},
   "outputs": [
    {
     "data": {
      "text/plain": [
       "(tensor([[0.7255],\n",
       "         [0.5402],\n",
       "         [0.5016]]),\n",
       " tensor([[0.0894],\n",
       "         [0.7757],\n",
       "         [0.4700]]))"
      ]
     },
     "execution_count": 11,
     "metadata": {},
     "output_type": "execute_result"
    }
   ],
   "source": [
    "# 按列切分\n",
    "torch.chunk(a,chunks=2,dim=1)"
   ]
  },
  {
   "cell_type": "code",
   "execution_count": 12,
   "id": "efd5c63c",
   "metadata": {},
   "outputs": [],
   "source": [
    "b,c = torch.chunk(a,chunks=2,dim=0)"
   ]
  },
  {
   "cell_type": "code",
   "execution_count": 13,
   "id": "bb29714d",
   "metadata": {},
   "outputs": [
    {
     "data": {
      "text/plain": [
       "tensor([[0.7255, 0.0894],\n",
       "        [0.5402, 0.7757]])"
      ]
     },
     "execution_count": 13,
     "metadata": {},
     "output_type": "execute_result"
    }
   ],
   "source": [
    "b"
   ]
  },
  {
   "cell_type": "code",
   "execution_count": 14,
   "id": "58067ab2",
   "metadata": {},
   "outputs": [
    {
     "data": {
      "text/plain": [
       "tensor([[0.5016, 0.4700]])"
      ]
     },
     "execution_count": 14,
     "metadata": {},
     "output_type": "execute_result"
    }
   ],
   "source": [
    "c"
   ]
  },
  {
   "cell_type": "code",
   "execution_count": 15,
   "id": "45eb2a56",
   "metadata": {},
   "outputs": [],
   "source": [
    "#因为被切分的a一共就有三行，所以切分出来的就只有一行"
   ]
  },
  {
   "cell_type": "markdown",
   "id": "d53d1136",
   "metadata": {},
   "source": [
    "gather  按照索引来提取"
   ]
  },
  {
   "cell_type": "code",
   "execution_count": 16,
   "id": "01baede3",
   "metadata": {},
   "outputs": [],
   "source": [
    "#torch.gather(input, dim, index, *, sparse_grad=False, out=None)\n",
    "# dimension 维度\n",
    "# dim=0 行\n",
    "# dim=1 列"
   ]
  },
  {
   "cell_type": "code",
   "execution_count": 17,
   "id": "636e8217",
   "metadata": {},
   "outputs": [],
   "source": [
    "a = torch.tensor([[1,2],[3,4]])\n",
    "b = torch.tensor([[1,2],[3,4]])"
   ]
  },
  {
   "cell_type": "code",
   "execution_count": 22,
   "id": "e718bccc",
   "metadata": {},
   "outputs": [
    {
     "data": {
      "text/plain": [
       "(tensor([[1, 2],\n",
       "         [3, 4]]),\n",
       " tensor([[1, 2],\n",
       "         [3, 4]]))"
      ]
     },
     "execution_count": 22,
     "metadata": {},
     "output_type": "execute_result"
    }
   ],
   "source": [
    "a,b"
   ]
  },
  {
   "cell_type": "code",
   "execution_count": 39,
   "id": "d05d401a",
   "metadata": {},
   "outputs": [
    {
     "data": {
      "text/plain": [
       "tensor([[1, 2],\n",
       "        [4, 3]])"
      ]
     },
     "execution_count": 39,
     "metadata": {},
     "output_type": "execute_result"
    }
   ],
   "source": [
    "# dim=1 维度指的是列\n",
    "torch.gather(input=a, dim=1, index=torch.tensor([[0, 1], [1, 0]]))\n",
    "# 第一行的第0个\n",
    "# 第一行的第1个\n",
    "# 第二行的第1个\n",
    "# 第二行的第0个\n",
    "\n",
    "# 位置信息 [0[0,1],1[0,1]]\n",
    "\n",
    "# 索引信息 [0[0,1],1[1,0]]\n"
   ]
  },
  {
   "cell_type": "code",
   "execution_count": 23,
   "id": "85c97803",
   "metadata": {},
   "outputs": [
    {
     "data": {
      "text/plain": [
       "tensor([[1, 2],\n",
       "        [3, 4]])"
      ]
     },
     "execution_count": 23,
     "metadata": {},
     "output_type": "execute_result"
    }
   ],
   "source": [
    "b"
   ]
  },
  {
   "cell_type": "code",
   "execution_count": 41,
   "id": "61363b42",
   "metadata": {},
   "outputs": [
    {
     "data": {
      "text/plain": [
       "tensor([[1, 4],\n",
       "        [3, 2]])"
      ]
     },
     "execution_count": 41,
     "metadata": {},
     "output_type": "execute_result"
    }
   ],
   "source": [
    "# dim=0 行\n",
    "torch.gather(b, 0, torch.tensor([[0, 1], [1, 0]]))\n",
    "# 第一列的第0个\n",
    "# 第二列的第1个\n",
    "# 第二列的第1个\n",
    "# 第二列的第0个\n",
    "\n",
    "# 位置信息 [0[0,1],1[0,1]]\n",
    "\n",
    "# 索引信息 [0[0,1],1[1,0]]\n"
   ]
  },
  {
   "cell_type": "code",
   "execution_count": 42,
   "id": "7717f607",
   "metadata": {},
   "outputs": [],
   "source": [
    "###这个好奇怪呀"
   ]
  },
  {
   "cell_type": "markdown",
   "id": "2ec11846",
   "metadata": {},
   "source": [
    "reshape"
   ]
  },
  {
   "cell_type": "code",
   "execution_count": 43,
   "id": "3cc23ac2",
   "metadata": {},
   "outputs": [],
   "source": [
    "# torch.reshape(input, shape)"
   ]
  },
  {
   "cell_type": "code",
   "execution_count": 44,
   "id": "837abfdc",
   "metadata": {},
   "outputs": [],
   "source": [
    "# reshape只改变被改变者的维度 不改变被改变者中包含的数据 和 被改变者中数据的顺序\n",
    "# 张量之间的变换"
   ]
  },
  {
   "cell_type": "code",
   "execution_count": 45,
   "id": "dee27aa3",
   "metadata": {},
   "outputs": [
    {
     "data": {
      "text/plain": [
       "tensor([0., 1., 2., 3.])"
      ]
     },
     "execution_count": 45,
     "metadata": {},
     "output_type": "execute_result"
    }
   ],
   "source": [
    "a = torch.arange(4.)\n",
    "a"
   ]
  },
  {
   "cell_type": "code",
   "execution_count": 47,
   "id": "8abfb1a6",
   "metadata": {},
   "outputs": [
    {
     "data": {
      "text/plain": [
       "tensor([[0., 1.],\n",
       "        [2., 3.]])"
      ]
     },
     "execution_count": 47,
     "metadata": {},
     "output_type": "execute_result"
    }
   ],
   "source": [
    "torch.reshape(input=a,shape=(2,2))"
   ]
  },
  {
   "cell_type": "code",
   "execution_count": 52,
   "id": "7efe38fb",
   "metadata": {},
   "outputs": [],
   "source": [
    "# 注意，顺序是没有进行变化的"
   ]
  },
  {
   "cell_type": "code",
   "execution_count": 53,
   "id": "b3f5b9ae",
   "metadata": {},
   "outputs": [],
   "source": [
    "# 积累一个小技巧 将shape设置为-1， 就可以将张量改变成一维张量"
   ]
  },
  {
   "cell_type": "code",
   "execution_count": 54,
   "id": "3fbe8d7c",
   "metadata": {},
   "outputs": [
    {
     "data": {
      "text/plain": [
       "tensor([0., 1., 2., 3.])"
      ]
     },
     "execution_count": 54,
     "metadata": {},
     "output_type": "execute_result"
    }
   ],
   "source": [
    "torch.reshape(a,(-1,))"
   ]
  },
  {
   "cell_type": "code",
   "execution_count": 55,
   "id": "c8f548cc",
   "metadata": {},
   "outputs": [],
   "source": [
    "#注意 下面的写法是不对的"
   ]
  },
  {
   "cell_type": "code",
   "execution_count": 56,
   "id": "6355f8b3",
   "metadata": {},
   "outputs": [
    {
     "ename": "TypeError",
     "evalue": "reshape(): argument 'shape' (position 2) must be tuple of ints, not int",
     "output_type": "error",
     "traceback": [
      "\u001b[1;31m---------------------------------------------------------------------------\u001b[0m",
      "\u001b[1;31mTypeError\u001b[0m                                 Traceback (most recent call last)",
      "\u001b[1;32m<ipython-input-56-74f44be4eafe>\u001b[0m in \u001b[0;36m<module>\u001b[1;34m\u001b[0m\n\u001b[1;32m----> 1\u001b[1;33m \u001b[0mtorch\u001b[0m\u001b[1;33m.\u001b[0m\u001b[0mreshape\u001b[0m\u001b[1;33m(\u001b[0m\u001b[0ma\u001b[0m\u001b[1;33m,\u001b[0m\u001b[1;33m-\u001b[0m\u001b[1;36m1\u001b[0m\u001b[1;33m)\u001b[0m\u001b[1;33m\u001b[0m\u001b[1;33m\u001b[0m\u001b[0m\n\u001b[0m",
      "\u001b[1;31mTypeError\u001b[0m: reshape(): argument 'shape' (position 2) must be tuple of ints, not int"
     ]
    }
   ],
   "source": [
    "torch.reshape(a,-1)"
   ]
  },
  {
   "cell_type": "code",
   "execution_count": 57,
   "id": "de042bcf",
   "metadata": {},
   "outputs": [
    {
     "ename": "TypeError",
     "evalue": "reshape(): argument 'shape' (position 2) must be tuple of ints, not int",
     "output_type": "error",
     "traceback": [
      "\u001b[1;31m---------------------------------------------------------------------------\u001b[0m",
      "\u001b[1;31mTypeError\u001b[0m                                 Traceback (most recent call last)",
      "\u001b[1;32m<ipython-input-57-52c2c45f2250>\u001b[0m in \u001b[0;36m<module>\u001b[1;34m\u001b[0m\n\u001b[1;32m----> 1\u001b[1;33m \u001b[0mtorch\u001b[0m\u001b[1;33m.\u001b[0m\u001b[0mreshape\u001b[0m\u001b[1;33m(\u001b[0m\u001b[0ma\u001b[0m\u001b[1;33m,\u001b[0m\u001b[1;33m(\u001b[0m\u001b[1;33m-\u001b[0m\u001b[1;36m1\u001b[0m\u001b[1;33m)\u001b[0m\u001b[1;33m)\u001b[0m\u001b[1;33m\u001b[0m\u001b[1;33m\u001b[0m\u001b[0m\n\u001b[0m",
      "\u001b[1;31mTypeError\u001b[0m: reshape(): argument 'shape' (position 2) must be tuple of ints, not int"
     ]
    }
   ],
   "source": [
    "torch.reshape(a,(-1))"
   ]
  },
  {
   "cell_type": "code",
   "execution_count": 58,
   "id": "743e24d9",
   "metadata": {},
   "outputs": [
    {
     "data": {
      "text/plain": [
       "tensor([0., 1., 2., 3.])"
      ]
     },
     "execution_count": 58,
     "metadata": {},
     "output_type": "execute_result"
    }
   ],
   "source": [
    "torch.reshape(a,(-1,)) #这样才是对的"
   ]
  },
  {
   "cell_type": "code",
   "execution_count": 59,
   "id": "40ce9703",
   "metadata": {},
   "outputs": [
    {
     "data": {
      "text/plain": [
       "tensor([[0.8120, 0.8285, 0.5975],\n",
       "        [0.8720, 0.0761, 0.2930]])"
      ]
     },
     "execution_count": 59,
     "metadata": {},
     "output_type": "execute_result"
    }
   ],
   "source": [
    "b = torch.rand([2,3])\n",
    "b"
   ]
  },
  {
   "cell_type": "code",
   "execution_count": 61,
   "id": "0792564e",
   "metadata": {},
   "outputs": [
    {
     "data": {
      "text/plain": [
       "tensor([[0.8120, 0.8285],\n",
       "        [0.5975, 0.8720],\n",
       "        [0.0761, 0.2930]])"
      ]
     },
     "execution_count": 61,
     "metadata": {},
     "output_type": "execute_result"
    }
   ],
   "source": [
    "b=torch.reshape(b,(3,2))\n",
    "b"
   ]
  },
  {
   "cell_type": "code",
   "execution_count": 62,
   "id": "0b3f2b61",
   "metadata": {},
   "outputs": [
    {
     "data": {
      "text/plain": [
       "tensor([0.8120, 0.8285, 0.5975, 0.8720, 0.0761, 0.2930])"
      ]
     },
     "execution_count": 62,
     "metadata": {},
     "output_type": "execute_result"
    }
   ],
   "source": [
    "b = torch.reshape(torch.reshape(b,(3,2)),(-1,))\n",
    "b"
   ]
  },
  {
   "cell_type": "code",
   "execution_count": 63,
   "id": "37e73a56",
   "metadata": {},
   "outputs": [],
   "source": [
    "### 请你用连续嵌套的方式 在上边的语句之中再嵌套一层 让b变为它原来的样子[2,3]"
   ]
  },
  {
   "cell_type": "markdown",
   "id": "61e6f4e1",
   "metadata": {},
   "source": [
    "scatter"
   ]
  },
  {
   "cell_type": "code",
   "execution_count": 66,
   "id": "95ed2bff",
   "metadata": {},
   "outputs": [],
   "source": [
    "# torch.scatter 是 torch.scatter_ 的out of place的版本"
   ]
  },
  {
   "cell_type": "code",
   "execution_count": 69,
   "id": "30ba3414",
   "metadata": {},
   "outputs": [],
   "source": [
    "# out-of-place是出位操作\n",
    "# in-of-place是原位操作  加下划线的一般是原位操作\n",
    "\n",
    "#位：数据储存在内存之中的位置"
   ]
  },
  {
   "cell_type": "code",
   "execution_count": 70,
   "id": "7603604b",
   "metadata": {},
   "outputs": [],
   "source": [
    "#Tensor.scatter_(dim, index, src, reduce=None) "
   ]
  },
  {
   "cell_type": "code",
   "execution_count": null,
   "id": "96fee39a",
   "metadata": {},
   "outputs": [],
   "source": [
    "#根据index 将src 中的值 填充到对象矩阵之中"
   ]
  },
  {
   "cell_type": "code",
   "execution_count": 25,
   "id": "84a2adb7",
   "metadata": {},
   "outputs": [
    {
     "data": {
      "text/plain": [
       "tensor([[ 1,  2,  3,  4,  5],\n",
       "        [ 6,  7,  8,  9, 10]])"
      ]
     },
     "execution_count": 25,
     "metadata": {},
     "output_type": "execute_result"
    }
   ],
   "source": [
    "src = torch.arange(1,11).reshape(2,5)\n",
    "src"
   ]
  },
  {
   "cell_type": "code",
   "execution_count": 40,
   "id": "b1b47578",
   "metadata": {},
   "outputs": [],
   "source": [
    "index = torch.tensor([[0,1,2,1]])\n",
    "\n",
    "\n",
    "# 位置信息 [0,1,2,3] 从src之中取得值\n",
    "\n",
    "# 位置信息 [0,1,2]  行数\n",
    "# 索引信息 [0,1,2,1] 确定行数之后，再确定所在的列数   向目标矩阵之中填数的位置  "
   ]
  },
  {
   "cell_type": "code",
   "execution_count": 41,
   "id": "43eff992",
   "metadata": {},
   "outputs": [
    {
     "data": {
      "text/plain": [
       "tensor([[0., 0., 0., 0., 0.],\n",
       "        [0., 0., 0., 0., 0.],\n",
       "        [0., 0., 0., 0., 0.]])"
      ]
     },
     "execution_count": 41,
     "metadata": {},
     "output_type": "execute_result"
    }
   ],
   "source": [
    "torch.zeros(3,5)"
   ]
  },
  {
   "cell_type": "code",
   "execution_count": 42,
   "id": "9527f3a9",
   "metadata": {},
   "outputs": [
    {
     "data": {
      "text/plain": [
       "tensor([[1, 0, 0, 0, 0],\n",
       "        [0, 2, 0, 4, 0],\n",
       "        [0, 0, 3, 0, 0]])"
      ]
     },
     "execution_count": 42,
     "metadata": {},
     "output_type": "execute_result"
    }
   ],
   "source": [
    "torch.zeros(3, 5, dtype=src.dtype).scatter_(0, index, src)"
   ]
  },
  {
   "cell_type": "code",
   "execution_count": 33,
   "id": "654449f9",
   "metadata": {},
   "outputs": [],
   "source": [
    "### 为什么会有一个4呢？"
   ]
  },
  {
   "cell_type": "code",
   "execution_count": 95,
   "id": "0623fd8c",
   "metadata": {},
   "outputs": [],
   "source": [
    "# 索引所在的顺序 代表了从src中的取值 比如index中0就在src中取第0位置的数 也就是取1\n",
    "# dim=0 表示按行进行选取 索引上各元素的位置和其代表的值共同组成被操作的对象中的位置 \n",
    "# 比如 索引第0位置的值为0 也就是要将该索引从src中取的值1 替换成被操作对象的（0，0）位置"
   ]
  },
  {
   "cell_type": "code",
   "execution_count": 97,
   "id": "b80be515",
   "metadata": {},
   "outputs": [],
   "source": [
    "#因为被操作对象的行数仅为3 所以索引的具体数值范围也就是0-2 排完之后继续到下一块儿进行排列"
   ]
  },
  {
   "cell_type": "markdown",
   "id": "a21ae756",
   "metadata": {},
   "source": [
    "scatter_add"
   ]
  },
  {
   "cell_type": "code",
   "execution_count": 98,
   "id": "1041048a",
   "metadata": {},
   "outputs": [],
   "source": [
    "#不是进行替换 而是进行加法操作 根据index做一些稀疏的加法"
   ]
  },
  {
   "cell_type": "code",
   "execution_count": 100,
   "id": "516272a2",
   "metadata": {},
   "outputs": [
    {
     "data": {
      "text/plain": [
       "tensor([[2, 1, 1, 1, 1],\n",
       "        [1, 3, 1, 5, 1],\n",
       "        [1, 1, 4, 1, 1]])"
      ]
     },
     "execution_count": 100,
     "metadata": {},
     "output_type": "execute_result"
    }
   ],
   "source": [
    "torch.ones(3,5,dtype=src.dtype).scatter_add(0,index,src)"
   ]
  },
  {
   "cell_type": "code",
   "execution_count": 101,
   "id": "1f59e75b",
   "metadata": {},
   "outputs": [],
   "source": [
    "# 除了由替换变成加法之外  其余的操作都是和scatter一样的"
   ]
  },
  {
   "cell_type": "markdown",
   "id": "848d7439",
   "metadata": {},
   "source": [
    "split"
   ]
  },
  {
   "cell_type": "code",
   "execution_count": 102,
   "id": "fc556a01",
   "metadata": {},
   "outputs": [],
   "source": [
    "# 切分的函数  chunk的进化版\n",
    "# torch.split(tensor, split_size_or_sections, dim=0)"
   ]
  },
  {
   "cell_type": "code",
   "execution_count": 103,
   "id": "b33c0145",
   "metadata": {},
   "outputs": [],
   "source": [
    "#传入整型数字 size"
   ]
  },
  {
   "cell_type": "code",
   "execution_count": 105,
   "id": "7f6feff2",
   "metadata": {},
   "outputs": [
    {
     "data": {
      "text/plain": [
       "tensor([[0, 1],\n",
       "        [2, 3],\n",
       "        [4, 5],\n",
       "        [6, 7],\n",
       "        [8, 9]])"
      ]
     },
     "execution_count": 105,
     "metadata": {},
     "output_type": "execute_result"
    }
   ],
   "source": [
    "a = torch.arange(10).reshape(5,2)\n",
    "a"
   ]
  },
  {
   "cell_type": "code",
   "execution_count": 106,
   "id": "222796c3",
   "metadata": {},
   "outputs": [
    {
     "data": {
      "text/plain": [
       "(tensor([[0, 1],\n",
       "         [2, 3]]),\n",
       " tensor([[4, 5],\n",
       "         [6, 7]]),\n",
       " tensor([[8, 9]]))"
      ]
     },
     "execution_count": 106,
     "metadata": {},
     "output_type": "execute_result"
    }
   ],
   "source": [
    "torch.split(a,split_size_or_sections=2,dim=0)"
   ]
  },
  {
   "cell_type": "code",
   "execution_count": 109,
   "id": "526c0f50",
   "metadata": {},
   "outputs": [
    {
     "data": {
      "text/plain": [
       "(tensor([[0],\n",
       "         [2],\n",
       "         [4],\n",
       "         [6],\n",
       "         [8]]),\n",
       " tensor([[1],\n",
       "         [3],\n",
       "         [5],\n",
       "         [7],\n",
       "         [9]]))"
      ]
     },
     "execution_count": 109,
     "metadata": {},
     "output_type": "execute_result"
    }
   ],
   "source": [
    "torch.split(a,split_size_or_sections=1,dim=1)"
   ]
  },
  {
   "cell_type": "code",
   "execution_count": 110,
   "id": "e9cec135",
   "metadata": {},
   "outputs": [
    {
     "data": {
      "text/plain": [
       "(tensor([[0, 1],\n",
       "         [2, 3],\n",
       "         [4, 5],\n",
       "         [6, 7],\n",
       "         [8, 9]]),)"
      ]
     },
     "execution_count": 110,
     "metadata": {},
     "output_type": "execute_result"
    }
   ],
   "source": [
    "torch.split(a,split_size_or_sections=2,dim=1)"
   ]
  },
  {
   "cell_type": "code",
   "execution_count": 111,
   "id": "64ed14e4",
   "metadata": {},
   "outputs": [],
   "source": [
    "# 注意 split函数中split_size_or_sections表示的是切分的尺寸\n",
    "# chunk函数中 chunks表示的是切分后的结果 切分后的块儿数"
   ]
  },
  {
   "cell_type": "code",
   "execution_count": 112,
   "id": "4ef5fb97",
   "metadata": {},
   "outputs": [],
   "source": [
    "# 输入列表list sections"
   ]
  },
  {
   "cell_type": "code",
   "execution_count": 113,
   "id": "bb542450",
   "metadata": {},
   "outputs": [
    {
     "data": {
      "text/plain": [
       "(tensor([[0, 1]]),\n",
       " tensor([[2, 3],\n",
       "         [4, 5],\n",
       "         [6, 7],\n",
       "         [8, 9]]))"
      ]
     },
     "execution_count": 113,
     "metadata": {},
     "output_type": "execute_result"
    }
   ],
   "source": [
    "torch.split(a,[1,4])"
   ]
  },
  {
   "cell_type": "code",
   "execution_count": 117,
   "id": "266442c2",
   "metadata": {},
   "outputs": [
    {
     "data": {
      "text/plain": [
       "(tensor([[0, 1],\n",
       "         [2, 3]]),\n",
       " tensor([[4, 5],\n",
       "         [6, 7],\n",
       "         [8, 9]]))"
      ]
     },
     "execution_count": 117,
     "metadata": {},
     "output_type": "execute_result"
    }
   ],
   "source": [
    "torch.split(a,[2,3])"
   ]
  },
  {
   "cell_type": "code",
   "execution_count": 121,
   "id": "cc06b985",
   "metadata": {},
   "outputs": [
    {
     "data": {
      "text/plain": [
       "(tensor([[0],\n",
       "         [2],\n",
       "         [4],\n",
       "         [6],\n",
       "         [8]]),\n",
       " tensor([[1],\n",
       "         [3],\n",
       "         [5],\n",
       "         [7],\n",
       "         [9]]))"
      ]
     },
     "execution_count": 121,
     "metadata": {},
     "output_type": "execute_result"
    }
   ],
   "source": [
    "torch.split(a,[1,1],dim=1)"
   ]
  },
  {
   "cell_type": "code",
   "execution_count": 122,
   "id": "b8c714b3",
   "metadata": {},
   "outputs": [],
   "source": [
    "# 以后建议大家直接使用split函数 减少chunk函数的使用"
   ]
  },
  {
   "cell_type": "code",
   "execution_count": 123,
   "id": "c9d321e6",
   "metadata": {},
   "outputs": [],
   "source": [
    "### 请你总结一下split函数 比 chunk函数多了哪些功能？"
   ]
  },
  {
   "cell_type": "markdown",
   "id": "879183a2",
   "metadata": {},
   "source": [
    "squeeze"
   ]
  },
  {
   "cell_type": "code",
   "execution_count": 124,
   "id": "48b8bfb2",
   "metadata": {},
   "outputs": [],
   "source": [
    "# 挤压函数 会将被处理对象的维度值为1的所有维度删掉"
   ]
  },
  {
   "cell_type": "code",
   "execution_count": null,
   "id": "a4cebb1d",
   "metadata": {},
   "outputs": [],
   "source": [
    "# torch.squeeze(input, dim=None, *, out=None)"
   ]
  },
  {
   "cell_type": "code",
   "execution_count": 128,
   "id": "9da14127",
   "metadata": {},
   "outputs": [
    {
     "data": {
      "text/plain": [
       "torch.Size([1, 2, 1, 2, 1, 3])"
      ]
     },
     "execution_count": 128,
     "metadata": {},
     "output_type": "execute_result"
    }
   ],
   "source": [
    "a = torch.arange(12).reshape(1,2,1,2,1,3)\n",
    "a.shape"
   ]
  },
  {
   "cell_type": "code",
   "execution_count": 130,
   "id": "2c195372",
   "metadata": {},
   "outputs": [
    {
     "data": {
      "text/plain": [
       "torch.Size([2, 2, 3])"
      ]
     },
     "execution_count": 130,
     "metadata": {},
     "output_type": "execute_result"
    }
   ],
   "source": [
    "torch.squeeze(a).shape"
   ]
  },
  {
   "cell_type": "code",
   "execution_count": 131,
   "id": "4c3eba70",
   "metadata": {},
   "outputs": [],
   "source": [
    "#也就是说默认对所有维度值为一的值进行压缩"
   ]
  },
  {
   "cell_type": "code",
   "execution_count": 133,
   "id": "4b681b37",
   "metadata": {},
   "outputs": [
    {
     "data": {
      "text/plain": [
       "torch.Size([2, 1, 2, 1, 3])"
      ]
     },
     "execution_count": 133,
     "metadata": {},
     "output_type": "execute_result"
    }
   ],
   "source": [
    "torch.squeeze(a,dim=0).shape"
   ]
  },
  {
   "cell_type": "code",
   "execution_count": 134,
   "id": "e70450b1",
   "metadata": {},
   "outputs": [],
   "source": [
    "#使用dim来对张量进行指定位置的压缩"
   ]
  },
  {
   "cell_type": "code",
   "execution_count": 135,
   "id": "02b376eb",
   "metadata": {},
   "outputs": [],
   "source": [
    "### 请你将张量a的形状变为[2,2,1,3]"
   ]
  },
  {
   "cell_type": "markdown",
   "id": "353f32c6",
   "metadata": {},
   "source": [
    "unsqueeze"
   ]
  },
  {
   "cell_type": "code",
   "execution_count": 139,
   "id": "582a90aa",
   "metadata": {},
   "outputs": [],
   "source": [
    "#反挤压 扩充"
   ]
  },
  {
   "cell_type": "code",
   "execution_count": null,
   "id": "928ec169",
   "metadata": {},
   "outputs": [],
   "source": [
    "# 利用dim来指定要在哪一个维度进行扩充"
   ]
  },
  {
   "cell_type": "code",
   "execution_count": 136,
   "id": "5c022bfb",
   "metadata": {},
   "outputs": [
    {
     "data": {
      "text/plain": [
       "torch.Size([1, 2, 1, 2, 1, 3])"
      ]
     },
     "execution_count": 136,
     "metadata": {},
     "output_type": "execute_result"
    }
   ],
   "source": [
    "torch.unsqueeze(torch.squeeze(a,dim=0),dim=0).shape"
   ]
  },
  {
   "cell_type": "code",
   "execution_count": 142,
   "id": "9ade54f2",
   "metadata": {},
   "outputs": [
    {
     "data": {
      "text/plain": [
       "torch.Size([1, 2, 1, 2, 1, 3])"
      ]
     },
     "execution_count": 142,
     "metadata": {},
     "output_type": "execute_result"
    }
   ],
   "source": [
    "torch.unsqueeze(torch.squeeze(a,dim=2),dim=2).shape"
   ]
  },
  {
   "cell_type": "code",
   "execution_count": 146,
   "id": "1794716c",
   "metadata": {},
   "outputs": [
    {
     "data": {
      "text/plain": [
       "torch.Size([1, 2, 2, 1, 1, 3])"
      ]
     },
     "execution_count": 146,
     "metadata": {},
     "output_type": "execute_result"
    }
   ],
   "source": [
    "torch.unsqueeze(torch.squeeze(a,dim=2),dim=3).shape"
   ]
  },
  {
   "cell_type": "code",
   "execution_count": 147,
   "id": "c732ec1a",
   "metadata": {},
   "outputs": [
    {
     "data": {
      "text/plain": [
       "torch.Size([1, 1, 2, 2, 1, 3])"
      ]
     },
     "execution_count": 147,
     "metadata": {},
     "output_type": "execute_result"
    }
   ],
   "source": [
    "torch.unsqueeze(torch.squeeze(a,dim=2),dim=1).shape"
   ]
  },
  {
   "cell_type": "code",
   "execution_count": 148,
   "id": "124e0e81",
   "metadata": {},
   "outputs": [],
   "source": [
    "# 也就说 dim等于 则扩张的效果就会出现第几个维度 并且原来在那个维度的数值是会向后退的"
   ]
  },
  {
   "cell_type": "code",
   "execution_count": 149,
   "id": "5aa02a54",
   "metadata": {},
   "outputs": [],
   "source": [
    "# squeeze是一个重要的函数 会在卷积层 tensformer的自注意力层 和全连接层相连的时候 用到\n",
    "#通常是将维度压缩到某一个维度 比如通过reshape将张量的高宽结合起来 留出一个1来 通过squeeze函数删掉1"
   ]
  },
  {
   "cell_type": "code",
   "execution_count": 150,
   "id": "d4d5929d",
   "metadata": {},
   "outputs": [],
   "source": [
    "# 举个例子"
   ]
  },
  {
   "cell_type": "markdown",
   "id": "68da2709",
   "metadata": {},
   "source": [
    "pytorch中计算机视觉中所用的张量的维度一般是四维 [batch_size,channel,height,width]"
   ]
  },
  {
   "cell_type": "code",
   "execution_count": 168,
   "id": "0292849d",
   "metadata": {},
   "outputs": [
    {
     "data": {
      "text/plain": [
       "tensor([[[[0.9509, 0.2255, 0.9164,  ..., 0.9829, 0.1996, 0.3726],\n",
       "          [0.5382, 0.3207, 0.3165,  ..., 0.2100, 0.0707, 0.7517],\n",
       "          [0.2238, 0.8219, 0.0790,  ..., 0.6543, 0.5695, 0.9315],\n",
       "          ...,\n",
       "          [0.9220, 0.9994, 0.7032,  ..., 0.5577, 0.9038, 0.8827],\n",
       "          [0.9910, 0.2783, 0.9545,  ..., 0.4067, 0.7559, 0.3174],\n",
       "          [0.1874, 0.1660, 0.6847,  ..., 0.1159, 0.0621, 0.1020]],\n",
       "\n",
       "         [[0.2972, 0.9987, 0.8191,  ..., 0.5754, 0.1184, 0.9957],\n",
       "          [0.2713, 0.1085, 0.1615,  ..., 0.2431, 0.0816, 0.2283],\n",
       "          [0.0309, 0.7513, 0.2476,  ..., 0.1828, 0.6963, 0.3388],\n",
       "          ...,\n",
       "          [0.7051, 0.7016, 0.2550,  ..., 0.7210, 0.1507, 0.4064],\n",
       "          [0.1057, 0.4031, 0.1302,  ..., 0.0321, 0.6980, 0.5367],\n",
       "          [0.3823, 0.8565, 0.1195,  ..., 0.7493, 0.0418, 0.6106]]],\n",
       "\n",
       "\n",
       "        [[[0.8937, 0.0122, 0.4450,  ..., 0.6458, 0.1992, 0.3931],\n",
       "          [0.5224, 0.1936, 0.6414,  ..., 0.5271, 0.6532, 0.3669],\n",
       "          [0.7672, 0.3211, 0.8265,  ..., 0.2381, 0.5677, 0.8520],\n",
       "          ...,\n",
       "          [0.9642, 0.0051, 0.0074,  ..., 0.2166, 0.2856, 0.9676],\n",
       "          [0.1314, 0.2548, 0.1046,  ..., 0.3990, 0.0527, 0.1484],\n",
       "          [0.9231, 0.2417, 0.2931,  ..., 0.5068, 0.1746, 0.1995]],\n",
       "\n",
       "         [[0.2471, 0.4674, 0.7870,  ..., 0.7350, 0.0752, 0.7650],\n",
       "          [0.0567, 0.1388, 0.3589,  ..., 0.8731, 0.7012, 0.0236],\n",
       "          [0.8126, 0.8256, 0.1013,  ..., 0.7082, 0.7731, 0.7189],\n",
       "          ...,\n",
       "          [0.4403, 0.4400, 0.2006,  ..., 0.8841, 0.2417, 0.3975],\n",
       "          [0.7440, 0.6797, 0.9488,  ..., 0.8914, 0.5672, 0.7541],\n",
       "          [0.7909, 0.4923, 0.6887,  ..., 0.7761, 0.0678, 0.1371]]],\n",
       "\n",
       "\n",
       "        [[[0.4824, 0.2215, 0.1009,  ..., 0.0523, 0.1157, 0.9741],\n",
       "          [0.9533, 0.6971, 0.2007,  ..., 0.4164, 0.3495, 0.1016],\n",
       "          [0.4670, 0.9341, 0.5922,  ..., 0.9292, 0.9887, 0.1709],\n",
       "          ...,\n",
       "          [0.6103, 0.0617, 0.4201,  ..., 0.4531, 0.6776, 0.9499],\n",
       "          [0.5236, 0.5562, 0.7504,  ..., 0.6079, 0.4403, 0.9827],\n",
       "          [0.1749, 0.4181, 0.7957,  ..., 0.2083, 0.7395, 0.3082]],\n",
       "\n",
       "         [[0.4980, 0.0275, 0.4841,  ..., 0.2749, 0.4875, 0.2065],\n",
       "          [0.7980, 0.6675, 0.8117,  ..., 0.0995, 0.4796, 0.1791],\n",
       "          [0.9728, 0.2598, 0.3080,  ..., 0.9415, 0.5648, 0.2378],\n",
       "          ...,\n",
       "          [0.2623, 0.1699, 0.7214,  ..., 0.1396, 0.9961, 0.4630],\n",
       "          [0.1971, 0.6569, 0.2240,  ..., 0.4309, 0.5398, 0.2418],\n",
       "          [0.6582, 0.7996, 0.8437,  ..., 0.7145, 0.2085, 0.0669]]],\n",
       "\n",
       "\n",
       "        [[[0.8606, 0.6671, 0.5989,  ..., 0.5453, 0.0882, 0.5455],\n",
       "          [0.4997, 0.2789, 0.7290,  ..., 0.9417, 0.1981, 0.9540],\n",
       "          [0.6250, 0.0308, 0.7690,  ..., 0.7185, 0.6263, 0.7841],\n",
       "          ...,\n",
       "          [0.1390, 0.7308, 0.8808,  ..., 0.7678, 0.5826, 0.4366],\n",
       "          [0.6893, 0.4462, 0.3195,  ..., 0.0972, 0.8143, 0.1527],\n",
       "          [0.7098, 0.7819, 0.0257,  ..., 0.6730, 0.3283, 0.5672]],\n",
       "\n",
       "         [[0.9189, 0.2781, 0.2307,  ..., 0.9376, 0.4737, 0.6119],\n",
       "          [0.4245, 0.5973, 0.4722,  ..., 0.9439, 0.4909, 0.9525],\n",
       "          [0.6784, 0.3228, 0.7089,  ..., 0.5809, 0.1483, 0.1823],\n",
       "          ...,\n",
       "          [0.7146, 0.0367, 0.6522,  ..., 0.4534, 0.4900, 0.7799],\n",
       "          [0.6752, 0.7019, 0.4968,  ..., 0.7700, 0.6025, 0.0086],\n",
       "          [0.2422, 0.7840, 0.4840,  ..., 0.8594, 0.3170, 0.6279]]],\n",
       "\n",
       "\n",
       "        [[[0.8528, 0.3302, 0.1386,  ..., 0.0991, 0.2066, 0.0731],\n",
       "          [0.3169, 0.6544, 0.2322,  ..., 0.2889, 0.0057, 0.8080],\n",
       "          [0.0596, 0.5133, 0.0239,  ..., 0.0172, 0.9317, 0.7673],\n",
       "          ...,\n",
       "          [0.4233, 0.9890, 0.4965,  ..., 0.2049, 0.1016, 0.5308],\n",
       "          [0.1164, 0.6055, 0.4492,  ..., 0.2974, 0.1771, 0.1318],\n",
       "          [0.5132, 0.4646, 0.5092,  ..., 0.7431, 0.0268, 0.5374]],\n",
       "\n",
       "         [[0.8051, 0.1700, 0.5471,  ..., 0.1487, 0.2672, 0.0205],\n",
       "          [0.0050, 0.7305, 0.7827,  ..., 0.3582, 0.4916, 0.1540],\n",
       "          [0.5493, 0.7402, 0.8487,  ..., 0.4094, 0.9331, 0.8123],\n",
       "          ...,\n",
       "          [0.0869, 0.7149, 0.9718,  ..., 0.2991, 0.5698, 0.4608],\n",
       "          [0.2665, 0.9581, 0.4891,  ..., 0.6571, 0.8387, 0.7771],\n",
       "          [0.8541, 0.5166, 0.9504,  ..., 0.0306, 0.0162, 0.0628]]]])"
      ]
     },
     "execution_count": 168,
     "metadata": {},
     "output_type": "execute_result"
    }
   ],
   "source": [
    "a = torch.rand([5,2,26,26])\n",
    "a"
   ]
  },
  {
   "cell_type": "code",
   "execution_count": 169,
   "id": "30054ffd",
   "metadata": {},
   "outputs": [],
   "source": [
    "# 假设这个a就是最后卷积层输出的结果"
   ]
  },
  {
   "cell_type": "markdown",
   "id": "f335d50a",
   "metadata": {},
   "source": [
    "全连接层所要求的特征向量的维度 是两维的 [input_channel,output_channel]"
   ]
  },
  {
   "cell_type": "code",
   "execution_count": 170,
   "id": "fc5c9247",
   "metadata": {},
   "outputs": [],
   "source": [
    "# 我们现在要将这个卷积层出来的结果和全连接层相连 那么我们就要将四维的张量压缩成两维\n",
    "#通常的压缩手法是 batch_size*channel height*width"
   ]
  },
  {
   "cell_type": "code",
   "execution_count": 171,
   "id": "22089bcb",
   "metadata": {},
   "outputs": [],
   "source": [
    "a = a.reshape([-1,1,26,26]) #压缩前两维度"
   ]
  },
  {
   "cell_type": "code",
   "execution_count": 172,
   "id": "c4c11146",
   "metadata": {},
   "outputs": [
    {
     "data": {
      "text/plain": [
       "torch.Size([10, 1, 26, 26])"
      ]
     },
     "execution_count": 172,
     "metadata": {},
     "output_type": "execute_result"
    }
   ],
   "source": [
    "a.shape"
   ]
  },
  {
   "cell_type": "code",
   "execution_count": 175,
   "id": "46892d18",
   "metadata": {},
   "outputs": [],
   "source": [
    "a = a.reshape([10,1,1,-1])"
   ]
  },
  {
   "cell_type": "code",
   "execution_count": 176,
   "id": "d0e1d02e",
   "metadata": {},
   "outputs": [
    {
     "data": {
      "text/plain": [
       "torch.Size([10, 1, 1, 676])"
      ]
     },
     "execution_count": 176,
     "metadata": {},
     "output_type": "execute_result"
    }
   ],
   "source": [
    "a.shape"
   ]
  },
  {
   "cell_type": "code",
   "execution_count": 177,
   "id": "c1a20b99",
   "metadata": {},
   "outputs": [],
   "source": [
    "a = a.squeeze()"
   ]
  },
  {
   "cell_type": "code",
   "execution_count": 178,
   "id": "8175a79e",
   "metadata": {},
   "outputs": [
    {
     "data": {
      "text/plain": [
       "torch.Size([10, 676])"
      ]
     },
     "execution_count": 178,
     "metadata": {},
     "output_type": "execute_result"
    }
   ],
   "source": [
    "a.shape"
   ]
  },
  {
   "cell_type": "code",
   "execution_count": 179,
   "id": "860e89f6",
   "metadata": {},
   "outputs": [],
   "source": [
    "# ok!!!"
   ]
  },
  {
   "cell_type": "markdown",
   "id": "bf73be56",
   "metadata": {},
   "source": [
    "stack"
   ]
  },
  {
   "cell_type": "code",
   "execution_count": 181,
   "id": "6fca2ff1",
   "metadata": {},
   "outputs": [],
   "source": [
    "# torch.stack()\n",
    "# 扩张维度的拼接   cat是直接拼接 不用扩张维度\n",
    "# 所有要拼接的张量的形状必须都是一样的"
   ]
  },
  {
   "cell_type": "code",
   "execution_count": null,
   "id": "189906f7",
   "metadata": {},
   "outputs": [],
   "source": [
    "# torch.stack(tensors, dim=0, *, out=None)"
   ]
  },
  {
   "cell_type": "code",
   "execution_count": 185,
   "id": "b3e41164",
   "metadata": {},
   "outputs": [],
   "source": [
    "a = torch.rand([3,2])"
   ]
  },
  {
   "cell_type": "code",
   "execution_count": 186,
   "id": "7ce9aa9a",
   "metadata": {},
   "outputs": [],
   "source": [
    "b = torch.rand([3,2])"
   ]
  },
  {
   "cell_type": "code",
   "execution_count": 189,
   "id": "697f3bda",
   "metadata": {},
   "outputs": [
    {
     "data": {
      "text/plain": [
       "tensor([[[0.7582, 0.1722],\n",
       "         [0.4379, 0.5665],\n",
       "         [0.7714, 0.9877]],\n",
       "\n",
       "        [[0.7108, 0.9648],\n",
       "         [0.9730, 0.6206],\n",
       "         [0.1857, 0.0716]]])"
      ]
     },
     "execution_count": 189,
     "metadata": {},
     "output_type": "execute_result"
    }
   ],
   "source": [
    "c = torch.stack((a,b),dim=0)\n",
    "c"
   ]
  },
  {
   "cell_type": "code",
   "execution_count": 190,
   "id": "76cd08d6",
   "metadata": {},
   "outputs": [
    {
     "data": {
      "text/plain": [
       "torch.Size([2, 3, 2])"
      ]
     },
     "execution_count": 190,
     "metadata": {},
     "output_type": "execute_result"
    }
   ],
   "source": [
    "c.shape"
   ]
  },
  {
   "cell_type": "code",
   "execution_count": 191,
   "id": "38c01f5d",
   "metadata": {},
   "outputs": [
    {
     "data": {
      "text/plain": [
       "tensor([[[0.7582, 0.1722],\n",
       "         [0.7108, 0.9648]],\n",
       "\n",
       "        [[0.4379, 0.5665],\n",
       "         [0.9730, 0.6206]],\n",
       "\n",
       "        [[0.7714, 0.9877],\n",
       "         [0.1857, 0.0716]]])"
      ]
     },
     "execution_count": 191,
     "metadata": {},
     "output_type": "execute_result"
    }
   ],
   "source": [
    "d = torch.stack((a,b),dim=1)\n",
    "d"
   ]
  },
  {
   "cell_type": "code",
   "execution_count": 192,
   "id": "42d9ae47",
   "metadata": {},
   "outputs": [
    {
     "data": {
      "text/plain": [
       "torch.Size([3, 2, 2])"
      ]
     },
     "execution_count": 192,
     "metadata": {},
     "output_type": "execute_result"
    }
   ],
   "source": [
    "d.shape"
   ]
  },
  {
   "cell_type": "code",
   "execution_count": 193,
   "id": "ec6897a9",
   "metadata": {},
   "outputs": [],
   "source": [
    "# 一个规律 取出张量的第1个位置的值\n",
    "# dim=0 将其加在张量的前面\n",
    "# dim=1 将其加在张量的后面"
   ]
  }
 ],
 "metadata": {
  "kernelspec": {
   "display_name": "Python 3",
   "language": "python",
   "name": "python3"
  },
  "language_info": {
   "codemirror_mode": {
    "name": "ipython",
    "version": 3
   },
   "file_extension": ".py",
   "mimetype": "text/x-python",
   "name": "python",
   "nbconvert_exporter": "python",
   "pygments_lexer": "ipython3",
   "version": "3.8.8"
  }
 },
 "nbformat": 4,
 "nbformat_minor": 5
}
