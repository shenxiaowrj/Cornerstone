{
 "cells": [
  {
   "cell_type": "markdown",
   "id": "8d6dbf1a",
   "metadata": {},
   "source": [
    "3 pytorch中张量的操作（下）"
   ]
  },
  {
   "cell_type": "markdown",
   "id": "f94525df",
   "metadata": {},
   "source": [
    "王汝嘉 2022-07-14"
   ]
  },
  {
   "cell_type": "markdown",
   "id": "1cf7bd8b",
   "metadata": {},
   "source": [
    "pytorch中的数据类型"
   ]
  },
  {
   "cell_type": "markdown",
   "id": "52d37c81",
   "metadata": {},
   "source": [
    "......"
   ]
  },
  {
   "cell_type": "code",
   "execution_count": 229,
   "id": "0c5630f7",
   "metadata": {},
   "outputs": [],
   "source": [
    "import torch"
   ]
  },
  {
   "cell_type": "markdown",
   "id": "f5a62c24",
   "metadata": {},
   "source": [
    "torch.take（） 拿取"
   ]
  },
  {
   "cell_type": "code",
   "execution_count": 230,
   "id": "1b81e24a",
   "metadata": {},
   "outputs": [],
   "source": [
    "# torch.take(input, index)"
   ]
  },
  {
   "cell_type": "code",
   "execution_count": 231,
   "id": "fdd74851",
   "metadata": {},
   "outputs": [
    {
     "data": {
      "text/plain": [
       "tensor([[1, 2, 3],\n",
       "        [4, 5, 6]])"
      ]
     },
     "execution_count": 231,
     "metadata": {},
     "output_type": "execute_result"
    }
   ],
   "source": [
    "src = torch.tensor([[1,2,3],[4,5,6]])\n",
    "src"
   ]
  },
  {
   "cell_type": "code",
   "execution_count": 232,
   "id": "afd0f78c",
   "metadata": {},
   "outputs": [
    {
     "data": {
      "text/plain": [
       "tensor([1, 3, 6])"
      ]
     },
     "execution_count": 232,
     "metadata": {},
     "output_type": "execute_result"
    }
   ],
   "source": [
    "torch.take(input=src,index=torch.tensor([0,2,5]))"
   ]
  },
  {
   "cell_type": "code",
   "execution_count": 233,
   "id": "d909f71f",
   "metadata": {},
   "outputs": [],
   "source": [
    "# take函数是将输入展平 以此来赋予位置信息\n",
    "# 根据索引来拿出对应的数值就可以了"
   ]
  },
  {
   "cell_type": "markdown",
   "id": "c984020f",
   "metadata": {},
   "source": [
    "torch.tile（） 复制"
   ]
  },
  {
   "cell_type": "code",
   "execution_count": 234,
   "id": "b535501e",
   "metadata": {},
   "outputs": [],
   "source": [
    "# torch.tile(input, dims)"
   ]
  },
  {
   "cell_type": "code",
   "execution_count": 235,
   "id": "f654891d",
   "metadata": {},
   "outputs": [
    {
     "data": {
      "text/plain": [
       "tensor([1, 2, 3])"
      ]
     },
     "execution_count": 235,
     "metadata": {},
     "output_type": "execute_result"
    }
   ],
   "source": [
    "#单维度复制\n",
    "a = torch.tensor([1,2,3])\n",
    "a"
   ]
  },
  {
   "cell_type": "code",
   "execution_count": 236,
   "id": "e31770d3",
   "metadata": {},
   "outputs": [
    {
     "data": {
      "text/plain": [
       "torch.Size([3])"
      ]
     },
     "execution_count": 236,
     "metadata": {},
     "output_type": "execute_result"
    }
   ],
   "source": [
    "a.shape"
   ]
  },
  {
   "cell_type": "code",
   "execution_count": 237,
   "id": "070b9927",
   "metadata": {},
   "outputs": [
    {
     "data": {
      "text/plain": [
       "tensor([1, 2, 3, 1, 2, 3])"
      ]
     },
     "execution_count": 237,
     "metadata": {},
     "output_type": "execute_result"
    }
   ],
   "source": [
    "a = a.tile((2))\n",
    "a"
   ]
  },
  {
   "cell_type": "code",
   "execution_count": 238,
   "id": "668a2c2b",
   "metadata": {},
   "outputs": [
    {
     "data": {
      "text/plain": [
       "torch.Size([6])"
      ]
     },
     "execution_count": 238,
     "metadata": {},
     "output_type": "execute_result"
    }
   ],
   "source": [
    "a.shape"
   ]
  },
  {
   "cell_type": "code",
   "execution_count": 239,
   "id": "e1ec9654",
   "metadata": {},
   "outputs": [],
   "source": [
    "#多维度复制"
   ]
  },
  {
   "cell_type": "code",
   "execution_count": 240,
   "id": "cd6c261a",
   "metadata": {},
   "outputs": [
    {
     "data": {
      "text/plain": [
       "tensor([[1, 2],\n",
       "        [3, 4]])"
      ]
     },
     "execution_count": 240,
     "metadata": {},
     "output_type": "execute_result"
    }
   ],
   "source": [
    "b = torch.tensor([[1,2],[3,4]])\n",
    "b"
   ]
  },
  {
   "cell_type": "code",
   "execution_count": 241,
   "id": "de0960eb",
   "metadata": {},
   "outputs": [
    {
     "data": {
      "text/plain": [
       "torch.Size([2, 2])"
      ]
     },
     "execution_count": 241,
     "metadata": {},
     "output_type": "execute_result"
    }
   ],
   "source": [
    "b.shape"
   ]
  },
  {
   "cell_type": "code",
   "execution_count": 242,
   "id": "c4954706",
   "metadata": {},
   "outputs": [
    {
     "data": {
      "text/plain": [
       "tensor([[1, 2, 1, 2],\n",
       "        [3, 4, 3, 4],\n",
       "        [1, 2, 1, 2],\n",
       "        [3, 4, 3, 4]])"
      ]
     },
     "execution_count": 242,
     "metadata": {},
     "output_type": "execute_result"
    }
   ],
   "source": [
    "b = torch.tile(b,dims=(2,2))\n",
    "b"
   ]
  },
  {
   "cell_type": "code",
   "execution_count": 243,
   "id": "61bfe792",
   "metadata": {},
   "outputs": [
    {
     "data": {
      "text/plain": [
       "torch.Size([4, 4])"
      ]
     },
     "execution_count": 243,
     "metadata": {},
     "output_type": "execute_result"
    }
   ],
   "source": [
    "b.shape"
   ]
  },
  {
   "cell_type": "code",
   "execution_count": 244,
   "id": "61409a51",
   "metadata": {},
   "outputs": [],
   "source": [
    "# 根据以上可总结规律  tile复制函数 原本的shape 和 给定的dim 对应相乘 可以得到复制之后的 shape"
   ]
  },
  {
   "cell_type": "code",
   "execution_count": 245,
   "id": "8759a819",
   "metadata": {},
   "outputs": [
    {
     "data": {
      "text/plain": [
       "tensor([[1, 2],\n",
       "        [3, 4]])"
      ]
     },
     "execution_count": 245,
     "metadata": {},
     "output_type": "execute_result"
    }
   ],
   "source": [
    "c = torch.tensor([[1,2],[3,4]])\n",
    "c"
   ]
  },
  {
   "cell_type": "code",
   "execution_count": 246,
   "id": "018e536a",
   "metadata": {},
   "outputs": [
    {
     "data": {
      "text/plain": [
       "tensor([[1, 2],\n",
       "        [3, 4],\n",
       "        [1, 2],\n",
       "        [3, 4]])"
      ]
     },
     "execution_count": 246,
     "metadata": {},
     "output_type": "execute_result"
    }
   ],
   "source": [
    "torch.tile(c,dims=(2,1))"
   ]
  },
  {
   "cell_type": "code",
   "execution_count": 247,
   "id": "28f5f773",
   "metadata": {},
   "outputs": [
    {
     "data": {
      "text/plain": [
       "tensor([[1, 2, 1, 2],\n",
       "        [3, 4, 3, 4]])"
      ]
     },
     "execution_count": 247,
     "metadata": {},
     "output_type": "execute_result"
    }
   ],
   "source": [
    "torch.tile(c,dims=(1,2))"
   ]
  },
  {
   "cell_type": "code",
   "execution_count": 248,
   "id": "20ec66d1",
   "metadata": {},
   "outputs": [],
   "source": [
    "# 根据上边又可以总结规律\n",
    "        #仅在第0维上变动数值 其效果是行数增大相应的倍数\n",
    "        #仅在第1维上变动数值 其效果是列数增大相应的倍数"
   ]
  },
  {
   "cell_type": "code",
   "execution_count": 249,
   "id": "f52387bf",
   "metadata": {},
   "outputs": [
    {
     "data": {
      "text/plain": [
       "torch.Size([2, 3, 4, 5, 6, 7])"
      ]
     },
     "execution_count": 249,
     "metadata": {},
     "output_type": "execute_result"
    }
   ],
   "source": [
    "d = torch.rand([2,3,4,5,6,7])\n",
    "d.shape"
   ]
  },
  {
   "cell_type": "code",
   "execution_count": 250,
   "id": "e5ec0941",
   "metadata": {},
   "outputs": [
    {
     "data": {
      "text/plain": [
       "torch.Size([2, 3, 4, 5, 12, 14])"
      ]
     },
     "execution_count": 250,
     "metadata": {},
     "output_type": "execute_result"
    }
   ],
   "source": [
    "e = torch.tile(d,dims=[2,2])\n",
    "e.shape"
   ]
  },
  {
   "cell_type": "code",
   "execution_count": 251,
   "id": "9963a75b",
   "metadata": {},
   "outputs": [
    {
     "data": {
      "text/plain": [
       "torch.Size([2, 3, 4, 5, 12, 14])"
      ]
     },
     "execution_count": 251,
     "metadata": {},
     "output_type": "execute_result"
    }
   ],
   "source": [
    "f = torch.tile(d,dims=[1,1,1,2,2])\n",
    "f.shape"
   ]
  },
  {
   "cell_type": "code",
   "execution_count": 252,
   "id": "fd79685f",
   "metadata": {},
   "outputs": [],
   "source": [
    "#根据上面 我们发现 dims=[2,2] 和 dims=[1,1,1,2,2，]的效果是一样的 也就是说tile函数在shape和dim不匹配的时候 会自动在前面补1"
   ]
  },
  {
   "cell_type": "code",
   "execution_count": 253,
   "id": "74570c69",
   "metadata": {},
   "outputs": [
    {
     "data": {
      "text/plain": [
       "torch.Size([2, 3])"
      ]
     },
     "execution_count": 253,
     "metadata": {},
     "output_type": "execute_result"
    }
   ],
   "source": [
    "g = torch.rand([2,3])\n",
    "g.shape"
   ]
  },
  {
   "cell_type": "code",
   "execution_count": 254,
   "id": "ed51faa4",
   "metadata": {},
   "outputs": [
    {
     "data": {
      "text/plain": [
       "torch.Size([2, 2, 4, 6])"
      ]
     },
     "execution_count": 254,
     "metadata": {},
     "output_type": "execute_result"
    }
   ],
   "source": [
    "h = torch.tile(g,dims=[2,2,2,2])\n",
    "h.shape"
   ]
  },
  {
   "cell_type": "code",
   "execution_count": 255,
   "id": "d5954365",
   "metadata": {},
   "outputs": [
    {
     "data": {
      "text/plain": [
       "torch.Size([1, 2, 3])"
      ]
     },
     "execution_count": 255,
     "metadata": {},
     "output_type": "execute_result"
    }
   ],
   "source": [
    "g = g.unsqueeze(0)\n",
    "g.shape"
   ]
  },
  {
   "cell_type": "code",
   "execution_count": 256,
   "id": "a09df952",
   "metadata": {},
   "outputs": [
    {
     "data": {
      "text/plain": [
       "torch.Size([1, 1, 2, 3])"
      ]
     },
     "execution_count": 256,
     "metadata": {},
     "output_type": "execute_result"
    }
   ],
   "source": [
    "g = g.unsqueeze(0)\n",
    "g.shape"
   ]
  },
  {
   "cell_type": "code",
   "execution_count": 257,
   "id": "df11eedd",
   "metadata": {},
   "outputs": [
    {
     "data": {
      "text/plain": [
       "torch.Size([2, 2, 4, 6])"
      ]
     },
     "execution_count": 257,
     "metadata": {},
     "output_type": "execute_result"
    }
   ],
   "source": [
    "i = torch.tile(g,dims=[2,2,2,2,])\n",
    "i.shape"
   ]
  },
  {
   "cell_type": "code",
   "execution_count": 258,
   "id": "3da2ca76",
   "metadata": {},
   "outputs": [],
   "source": [
    "# 根据上面我们可以发现 当shape比dim少的时候 会在shape的前面补1 使用unsqueeze的方法 直至补到二者长度相等"
   ]
  },
  {
   "cell_type": "markdown",
   "id": "bfff8e2f",
   "metadata": {},
   "source": [
    "torch.transpose"
   ]
  },
  {
   "cell_type": "code",
   "execution_count": 259,
   "id": "819a2489",
   "metadata": {},
   "outputs": [],
   "source": [
    "# torch.transpose(input, dim0, dim1)"
   ]
  },
  {
   "cell_type": "code",
   "execution_count": 260,
   "id": "aea01795",
   "metadata": {},
   "outputs": [],
   "source": [
    "# 转置 线性代数里边矩阵的转置"
   ]
  },
  {
   "cell_type": "code",
   "execution_count": 261,
   "id": "d1557129",
   "metadata": {},
   "outputs": [
    {
     "data": {
      "text/plain": [
       "torch.Size([2, 3])"
      ]
     },
     "execution_count": 261,
     "metadata": {},
     "output_type": "execute_result"
    }
   ],
   "source": [
    "a = torch.randn([2,3])\n",
    "a.shape"
   ]
  },
  {
   "cell_type": "code",
   "execution_count": 262,
   "id": "7de8a6ff",
   "metadata": {},
   "outputs": [],
   "source": [
    "# torch.randn 按照高斯分布来随机取值 \n",
    "# torch.rand 按照均匀分布来随机取值"
   ]
  },
  {
   "cell_type": "code",
   "execution_count": 263,
   "id": "3089e65b",
   "metadata": {},
   "outputs": [
    {
     "data": {
      "text/plain": [
       "torch.Size([3, 2])"
      ]
     },
     "execution_count": 263,
     "metadata": {},
     "output_type": "execute_result"
    }
   ],
   "source": [
    "b = torch.transpose(a,dim0=0,dim1=1)\n",
    "b.shape"
   ]
  },
  {
   "cell_type": "code",
   "execution_count": 264,
   "id": "9baf87eb",
   "metadata": {},
   "outputs": [
    {
     "data": {
      "text/plain": [
       "torch.Size([3, 2])"
      ]
     },
     "execution_count": 264,
     "metadata": {},
     "output_type": "execute_result"
    }
   ],
   "source": [
    "c = torch.transpose(a,dim0=1,dim1=0)\n",
    "c.shape"
   ]
  },
  {
   "cell_type": "code",
   "execution_count": 265,
   "id": "93e158ea",
   "metadata": {},
   "outputs": [],
   "source": [
    "# 根据上面可知，dim0 dim1的选择没有从大到小 或者 从小到大的要求 只要写上要交换的两个维度就可以了"
   ]
  },
  {
   "cell_type": "code",
   "execution_count": 266,
   "id": "a7da2c92",
   "metadata": {},
   "outputs": [
    {
     "data": {
      "text/plain": [
       "tensor([[ 1.0038,  0.8231, -0.1380],\n",
       "        [-1.0054, -0.8754,  0.8861]])"
      ]
     },
     "execution_count": 266,
     "metadata": {},
     "output_type": "execute_result"
    }
   ],
   "source": [
    "d = torch.randn([2,3])\n",
    "d"
   ]
  },
  {
   "cell_type": "code",
   "execution_count": 267,
   "id": "498c569e",
   "metadata": {},
   "outputs": [
    {
     "data": {
      "text/plain": [
       "tensor([[ 1.0038, -1.0054],\n",
       "        [ 0.8231, -0.8754],\n",
       "        [-0.1380,  0.8861]])"
      ]
     },
     "execution_count": 267,
     "metadata": {},
     "output_type": "execute_result"
    }
   ],
   "source": [
    "d = torch.transpose(d,0,1)\n",
    "d"
   ]
  },
  {
   "cell_type": "code",
   "execution_count": 268,
   "id": "23fca094",
   "metadata": {},
   "outputs": [],
   "source": [
    "# 看一下转置的直观理解，转置前矩阵的第0行 作为 转置后矩阵的第0列\n",
    "# 转置前矩阵的第1行 作为 转置后矩阵的第1列"
   ]
  },
  {
   "cell_type": "markdown",
   "id": "405f9f61",
   "metadata": {},
   "source": [
    "torch.unbind"
   ]
  },
  {
   "cell_type": "code",
   "execution_count": 269,
   "id": "103ef4b7",
   "metadata": {},
   "outputs": [],
   "source": [
    "# torch.unbind(input, dim=0) "
   ]
  },
  {
   "cell_type": "code",
   "execution_count": 270,
   "id": "d1ff4c45",
   "metadata": {},
   "outputs": [],
   "source": [
    "# Remove a tensor dimension."
   ]
  },
  {
   "cell_type": "code",
   "execution_count": 271,
   "id": "ebf3c662",
   "metadata": {},
   "outputs": [],
   "source": [
    "# Returns a tuple of all slices along g given dimension,already without it."
   ]
  },
  {
   "cell_type": "code",
   "execution_count": 272,
   "id": "1777dab9",
   "metadata": {},
   "outputs": [
    {
     "data": {
      "text/plain": [
       "tensor([[0.4608, 0.1728],\n",
       "        [0.5975, 0.6908],\n",
       "        [0.6517, 0.8630]])"
      ]
     },
     "execution_count": 272,
     "metadata": {},
     "output_type": "execute_result"
    }
   ],
   "source": [
    "a = torch.rand([3,2])\n",
    "a"
   ]
  },
  {
   "cell_type": "code",
   "execution_count": 273,
   "id": "2f70d221",
   "metadata": {},
   "outputs": [
    {
     "data": {
      "text/plain": [
       "(tensor([0.4608, 0.1728]), tensor([0.5975, 0.6908]), tensor([0.6517, 0.8630]))"
      ]
     },
     "execution_count": 273,
     "metadata": {},
     "output_type": "execute_result"
    }
   ],
   "source": [
    "# 按行拆分\n",
    "torch.unbind(a,dim=0)"
   ]
  },
  {
   "cell_type": "code",
   "execution_count": 274,
   "id": "d15f1c4e",
   "metadata": {},
   "outputs": [
    {
     "data": {
      "text/plain": [
       "(tensor([0.4608, 0.5975, 0.6517]), tensor([0.1728, 0.6908, 0.8630]))"
      ]
     },
     "execution_count": 274,
     "metadata": {},
     "output_type": "execute_result"
    }
   ],
   "source": [
    "# 按列拆分\n",
    "torch.unbind(a,dim=1)"
   ]
  },
  {
   "cell_type": "code",
   "execution_count": 275,
   "id": "e09db310",
   "metadata": {},
   "outputs": [],
   "source": [
    "b = torch.randn([2,3,4])"
   ]
  },
  {
   "cell_type": "code",
   "execution_count": 276,
   "id": "6b653c61",
   "metadata": {},
   "outputs": [
    {
     "data": {
      "text/plain": [
       "(tensor([[-0.0233, -0.1939,  0.2030, -1.4739],\n",
       "         [ 1.0828, -1.7300,  1.5941,  1.4307],\n",
       "         [ 0.2101, -1.2282,  0.5801, -0.6352]]),\n",
       " tensor([[-0.0922, -0.5681,  2.6273, -0.3455],\n",
       "         [-0.2412, -0.4151,  0.5270,  0.5611],\n",
       "         [ 1.7443,  0.2686,  0.5696,  2.1441]]))"
      ]
     },
     "execution_count": 276,
     "metadata": {},
     "output_type": "execute_result"
    }
   ],
   "source": [
    "torch.unbind(b,dim=0)"
   ]
  },
  {
   "cell_type": "code",
   "execution_count": 277,
   "id": "b946dd3f",
   "metadata": {},
   "outputs": [
    {
     "data": {
      "text/plain": [
       "(tensor([[-0.0233, -0.1939,  0.2030, -1.4739],\n",
       "         [-0.0922, -0.5681,  2.6273, -0.3455]]),\n",
       " tensor([[ 1.0828, -1.7300,  1.5941,  1.4307],\n",
       "         [-0.2412, -0.4151,  0.5270,  0.5611]]),\n",
       " tensor([[ 0.2101, -1.2282,  0.5801, -0.6352],\n",
       "         [ 1.7443,  0.2686,  0.5696,  2.1441]]))"
      ]
     },
     "execution_count": 277,
     "metadata": {},
     "output_type": "execute_result"
    }
   ],
   "source": [
    "torch.unbind(b,dim=1)"
   ]
  },
  {
   "cell_type": "code",
   "execution_count": 278,
   "id": "6ce52fb6",
   "metadata": {},
   "outputs": [
    {
     "data": {
      "text/plain": [
       "(tensor([[-0.0233,  1.0828,  0.2101],\n",
       "         [-0.0922, -0.2412,  1.7443]]),\n",
       " tensor([[-0.1939, -1.7300, -1.2282],\n",
       "         [-0.5681, -0.4151,  0.2686]]),\n",
       " tensor([[0.2030, 1.5941, 0.5801],\n",
       "         [2.6273, 0.5270, 0.5696]]),\n",
       " tensor([[-1.4739,  1.4307, -0.6352],\n",
       "         [-0.3455,  0.5611,  2.1441]]))"
      ]
     },
     "execution_count": 278,
     "metadata": {},
     "output_type": "execute_result"
    }
   ],
   "source": [
    "torch.unbind(b,dim=2)"
   ]
  },
  {
   "cell_type": "code",
   "execution_count": 279,
   "id": "0cf57028",
   "metadata": {},
   "outputs": [],
   "source": [
    "# 根据上面可知，对应的要拆分的维度的值 即为最后拆分出的tuple里边元素的个数"
   ]
  },
  {
   "cell_type": "markdown",
   "id": "2291a383",
   "metadata": {},
   "source": [
    "unsqueeze"
   ]
  },
  {
   "cell_type": "code",
   "execution_count": 280,
   "id": "c15f4192",
   "metadata": {},
   "outputs": [],
   "source": [
    "x = torch.tensor([1,2,3,4])"
   ]
  },
  {
   "cell_type": "code",
   "execution_count": 281,
   "id": "34b695e8",
   "metadata": {},
   "outputs": [
    {
     "data": {
      "text/plain": [
       "tensor([[1, 2, 3, 4]])"
      ]
     },
     "execution_count": 281,
     "metadata": {},
     "output_type": "execute_result"
    }
   ],
   "source": [
    "torch.unsqueeze(x,0)"
   ]
  },
  {
   "cell_type": "code",
   "execution_count": 282,
   "id": "3a51b296",
   "metadata": {},
   "outputs": [
    {
     "data": {
      "text/plain": [
       "tensor([[1],\n",
       "        [2],\n",
       "        [3],\n",
       "        [4]])"
      ]
     },
     "execution_count": 282,
     "metadata": {},
     "output_type": "execute_result"
    }
   ],
   "source": [
    "torch.unsqueeze(x,1)"
   ]
  },
  {
   "cell_type": "markdown",
   "id": "6d057fe4",
   "metadata": {},
   "source": [
    "where"
   ]
  },
  {
   "cell_type": "code",
   "execution_count": 283,
   "id": "9585a004",
   "metadata": {},
   "outputs": [],
   "source": [
    "# dim=-1 则默认对最后一维进行扩充"
   ]
  },
  {
   "cell_type": "markdown",
   "id": "6384921b",
   "metadata": {},
   "source": [
    "torch.where"
   ]
  },
  {
   "cell_type": "code",
   "execution_count": 284,
   "id": "bdc584b1",
   "metadata": {},
   "outputs": [],
   "source": [
    "# torch.where(condition, x, y)"
   ]
  },
  {
   "cell_type": "code",
   "execution_count": 285,
   "id": "2db78d50",
   "metadata": {},
   "outputs": [],
   "source": [
    "# Return a tensor of elements selected from either x or y, depending on condition."
   ]
  },
  {
   "cell_type": "code",
   "execution_count": 286,
   "id": "365d5981",
   "metadata": {},
   "outputs": [],
   "source": [
    "# 对x进行条件conditions审视和过滤，满足的条件表示过滤成功，则仍为x,不满足条件的，则将x替换成对应位置的y"
   ]
  },
  {
   "cell_type": "code",
   "execution_count": 287,
   "id": "28efc62c",
   "metadata": {},
   "outputs": [],
   "source": [
    "# y可以是带索引的 也可以只是一个标量"
   ]
  },
  {
   "cell_type": "code",
   "execution_count": 288,
   "id": "ac44a9e1",
   "metadata": {},
   "outputs": [
    {
     "data": {
      "text/plain": [
       "tensor([[-0.5951, -0.9366],\n",
       "        [ 2.4538,  0.1801],\n",
       "        [-0.3842, -0.9655]])"
      ]
     },
     "execution_count": 288,
     "metadata": {},
     "output_type": "execute_result"
    }
   ],
   "source": [
    "# x,y的形状是一样的\n",
    "x = torch.randn([3,2])\n",
    "x"
   ]
  },
  {
   "cell_type": "code",
   "execution_count": 289,
   "id": "6e671e70",
   "metadata": {},
   "outputs": [
    {
     "data": {
      "text/plain": [
       "tensor([[1., 1.],\n",
       "        [1., 1.],\n",
       "        [1., 1.]])"
      ]
     },
     "execution_count": 289,
     "metadata": {},
     "output_type": "execute_result"
    }
   ],
   "source": [
    "y = torch.ones_like(x)\n",
    "y"
   ]
  },
  {
   "cell_type": "code",
   "execution_count": 290,
   "id": "0dfc46a3",
   "metadata": {},
   "outputs": [
    {
     "data": {
      "text/plain": [
       "tensor([[1.0000, 1.0000],\n",
       "        [2.4538, 0.1801],\n",
       "        [1.0000, 1.0000]])"
      ]
     },
     "execution_count": 290,
     "metadata": {},
     "output_type": "execute_result"
    }
   ],
   "source": [
    "c = torch.where(x>0,x,y)\n",
    "c"
   ]
  },
  {
   "cell_type": "code",
   "execution_count": 291,
   "id": "1266cac2",
   "metadata": {},
   "outputs": [],
   "source": [
    "# y只是一个标量"
   ]
  },
  {
   "cell_type": "code",
   "execution_count": 292,
   "id": "7a9bd6ab",
   "metadata": {},
   "outputs": [
    {
     "data": {
      "text/plain": [
       "tensor([1])"
      ]
     },
     "execution_count": 292,
     "metadata": {},
     "output_type": "execute_result"
    }
   ],
   "source": [
    "yy = torch.tensor([1,])\n",
    "yy"
   ]
  },
  {
   "cell_type": "code",
   "execution_count": 293,
   "id": "822fd57a",
   "metadata": {},
   "outputs": [
    {
     "data": {
      "text/plain": [
       "tensor([[1.0000, 1.0000],\n",
       "        [2.4538, 0.1801],\n",
       "        [1.0000, 1.0000]])"
      ]
     },
     "execution_count": 293,
     "metadata": {},
     "output_type": "execute_result"
    }
   ],
   "source": [
    "d = torch.where(x>0,x,y)\n",
    "d"
   ]
  },
  {
   "cell_type": "code",
   "execution_count": 294,
   "id": "49966a4e",
   "metadata": {},
   "outputs": [],
   "source": [
    "### 请你测试一下 当x,y的shape不同的时候，还可不可以使用where函数"
   ]
  },
  {
   "cell_type": "code",
   "execution_count": 295,
   "id": "06a9da50",
   "metadata": {},
   "outputs": [
    {
     "data": {
      "text/plain": [
       "tensor([[ 0.9967,  0.8005, -1.0338],\n",
       "        [ 1.3953, -0.1150,  0.4888],\n",
       "        [ 0.4210,  0.0839,  1.0417]], dtype=torch.float64)"
      ]
     },
     "execution_count": 295,
     "metadata": {},
     "output_type": "execute_result"
    }
   ],
   "source": [
    "x = torch.randn(3,3,dtype=torch.double)\n",
    "x"
   ]
  },
  {
   "cell_type": "code",
   "execution_count": 296,
   "id": "9a45440b",
   "metadata": {},
   "outputs": [
    {
     "ename": "RuntimeError",
     "evalue": "expected scalar type double but found __int64",
     "output_type": "error",
     "traceback": [
      "\u001b[1;31m---------------------------------------------------------------------------\u001b[0m",
      "\u001b[1;31mRuntimeError\u001b[0m                              Traceback (most recent call last)",
      "\u001b[1;32m<ipython-input-296-286730a36dc8>\u001b[0m in \u001b[0;36m<module>\u001b[1;34m\u001b[0m\n\u001b[1;32m----> 1\u001b[1;33m \u001b[0mx\u001b[0m \u001b[1;33m=\u001b[0m \u001b[0mtorch\u001b[0m\u001b[1;33m.\u001b[0m\u001b[0mwhere\u001b[0m\u001b[1;33m(\u001b[0m\u001b[0mx\u001b[0m\u001b[1;33m>\u001b[0m\u001b[1;36m0\u001b[0m\u001b[1;33m,\u001b[0m\u001b[0mx\u001b[0m\u001b[1;33m,\u001b[0m\u001b[1;36m0\u001b[0m\u001b[1;33m)\u001b[0m\u001b[1;33m\u001b[0m\u001b[1;33m\u001b[0m\u001b[0m\n\u001b[0m\u001b[0;32m      2\u001b[0m \u001b[0mx\u001b[0m\u001b[1;33m\u001b[0m\u001b[1;33m\u001b[0m\u001b[0m\n",
      "\u001b[1;31mRuntimeError\u001b[0m: expected scalar type double but found __int64"
     ]
    }
   ],
   "source": [
    "x = torch.where(x>0,x,0)\n",
    "x"
   ]
  },
  {
   "cell_type": "code",
   "execution_count": 297,
   "id": "dd8a94fd",
   "metadata": {},
   "outputs": [],
   "source": [
    "# 注意这个问题。x y的数据类型需要是一样的"
   ]
  },
  {
   "cell_type": "code",
   "execution_count": 298,
   "id": "82b76f06",
   "metadata": {},
   "outputs": [
    {
     "data": {
      "text/plain": [
       "tensor([[0.9967, 0.8005, 0.0000],\n",
       "        [1.3953, 0.0000, 0.4888],\n",
       "        [0.4210, 0.0839, 1.0417]], dtype=torch.float64)"
      ]
     },
     "execution_count": 298,
     "metadata": {},
     "output_type": "execute_result"
    }
   ],
   "source": [
    "x = torch.where(x>0,x,0.)\n",
    "x"
   ]
  },
  {
   "cell_type": "code",
   "execution_count": 299,
   "id": "678e9199",
   "metadata": {},
   "outputs": [],
   "source": [
    "# 这样就可以了"
   ]
  },
  {
   "cell_type": "markdown",
   "id": "59e01948",
   "metadata": {},
   "source": [
    "random seed"
   ]
  },
  {
   "cell_type": "markdown",
   "id": "2fcc1b55",
   "metadata": {},
   "source": [
    "超级常用的操作\n",
    "\n",
    "固定随机种子 让模型保持是用随机的数据进行训练的条件 同时让结果可复现\n",
    "\n",
    "也就是说 让记录下来取随机的方式 下次取随机的时候 仍然这样取"
   ]
  },
  {
   "cell_type": "markdown",
   "id": "65620195",
   "metadata": {},
   "source": [
    "torch.manual_seed(seed)"
   ]
  },
  {
   "cell_type": "code",
   "execution_count": 300,
   "id": "f9206004",
   "metadata": {},
   "outputs": [],
   "source": [
    "# torch.manual_seed(seed)"
   ]
  },
  {
   "cell_type": "code",
   "execution_count": 301,
   "id": "349975dc",
   "metadata": {},
   "outputs": [],
   "source": [
    "# Sets the seed for generating random numbers. Returns a torch.Generator object."
   ]
  },
  {
   "cell_type": "code",
   "execution_count": 302,
   "id": "41e87045",
   "metadata": {},
   "outputs": [],
   "source": [
    "# Source code:\n",
    "def manual_seed(seed) -> torch._C.Generator:\n",
    "    r\"\"\"Sets the seed for generating random numbers. Returns a\n",
    "    `torch.Generator` object.\n",
    "\n",
    "    Args:\n",
    "        seed (int): The desired seed. Value must be within the inclusive range\n",
    "            `[-0x8000_0000_0000_0000, 0xffff_ffff_ffff_ffff]`. Otherwise, a RuntimeError\n",
    "            is raised. Negative inputs are remapped to positive values with the formula\n",
    "            `0xffff_ffff_ffff_ffff + seed`.\n",
    "    \"\"\"\n",
    "    seed = int(seed)\n",
    "    import torch.cuda\n",
    "\n",
    "    if not torch.cuda._is_in_bad_fork():\n",
    "        torch.cuda.manual_seed_all(seed)\n",
    "\n",
    "    return default_generator.manual_seed(seed)"
   ]
  },
  {
   "cell_type": "code",
   "execution_count": 303,
   "id": "fa584ddd",
   "metadata": {},
   "outputs": [],
   "source": [
    "# 也就说，在调用这个函数的时候，它会自己查看是否有cuda 也就是是否在gpu上运行 若是在gpu上运行了 那么也会固定一个随机种子\n",
    "# 所以不用担心cpu 还是 gpu 直接使用就好"
   ]
  },
  {
   "cell_type": "code",
   "execution_count": 304,
   "id": "b0f1b039",
   "metadata": {},
   "outputs": [],
   "source": [
    "random_seed = torch.manual_seed(1)"
   ]
  },
  {
   "cell_type": "code",
   "execution_count": 305,
   "id": "5b8f92e1",
   "metadata": {},
   "outputs": [],
   "source": [
    "# 这样设置一下，它就自动生效了！"
   ]
  },
  {
   "cell_type": "code",
   "execution_count": 306,
   "id": "b006e4b5",
   "metadata": {},
   "outputs": [
    {
     "data": {
      "text/plain": [
       "tensor([[ 0.6614,  0.2669],\n",
       "        [ 0.0617,  0.6213],\n",
       "        [-0.4519, -0.1661]])"
      ]
     },
     "execution_count": 306,
     "metadata": {},
     "output_type": "execute_result"
    }
   ],
   "source": [
    "a = torch.randn([3,2])\n",
    "a"
   ]
  },
  {
   "cell_type": "code",
   "execution_count": 307,
   "id": "0f76fccc",
   "metadata": {},
   "outputs": [],
   "source": [
    "# 从设定随机种子的那个代码开始运行，你会发现a的值就是固定的"
   ]
  },
  {
   "cell_type": "code",
   "execution_count": 308,
   "id": "f5c1ade6",
   "metadata": {},
   "outputs": [],
   "source": [
    "# 所以要把随机种子的设定，放在项目的最前面"
   ]
  },
  {
   "cell_type": "code",
   "execution_count": 309,
   "id": "d7f40e8c",
   "metadata": {},
   "outputs": [],
   "source": [
    "# 建议每个工程都设定一个随机种子 保证工程结果的可复现"
   ]
  },
  {
   "cell_type": "code",
   "execution_count": 310,
   "id": "4fe69256",
   "metadata": {},
   "outputs": [],
   "source": [
    "# 同时需要注意的是，numpy之中的随机种子是需要单独用numpy库中的函数进行固定的\n",
    "# numpy.random.seed(0)"
   ]
  },
  {
   "cell_type": "markdown",
   "id": "43d522af",
   "metadata": {},
   "source": [
    "随机数方法"
   ]
  },
  {
   "cell_type": "markdown",
   "id": "8133a6dd",
   "metadata": {},
   "source": [
    "torch.bernoulli"
   ]
  },
  {
   "cell_type": "code",
   "execution_count": 311,
   "id": "af03e73f",
   "metadata": {},
   "outputs": [],
   "source": [
    "# torch.bernoulli(input, *, generator=None, out=None) "
   ]
  },
  {
   "cell_type": "code",
   "execution_count": 312,
   "id": "b62b84f9",
   "metadata": {},
   "outputs": [],
   "source": [
    "# Draws binary random numbers (0 or 1) from a Bernoulli distribution."
   ]
  },
  {
   "cell_type": "code",
   "execution_count": 313,
   "id": "1f1bc434",
   "metadata": {},
   "outputs": [],
   "source": [
    "# 给定概率 根据概率生成0，1"
   ]
  },
  {
   "cell_type": "code",
   "execution_count": 314,
   "id": "dfc9eac1",
   "metadata": {},
   "outputs": [
    {
     "data": {
      "text/plain": [
       "tensor([[0., 0., 0.],\n",
       "        [0., 0., 0.],\n",
       "        [0., 0., 0.]])"
      ]
     },
     "execution_count": 314,
     "metadata": {},
     "output_type": "execute_result"
    }
   ],
   "source": [
    "a = torch.empty(3,3)\n",
    "a"
   ]
  },
  {
   "cell_type": "code",
   "execution_count": 315,
   "id": "aed61cc9",
   "metadata": {},
   "outputs": [
    {
     "data": {
      "text/plain": [
       "torch.float32"
      ]
     },
     "execution_count": 315,
     "metadata": {},
     "output_type": "execute_result"
    }
   ],
   "source": [
    "a.dtype"
   ]
  },
  {
   "cell_type": "code",
   "execution_count": 316,
   "id": "166be9dd",
   "metadata": {},
   "outputs": [],
   "source": [
    "# 新的操作 默认返回数据类型为float32的全为0的值"
   ]
  },
  {
   "cell_type": "code",
   "execution_count": 317,
   "id": "c0405e8f",
   "metadata": {},
   "outputs": [
    {
     "data": {
      "text/plain": [
       "tensor([[0.6826, 0.3051, 0.4635],\n",
       "        [0.4550, 0.5725, 0.4980],\n",
       "        [0.9371, 0.6556, 0.3138]])"
      ]
     },
     "execution_count": 317,
     "metadata": {},
     "output_type": "execute_result"
    }
   ],
   "source": [
    "a = torch.empty(3,3).uniform_(0,1)\n",
    "a"
   ]
  },
  {
   "cell_type": "code",
   "execution_count": 318,
   "id": "8477a055",
   "metadata": {},
   "outputs": [],
   "source": [
    "# .uniform_(0,1) 向对象矩阵中 填充范围从0到1的随机数"
   ]
  },
  {
   "cell_type": "code",
   "execution_count": 319,
   "id": "993408f1",
   "metadata": {},
   "outputs": [
    {
     "data": {
      "text/plain": [
       "tensor([[1., 0., 1.],\n",
       "        [1., 1., 0.],\n",
       "        [1., 1., 0.]])"
      ]
     },
     "execution_count": 319,
     "metadata": {},
     "output_type": "execute_result"
    }
   ],
   "source": [
    "torch.bernoulli(a)"
   ]
  },
  {
   "cell_type": "code",
   "execution_count": 320,
   "id": "5602098b",
   "metadata": {},
   "outputs": [],
   "source": [
    "# 一个发现：固定随机种子之后 之前 torch.empty里边的值 会被固定 不再为float32 位的0"
   ]
  },
  {
   "cell_type": "markdown",
   "id": "6a099339",
   "metadata": {},
   "source": [
    "torch.normal"
   ]
  },
  {
   "cell_type": "code",
   "execution_count": 321,
   "id": "0593a7d8",
   "metadata": {},
   "outputs": [],
   "source": [
    "# 按正态分布随机取值"
   ]
  },
  {
   "cell_type": "code",
   "execution_count": 322,
   "id": "7c1d0149",
   "metadata": {},
   "outputs": [],
   "source": [
    "# torch.normal(mean, std, *, generator=None, out=None)"
   ]
  },
  {
   "cell_type": "code",
   "execution_count": 323,
   "id": "e77dde98",
   "metadata": {},
   "outputs": [],
   "source": [
    "# mean 均值 std 方差"
   ]
  },
  {
   "cell_type": "code",
   "execution_count": 324,
   "id": "95ffe8d7",
   "metadata": {},
   "outputs": [
    {
     "data": {
      "text/plain": [
       "tensor([2.0579, 2.8658, 3.3148, 4.7925, 4.6758, 4.8949, 7.8452, 7.9988, 9.2760,\n",
       "        9.8649])"
      ]
     },
     "execution_count": 324,
     "metadata": {},
     "output_type": "execute_result"
    }
   ],
   "source": [
    "# 指定均值的范围 方差的范围 来取值\n",
    "torch.normal(mean=torch.arange(1.,11.),std=torch.arange(1,0,-0.1))"
   ]
  },
  {
   "cell_type": "code",
   "execution_count": 325,
   "id": "37589288",
   "metadata": {},
   "outputs": [
    {
     "data": {
      "text/plain": [
       "tensor([[3.0364, 3.5137, 7.4640]])"
      ]
     },
     "execution_count": 325,
     "metadata": {},
     "output_type": "execute_result"
    }
   ],
   "source": [
    "# 指定均值和方差，来根据范围取值\n",
    "torch.normal(mean=2,std=3,size=(1,3))"
   ]
  },
  {
   "cell_type": "code",
   "execution_count": 326,
   "id": "fea3b984",
   "metadata": {},
   "outputs": [],
   "source": [
    "### 请你根据官方文档 将其它可能的操作记录在下面"
   ]
  },
  {
   "cell_type": "markdown",
   "id": "45075679",
   "metadata": {},
   "source": [
    "rand"
   ]
  },
  {
   "cell_type": "code",
   "execution_count": 327,
   "id": "5ed07924",
   "metadata": {},
   "outputs": [
    {
     "data": {
      "text/plain": [
       "tensor([[0.8045, 0.6552, 0.1768],\n",
       "        [0.8248, 0.8036, 0.9434]])"
      ]
     },
     "execution_count": 327,
     "metadata": {},
     "output_type": "execute_result"
    }
   ],
   "source": [
    "torch.rand([2,3])"
   ]
  },
  {
   "cell_type": "code",
   "execution_count": 328,
   "id": "75cb18bf",
   "metadata": {},
   "outputs": [],
   "source": [
    "#[0,1)"
   ]
  },
  {
   "cell_type": "markdown",
   "id": "caaab89f",
   "metadata": {},
   "source": [
    "rand_like"
   ]
  },
  {
   "cell_type": "code",
   "execution_count": 329,
   "id": "169d6729",
   "metadata": {},
   "outputs": [
    {
     "data": {
      "text/plain": [
       "tensor([[0.2197, 0.4177],\n",
       "        [0.4903, 0.5730],\n",
       "        [0.1205, 0.1452]])"
      ]
     },
     "execution_count": 329,
     "metadata": {},
     "output_type": "execute_result"
    }
   ],
   "source": [
    "torch.rand_like(torch.ones([3,2]))"
   ]
  },
  {
   "cell_type": "markdown",
   "id": "b174dd02",
   "metadata": {},
   "source": [
    "randint"
   ]
  },
  {
   "cell_type": "code",
   "execution_count": 330,
   "id": "a6359dcd",
   "metadata": {},
   "outputs": [],
   "source": [
    "#torch.randint(low=0, high, size, \\*, generator=None, out=None, dtype=None, layout=torch.strided, device=None, requires_grad=False)"
   ]
  },
  {
   "cell_type": "code",
   "execution_count": 331,
   "id": "83adc86f",
   "metadata": {},
   "outputs": [
    {
     "data": {
      "text/plain": [
       "tensor([[1, 3, 4, 2, 4, 0]])"
      ]
     },
     "execution_count": 331,
     "metadata": {},
     "output_type": "execute_result"
    }
   ],
   "source": [
    "torch.randint(8,size=[1,6])"
   ]
  },
  {
   "cell_type": "code",
   "execution_count": 332,
   "id": "c451f0dc",
   "metadata": {},
   "outputs": [],
   "source": [
    "# 从[0,7]之中随机取值 数据类型是int型的"
   ]
  },
  {
   "cell_type": "markdown",
   "id": "f1decd60",
   "metadata": {},
   "source": [
    "randint_like"
   ]
  },
  {
   "cell_type": "code",
   "execution_count": 333,
   "id": "be5dbe09",
   "metadata": {},
   "outputs": [],
   "source": [
    "# torch.randint_like(input, low=0, high, \\*, dtype=None,\n",
    "# layout=torch.strided, device=None, requires_grad=False, memory_format=torch.preserve_format)"
   ]
  },
  {
   "cell_type": "code",
   "execution_count": 334,
   "id": "e8e36438",
   "metadata": {},
   "outputs": [
    {
     "data": {
      "text/plain": [
       "tensor([[6., 7.],\n",
       "        [6., 7.],\n",
       "        [2., 7.]])"
      ]
     },
     "execution_count": 334,
     "metadata": {},
     "output_type": "execute_result"
    }
   ],
   "source": [
    "torch.randint_like(torch.ones([3,2]),low=1,high=8)"
   ]
  },
  {
   "cell_type": "markdown",
   "id": "9053cb2a",
   "metadata": {},
   "source": [
    "randn"
   ]
  },
  {
   "cell_type": "code",
   "execution_count": 335,
   "id": "2ee92057",
   "metadata": {},
   "outputs": [
    {
     "data": {
      "text/plain": [
       "tensor([[-0.1814,  0.0393],\n",
       "        [ 0.9262, -0.9596],\n",
       "        [ 0.3518, -0.4039]])"
      ]
     },
     "execution_count": 335,
     "metadata": {},
     "output_type": "execute_result"
    }
   ],
   "source": [
    "torch.randn([3,2])"
   ]
  },
  {
   "cell_type": "markdown",
   "id": "6458f0c9",
   "metadata": {},
   "source": [
    "randn_like"
   ]
  },
  {
   "cell_type": "code",
   "execution_count": 336,
   "id": "6bb560f6",
   "metadata": {},
   "outputs": [
    {
     "data": {
      "text/plain": [
       "tensor([[ 1.7584, -0.4145],\n",
       "        [ 0.8561, -0.4429],\n",
       "        [ 1.4079, -0.0336]])"
      ]
     },
     "execution_count": 336,
     "metadata": {},
     "output_type": "execute_result"
    }
   ],
   "source": [
    "torch.randn_like(torch.ones([3,2]))"
   ]
  }
 ],
 "metadata": {
  "kernelspec": {
   "display_name": "Python 3",
   "language": "python",
   "name": "python3"
  },
  "language_info": {
   "codemirror_mode": {
    "name": "ipython",
    "version": 3
   },
   "file_extension": ".py",
   "mimetype": "text/x-python",
   "name": "python",
   "nbconvert_exporter": "python",
   "pygments_lexer": "ipython3",
   "version": "3.8.8"
  }
 },
 "nbformat": 4,
 "nbformat_minor": 5
}
